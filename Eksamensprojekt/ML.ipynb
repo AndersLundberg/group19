{
 "cells": [
  {
   "cell_type": "code",
   "execution_count": 1,
   "metadata": {},
   "outputs": [],
   "source": [
    "import warnings\n",
    "from sklearn.exceptions import ConvergenceWarning\n",
    "warnings.filterwarnings(action='ignore', category=ConvergenceWarning)\n",
    "\n",
    "import matplotlib.pyplot as plt\n",
    "import numpy as np \n",
    "import pandas as pd \n",
    "import seaborn as sns\n",
    "from sklearn.preprocessing import StandardScaler\n",
    "from sklearn.preprocessing import PolynomialFeatures\n",
    "import time\n",
    "\n",
    "from sklearn.metrics import mean_squared_error as mse\n",
    "from sklearn.linear_model import Lasso, LinearRegression, Ridge\n",
    "from sklearn.pipeline import make_pipeline\n",
    "from sklearn.metrics import r2_score\n",
    "from sklearn.model_selection import KFold\n",
    "\n",
    "%matplotlib inline\n",
    "\n",
    "from sklearn.model_selection import train_test_split\n",
    "\n"
   ]
  },
  {
   "cell_type": "code",
   "execution_count": 2,
   "metadata": {},
   "outputs": [
    {
     "name": "stdout",
     "output_type": "stream",
     "text": [
      "             Carlsberg   Coloplast  Danske Bank         DSV  Jyske Bank  \\\n",
      "Date                                                                      \n",
      "2007-01-31  456.189545  101.200000   235.768773  102.263636  397.664091   \n",
      "2007-02-28  480.336250  100.815000   247.720700   99.975000  428.416050   \n",
      "2007-03-31  470.682727   94.413636   233.739318   96.081818  400.536455   \n",
      "2007-04-30  485.811778   94.594444   237.665111  103.672222  418.761556   \n",
      "2007-05-31  528.809850   97.145000   226.807400  115.155000  404.439550   \n",
      "\n",
      "               Nordea  Novo Nordisk   Novozymes     Vestas        Tryg  \\\n",
      "Date                                                                     \n",
      "2007-01-31  89.079545     48.022727  102.440909  90.772727  242.977273   \n",
      "2007-02-28  90.075000     51.272500   99.295000  93.835000  277.125000   \n",
      "2007-03-31  86.704545     48.602273   98.013636  90.781818  284.295455   \n",
      "2007-04-30  92.750000     53.472222  104.655556  93.572222  343.833333   \n",
      "2007-05-31  92.850000     57.095000  117.150000  93.260000  373.900000   \n",
      "\n",
      "              ...     DSV_jobs  Jyske_Bank_jobs  Nordea_jobs  \\\n",
      "Date          ...                                              \n",
      "2007-01-31    ...           12               30           34   \n",
      "2007-02-28    ...           13               28           46   \n",
      "2007-03-31    ...           23               40           48   \n",
      "2007-04-30    ...           22               31           34   \n",
      "2007-05-31    ...           24               36           59   \n",
      "\n",
      "            Novo_Nordisk_jobs  Novozymes_jobs  Vestas_jobs  Tryg_jobs  \\\n",
      "Date                                                                    \n",
      "2007-01-31                 79              26          106       24.0   \n",
      "2007-02-28                 61              22          109       22.0   \n",
      "2007-03-31                122              34          152       19.0   \n",
      "2007-04-30                 60              13           84       17.0   \n",
      "2007-05-31                106              26           87       20.0   \n",
      "\n",
      "            H_Lundbeck_jobs  Alm_Brand_jobs  SAS_jobs  \n",
      "Date                                                   \n",
      "2007-01-31               37              26        21  \n",
      "2007-02-28               24              21        16  \n",
      "2007-03-31               29              34        29  \n",
      "2007-04-30                9              24        17  \n",
      "2007-05-31               28              23        19  \n",
      "\n",
      "[5 rows x 26 columns]\n"
     ]
    }
   ],
   "source": [
    "# læs data \n",
    "df_est = pd.read_pickle('job_kurser.pkl')\n",
    "\n",
    "print(df_est.head())\n",
    "\n",
    "\n",
    "# def dan_xy(index) :\n",
    "#     y = np.array((np.log(df_est.iloc[index])))\n",
    "#     X = np.array((np.log(df_est.iloc[index+14]))).reshape(-1, 1)\n",
    "#     return X, y\n",
    "\n",
    "# X, y = dan_xy(7)\n",
    "# X_dev, X_test, y_dev, y_test = train_test_split(X, y, test_size=0.25, random_state=1)\n",
    "# X_train, X_eval, y_train, y_eval = train_test_split(X_dev, y_dev, test_size=.25, random_state=2)\n",
    "\n",
    "# X_train\n"
   ]
  },
  {
   "cell_type": "markdown",
   "metadata": {},
   "source": [
    "## Structure data"
   ]
  },
  {
   "cell_type": "code",
   "execution_count": 3,
   "metadata": {},
   "outputs": [
    {
     "name": "stdout",
     "output_type": "stream",
     "text": [
      "['Carlsberg_jobs', 'Coloplast_jobs', 'Danske_Bank_jobs', 'DSV_jobs', 'Jyske_Bank_jobs', 'Nordea_jobs', 'Novo_Nordisk_jobs', 'Novozymes_jobs', 'Vestas_jobs', 'Tryg_jobs', 'H_Lundbeck_jobs', 'Alm_Brand_jobs', 'SAS_jobs']\n",
      "   stock_price job_postings    company\n",
      "0     6.174486           22  Carlsberg\n",
      "1     6.154184            8  Carlsberg\n",
      "2     6.185821           16  Carlsberg\n",
      "3     6.270629           30  Carlsberg\n",
      "4     6.275957            9  Carlsberg\n"
     ]
    }
   ],
   "source": [
    "col_kurs = list(df_est.iloc[:,:13])\n",
    "col_post = list(df_est.iloc[:,-13:])\n",
    "print(col_post)\n",
    "l = len(df_est)\n",
    "\n",
    "container = pd.DataFrame(columns=['stock_price', 'job_postings', 'company'])\n",
    "for i in range(len(col_kurs)) :\n",
    "    yserie = np.log(df_est[col_kurs[i]]).shift(periods=-1)\n",
    "    xserie = (df_est[col_post[i]])\n",
    "    tmp = pd.DataFrame(pd.concat([yserie.iloc[:-1], xserie.iloc[:-1]], axis=1, ignore_index=True))\n",
    "    tmp.columns=(['stock_price', 'job_postings'])\n",
    "    tmp['company']=col_kurs[i]\n",
    "    container = pd.concat([container, tmp], axis=0, ignore_index=True)\n",
    "print(container.head())"
   ]
  },
  {
   "cell_type": "code",
   "execution_count": 4,
   "metadata": {},
   "outputs": [
    {
     "name": "stdout",
     "output_type": "stream",
     "text": [
      "(105, 3) (105,)\n",
      "(36, 3) (36,)\n"
     ]
    }
   ],
   "source": [
    "container0 = container.fillna(0)#nan_to_num(container)\n",
    "#banks=['Carlsberg', 'Coloplast', 'Danske Bank', 'DSV', 'Jyske Bank', 'Nordea', 'Novo Nordisk', 'Novozymes', 'Vestas', 'Tryg', 'H. Lundbeck', 'Alm. Brand', 'SAS']\n",
    "banks=['Nordea', 'Danske Bank', 'Jyske Bank']\n",
    "df_bank = container0[container0.company.isin(banks)]\n",
    "\n",
    "#input_data = pd.get_dummies(container0, columns=['company'])\n",
    "input_data = pd.get_dummies(df_bank, columns=['company'], drop_first=True)\n",
    "#print(input_data)\n",
    "features = list(input_data.iloc[:,1:])\n",
    "\n",
    "input_data_l1 = input_data.shift()\n",
    "\n",
    "# dan X og y\n",
    "y = np.array(input_data['stock_price'])\n",
    "X = np.array(input_data.iloc[:,1:])\n",
    "\n",
    "# dan training og test\n",
    "X_dev, X_test, y_dev, y_test = train_test_split(X, y, test_size=0.25, random_state=1)\n",
    "\n",
    "print(X_dev.shape, y_dev.shape)\n",
    "print(X_test.shape, y_test.shape)\n",
    "y = np.nan_to_num(y, copy=False)\n",
    "\n"
   ]
  },
  {
   "cell_type": "markdown",
   "metadata": {},
   "source": [
    "## Regression"
   ]
  },
  {
   "cell_type": "code",
   "execution_count": 54,
   "metadata": {},
   "outputs": [
    {
     "name": "stdout",
     "output_type": "stream",
     "text": [
      "Predicted data: Mean=4.8484, STD=0.6086 and VAR=0.3704.\n",
      "Measured data: Mean=4.8513, STD=0.5668 and VAR=0.3213.\n",
      "The function:\n",
      "y = 4.769 + 0.2813 * x0 + 0.3111 * x1 + -0.417 * x2\n",
      "\n",
      "Intercept : 4.769\n",
      "x0 = job_postings : 0.281\n",
      "x1 = company_Jyske Bank : 0.311\n",
      "x2 = company_Nordea : -0.417\n",
      "\n",
      "R^2 Train: 0.813, test: 0.832\n",
      "Mean squared error: 0.05385\n"
     ]
    },
    {
     "data": {
      "image/png": "[encoded data removed]",
      "text/plain": [
       "<Figure size 1440x720 with 2 Axes>"
      ]
     },
     "metadata": {},
     "output_type": "display_data"
    }
   ],
   "source": [
    "\n",
    "pipe_lr = make_pipeline(PolynomialFeatures(degree=1, include_bias=False),\n",
    "                        StandardScaler(),\n",
    "                        LinearRegression())\n",
    "\n",
    "pipe_lr.fit(X_dev, y_dev)\n",
    "\n",
    "feature_names = pipe_lr.named_steps.polynomialfeatures.get_feature_names()\n",
    "coefficients = pipe_lr.named_steps.linearregression.coef_\n",
    "intercept = pipe_lr.named_steps.linearregression.intercept_\n",
    "\n",
    "#print(\"Beta =\", pipe_lr.coef_[0])\n",
    "#print('Alpha = ', pipe_lr.intercept_)\n",
    "\n",
    "y_dev_hat = pipe_lr.predict(X_dev)\n",
    "y_test_hat = pipe_lr.predict(X_test)\n",
    "\n",
    "print(\"Predicted data: Mean={}, STD={} and VAR={}.\".\n",
    "      format(round(np.mean(y_test_hat), 4), round(np.std(y_test_hat), 4), round(np.var(y_test_hat), 4)))\n",
    "print(\"Measured data: Mean={}, STD={} and VAR={}.\".\n",
    "      format(round(np.mean(y_test), 4), round(np.std(y_test), 4), round(np.var(y_test), 4)))\n",
    "\n",
    "# print model info\n",
    "print(\"The function:\")\n",
    "print('y =', round(intercept, 4), end='')\n",
    "for i in range(len(feature_names)) :\n",
    "    print(' +', round(coefficients[i], 4), \"*\", feature_names[i], end='')\n",
    "print('\\n')\n",
    "print('Intercept :', round(intercept, 3))\n",
    "for i in range(len(features)) :\n",
    "    print(feature_names[i], \"=\", features[i], \":\", round(coefficients[i], 3))\n",
    "    \n",
    "print('\\nR^2 Train: %.3f, test: %.3f' % (r2_score(y_dev, y_dev_hat), r2_score(y_test, y_test_hat)))\n",
    "print('Mean squared error: {}'.format(round(mse(y_test, y_test_hat),5)))\n",
    "\n",
    "\n",
    "# make plot\n",
    "font = {'size': 14,}\n",
    "\n",
    "fig, ax = plt.subplots(1,2, figsize=(20,10))\n",
    "ax[0].set_ylim(3.5,6)\n",
    "ax[0].set_ylabel(ylabel='Stock prices', fontdict=font)\n",
    "ax[0].set_xlabel(xlabel='Predicted stock prices', fontdict=font)\n",
    "\n",
    "ax[1].set(ylim=(3.5,6), xlim=(-.5, .5))\n",
    "ax[1].set_xlabel(xlabel='Error', fontdict=font)\n",
    "ax[1].set_ylabel(ylabel='Stock prices', fontdict=font)\n",
    "\n",
    "ax[0].scatter(pipe_lr.predict(X_test), y_test, color='red')\n",
    "ax[1].scatter((pipe_lr.predict(X_test))-y_test, y_test, color='red')\n",
    "ax[1].vlines(x=0, ymin=2.5, ymax=6.5, color='navy', lw=2, linestyle='--')\n",
    "\n",
    "ax[0].plot([3.5, 6], [3.5, 6], color='navy', lw=2, linestyle='--')\n",
    "\n",
    "plt.savefig('Fig_LinReg_lag(-1)_banks.png')"
   ]
  },
  {
   "cell_type": "markdown",
   "metadata": {},
   "source": [
    "## Lasso"
   ]
  },
  {
   "cell_type": "markdown",
   "metadata": {},
   "source": [
    "### Pure lasso"
   ]
  },
  {
   "cell_type": "code",
   "execution_count": 6,
   "metadata": {},
   "outputs": [
    {
     "name": "stdout",
     "output_type": "stream",
     "text": [
      "Optimal alpha\n",
      "alpha       Mean MSE\n",
      "0.018738    0.049993\n",
      "dtype: float64\n"
     ]
    },
    {
     "data": {
      "text/plain": [
       "[0.053844435775214944,\n",
       " 0.05383030017816385,\n",
       " 0.05373769406246524,\n",
       " 0.05314557872127348,\n",
       " 0.04999314944903605,\n",
       " 0.06142770512953119,\n",
       " 0.3280461910371138,\n",
       " 0.3280461910371138,\n",
       " 0.3280461910371138,\n",
       " 0.3280461910371138,\n",
       " 0.3280461910371138,\n",
       " 0.3280461910371138]"
      ]
     },
     "execution_count": 6,
     "metadata": {},
     "output_type": "execute_result"
    }
   ],
   "source": [
    "perform = []\n",
    "\n",
    "kfolds = KFold(n_splits=3)\n",
    "\n",
    "mseCV = []\n",
    "\n",
    "alphas =  np.logspace(-5, 4, 12)\n",
    "\n",
    "for alpha_ in alphas:\n",
    "    \n",
    "    pipe_lassoCV = make_pipeline(PolynomialFeatures(degree=1, include_bias=False),\n",
    "                                 StandardScaler(),\n",
    "                                 Lasso(alpha=alpha_, random_state=1))\n",
    "    mseCV_ = []\n",
    "    \n",
    "    for train_idx, val_idx in kfolds.split(X_dev, y_dev):\n",
    "        X_train, y_train = X_dev[train_idx], y_dev[train_idx]\n",
    "        X_val, y_val = X_dev[val_idx], y_dev[val_idx] \n",
    "\n",
    "        pipe_lassoCV.fit(X_dev, y_dev)\n",
    "        \n",
    "        msetest = mse(pipe_lassoCV.predict(X_test), y_test)\n",
    "        mseCV_.append(msetest)    \n",
    "    mseCV.append(np.mean(mseCV_))\n",
    "\n",
    "optimal = pd.Series(mseCV,index=alphas).nsmallest(1)\n",
    "print(\"Optimal alpha\")\n",
    "print(\"alpha\",\" \"*5, \"Mean MSE\")\n",
    "print(optimal)\n",
    "mseCV\n",
    "\n"
   ]
  },
  {
   "cell_type": "code",
   "execution_count": 5,
   "metadata": {},
   "outputs": [
    {
     "name": "stdout",
     "output_type": "stream",
     "text": [
      "Predicted data: Mean=4.847, STD=0.5803 and VAR=0.3367.\n",
      "The function:\n",
      "y = 4.769 + 0.2564 * x0 + 0.2978 * x1 + -0.3994 * x2\n",
      "\n",
      "x0 = job_postings\n",
      "x1 = company_Jyske Bank\n",
      "x2 = company_Nordea\n",
      "\n",
      "R^2 Train: 0.811, test: 0.844\n",
      "Mean squared error: 0.04999\n"
     ]
    },
    {
     "data": {
      "image/png": "[encoded data removed]",
      "text/plain": [
       "<Figure size 1440x720 with 2 Axes>"
      ]
     },
     "metadata": {},
     "output_type": "display_data"
    }
   ],
   "source": [
    "pipe_lasso = make_pipeline(PolynomialFeatures(degree=1, include_bias=False),\n",
    "                                 StandardScaler(),\n",
    "                                 Lasso(alpha=0.018738, random_state=1))\n",
    "pipe_lasso.fit(X_dev, y_dev)\n",
    "\n",
    "y_dev_hat = pipe_lasso.predict(X_dev)\n",
    "y_test_hat = pipe_lasso.predict(X_test)\n",
    "\n",
    "feature_names = pipe_lasso.named_steps.polynomialfeatures.get_feature_names()\n",
    "coefficients = pipe_lasso.named_steps.lasso.coef_\n",
    "intercept = pipe_lasso.named_steps.lasso.intercept_\n",
    "\n",
    "# print model info\n",
    "print(\"Predicted data: Mean={}, STD={} and VAR={}.\".\n",
    "      format(round(np.mean(y_test_hat), 4), round(np.std(y_test_hat), 4), round(np.var(y_test_hat), 4)))\n",
    "\n",
    "print(\"The function:\")\n",
    "print('y =', round(intercept, 4), end='')\n",
    "for i in range(len(feature_names)) :\n",
    "    print(' +', round(coefficients[i], 4), \"*\", feature_names[i], end='')\n",
    "print('\\n')\n",
    "for i in range(len(features)) :\n",
    "    print(feature_names[i], \"=\", features[i])\n",
    "    \n",
    "print('\\nR^2 Train: %.3f, test: %.3f' % (r2_score(y_dev, y_dev_hat), r2_score(y_test, y_test_hat)))\n",
    "\n",
    "print('Mean squared error: {}'.format(round(mse(y_test, y_test_hat),5)))\n",
    "\n",
    "# make plot\n",
    "font = {'size': 14,}\n",
    "\n",
    "fig, ax = plt.subplots(1,2, figsize=(20,10))\n",
    "ax[0].set_ylim(3.5,6)\n",
    "ax[0].set_ylabel(ylabel='Stock prices', fontdict=font)\n",
    "ax[0].set_xlabel(xlabel='Predicted stock prices', fontdict=font)\n",
    "\n",
    "ax[1].set(ylim=(3.5,6), xlim=(-.5, .5))\n",
    "ax[1].set_xlabel(xlabel='Error', fontdict=font)\n",
    "ax[1].set_ylabel(ylabel='Stock prices', fontdict=font)\n",
    "\n",
    "ax[0].scatter(y_test_hat, y_test, color='red')\n",
    "ax[1].scatter((y_test_hat - y_test), y_test, color='red')\n",
    "ax[1].vlines(x=0, ymin=2.5, ymax=6.5, color='navy', lw=2, linestyle='--')\n",
    "\n",
    "ax[0].plot([3.5, 6], [3.5, 6], color='navy', lw=2, linestyle='--')\n",
    "\n",
    "plt.savefig('Fig_lasso_lag(-1)_banks.png')\n",
    "\n",
    "\n"
   ]
  },
  {
   "cell_type": "code",
   "execution_count": 31,
   "metadata": {},
   "outputs": [
    {
     "ename": "AxisError",
     "evalue": "axis 1 is out of bounds for array of dimension 1",
     "output_type": "error",
     "traceback": [
      "\u001b[1;31m---------------------------------------------------------------------------\u001b[0m",
      "\u001b[1;31mAxisError\u001b[0m                                 Traceback (most recent call last)",
      "\u001b[1;32m<ipython-input-31-5fc5bbe898f7>\u001b[0m in \u001b[0;36m<module>\u001b[1;34m()\u001b[0m\n\u001b[0;32m      1\u001b[0m \u001b[1;31m# y_test, y_test_hat\u001b[0m\u001b[1;33m\u001b[0m\u001b[1;33m\u001b[0m\u001b[0m\n\u001b[1;32m----> 2\u001b[1;33m \u001b[0mq\u001b[0m \u001b[1;33m=\u001b[0m \u001b[0mnp\u001b[0m\u001b[1;33m.\u001b[0m\u001b[0mconcatenate\u001b[0m\u001b[1;33m(\u001b[0m\u001b[1;33m[\u001b[0m\u001b[0my_test\u001b[0m\u001b[1;33m,\u001b[0m \u001b[0mX_test\u001b[0m\u001b[1;33m]\u001b[0m\u001b[1;33m,\u001b[0m \u001b[0maxis\u001b[0m\u001b[1;33m=\u001b[0m\u001b[1;36m1\u001b[0m\u001b[1;33m)\u001b[0m\u001b[1;33m\u001b[0m\u001b[0m\n\u001b[0m\u001b[0;32m      3\u001b[0m \u001b[1;31m#print(q)\u001b[0m\u001b[1;33m\u001b[0m\u001b[1;33m\u001b[0m\u001b[0m\n\u001b[0;32m      4\u001b[0m \u001b[0mq1\u001b[0m \u001b[1;33m=\u001b[0m \u001b[0mX_test\u001b[0m\u001b[1;33m[\u001b[0m\u001b[0mX_test\u001b[0m\u001b[1;33m[\u001b[0m\u001b[1;33m:\u001b[0m\u001b[1;33m,\u001b[0m\u001b[1;36m1\u001b[0m\u001b[1;33m]\u001b[0m \u001b[1;33m==\u001b[0m \u001b[1;36m0\u001b[0m\u001b[1;33m]\u001b[0m\u001b[1;33m\u001b[0m\u001b[0m\n\u001b[0;32m      5\u001b[0m \u001b[0mq2\u001b[0m \u001b[1;33m=\u001b[0m \u001b[0mq1\u001b[0m\u001b[1;33m[\u001b[0m\u001b[0mq1\u001b[0m\u001b[1;33m[\u001b[0m\u001b[1;33m:\u001b[0m\u001b[1;33m,\u001b[0m\u001b[1;36m2\u001b[0m\u001b[1;33m]\u001b[0m \u001b[1;33m==\u001b[0m \u001b[1;36m0\u001b[0m\u001b[1;33m]\u001b[0m\u001b[1;33m\u001b[0m\u001b[0m\n",
      "\u001b[1;31mAxisError\u001b[0m: axis 1 is out of bounds for array of dimension 1"
     ]
    }
   ],
   "source": [
    "# y_test, y_test_hat\n",
    "q = np.concatenate([y_test, X_test], axis=1)\n",
    "#print(q)\n",
    "q1 = X_test[X_test[:,1] == 0]\n",
    "q2 = q1[q1[:,2] == 0]\n",
    "\n",
    "y_test_hat = pipe_lasso.predict(q2)\n",
    "q2 = q2[:,0]\n",
    "print(y_test.shape, y_test_hat.shape, q2.shape)\n",
    "fig, ax = plt.subplots(figsize=(10,5))\n",
    "#ax[0].set_ylim(3.5,6)\n",
    "ax.set_xlabel(xlabel='Job postings', fontdict=font)\n",
    "ax.set_ylabel(ylabel='Stock prices', fontdict=font)\n",
    "\n",
    "#ax[1].set(ylim=(3.5,6), xlim=(-.5, .5))\n",
    "# ax[1].set_xlabel(xlabel='Error', fontdict=font)\n",
    "# ax[1].set_ylabel(ylabel='Stock prices', fontdict=font)\n",
    "\n",
    "ax.scatter(q2, y_test_hat, color='red')\n",
    "#ax.scatter(q2, y_test, color='blue')\n",
    "#ax[1].vlines(x=0, ymin=2.5, ymax=6.5, color='navy', lw=2, linestyle='--')\n",
    "\n",
    "#ax[0].plot([3.5, 6], [3.5, 6], color='navy', lw=2, linestyle='--')\n",
    "\n",
    "#plt.savefig('Fig_lasso_lag(-1)_banks.png')\n"
   ]
  },
  {
   "cell_type": "markdown",
   "metadata": {},
   "source": [
    "### kFold and Ridge"
   ]
  },
  {
   "cell_type": "code",
   "execution_count": 58,
   "metadata": {},
   "outputs": [
    {
     "name": "stdout",
     "output_type": "stream",
     "text": [
      "Optimal lambda\n",
      "lambda       Mean MSE\n",
      "5.336699    0.050865\n",
      "dtype: float64\n"
     ]
    }
   ],
   "source": [
    "\n",
    "kfolds = KFold(n_splits=3)\n",
    "\n",
    "mseCV = []\n",
    "\n",
    "lambdas =  np.logspace(-5, 4, 12)\n",
    "\n",
    "for lambda_ in lambdas:\n",
    "   \n",
    "    pipe_RidgeCV = make_pipeline(PolynomialFeatures(degree=1, include_bias=False),\n",
    "                                 StandardScaler(),\n",
    "                                 Ridge(alpha=lambda_, random_state=1))    \n",
    "    mseCV_ = []\n",
    "    \n",
    "    for train_idx, val_idx in kfolds.split(X_dev, y_dev):\n",
    "        X_train, y_train = X_dev[train_idx], y_dev[train_idx]\n",
    "        X_val, y_val = X_dev[val_idx], y_dev[val_idx] \n",
    "\n",
    "        pipe_RidgeCV.fit(X_dev, y_dev)\n",
    "        \n",
    "        msetest = mse(pipe_RidgeCV.predict(X_test), y_test)\n",
    "        mseCV_.append(msetest)    \n",
    "    mseCV.append(np.mean(mseCV_))\n",
    "\n",
    "optimal = pd.Series(mseCV,index=lambdas).nsmallest(1)\n",
    "print(\"Optimal lambda\")\n",
    "print(\"lambda\",\" \"*5, \"Mean MSE\")\n",
    "print(optimal)\n"
   ]
  },
  {
   "cell_type": "code",
   "execution_count": 60,
   "metadata": {},
   "outputs": [
    {
     "name": "stdout",
     "output_type": "stream",
     "text": [
      "Predicted data: Mean=4.8458, STD=0.5841 and VAR=0.3412.\n",
      "The function:\n",
      "y = 4.769 + 0.262 * x0 + 0.3036 * x1 + -0.3963 * x2\n",
      "\n",
      "x0 = job_postings\n",
      "x1 = company_Jyske Bank\n",
      "x2 = company_Nordea\n",
      "\n",
      "R^2 Train: 0.811, test: 0.842\n",
      "Mean squared error: 0.05087\n"
     ]
    },
    {
     "data": {
      "image/png": "[encoded data removed]",
      "text/plain": [
       "<Figure size 1440x720 with 2 Axes>"
      ]
     },
     "metadata": {},
     "output_type": "display_data"
    }
   ],
   "source": [
    "pipe_Ridge = make_pipeline(PolynomialFeatures(degree=1, include_bias=False),\n",
    "                                 StandardScaler(),\n",
    "                                 Ridge(alpha=5.336699, random_state=1))    \n",
    "pipe_Ridge.fit(X_dev, y_dev)\n",
    "\n",
    "y_dev_hat = pipe_Ridge.predict(X_dev)\n",
    "y_test_hat = pipe_Ridge.predict(X_test)\n",
    "\n",
    "feature_names = pipe_Ridge.named_steps.polynomialfeatures.get_feature_names()\n",
    "coefficients = pipe_Ridge.named_steps.ridge.coef_\n",
    "intercept = pipe_Ridge.named_steps.ridge.intercept_\n",
    "\n",
    "# print model info\n",
    "print(\"Predicted data: Mean={}, STD={} and VAR={}.\".\n",
    "      format(round(np.mean(y_test_hat), 4), round(np.std(y_test_hat), 4), round(np.var(y_test_hat), 4)))\n",
    "\n",
    "print(\"The function:\")\n",
    "print('y =', round(intercept, 4), end='')\n",
    "for i in range(len(feature_names)) :\n",
    "    print(' +', round(coefficients[i], 4), \"*\", feature_names[i], end='')\n",
    "print('\\n')\n",
    "for i in range(len(features)) :\n",
    "    print(feature_names[i], \"=\", features[i])\n",
    "    \n",
    "print('\\nR^2 Train: %.3f, test: %.3f' % (r2_score(y_dev, y_dev_hat), r2_score(y_test, y_test_hat)))\n",
    "\n",
    "print('Mean squared error: {}'.format(round(mse(y_test, y_test_hat),5)))\n",
    "\n",
    "# make plot\n",
    "font = {'size': 14,}\n",
    "\n",
    "fig, ax = plt.subplots(1,2, figsize=(20,10))\n",
    "ax[0].set_ylim(3.5,6)\n",
    "ax[0].set_ylabel(ylabel='Stock prices', fontdict=font)\n",
    "ax[0].set_xlabel(xlabel='Predicted stock prices', fontdict=font)\n",
    "\n",
    "ax[1].set(ylim=(3.5,6), xlim=(-.5, .5))\n",
    "ax[1].set_xlabel(xlabel='Error', fontdict=font)\n",
    "ax[1].set_ylabel(ylabel='Stock prices', fontdict=font)\n",
    "\n",
    "ax[0].scatter(y_test_hat, y_test, color='red')\n",
    "ax[1].scatter((y_test_hat - y_test), y_test, color='red')\n",
    "ax[1].vlines(x=0, ymin=2.5, ymax=6.5, color='navy', lw=2, linestyle='--')\n",
    "\n",
    "ax[0].plot([3.5, 6], [3.5, 6], color='navy', lw=2, linestyle='--')\n",
    "\n",
    "plt.savefig('Fig_Ridge_lag(-1)_banks.png')"
   ]
  },
  {
   "cell_type": "markdown",
   "metadata": {},
   "source": [
    "## Bag of words"
   ]
  },
  {
   "cell_type": "markdown",
   "metadata": {},
   "source": [
    "### Stopwords"
   ]
  },
  {
   "cell_type": "code",
   "execution_count": 119,
   "metadata": {},
   "outputs": [],
   "source": [
    "import nltk\n",
    "stopwords = nltk.corpus.stopwords.words('danish')\n"
   ]
  },
  {
   "cell_type": "markdown",
   "metadata": {},
   "source": [
    "### Get data and fit the CountVectorizer"
   ]
  },
  {
   "cell_type": "code",
   "execution_count": 135,
   "metadata": {},
   "outputs": [
    {
     "name": "stdout",
     "output_type": "stream",
     "text": [
      "Procestid er 0 minutter og 17.5 sekunder\n"
     ]
    }
   ],
   "source": [
    "from sklearn.feature_extraction.text import CountVectorizer\n",
    "from sklearn.feature_extraction.text import TfidfVectorizer\n",
    "\n",
    "ny1 = pd.read_pickle('both1.pkl')\n",
    "ny2 = pd.read_pickle('both2.pkl')\n",
    "ny4 = pd.read_pickle('both4.pkl')\n",
    "\n",
    "df_both = pd.concat([ny1, ny2, ny4], axis=0, join='inner', ignore_index=True)\n",
    "\n",
    "#print(\"Shape\", df_both.shape)\n",
    "#print(\"\\n\")\n",
    "#print(df_both.head(1), \"\\n\", df_both.tail(2))\n",
    "\n",
    "desc = df_both.sample(60000, random_state=5)\n",
    "\n",
    "#print(desc)\n",
    "\n",
    "\n",
    "t0 = time.time()\n",
    "\n",
    "count=TfidfVectorizer(ngram_range=(1, 3), max_df=.1, max_features=5000)\n",
    "bag = count.fit_transform(desc['job_describ'].values)\n",
    "\n",
    "t1 = time.time()\n",
    "\n",
    "print(\"Procestid er\", int((t1-t0)/60), \"minutter og\", round((t1-t0)%60, 2), \"sekunder\")\n",
    "\n",
    "# 10000 linier: Procestid er 0 minutter og 0.78 sekunder"
   ]
  },
  {
   "cell_type": "code",
   "execution_count": 136,
   "metadata": {},
   "outputs": [
    {
     "name": "stdout",
     "output_type": "stream",
     "text": [
      "Procestid er 0 minutter og 6.59 sekunder\n"
     ]
    }
   ],
   "source": [
    "t0 = time.time()\n",
    "\n",
    "X = count.transform(desc['job_describ'])\n",
    "\n",
    "t1 = time.time()\n",
    "\n",
    "print(\"Procestid er\", int((t1-t0)/60), \"minutter og\", round((t1-t0)%60, 2), \"sekunder\")\n",
    "\n",
    "# 10000 linier: Procestid er 0 minutter og 0.49 sekunder"
   ]
  },
  {
   "cell_type": "code",
   "execution_count": 137,
   "metadata": {},
   "outputs": [
    {
     "name": "stdout",
     "output_type": "stream",
     "text": [
      "(60000, 5000)\n"
     ]
    }
   ],
   "source": [
    "print(X.shape)\n",
    "# print(type(X))\n"
   ]
  },
  {
   "cell_type": "markdown",
   "metadata": {},
   "source": [
    "## LatentDirichletAllocation"
   ]
  },
  {
   "cell_type": "code",
   "execution_count": 138,
   "metadata": {},
   "outputs": [
    {
     "name": "stdout",
     "output_type": "stream",
     "text": [
      "Procestid er 2 minutter og 25.17 sekunder\n"
     ]
    }
   ],
   "source": [
    "from sklearn.decomposition import LatentDirichletAllocation\n",
    "lda = LatentDirichletAllocation(n_topics=20, random_state=5, learning_method='batch')\n",
    "t0 = time.time()\n",
    "\n",
    "X_topics = lda.fit_transform(X)\n",
    "\n",
    "t1 = time.time()\n",
    "\n",
    "print(\"Procestid er {} minutter og {} sekunder\".format(int((t1-t0)/60),round((t1-t0)%60, 2)))\n",
    "\n",
    "# 10000 linier: Procestid er 0 minutter og 30.01 sekunder"
   ]
  },
  {
   "cell_type": "code",
   "execution_count": 91,
   "metadata": {},
   "outputs": [
    {
     "name": "stdout",
     "output_type": "stream",
     "text": [
      "(10, 2000)\n"
     ]
    }
   ],
   "source": [
    "print(lda.components_.shape)\n"
   ]
  },
  {
   "cell_type": "code",
   "execution_count": 139,
   "metadata": {
    "scrolled": true
   },
   "outputs": [
    {
     "name": "stdout",
     "output_type": "stream",
     "text": [
      "Category 1:\n",
      "medarbejder muligt medarbejder til rengøring vi søger hurtigst hurtigst muligt en medarbejder til rengøring vi søger en frisk mangler och muligt en søges\n",
      "Category 2:\n",
      "kan det er du dig så skal kan du have god du er måske være for at så er du skal\n",
      "Category 3:\n",
      "timer pr 37 37 timer uge pædagog 30 snarest eller ugen 2009 om ugen 2010 pr uge timer pr\n",
      "Category 4:\n",
      "være være med vil du du være vil du være med til med til at være med til du være med del af en del en del af være en udvikle være en del\n",
      "Category 5:\n",
      "søges søges til dygtig til vores søger vi vi søger en dygtig snarest tiltrædelse vi søger en søger vi en vi en søges en job fra et job fra\n",
      "Category 6:\n",
      "efter løn overenskomst aftale efter aftale løn efter eller efter henhold henhold til nyt eller efter aftale løn og et nyt mail løn efter aftale\n",
      "Category 7:\n",
      "for at blive oprettet konsulenter kontakt med en vores konsulenter med en af du kontakt du kontakt med blive oprettet af vores konsulenter at blive virksomhedsbruger skal du som virksomhedsbruger blive oprettet som virksomhedsbruger\n",
      "Category 8:\n",
      "fuld tid fuld tid annoncen på fuld ny på fuld tid en ny ønsker du ønsker engageret en engageret ansøgning søger en ny du at\n",
      "Category 9:\n",
      "opgaver den samt bliver de virksomheden dine skal det 2008 om får være kunder om virksomheden søger for\n",
      "Category 10:\n",
      "ledig ved stilling besættelse stilling som til besættelse en stilling en stilling som ledig til afdeling ledig til besættelse er ledig pr sygehus er ledig til\n",
      "Category 11:\n",
      "kunde vores kunde kommune søger vi erfaren søger vi en vi en en erfaren for vores kunde for vores kommune søger du for brænder du brænder du for jks\n",
      "Category 12:\n",
      "er en børn er et vi er år danmarks største unge vi er en institution beliggende børn og ligger ca består\n",
      "Category 13:\n",
      "dig arbejde tænke kunne kan at du forventer tænke dig du tænke kunne du du tænke dig vi forventer snarlig du er kunne du tænke\n",
      "Category 14:\n",
      "skole lærer kr lærere nyoprettet elever en lærer skole søger assistent pædagoger nyoprettet stilling time sfo forbindelse med lærer til\n",
      "Category 15:\n",
      "spændende indgå team brug for brug et spændende medarbejdere har brug for har brug spændende og kan udfordrende at indgå arbejdssted sundhedshjælper\n",
      "Category 16:\n",
      "lyst lyst til lyst til at har du du lyst har du lyst du lyst til arbejde at arbejde til at arbejde har lyst har lyst til 00 efter overenskomst arbejde med\n",
      "Category 17:\n",
      "løn kvalifikationer efter kvalifikationer udfordringer efter god løn efter kvalifikationer tilbyder løn efter nye udfordringer gode nye vi tilbyder udvikling god løn\n",
      "Category 18:\n",
      "da søger vi derfor medarbejdere en af flere dygtige af vores valgt vi en gå vore går da en valgt at\n",
      "Category 19:\n",
      "the and of in to is you with as will are our gældende we be\n",
      "Category 20:\n",
      "erfaring social social og eller sundhedsassistent og sundhedsassistent social og sundhedsassistent interesse erfaring med kendskab kendskab til interesse for inden uddannelse inden for\n"
     ]
    }
   ],
   "source": [
    "n_top_words = 15\n",
    "feature_names = count.get_feature_names()\n",
    "for cat_idx, cat in (enumerate(lda.components_)) :\n",
    "    print(\"Category %d:\" % (cat_idx + 1))\n",
    "    print(\" \".join([feature_names[i] for i in cat.argsort()[:-n_top_words - 1:-1]]))\n",
    "    "
   ]
  },
  {
   "cell_type": "code",
   "execution_count": 86,
   "metadata": {},
   "outputs": [
    {
     "name": "stdout",
     "output_type": "stream",
     "text": [
      "Sondrup Bilcenter A/S er en moderne handelsvirksomhed i stadig ekspansion. Vi er autoriseret Volvo og Renault forhandler, og har 5 afdelinger i Østjylland, med hovedkontor i Viby. Sondrup Bilcenter A/S ha \n",
      "\n",
      "Hos Euromaster Danmark A/S har vi søger vi en montør/udemontør til vores center i Skejby Om jobbet: - Montering af dæk på biler lastbiler og... \n",
      "\n",
      "Er du en ildsjæl der har lyst til at være med på holdet der udvikler fælles ledelsesinformation i en af Danmarks største virksomheder - så... \n",
      "\n"
     ]
    }
   ],
   "source": [
    "cat5 = X_topics[:, 4].argsort()[::-1]\n",
    "\n",
    "for iter_idx, post_idx in enumerate(cat5[:3]) :\n",
    "#    print(iter_idx, post_idx)\n",
    "    print(desc['job_describ'].iloc[post_idx], \"\\n\")"
   ]
  }
 ],
 "metadata": {
  "kernelspec": {
   "display_name": "Python 3",
   "language": "python",
   "name": "python3"
  },
  "language_info": {
   "codemirror_mode": {
    "name": "ipython",
    "version": 3
   },
   "file_extension": ".py",
   "mimetype": "text/x-python",
   "name": "python",
   "nbconvert_exporter": "python",
   "pygments_lexer": "ipython3",
   "version": "3.6.5"
  }
 },
 "nbformat": 4,
 "nbformat_minor": 2
}
