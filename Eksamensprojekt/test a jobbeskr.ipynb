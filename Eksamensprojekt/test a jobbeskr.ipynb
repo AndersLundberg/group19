{
 "cells": [
  {
   "cell_type": "code",
   "execution_count": 2,
   "metadata": {},
   "outputs": [],
   "source": [
    "# import packages\n",
    "import requests, json\n",
    "import pandas as pd, numpy as np\n",
    "import time, os\n",
    "from bs4 import BeautifulSoup\n",
    "import re\n",
    "from datetime import datetime\n",
    "\n"
   ]
  },
  {
   "cell_type": "code",
   "execution_count": 17,
   "metadata": {},
   "outputs": [],
   "source": [
    "url='https://www.jobindex.dk/jobsoegning.json?q=&jobage=archive&mindate=20070822&maxdate=20090822&page=5'\n",
    "response = requests.get(url)\n",
    "html=response.json()['result_list_box_html']\n",
    "soup = BeautifulSoup(html,'lxml')\n",
    "tabel = soup.find('div', attrs={'class':'results component--default'}) # find table node with specific attribute\n"
   ]
  },
  {
   "cell_type": "code",
   "execution_count": 8,
   "metadata": {},
   "outputs": [],
   "source": [
    "# Jobindex' own postings\n",
    "own = re.compile('h[\\d]+')\n",
    "href = re.compile('http.+')\n",
    "tabel2 = tabel.findAll('div', attrs={'data-beacon-tid':own})\n",
    "#print(tabel2)"
   ]
  },
  {
   "cell_type": "code",
   "execution_count": 16,
   "metadata": {},
   "outputs": [
    {
     "data": {
      "text/plain": [
       "['Har du mod på juridiske udfordringer i et spændende og dynamisk miljø? Så er du den vi søger',\n",
       " 'Udpræget serviceminded sekretær søges til juridisk afdeling',\n",
       " 'Erfaren konsulent til outbound',\n",
       " 'Jurist - barselsvikariat',\n",
       " 'Løn og personalemedarbejder',\n",
       " 'KVIK Nykøbing Falster søger køkkenkonsulent',\n",
       " 'Hvis vi siger vareflow, Excel og variation …',\n",
       " 'Indkøbschef',\n",
       " 'Afdelingsleder søges til Companys på Strøget',\n",
       " 'Netværkstekniker til IT Infrastruktur',\n",
       " 'Operatører til Pilot Plant',\n",
       " 'Økonom til Business Analysis and Controlling',\n",
       " 'Sales Support, Spanien',\n",
       " 'Sales Manager, Seafood - til hovedkontoret i Middelfart',\n",
       " 'Erfaren international Key Account Manager',\n",
       " 'Key Account Manager til Eltel Networks A/S',\n",
       " 'Key Account Manager til Eltel Networks A/S',\n",
       " 'Konsulent til Kultur og Fritid',\n",
       " 'Chefjurist til Danica Pension',\n",
       " 'Network Solution Supporter']"
      ]
     },
     "execution_count": 16,
     "metadata": {},
     "output_type": "execute_result"
    }
   ],
   "source": [
    "a = []\n",
    "for l in tabel2 :\n",
    "    a.append(l.findAll('b')[0].text)#, attrs={'href':href})\n",
    "#    for m in a :\n",
    "#        b = a.findAll('b')\n",
    "        \n",
    "\n",
    "a"
   ]
  }
 ],
 "metadata": {
  "kernelspec": {
   "display_name": "Python 3",
   "language": "python",
   "name": "python3"
  },
  "language_info": {
   "codemirror_mode": {
    "name": "ipython",
    "version": 3
   },
   "file_extension": ".py",
   "mimetype": "text/x-python",
   "name": "python",
   "nbconvert_exporter": "python",
   "pygments_lexer": "ipython3",
   "version": "3.6.5"
  }
 },
 "nbformat": 4,
 "nbformat_minor": 2
}
