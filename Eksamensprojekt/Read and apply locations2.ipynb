{
 "cells": [
  {
   "cell_type": "code",
   "execution_count": 1,
   "metadata": {},
   "outputs": [],
   "source": [
    "import numpy as np, pandas as pd\n",
    "import re"
   ]
  },
  {
   "cell_type": "code",
   "execution_count": 23,
   "metadata": {},
   "outputs": [],
   "source": [
    "# Stednavne\n",
    "stednavne = pd.read_csv('stednavne.csv', sep=';', encoding='ANSI')\n",
    "\n",
    "stednavne2 = stednavne[stednavne['Type'] == 'By']\n",
    "#stednavne2['KommuneKode'] = int(stednavne2['KommuneKode'])\n",
    "#print(stednavne2.head())\n",
    "\n",
    "# kommuner, landsdele\n",
    "kommuner = pd.read_excel('kommuner.xls')\n",
    "#print(kommuner.head())\n",
    "\n",
    "# Samlet stednavn, kommune, landsdel, region\n",
    "stednavn3 = pd.merge(stednavne2, kommuner, how='inner', left_on=('KommuneKode'), right_on=('k_kode'))\n",
    "stednavn4 = stednavn3[['Navn', 'kommune', 'k_kode', 'RegionNavn', 'RegionKode', 'landsdel', 'l_kode']]\n",
    "#print(stednavn4.head())\n",
    "\n",
    "\n",
    "dict_komm = pd.Series(list(stednavn3.kommune), index=list(stednavn3.Navn)).to_dict()\n",
    "dict_landsdel = pd.Series(list(stednavn3.landsdel), index=list(stednavn3.Navn)).to_dict()\n",
    "dict_region = pd.Series(list(stednavn3.RegionNavn), index=list(stednavn3.Navn)).to_dict()\n"
   ]
  },
  {
   "cell_type": "code",
   "execution_count": 103,
   "metadata": {},
   "outputs": [
    {
     "data": {
      "text/plain": [
       "'Vestjylland'"
      ]
     },
     "execution_count": 103,
     "metadata": {},
     "output_type": "execute_result"
    }
   ],
   "source": [
    "sted='Søndbjerg'\n",
    "dict_landsdel[sted]"
   ]
  },
  {
   "cell_type": "code",
   "execution_count": 24,
   "metadata": {},
   "outputs": [],
   "source": [
    "dict_special = {'Kgs. Lyngby': 'Københavns omegn', \n",
    "                'Grønland': 'Grønland', \n",
    "                'Brøndby': 'Københavns omegn',\n",
    "                'Udlandet': 'Udlandet', \n",
    "                'Århus': 'Østjylland',\n",
    "                'Copenhagen': 'Byen København', \n",
    "                'Bagsværd': 'Københavns omegn', \n",
    "                'Risskov': 'Østjylland', \n",
    "                'Allerød': 'Nordsjælland', \n",
    "                'Storkøbenhavn': 'Byen København', \n",
    "                'Fyn': 'Fyn', \n",
    "                'Brønshøj': 'Byen København', \n",
    "                'Dyssegård, Gladsaxe': 'Københavns omegn', \n",
    "                'Bornholm': 'Bornholm', \n",
    "                'Åbyhøj': 'Østjylland', \n",
    "                'Brabrand': 'Østjylland', \n",
    "                'Tilst': 'Østjylland', \n",
    "                'Stenløse': 'Nordsjælland',\n",
    "                'Egå': 'Østjylland', \n",
    "                'Hasselager': 'Østjylland', \n",
    "                'Nykøbing Sj': 'Vest- og Sydsjælland', \n",
    "                'Nykøbing Sj.': 'Vest- og Sydsjælland', \n",
    "                'Nykøbing Sjælland': 'Vest- og Sydsjælland', \n",
    "                'Ølstykke': 'Nordsjælland', \n",
    "                'Hellerup, København': 'Københavns omegn', \n",
    "                'Karlslunde': 'Østsjælland', \n",
    "                'Smørum': 'Københavns omegn', \n",
    "                'Vallensbæk': 'Københavns omegn', \n",
    "                'Tranbjerg J': 'Østjylland', \n",
    "                'Vedbæk': 'Nordsjælland', \n",
    "                'Espergærde': 'Nordsjælland', \n",
    "                'Blåvand': 'Sydjylland', \n",
    "                'Samsø': 'Østjylland', \n",
    "                'Allerød, Hillerød': 'Nordsjælland', \n",
    "                'Broby': 'Fyn', \n",
    "                'Løsning': 'Østjylland', \n",
    "                'Sisimiut': 'Grønland', \n",
    "                'Silkeborg, Viborg': 'Østjylland', \n",
    "                'Allinge': 'Bornholm', \n",
    "                'Gladsaxe, Herlev': 'Københavns omegn', \n",
    "                'Fanø': 'Sydjylland', \n",
    "                'Rømø': 'Sydjylland', \n",
    "                'Holmegaard': 'Vest- og Sydsjælland',\n",
    "                'Fårevejle': 'Vest- og Sydsjælland', \n",
    "                'Langå, Randers': 'Østjylland',\n",
    "                'Qaqortoq': 'Grønland',\n",
    "                'Rungsted Kyst': 'Nordsjælland', \n",
    "                'Klampenborg': 'Københavns omegn', \n",
    "                'Færøerne': 'Færøerne', \n",
    "                'Ilulissat': 'Grønland', \n",
    "                'Hvalsø': 'Vest- og Sydsjælland', \n",
    "                'Herfølge': 'Vest- og Sydsjælland', \n",
    "                'Henne': 'Sydjylland', \n",
    "                'Thyholm': 'Vestjylland', \n",
    "                'Herning, Holstebro': 'Vestjylland', \n",
    "                'Snekkersten': 'Nordsjælland',\n",
    "                'Dyssegård': 'Københavns omegn', \n",
    "                'Maniitsoq': 'Grønland', \n",
    "                'Sydals': 'Sydjylland',\n",
    "                'Kangerlussuaq': 'Grønland'}\n",
    "\n",
    "dict_landsdel.update(dict_special)\n"
   ]
  },
  {
   "cell_type": "code",
   "execution_count": 25,
   "metadata": {},
   "outputs": [
    {
     "name": "stdout",
     "output_type": "stream",
     "text": [
      "                       date job_title job_describ     city             company\n",
      "count               1025180   1025180     1025180  1025180             1025180\n",
      "unique                 1461    616779      749523     4039              140459\n",
      "top     2007-12-06 00:00:00   Pædagog                       Københavns Kommune\n",
      "freq                   2842      3908       53235    77916                7879\n",
      "first   2007-01-01 00:00:00       NaN         NaN      NaN                 NaN\n",
      "last    2010-12-31 00:00:00       NaN         NaN      NaN                 NaN\n",
      "             date                                          job_title  \\\n",
      "530049 2007-10-18  Taxi Chauffør søges. Til kørsel ved Taxa Selan...   \n",
      "819946 2007-06-29  FTZ Autodele & Værktøj A/S søger 1 ny lagermed...   \n",
      "806655 2010-05-12                          Grid requirement engineer   \n",
      "124205 2009-01-28  Assisterende centerleder til plejecenter Atriu...   \n",
      "47777  2009-08-13                                    Lærer/overlærer   \n",
      "\n",
      "                                              job_describ                city  \\\n",
      "530049              Løn efter overenskomst + fri uniform.                Køge   \n",
      "819946  FTZ Autodele & Værktøj A/S Aabyhøj søger 1 ny ...              Åbyhøj   \n",
      "806655  FRONTPEOPLE A/S recruiting on behalf of Siemen...             Uoplyst   \n",
      "124205  Atriumhaven er et nybygget plejecenter der har...               Vejle   \n",
      "47777   Aars Skole søger pr. 1. november 2009 en lærer...  Region Nordjylland   \n",
      "\n",
      "                           company  \n",
      "530049    VOGNMAND JØRGEN ANDERSEN  \n",
      "819946  FTZ AUTODELE & VÆRKTØJ A/S  \n",
      "806655             FRONTPEOPLE A/S  \n",
      "124205               Vejle Kommune  \n",
      "47777                   Aars Skole  \n"
     ]
    }
   ],
   "source": [
    "ny1 = pd.read_pickle('both1.pkl')\n",
    "ny2 = pd.read_pickle('both2.pkl')\n",
    "ny3 = pd.read_pickle('both3.pkl')\n",
    "ny4 = pd.read_pickle('both4.pkl')\n",
    "ny5 = pd.read_pickle('both5.pkl')\n",
    "\n",
    "df_both = pd.concat([ny1, ny2, ny3, ny4, ny5], axis=0, join='inner', ignore_index=True)\n",
    "\n",
    "print(df_both.describe())\n",
    "df_both_sample = df_both.sample(1000, random_state=1)\n",
    "\n",
    "print(df_both_sample.head())"
   ]
  },
  {
   "cell_type": "code",
   "execution_count": 26,
   "metadata": {},
   "outputs": [
    {
     "data": {
      "text/plain": [
       "42014"
      ]
     },
     "execution_count": 26,
     "metadata": {},
     "output_type": "execute_result"
    }
   ],
   "source": [
    "def fetch_landsdel(key) :\n",
    "    try :\n",
    "        ld = dict_landsdel[key]\n",
    "    except :        \n",
    "        k = find_hidden(strip_comma(key))\n",
    "        try :\n",
    "            ld = dict_landsdel[k[0]]\n",
    "        except:\n",
    "            try :\n",
    "                ld = dict_landsdel[k[1]]\n",
    "            except :\n",
    "                try :\n",
    "                    ld = dict_landsdel[k[2]]\n",
    "                except :\n",
    "                    if key in [' ','Uoplyst'] :\n",
    "                        ld = 'Uoplyst'\n",
    "                    else :\n",
    "                        ld = np.nan\n",
    "    return ld\n",
    "    \n",
    "def find_hidden(key) :\n",
    "    try :\n",
    "        first = key.split()\n",
    "    except :\n",
    "        first = key\n",
    "    return first\n",
    "\n",
    "def strip_comma(key) :\n",
    "    k1 = re.sub('/', \" \", key)\n",
    "    k2 = re.sub('ae', \"æ\", k1)\n",
    "    k3 = re.sub('Å', \"Aa\", k2)\n",
    "    k4 = re.sub('-', \" \", k3)\n",
    "    k5 = re.sub('oe', \"ø\", k4)\n",
    "    return re.sub(',', \"\", k5)\n",
    "    \n",
    "df_both['landsdel'] = df_both['city'].apply(lambda x: fetch_landsdel(x))\n",
    "\n",
    "len(df_both[df_both.landsdel.isnull()])\n",
    "#42014\n"
   ]
  },
  {
   "cell_type": "code",
   "execution_count": 27,
   "metadata": {},
   "outputs": [
    {
     "name": "stdout",
     "output_type": "stream",
     "text": [
      "756\n",
      "Counter({'Region Midtjylland': 9945, 'Region Sjælland': 7298, 'Region Nordjylland': 4369, 'Danmark': 4051, 'Sydjylland': 3409, 'Norge': 2797, 'Tyskland': 871, 'Luxembourg': 660, 'USA': 536, 'Østrig': 290, 'Qatar': 285, 'Schweiz': 273, 'Finland': 244, 'Australien': 224, 'Kina': 174, 'Irland': 167, 'Belgien': 157, 'Bjert': 155, 'Tisvildeleje': 130, 'Spanien': 129, 'Holland': 126, 'Vemmelev': 120, 'Canada': 117, 'Upernavik': 117, 'Hundige': 113, 'Agedrup': 112, 'Nuuk': 111, 'Italien': 105, 'Uummannaq': 105, 'Aasiaat': 101, 'Paamiut': 95, 'Ålsgårde': 91, 'Singapore': 91, 'Island': 90, 'Fur': 86, 'Tjekkiet': 80, 'Indien': 76, 'Storbritannien': 76, 'Tasiilaq': 71, 'Vietnam': 65, 'Japan': 64, 'Nanortalik': 61, 'Asperup': 58, 'Vejers Strand': 56, 'Avedøre': 56, 'Köpenhamn': 55, 'Kenya': 51, 'Tureby': 49, 'Narsaq': 46, 'Nordfyn': 45, 'Tanzania': 45, 'Uganda': 44, 'Angola': 43, 'Malaysia': 43, 'Bangladesh': 42, 'Stilling': 42, 'Nykøbing Mors': 41, 'Jordan': 38, 'Københavns vestegn': 38, 'Nykøbing F.': 38, 'Sjælland': 36, 'Afghanistan': 33, 'Tranbjerg': 33, 'Nykøbing Falster': 33, 'Oman': 32, 'Qaanaaq': 32, 'Mexico': 31, 'Thailand': 31, 'Ukraine': 29, 'Stakroge': 27, 'Narsarsuaq': 27, 'Ittoqqortoormiit': 27, 'Sporup': 27, 'Tyrkiet': 26, 'Thule Air Base': 26, 'Torrig L': 25, 'Oslo': 25, 'Stockholm': 25, 'Sejerø': 24, 'Grenå': 24, 'Nuussuaq': 23, 'Sri Lanka': 23, 'Region Syddanmark': 22, 'Buddinge': 22, 'Soborg': 22, 'Åbenrå': 22, 'Vassingerød': 22, 'Portugal': 21, 'Grækenland': 21, 'Qasigiannguit': 20, 'Qeqertarsuaq': 20, 'Amager': 20, 'Skalborg': 20, 'Fakse': 20, 'Malmö': 20, 'Malta': 19, 'Filippinerne': 19, 'søger for kunde': 19, 'Sudan': 18, 'Harpelunde': 18, 'Thule': 18, 'Ghana': 17, 'Kvistgaard': 17, 'Skejby': 17, 'Husum': 17, 'Estland': 16, 'Stavanger': 16, 'City 2': 16, 'Fields': 16, 'Sdr. Felding': 16, 'Peru': 15, 'Sydafrika': 15, 'Nicaragua': 15, 'Nepal': 15, 'Panama': 15, 'Mozambique': 15, 'London': 15, 'Shanghai': 15, 'Ungarn': 14, 'Aabyhøj': 14, 'Hele landet': 14, 'Nr. Snede': 14, 'Nr. Aaby': 14, 'Nordsjælland': 14, 'Rwanda': 14, 'Bulgarien': 13, 'Chile': 13, 'Kuwait': 13, 'hvis du har problemer med at åbne stillingsopslaget via hjemmesiden.': 13, 'Hamburg': 13, 'Hillerod': 13, 'Vangede': 13, 'Zimbabwe': 12, 'Bolivia': 12, 'Mali': 12, 'Israel': 12, 'Europa': 12, 'Østerbro': 12, 'Haiti': 12, 'Franklinton': 12, 'Brasilien': 11, 'Congo-Brazzaville': 11, 'Somalia': 11, 'Slovakiet': 11, 'Zambia': 11, 'Kangaatsiaq': 11, 'Tórshavn': 11, 'Malmø': 11, 'Rungsted': 11, 'Sierra Leone': 10, 'Slovenien': 10, 'Davis': 10, 'New Zealand': 9, 'Argentina': 9, 'Indonesien': 9, 'Syrien': 9, 'Fejø': 9, 'Bahrain': 9, 'Brondby': 9, 'Nørrebro': 9, 'Mørkhøj': 9, 'Hele Danmark': 9, 'Switzerland': 9, 'Kroatien': 8, 'Liberia': 8, 'Irak': 8, 'Letland': 8, 'Kulusuk': 8, 'Københavnsområdet': 8, 'Amsterdam': 8, 'Köbenhamn': 8, 'Guatemala': 7, 'Marokko': 7, 'Rumænien': 7, 'Nr. Åby': 7, 'Munich': 7, 'københavn': 7, 'Nørre-Snede': 7, 'Fuglebakken': 7, 'Danmark, Norge': 7, 'Skandinavien': 7, 'Fisketorvet': 7, 'Dublin': 7, 'Bhutan': 6, 'Benin': 6, 'Rudersdal': 6, 'Togo': 6, 'Litauen': 6, 'Cambodja': 6, 'Cypern': 6, 'Yemen': 6, 'Djursland': 6, 'Midtjylland': 6, 'Midt- og Nordjylland': 6, 'Amager Centret': 6, 'Dyrehavsbakken': 6, 'Hovedstaden': 6, 'Mors': 6, 'Brussels': 6, 'Trekantsområdet': 6, 'Købehavn': 6, 'hele landet': 6, 'Flensborg': 6, 'Nordjylland': 6, 'Copnehagen': 6, 'England': 6, 'Tunesien': 6, 'Krusaa': 6, 'Zürich': 6, 'Pituffik': 5, 'Albanien': 5, 'Serbien': 5, 'Lolland, Nykøbing F': 5, 'Iran': 5, 'Dubai': 5, 'Bergen': 5, 'Gibraltar': 5, 'Norway': 5, 'Sønderjylland': 5, 'New York': 5, 'China': 5, 'Vestsjælland': 5, 'søger for klient': 5, 'Amagerbrogade': 5, 'City2': 5, 'Venezuela': 5, 'Zurich': 5, 'Arsuk': 5, 'Pakistan': 4, 'Sydkorea': 4, 'Maldiverne': 4, 'Libanon': 4, 'Burkina Faso': 4, 'Tingbjerg': 4, 'Christianshavn': 4, 'Isle of Wight, UK': 4, 'Jylland': 4, 'Hovedstadsområdet': 4, 'Ryomgaard': 4, 'Dalum': 4, 'Beijing': 4, 'Ll. Skensved': 4, 'Albertlund': 4, 'Nørre Åby': 4, 'Horsholm': 4, 'Hyrdehøj': 4, 'Nigeria': 4, 'århus': 4, 'Hammerum': 4, 'Tromsø': 4, 'Norddjurs, Syddjurs': 4, 'Etiopien': 4, 'Misto Kyiv, Ukraine': 4, 'Any of the Nordic countries': 4, 'Costa Rica': 3, 'Liechtenstein': 3, 'Colombia': 3, 'Monaco': 3, 'Honduras': 3, 'Niger': 3, 'Furesø': 3, 'Trondheim': 3, 'Hasseris': 3, 'Harrislee': 3, 'Islands Brygge': 3, 'Hele Sjælland': 3, 'Fløng': 3, 'Århusområdet': 3, 'Daugaard': 3, 'Lübeck, Germany': 3, 'Himmerland': 3, 'Skrydstrup': 3, 'Saudi Arabia': 3, 'France': 3, 'Helsingborg': 3, 'Bispebjerg': 3, 'Flensburg': 3, 'Låmsås': 3, 'Libyen': 3, 'Bruxelles': 3, 'Hong Kong': 3, 'Nykøbing M.': 3, 'Kopenhagen': 3, 'Kosovo': 3, 'El Salvador': 3, 'EU and US': 3, 'EU': 3, 'Helsinki': 3, 'Brande.': 3, 'Vester Skjerninge': 3, \"Field's\": 3, 'Manila': 3, 'Copehagen': 3, 'søger for DANSK BYGNINGSANALYSE AS': 3, 'Madagaskar': 2, 'Constable Pynt': 2, 'Tonga': 2, 'Guinea-Bissau': 2, 'Hviderusland': 2, 'Danmarkshavn': 2, 'Ørholm': 2, 'Nørrevold': 2, 'Bristol, UK or Randers, DK': 2, 'Bratislava': 2, 'Slet': 2, 'Erritsø': 2, 'Humlebeak': 2, 'Nykøbing': 2, 'Albertsund': 2, 'Fortunbyen': 2, 'Poland': 2, 'Nr. Jernløse': 2, 'Geneve': 2, 'Munich, The Hague and Berlin': 2, 'Haubro': 2, 'Fredriksberg': 2, 'Birkerod': 2, 'Abroad': 2, 'Syd- og Vestjylland': 2, 'Frederikberg': 2, 'Denmark and southern Sweden': 2, 'Lillebælt': 2, 'Rødkærbro': 2, 'kolding': 2, 'Lille Skenvsved': 2, 'Aalbæk': 2, 'Houston': 2, 'Nidda': 2, 'Michigan': 2, 'lier - norge': 2, 'Sweden': 2, 'Bjeringbro': 2, 'Jamaica': 2, 'Holsterbro': 2, 'KØBENHAVN': 2, 'Trekantområdet': 2, 'Kgs.Lyngby': 2, 'Göteborg': 2, 'vejle': 2, 'St. Heddinge': 2, 'Dublin - Ireland': 2, 'Neumünster': 2, 'Denmark': 2, 'Amagerværket': 2, 'Herrsching': 2, 'Danmark, Indien': 2, 'Odsherred': 2, 'glostrup': 2, 'Novy Bydzov, Czech Republic': 2, 'Lumsaas': 2, 'Kgs. Kyngby': 2, 'Lynbgy': 2, 'Moscow': 2, 'Tjørring': 2, 'Belgien, Danmark, Holland, Norge': 2, 'Århus.': 2, 'Europe': 2, 'Nordsøen (via Esbjerg)': 2, 'Hamburg, Leatherhead - London, Copenhagen or Randers': 2, 'Skæring': 2, 'Germany': 2, 'Copenhague': 2, 'Olomouc in Czech Republic': 2, 'Kirke Saaby': 2, 'Chennai (IN)': 2, 'Beijing (CN) or Aarhus (DK)': 2, 'Beijing, China or Aarhus, Denmark': 2, 'Strasbourg': 2, 'Alicante': 2, 'Bolbro': 2, 'Bosnien-Hercegovina': 2, 'Slagerup': 2, 'Itaji, Brazil': 2, 'Gambia': 1, 'Usbekistan': 1, 'Grenada': 1, 'Montenegro': 1, 'Bermuda': 1, 'Norden': 1, 'Danmark, USA': 1, 'Guinea': 1, 'Botswana': 1, 'Senegal': 1, 'Malawi': 1, 'Eritrea': 1, 'Georgien': 1, 'Cuba': 1, 'Ecuador': 1, 'Region Hovedstaden, Region Sjælland': 1, 'Vesthimmerland': 1, 'Warrington UK or Videbæk': 1, 'Istanbul': 1, 'Edinburgh': 1, 'Denmark/Sjaelland': 1, 'Gjelleråsen': 1, 'Istanbul, Turkey': 1, 'Tissø': 1, 'eller ring på 56 29 26 15, og aftal evt. besøg.': 1, 'Bonn, Germany': 1, 'Billiund': 1, 'Sdr. Felding or Ringkobing': 1, 'Midtsjælland el. Nordjylland': 1, 'Hamburg, Germany': 1, 'Billind': 1, 'Amagerområdet': 1, 'Rio de Janeiro and Lyngby': 1, 'Isle of Wight': 1, 'Østjylland og Århusområdet': 1, 'Nykøbing F. eller Vordingborg': 1, 'CCopenhagen': 1, 'Lausanne': 1, 'London (UK) or Copenhagen (DK)': 1, 'Køgeområdet': 1, 'Alnarp': 1, 'Leeds, UK or Copenhagen, Denmark': 1, 'eller ring på 56 29 26 29 og aftal evt. besøg på skolen.': 1, 'Hörsholm': 1, 'Hundige og Fields': 1, 'Düsseldorf': 1, 'The Hague': 1, 'Ålholm': 1, 'Syd- og Østjylland': 1, 'Norrköping (Sverige)': 1, 'Magasin Kgs. Nytorv': 1, '<a data-click=\"/c?t=h241550&amp;ctx=w&amp;u=15462167\" href=\"http://www.boghandleren.dk\" rel=\"noopener\" target=\"_blank\"><b>www.boghandleren.dk</b></a> samt <a data-click=\"/c?t=h241550&amp;ctx=w&amp;u=15462168\" href=\"http://www.indeks-retail.dk\" rel=\"noopener\" target=\"_blank\"><b>www.indeks-retail.dk</b></a>, og <a data-click=\"/c?t=h241550&amp;ctx=w&amp;u=15462169\" href=\"http://www.gad.dk\" rel=\"noopener\" target=\"_blank\"><b>www.gad.dk</b></a>.': 1, 'Aaborg': 1, 'world wide': 1, 'location negotiable': 1, 'Kæøbenhavn': 1, 'Madrid': 1, 'Lolland, Falster, Møn og omegn': 1, 'Stockholm eller Söderhamn': 1, 'Nord- og Vestjylland': 1, 'Østjylland og Aarhusområdet': 1, 'Midt- og Vestjylland': 1, 'Borlänge (Sweden)': 1, 'Piteå': 1, 'Portland, Oregon, USA': 1, 'Rhodos - Grækenland': 1, 'Standorte Wiesbaden, München, Deutschland': 1, 'Hllerød': 1, 'Horrsholm': 1, 'Latin America and Copenhagen': 1, 'Halsskov': 1, 'Tianjin - China': 1, 'Tianjin - Kina': 1, 'Cairo': 1, 'Søger for kunde': 1, 'Madrid - Spain': 1, 'Glostup': 1, 'Hele Jylland': 1, 'Stockholm Area': 1, 'Rio de Janeiro and Copenhagen': 1, 'Mannheim': 1, 'Nordic': 1, 'Sjælland og Sydjylland/Fyn': 1, 'Lebanon': 1, 'Kultur- og Fritidsforvaltningen': 1, 'Skensved': 1, 'nørresundby': 1, 'New York City or Hoersholm': 1, 'Bjeaverskov': 1, 'Stockholm eller Köpenhamn': 1, 'Det Biovidenskabelige Fakultet': 1, 'Nearum': 1, 'Täby': 1, 'Barcelona': 1, 'Fåvang': 1, 'Vendsyssel': 1, 'Nordic Region': 1, 'Sonderborg': 1, 'Fakse Ladeplads': 1, 'Munkerup': 1, 'Sydgrønland': 1, 'Frederksberg': 1, 'Avedoere': 1, 'Brazil': 1, 'Nordøst Italien': 1, 'Africa/Ghana': 1, 'Wahlstedt': 1, 'Sjælland og Lolland/Falster': 1, 'Indonesia': 1, 'Cannes': 1, 'Division Lauritz Knudsen, Ballerup': 1, 'Luanda - Angola': 1, 'Neumünster, Germany or Nordborg, Denmark': 1, 'Ringkobing': 1, 'Aarslev': 1, 'bagsværd': 1, 'Hinstrup': 1, 'Audebo': 1, 'Ohio': 1, 'Kvisgaard': 1, 'Horns Rev': 1, 'Sweden, Norway and Denmark': 1, 'India': 1, 'Region Midtjylland, Region Nordjylland, Region Syddanmark': 1, 'Region Midtjylland, Region Nordjylland': 1, 'Burundi': 1, 'Marbella, Spanien': 1, 'Silkebrog': 1, 'Nyk. Sj.': 1, 'Alderslyst': 1, 'Sjælland og øerne': 1, 'Faarborg': 1, 'Kridthøj': 1, 'Sisimut': 1, 'Rødove': 1, 'Rrande': 1, 'Sydney, Melbourne or Perth': 1, 'Gug': 1, 'Midt- og Sydsjælland': 1, 'K?avn': 1, 'Slough - UK': 1, 'Erlangen': 1, 'Institut for Folkesundhedsvidenskab': 1, 'valby': 1, 'Vestegnen': 1, 'Københavnsområdet og Nordsjælland': 1, 'UK': 1, 'Flintehøj': 1, 'Rådhuset': 1, 'CHARLOTTENLUND': 1, 'Midt og - Nordjylland': 1, 'Advedøre': 1, 'Jægersborg': 1, 'Det Humanistiske Fakultet': 1, 'Rungsted kyst': 1, 'New Jersey': 1, 'landsdækkende': 1, 'Copnhagen': 1, 'Midt-og Nordjylland': 1, 'TranbVejle': 1, 'svendborg': 1, 'Suzhou': 1, 'Nr.Sundby': 1, 'Østjylland': 1, 'Kilding': 1, 'Laos': 1, 'Region Hovedstaden': 1, 'Syddjurs': 1, 'Aabenrå': 1, 'Bremen': 1, 'Købnehavn': 1, 'taastrup': 1, 'Midt/Nordjylland': 1, 'Nordrhein-Westfalen, Germany': 1, 'Alberslund': 1, 'Sacramento, Californien': 1, 'Stilling (v. Skanderborg)': 1, 'Ankara, Turkey': 1, 'Italien eller Spanien': 1, 'Jylland og Sjælland': 1, 'Brønby': 1, 'Løgstør.': 1, 'Bilka': 1, 'Herstedvester': 1, 'Kristiansand': 1, 'Borgstedt bei Rendsburg': 1, 'hillerød': 1, 'Børndby': 1, 'Jernløse': 1, 'Nykøbing F og Næstved': 1, 'Kungsbacka': 1, 'Kohlenz': 1, 'Amager Centeret': 1, 'Vimmelskaftet, Amager Centret og Lyngby STORcenter': 1, 'Baku, Azerbaijan': 1, 'Fredeirksberg': 1, 'Düsseldorf/Hamburg/Stuttgart': 1, 'sorø': 1, 'Bgsværd': 1, 'Helleup': 1, 'Vably': 1, 'Ankara': 1, 'Hilerød': 1, 'Randeres': 1, 'Vesterbrogade og Amagerbrogade': 1, 'Koling': 1, 'fredensborg': 1, 'Det Grønne Område': 1, 'Münster': 1, 'De Forenede Arabiske Emirater': 1, 'Papua Ny Guinea': 1, 'Kangilinnguit': 1, 'Danmark, Finland, Norge, Sverige': 1, 'Brunei': 1, 'Lolland': 1, 'Lolland-Falster, Sydsjælland og Møn': 1, 'Frederikbserg': 1, 'AArhus': 1, 'AAlborg': 1, 'Ørestaden': 1, 'Skovsgaard': 1, 'Barritskov': 1, 'Poland (Grodzisk) or in Denmark (Kolding or Nordborg)': 1, 'Chamonix (FR)': 1, 'varde': 1, 'Faarup': 1, 'Kgs. Lyngy': 1, 'Milano': 1, 'Poland (Grodzisk) or Denmark (Kolding or Nordborg)': 1, 'Ontario': 1, 'Nykøbing S.': 1, 'Odenseområdet': 1, 'Esbjerg.': 1, 'Esbjeg': 1, 'recruiting on behalf of Sandoz Nordic in Copenhagen': 1, 'Østdanmark': 1, 'Zürich, Switzerland': 1, 'Prague': 1, 'Balleup': 1, 'EU &amp; Singapore': 1, 'Europe and US': 1, 'Kiev, Ukraine': 1, 'Sydsjælland': 1, 'Midt- og nordjylland': 1, 'Kgs. Nytorv og Lyngby': 1, 'Allerod': 1, 'Manchester': 1, 'Solna': 1, 'Sandvika': 1, 'Tingbjerg-Utterslevhuse': 1, 'Malmo': 1, 'Malmo or Stockholm': 1, 'Bronshoj': 1, 'Oslo, Norge': 1, 'Københvan': 1, 'Belgium': 1, 'Leverkusen - Germany': 1, 'Harrislee, Tyskland': 1, 'Danmark og Basel': 1, 'Vadovce, Slovakia': 1, 'Rågeleje': 1, 'Thy': 1, 'Nykøbing F. og Vordingborg': 1, 'så kontakter vi dig mhp. nærmere aftale.': 1, 'Vejlevej 361, 6000 Kolding': 1, 'Syd-Østsjælland': 1, 'Lolland-Falster': 1, 'Lolland/Falster og Ålborg': 1, 'Ærø': 1, 'Nordeuropa': 1, 'Kødbyen': 1, 'Bangalore, India': 1, 'Vores nordiske hovedkontor i Vallensbæk Strand': 1, 'Bangkok, Thailand': 1, 'Sydsjælland-Møn': 1, 'Kolt tæt ved Århus': 1, 'Vedbeak': 1, 'Møn': 1, 'Arlöv, Malmö': 1, 'Warrington, UK': 1, 'Isle of Wright, UK': 1, 'Sjælland eller Jylland': 1, 'samt <a data-click=\"/c?t=h268799&amp;ctx=w&amp;u=15434243\" href=\"http://www.fhdk.dk\" rel=\"noopener\" target=\"_blank\">www.fhdk.dk</a><a>) </a>': 1, 'Lommel, Belgium': 1, 'Rungsted Havn': 1, 'Helsinki, Stockholm, Oslo or Copenhagen': 1, 'Portland, Oregon in the US or Randers in Denmark': 1, 'Stilling v.Skanderborg': 1, 'Hovedstadsområdet, Nord -, Midt- og Sydsjælland samt Lolland &amp; Falster': 1, 'Chennai, India': 1, 'SILICON VALLEY – USA': 1, 'Germany, UK or Denmark': 1, 'Dubai (UA)': 1, 'Barcelona, Spain': 1, 'Grenoble, France': 1, 'Bulk': 1, 'Ireland': 1, 'Risø': 1, 'Knudshoved': 1, 'Rungsted havn': 1, 'er en privat, landsdækkende forening, attraktivt beliggende i Silkeborg, der i dag beskæftiger 16 medarbejdere. Foreningen tæller ca. 500 medlemsvirksomheder, der er inddelt i netværk, sammensat efter deres internationale kundesegmenter. Dette giver bl.a. gode muligheder for at gennemføre eksportrelaterede aktiviteter - herunder kollektive eksportfremstød.': 1, 'Madison, USA or Dangé-St-Romain, France or Brabrand, Denmark': 1, 'Vilafranca del Penedès, Spain': 1, 'Trekantsområdet, KBH eller Sydsjælland': 1, 'the Isle of Wight, UK or in Lem, Denmark': 1, 'hvis du har problemer med at åbne stillingsopslaget via hjemmesiden': 1, 'Kregme': 1, 'Nr. Bjert': 1, 'Hamburg, Germany or Warrington, UK': 1, 'The Isle of Wight, UK': 1, 'Kolt': 1, 'Thule Air Base, Grønland': 1, 'Amersfoort (NL)': 1, 'Midt-/Nordjylland': 1, 'søger for Flex Pack A/S, Greve': 1, 'frederiksberg': 1, 'Äänekoski, Finland': 1, 'understøttet af landsdækkende udstillinger, hvor kunderne kan se og prøve vores møbler. Al varedistribution foregår fra vores hovedlager i Herlev. Mandalay er på få år vokset til at blive Danmarks største online-butik for havemøbler.': 1, 'ganløse': 1, 'eller ring +33 492 02 33 77.': 1, 'Midt – og Nordjylland': 1, 'Sydsjælland/Nordfalster': 1, 'UK, Derby': 1, 'Sydsjælland &amp; Lolland-Falster': 1, 'Region Midtjylland, Region Nordjylland, Vejle': 1, 'Shenfield': 1, 'Busto Arsizio': 1, 'Kgs. Nytorv': 1, 'faaborg': 1, 'Dublin, Irland': 1, 'Antwerpen, Belgien': 1, 'Arlöv (Malmö)': 1, 'Dobele': 1, 'Puttgarden': 1, 'Nivaa': 1, 'Lianyungang': 1, 'Hjemmeplejen Mørkhøj': 1, 'SIlkeborg': 1, 'Talinn': 1, 'Wales or Toronto': 1, 'maribo': 1, 'Billingstad': 1, 'Wien': 1, 'Juan Griego, Isla de Margarita': 1, 'søger for A2SEA A/S': 1, 'Marlborough': 1, 'Vestermarksgaard': 1, 'Mongstad': 1, '<b>Ølgod</b>': 1, 'ålborg': 1, 'Sydfyn': 1, 'Holstrebro': 1, 'RØDOVRE': 1, 'Aabanraa': 1, 'Chiba-shi': 1, 'FAxe': 1, 'Karlsunde': 1, 'Svelvik, Norge': 1, 'Barbrand': 1, 'Nordbog': 1, 'Værlæse': 1, 'Warszawa, Poland': 1, 'Teknisk afdeling': 1, 'Bryggervangen': 1, 'Ames': 1, 'The Netherlands, Vianen': 1, 'Liverpool': 1, 'Houston, USA': 1, 'Albetslund': 1, 'Itajai, Brazil': 1, 'Brædstup': 1, 'Perth': 1, 'Torshavn': 1, 'Graasten': 1, 'Aahus': 1, 'Hundige Storcenter': 1, 'Nanterre': 1, 'Vestdanmark': 1, 'Dittingen': 1, 'Shenzhen': 1, 'Florida': 1, 'Vilsund': 1, 'Filatelia': 1})\n"
     ]
    }
   ],
   "source": [
    "from collections import Counter\n",
    "\n",
    "ukendt_by = df_both[df_both['landsdel'].isnull()]['city']\n",
    "\n",
    "print(len(pd.unique(ukendt_by)))\n",
    "print(Counter(ukendt_by))\n",
    "\n",
    "\n"
   ]
  },
  {
   "cell_type": "code",
   "execution_count": 57,
   "metadata": {},
   "outputs": [
    {
     "ename": "TypeError",
     "evalue": "'<=' not supported between instances of 'float' and 'str'",
     "output_type": "error",
     "traceback": [
      "\u001b[1;31m---------------------------------------------------------------------------\u001b[0m",
      "\u001b[1;31mTypeError\u001b[0m                                 Traceback (most recent call last)",
      "\u001b[1;32m<ipython-input-57-f140057f85ac>\u001b[0m in \u001b[0;36m<module>\u001b[1;34m()\u001b[0m\n\u001b[0;32m      7\u001b[0m \u001b[1;32mimport\u001b[0m \u001b[0mmatplotlib\u001b[0m\u001b[1;33m.\u001b[0m\u001b[0mpyplot\u001b[0m \u001b[1;32mas\u001b[0m \u001b[0mplt\u001b[0m\u001b[1;33m\u001b[0m\u001b[0m\n\u001b[0;32m      8\u001b[0m \u001b[1;33m\u001b[0m\u001b[0m\n\u001b[1;32m----> 9\u001b[1;33m \u001b[0mplt\u001b[0m\u001b[1;33m.\u001b[0m\u001b[0mhist2d\u001b[0m\u001b[1;33m(\u001b[0m\u001b[0mdf_both\u001b[0m\u001b[1;33m[\u001b[0m\u001b[1;34m'date'\u001b[0m\u001b[1;33m]\u001b[0m\u001b[1;33m,\u001b[0m \u001b[0mdf_both\u001b[0m\u001b[1;33m[\u001b[0m\u001b[1;34m'landsdel'\u001b[0m\u001b[1;33m]\u001b[0m\u001b[1;33m)\u001b[0m\u001b[1;33m\u001b[0m\u001b[0m\n\u001b[0m\u001b[0;32m     10\u001b[0m \u001b[1;33m\u001b[0m\u001b[0m\n\u001b[0;32m     11\u001b[0m \u001b[1;31m#test.resample('W').sum().plot(style=':')\u001b[0m\u001b[1;33m\u001b[0m\u001b[1;33m\u001b[0m\u001b[0m\n",
      "\u001b[1;32m~\\Anaconda3\\lib\\site-packages\\matplotlib\\pyplot.py\u001b[0m in \u001b[0;36mhist2d\u001b[1;34m(x, y, bins, range, normed, weights, cmin, cmax, hold, data, **kwargs)\u001b[0m\n\u001b[0;32m   3153\u001b[0m         ret = ax.hist2d(x, y, bins=bins, range=range, normed=normed,\n\u001b[0;32m   3154\u001b[0m                         \u001b[0mweights\u001b[0m\u001b[1;33m=\u001b[0m\u001b[0mweights\u001b[0m\u001b[1;33m,\u001b[0m \u001b[0mcmin\u001b[0m\u001b[1;33m=\u001b[0m\u001b[0mcmin\u001b[0m\u001b[1;33m,\u001b[0m \u001b[0mcmax\u001b[0m\u001b[1;33m=\u001b[0m\u001b[0mcmax\u001b[0m\u001b[1;33m,\u001b[0m \u001b[0mdata\u001b[0m\u001b[1;33m=\u001b[0m\u001b[0mdata\u001b[0m\u001b[1;33m,\u001b[0m\u001b[1;33m\u001b[0m\u001b[0m\n\u001b[1;32m-> 3155\u001b[1;33m                         **kwargs)\n\u001b[0m\u001b[0;32m   3156\u001b[0m     \u001b[1;32mfinally\u001b[0m\u001b[1;33m:\u001b[0m\u001b[1;33m\u001b[0m\u001b[0m\n\u001b[0;32m   3157\u001b[0m         \u001b[0max\u001b[0m\u001b[1;33m.\u001b[0m\u001b[0m_hold\u001b[0m \u001b[1;33m=\u001b[0m \u001b[0mwashold\u001b[0m\u001b[1;33m\u001b[0m\u001b[0m\n",
      "\u001b[1;32m~\\Anaconda3\\lib\\site-packages\\matplotlib\\__init__.py\u001b[0m in \u001b[0;36minner\u001b[1;34m(ax, *args, **kwargs)\u001b[0m\n\u001b[0;32m   1853\u001b[0m                         \u001b[1;34m\"the Matplotlib list!)\"\u001b[0m \u001b[1;33m%\u001b[0m \u001b[1;33m(\u001b[0m\u001b[0mlabel_namer\u001b[0m\u001b[1;33m,\u001b[0m \u001b[0mfunc\u001b[0m\u001b[1;33m.\u001b[0m\u001b[0m__name__\u001b[0m\u001b[1;33m)\u001b[0m\u001b[1;33m,\u001b[0m\u001b[1;33m\u001b[0m\u001b[0m\n\u001b[0;32m   1854\u001b[0m                         RuntimeWarning, stacklevel=2)\n\u001b[1;32m-> 1855\u001b[1;33m             \u001b[1;32mreturn\u001b[0m \u001b[0mfunc\u001b[0m\u001b[1;33m(\u001b[0m\u001b[0max\u001b[0m\u001b[1;33m,\u001b[0m \u001b[1;33m*\u001b[0m\u001b[0margs\u001b[0m\u001b[1;33m,\u001b[0m \u001b[1;33m**\u001b[0m\u001b[0mkwargs\u001b[0m\u001b[1;33m)\u001b[0m\u001b[1;33m\u001b[0m\u001b[0m\n\u001b[0m\u001b[0;32m   1856\u001b[0m \u001b[1;33m\u001b[0m\u001b[0m\n\u001b[0;32m   1857\u001b[0m         inner.__doc__ = _add_data_doc(inner.__doc__,\n",
      "\u001b[1;32m~\\Anaconda3\\lib\\site-packages\\matplotlib\\axes\\_axes.py\u001b[0m in \u001b[0;36mhist2d\u001b[1;34m(self, x, y, bins, range, normed, weights, cmin, cmax, **kwargs)\u001b[0m\n\u001b[0;32m   6823\u001b[0m \u001b[1;33m\u001b[0m\u001b[0m\n\u001b[0;32m   6824\u001b[0m         h, xedges, yedges = np.histogram2d(x, y, bins=bins, range=range,\n\u001b[1;32m-> 6825\u001b[1;33m                                            normed=normed, weights=weights)\n\u001b[0m\u001b[0;32m   6826\u001b[0m \u001b[1;33m\u001b[0m\u001b[0m\n\u001b[0;32m   6827\u001b[0m         \u001b[1;32mif\u001b[0m \u001b[0mcmin\u001b[0m \u001b[1;32mis\u001b[0m \u001b[1;32mnot\u001b[0m \u001b[1;32mNone\u001b[0m\u001b[1;33m:\u001b[0m\u001b[1;33m\u001b[0m\u001b[0m\n",
      "\u001b[1;32m~\\Anaconda3\\lib\\site-packages\\numpy\\lib\\twodim_base.py\u001b[0m in \u001b[0;36mhistogram2d\u001b[1;34m(x, y, bins, range, normed, weights)\u001b[0m\n\u001b[0;32m    653\u001b[0m         \u001b[0mxedges\u001b[0m \u001b[1;33m=\u001b[0m \u001b[0myedges\u001b[0m \u001b[1;33m=\u001b[0m \u001b[0masarray\u001b[0m\u001b[1;33m(\u001b[0m\u001b[0mbins\u001b[0m\u001b[1;33m,\u001b[0m \u001b[0mfloat\u001b[0m\u001b[1;33m)\u001b[0m\u001b[1;33m\u001b[0m\u001b[0m\n\u001b[0;32m    654\u001b[0m         \u001b[0mbins\u001b[0m \u001b[1;33m=\u001b[0m \u001b[1;33m[\u001b[0m\u001b[0mxedges\u001b[0m\u001b[1;33m,\u001b[0m \u001b[0myedges\u001b[0m\u001b[1;33m]\u001b[0m\u001b[1;33m\u001b[0m\u001b[0m\n\u001b[1;32m--> 655\u001b[1;33m     \u001b[0mhist\u001b[0m\u001b[1;33m,\u001b[0m \u001b[0medges\u001b[0m \u001b[1;33m=\u001b[0m \u001b[0mhistogramdd\u001b[0m\u001b[1;33m(\u001b[0m\u001b[1;33m[\u001b[0m\u001b[0mx\u001b[0m\u001b[1;33m,\u001b[0m \u001b[0my\u001b[0m\u001b[1;33m]\u001b[0m\u001b[1;33m,\u001b[0m \u001b[0mbins\u001b[0m\u001b[1;33m,\u001b[0m \u001b[0mrange\u001b[0m\u001b[1;33m,\u001b[0m \u001b[0mnormed\u001b[0m\u001b[1;33m,\u001b[0m \u001b[0mweights\u001b[0m\u001b[1;33m)\u001b[0m\u001b[1;33m\u001b[0m\u001b[0m\n\u001b[0m\u001b[0;32m    656\u001b[0m     \u001b[1;32mreturn\u001b[0m \u001b[0mhist\u001b[0m\u001b[1;33m,\u001b[0m \u001b[0medges\u001b[0m\u001b[1;33m[\u001b[0m\u001b[1;36m0\u001b[0m\u001b[1;33m]\u001b[0m\u001b[1;33m,\u001b[0m \u001b[0medges\u001b[0m\u001b[1;33m[\u001b[0m\u001b[1;36m1\u001b[0m\u001b[1;33m]\u001b[0m\u001b[1;33m\u001b[0m\u001b[0m\n\u001b[0;32m    657\u001b[0m \u001b[1;33m\u001b[0m\u001b[0m\n",
      "\u001b[1;32m~\\Anaconda3\\lib\\site-packages\\numpy\\lib\\function_base.py\u001b[0m in \u001b[0;36mhistogramdd\u001b[1;34m(sample, bins, range, normed, weights)\u001b[0m\n\u001b[0;32m    929\u001b[0m             \u001b[0msmax\u001b[0m \u001b[1;33m=\u001b[0m \u001b[0mones\u001b[0m\u001b[1;33m(\u001b[0m\u001b[0mD\u001b[0m\u001b[1;33m)\u001b[0m\u001b[1;33m\u001b[0m\u001b[0m\n\u001b[0;32m    930\u001b[0m         \u001b[1;32melse\u001b[0m\u001b[1;33m:\u001b[0m\u001b[1;33m\u001b[0m\u001b[0m\n\u001b[1;32m--> 931\u001b[1;33m             \u001b[0msmin\u001b[0m \u001b[1;33m=\u001b[0m \u001b[0matleast_1d\u001b[0m\u001b[1;33m(\u001b[0m\u001b[0marray\u001b[0m\u001b[1;33m(\u001b[0m\u001b[0msample\u001b[0m\u001b[1;33m.\u001b[0m\u001b[0mmin\u001b[0m\u001b[1;33m(\u001b[0m\u001b[1;36m0\u001b[0m\u001b[1;33m)\u001b[0m\u001b[1;33m,\u001b[0m \u001b[0mfloat\u001b[0m\u001b[1;33m)\u001b[0m\u001b[1;33m)\u001b[0m\u001b[1;33m\u001b[0m\u001b[0m\n\u001b[0m\u001b[0;32m    932\u001b[0m             \u001b[0msmax\u001b[0m \u001b[1;33m=\u001b[0m \u001b[0matleast_1d\u001b[0m\u001b[1;33m(\u001b[0m\u001b[0marray\u001b[0m\u001b[1;33m(\u001b[0m\u001b[0msample\u001b[0m\u001b[1;33m.\u001b[0m\u001b[0mmax\u001b[0m\u001b[1;33m(\u001b[0m\u001b[1;36m0\u001b[0m\u001b[1;33m)\u001b[0m\u001b[1;33m,\u001b[0m \u001b[0mfloat\u001b[0m\u001b[1;33m)\u001b[0m\u001b[1;33m)\u001b[0m\u001b[1;33m\u001b[0m\u001b[0m\n\u001b[0;32m    933\u001b[0m     \u001b[1;32melse\u001b[0m\u001b[1;33m:\u001b[0m\u001b[1;33m\u001b[0m\u001b[0m\n",
      "\u001b[1;32m~\\Anaconda3\\lib\\site-packages\\numpy\\core\\_methods.py\u001b[0m in \u001b[0;36m_amin\u001b[1;34m(a, axis, out, keepdims)\u001b[0m\n\u001b[0;32m     27\u001b[0m \u001b[1;33m\u001b[0m\u001b[0m\n\u001b[0;32m     28\u001b[0m \u001b[1;32mdef\u001b[0m \u001b[0m_amin\u001b[0m\u001b[1;33m(\u001b[0m\u001b[0ma\u001b[0m\u001b[1;33m,\u001b[0m \u001b[0maxis\u001b[0m\u001b[1;33m=\u001b[0m\u001b[1;32mNone\u001b[0m\u001b[1;33m,\u001b[0m \u001b[0mout\u001b[0m\u001b[1;33m=\u001b[0m\u001b[1;32mNone\u001b[0m\u001b[1;33m,\u001b[0m \u001b[0mkeepdims\u001b[0m\u001b[1;33m=\u001b[0m\u001b[1;32mFalse\u001b[0m\u001b[1;33m)\u001b[0m\u001b[1;33m:\u001b[0m\u001b[1;33m\u001b[0m\u001b[0m\n\u001b[1;32m---> 29\u001b[1;33m     \u001b[1;32mreturn\u001b[0m \u001b[0mumr_minimum\u001b[0m\u001b[1;33m(\u001b[0m\u001b[0ma\u001b[0m\u001b[1;33m,\u001b[0m \u001b[0maxis\u001b[0m\u001b[1;33m,\u001b[0m \u001b[1;32mNone\u001b[0m\u001b[1;33m,\u001b[0m \u001b[0mout\u001b[0m\u001b[1;33m,\u001b[0m \u001b[0mkeepdims\u001b[0m\u001b[1;33m)\u001b[0m\u001b[1;33m\u001b[0m\u001b[0m\n\u001b[0m\u001b[0;32m     30\u001b[0m \u001b[1;33m\u001b[0m\u001b[0m\n\u001b[0;32m     31\u001b[0m \u001b[1;32mdef\u001b[0m \u001b[0m_sum\u001b[0m\u001b[1;33m(\u001b[0m\u001b[0ma\u001b[0m\u001b[1;33m,\u001b[0m \u001b[0maxis\u001b[0m\u001b[1;33m=\u001b[0m\u001b[1;32mNone\u001b[0m\u001b[1;33m,\u001b[0m \u001b[0mdtype\u001b[0m\u001b[1;33m=\u001b[0m\u001b[1;32mNone\u001b[0m\u001b[1;33m,\u001b[0m \u001b[0mout\u001b[0m\u001b[1;33m=\u001b[0m\u001b[1;32mNone\u001b[0m\u001b[1;33m,\u001b[0m \u001b[0mkeepdims\u001b[0m\u001b[1;33m=\u001b[0m\u001b[1;32mFalse\u001b[0m\u001b[1;33m)\u001b[0m\u001b[1;33m:\u001b[0m\u001b[1;33m\u001b[0m\u001b[0m\n",
      "\u001b[1;31mTypeError\u001b[0m: '<=' not supported between instances of 'float' and 'str'"
     ]
    },
    {
     "data": {
      "image/png": "[encoded data removed]",
      "text/plain": [
       "<Figure size 432x288 with 1 Axes>"
      ]
     },
     "metadata": {},
     "output_type": "display_data"
    }
   ],
   "source": [
    "#per = df_both.['date'].dt.to_period(\"M\")\n",
    "a = df_both.copy()\n",
    "a.set_index(['date'], inplace=True)\n",
    "test = a.groupby(level=(0)).size()\n",
    "#a.reset_index()\n",
    "\n",
    "import matplotlib.pyplot as plt\n",
    "\n",
    "plt.hist2d(df_both['date'], df_both['landsdel'])\n",
    "\n",
    "#test.resample('W').sum().plot(style=':')\n",
    "test\n"
   ]
  }
 ],
 "metadata": {
  "kernelspec": {
   "display_name": "Python 3",
   "language": "python",
   "name": "python3"
  },
  "language_info": {
   "codemirror_mode": {
    "name": "ipython",
    "version": 3
   },
   "file_extension": ".py",
   "mimetype": "text/x-python",
   "name": "python",
   "nbconvert_exporter": "python",
   "pygments_lexer": "ipython3",
   "version": "3.6.5"
  }
 },
 "nbformat": 4,
 "nbformat_minor": 2
}
