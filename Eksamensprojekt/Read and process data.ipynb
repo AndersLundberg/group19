{
 "cells": [
  {
   "cell_type": "markdown",
   "metadata": {},
   "source": [
    "## Import the packages"
   ]
  },
  {
   "cell_type": "code",
   "execution_count": 2,
   "metadata": {},
   "outputs": [],
   "source": [
    "# import packages\n",
    "import requests, json\n",
    "import pandas as pd, numpy as np\n",
    "import time, os\n",
    "from bs4 import BeautifulSoup\n",
    "import re\n",
    "from datetime import datetime\n",
    "\n"
   ]
  },
  {
   "cell_type": "markdown",
   "metadata": {},
   "source": [
    "## Parsing the data\n",
    "\n",
    "The following steps parse the scraped html"
   ]
  },
  {
   "cell_type": "markdown",
   "metadata": {},
   "source": [
    "### The first cell defines our parsing functions"
   ]
  },
  {
   "cell_type": "code",
   "execution_count": 132,
   "metadata": {},
   "outputs": [],
   "source": [
    "def prepros(html) :\n",
    "    d=json.loads(html)\n",
    "    \n",
    "    soup = BeautifulSoup(d['result_list_box_html'],'lxml')\n",
    "    \n",
    "    # this selects the main part of the html\n",
    "    tabel = soup.find('div', attrs={'class':'results component--default'})\n",
    "    \n",
    "    # Jobindex contain both own postings and postings from other\n",
    "    # the two are treated differently in the data\n",
    "    # Jobindex' imported postings\n",
    "    others = re.compile('r[\\d]+')\n",
    "    tabel1 = tabel.findAll('div', attrs={'data-beacon-tid':others})\n",
    "#    print(tabel1)\n",
    "\n",
    "    # Jobindex' own postings\n",
    "    own = re.compile('h[\\d]+')\n",
    "    tabel2 = tabel.findAll('div', attrs={'data-beacon-tid':own})\n",
    "    #print(tabel2)\n",
    "    \n",
    "    return tabel, tabel1, tabel2\n",
    "\n",
    "def job_descr_own(tabel2) : # den er ikke færdig: tag <ul> og saml elementer, der hører sammen\n",
    "    desc_own = []\n",
    "    lineshift = re.compile('\\n')\n",
    "    # tag ul skal med \n",
    "    for l in tabel2 :\n",
    "        g1 = l.findAll('p') \n",
    "        g2 = l.findAll('li')\n",
    "        qs = ''\n",
    "#        print(g)\n",
    "        for m in g1 :\n",
    "            qs = qs + m.text + \". \" \n",
    "        for m in g2 :\n",
    "            if 'class=' not in m.text :\n",
    "                qs = qs + m.text + \". \" \n",
    "        desc_own.append(lineshift.sub(\"\", qs))\n",
    "    return desc_own\n",
    "\n",
    "def job_descr_oth(tabel1) : # færdig og virker\n",
    "    desc_oth = []\n",
    "    p=re.compile('\"')\n",
    "    lineshift = re.compile('\\n')\n",
    "    besk = []\n",
    "    for t_ in tabel1 :\n",
    "        besk.append(lineshift.sub(\"\", t_.text))\n",
    "    for t in besk :\n",
    "        s = t.split(sep='    ')\n",
    "        if len(s) == 1 :\n",
    "            desc_oth.append(\"\")\n",
    "        else :\n",
    "            desc_oth.append(t.split(sep='    ')[1])\n",
    "    return desc_oth\n",
    "    \n",
    "def job_title_oth (tabel) : # færdig og virker\n",
    "    # udled jobs andre\n",
    "    jobs_oth = []\n",
    "    j = tabel.findAll('strong') \n",
    "    for l in j :\n",
    "        jobs_oth.append(l.text)\n",
    "    return jobs_oth\n",
    "\n",
    "\n",
    "def firm_place(tabel) : # ok\n",
    "    firm=[]\n",
    "    city=[]\n",
    "    for tag in tabel :\n",
    "        firm_city=tag.findAll('b')\n",
    "        if len(firm_city) == 0 :\n",
    "            firm.append(\"Ukendt\")\n",
    "            city.append(\"Uoplyst\")\n",
    "        elif len(firm_city) == 1 :\n",
    "            firm.append(firm_city[0].text)\n",
    "            city.append(\" \")\n",
    "        else :\n",
    "            firm.append(firm_city[0].text)\n",
    "            city.append(firm_city[1].text)\n",
    "    return firm, city\n",
    "\n",
    "\n",
    "def dates(tabel) : # ok\n",
    "    indented_d=[]\n",
    "    for tag in tabel :\n",
    "        dato_site=tag.findAll('time')\n",
    "\n",
    "        monthval={'januar':'01','februar':'02', 'marts':'03', 'april':'04', 'maj':'05', 'juni':'06', 'juli':'07','august':'08','september':'09','oktober':'10','november':'11','december':'12'}\n",
    "\n",
    "        for i in dato_site:\n",
    "            t = i.text.split()\n",
    "            try :\n",
    "                datotal=(t[0][:-1]+ monthval.get(t[1])+ t[2])\n",
    "                indented_d.append(datetime.datetime(t[2], monthval.get(t[1]), t[0][:-1]))\n",
    "#                indented_d.append(time.mktime(datetime.strptime(str(datotal), '%d%m%Y').timetuple()))\n",
    "            except :\n",
    "                indented_d.append(time.time()) # vi bør videreføre sidst kendte værdi også på tværs af sider\n",
    "    return indented_d\n",
    "\n",
    "def firms_own_fct(tabel2):\n",
    "    firms_own = []\n",
    "    for tag in tabel2 :\n",
    "        firms_egne=tag('img')\n",
    "        regex = re.compile('alt=\"(.*?)\" (?!border: 0px; margin: 0)')\n",
    "        firms_own_=regex.findall(str(firms_egne))\n",
    "        if len(firms_own_) == 0 :\n",
    "            firms_own_ = 'Ukendt'\n",
    "        firms_own.append(firms_own_[0])\n",
    "    return firms_own\n",
    "\n",
    "\n",
    "def cities_own(tabel2) :\n",
    "    city_own = []\n",
    "    for tag in tabel2 :\n",
    "        cit = tag('p')\n",
    "        regex = re.compile('</a>, (.+?)\\s*?</p>')\n",
    "        cities = regex.findall(str(cit))\n",
    "        if len(cities) == 0 :\n",
    "            cities = ['Uoplyst']\n",
    "        city_own.append(cities[0])\n",
    "    return city_own\n",
    "\n"
   ]
  },
  {
   "cell_type": "markdown",
   "metadata": {},
   "source": [
    "### To test the parsing, we select a subsample"
   ]
  },
  {
   "cell_type": "code",
   "execution_count": 71,
   "metadata": {},
   "outputs": [
    {
     "name": "stdout",
     "output_type": "stream",
     "text": [
      "Start: 1535374183.3649042 . Slut: 1535374194.1478522 . Linier hentet: 15\n",
      "Kørseltid: 10.78 sekunder\n"
     ]
    }
   ],
   "source": [
    "# select small subsample\n",
    "import random, time\n",
    "\n",
    "ca_samplesize = 20\n",
    "base_path = r\"C:/Notebooks/jobindex.txt\"\n",
    "sample_path = r\"C:/Notebooks/jobindex_sample.txt\"\n",
    "f = open(base_path,'r')\n",
    "s = open(sample_path, 'w')\n",
    "linienr = 0\n",
    "t0 = time.time()\n",
    "for line in f :\n",
    "    ran = random.uniform(0, 1) \n",
    "    if ran < ca_samplesize/17000 :\n",
    "        linienr += 1\n",
    "        s.write(line)\n",
    "f.close()\n",
    "t1 = time.time()\n",
    "print(\"Start:\", t0, \". Slut:\", t1, \". Linier hentet:\", linienr)\n",
    "print(\"Kørseltid:\", round(t1-t0,2), \"sekunder\")\n",
    "\n",
    "\n"
   ]
  },
  {
   "cell_type": "markdown",
   "metadata": {},
   "source": [
    "### The function that governs the parsing and concatanate the results"
   ]
  },
  {
   "cell_type": "code",
   "execution_count": 134,
   "metadata": {
    "scrolled": false
   },
   "outputs": [
    {
     "name": "stdout",
     "output_type": "stream",
     "text": [
      "desc_own \n",
      " 20 \n",
      " ['If Skadeforsikring, København.  Kundecenter Erhverv er en del af salgskanalen Mindre Erhverv, der består af 38 dygtige og engagerede kolleger fordelt på bl.a. 27 eksterne erhvervsassurandører og 7 interne kundekonsulenter. Kundecenter Erhverv yder salg og service samt har lønsomhedsansvaret for vores mindre erhvervskunder. .  Dine arbejdsopgaver vil blive salg, servicering og rådgivning af eksisterende og nye erhvervskunder. Det sker gennem behandling af kundehenvendelser, som kommer ind via indkomne telefonhenvendelser, e-mail eller pr. post - eller som vi selv kontakter. Det er vigtigt, at du agerer som vore kunders personlige rådgiver. . GemGem job . FølgFølger. Del. Fejlmeld. Indrykket\\xa022.\\xa0december\\xa02009. Om virksomheden. ', 'Adecco A/S søger for Clean Chemical Sweden AB. Adecco Medical and Science søger for vores kunde CCS - Clean Chemical Sweden AB en selvkørende Key Account Manager til en nyoprettet stilling. . At arbejde for CCS som Key Account Manager forudsætter, at du brænder for at arbejde målrettet og vedholdende, da du alene vil blive ansvarlig for at drive og udvikle salgsarbejdet i Danmark til udvalgte målgrupper. .  Du vil få motiverende salgsmål, og vil komme til at stå for at udvikle/udbygge samarbejdsaftaler og fremtidige relationer mellem læger, sygeplejersker, apotekere, indkøbsafdelinger og CCS.. GemGem job . FølgFølger. Del. Fejlmeld. Indrykket\\xa022.\\xa0december\\xa02009. Om virksomheden5 af 5 stjerner40. ', 'Zealand Pharma A/S, Glostrup. Zealand Pharma A/S is seeking a Research Scientist with experience within the field of diabetes, obesity and/or metabolic disorders for our Department of Pharmacology. The Department currently consists of four academics, three laboratory technicians and four animal technicians. The primary responsibilities of the Department are the development of experimental models of human disease, and the testing of novel drug candidates in these models..  The successful candidate will. design and implement animal disease models. investigate potency and efficacy of novel drug candidates in such models. create, evaluate and challenge new project ideas. GemGem job . FølgFølger. Del. Fejlmeld. Indrykket\\xa022.\\xa0december\\xa02009. Om virksomheden. ', 'Adecco A/S søger for kunde. Til vores kunde i Odense søger vi en IT-supporter til et sygdomsvikariat..  Som IT-Supporter er det din opgave at aflaste help-desk samt løse ad hoc opgaver. De primære arbejdsopgaver er indenfor følgende områder: . Vi forventer, at du har praktisk erfaring med de ovenstående opgaver fra en tilsvarende stilling. Du har kendskab til: .  Installation og drift af lokale servere (Windows) .  Installation, drift og teknisk support af netværksenheder .  Installation, drift og teknisk support af sikkerhedsløsninger .  MS Server 2000/2003 .  MS Windows 2000/XP . GemGem job . Del. Fejlmeld. Indrykket\\xa022.\\xa0december\\xa02009. ', 'Auto College Aalborg, Nørresundby. Sommeren 2009 blev der åbnet for etablering af skolepraktik indenfor mekaniker uddannelsen. Stigningen i antallet af skolepraktikelever har bevirket, at Auto College Aalborg nu etablerer en separat afdeling for skolepraktikelever, hvorfor vi søger en instruktør til daglig ledelse og instruktion af vores skolepraktikelever. .  Arbejdsopgaverne vil bestå af: .  Praktisk instruktion af skolepraktikeleverne. . Planlægning og gennemførelse af aktiviteter for skolepraktikeleverne der matcher sammenhængen i hovedforløbsstrukturen. . Daglig drift af værkstedet.. GemGem job . FølgFølger. Del. Fejlmeld. Indrykket\\xa022.\\xa0december\\xa02009. Om virksomheden4 af 5 stjerner22. ', 'Skandinavisk Data Center A/S, Ballerup.  Vi søger en erfaren projektleder til at gennemføre udviklings- og vedligeholdelsesprojekter i forhold til vores Udlandssystemer samt Fonds-, emission og depot system. Vort arbejdsområde spænder fra lov/sektoropgaver i den finansielle sektor til kommercielle projektopgaver. .  Dine opgaver vil bl.a. bestå i, at . sætte rammer og grundlag for projektets gennemførelse. sikre fremdrift i projektet. følge op og statusrapportere på projektet. GemGem job . FølgFølger. Del. Fejlmeld. Indrykket\\xa022.\\xa0december\\xa02009. Om virksomheden3 af 5 stjerner9. ', 'DSB, København.  Stillingen som Business Controller er placeret i økonomiafdelingen. Du skal være med til at sikre at økonomistyringen, administrative processer, analyser- og specialistopgaver sker på et fagligt forsvarligt niveau for DSB S-togs salgsafdeling og DSB Mediepartner. .  Som Business controller er du en del af et team. Dine primære opgaver er at: . foretage controlling af DSB S-togs salgsafdeling og DSB Mediepartner. deltage i måneds- og kvartalsregnskab, herunder regnskabsafslutning og rapportering. deltage i budget- og forecast fasen for forretningsenhederne. GemGem job . FølgFølger. Del. Fejlmeld. Indrykket\\xa022.\\xa0december\\xa02009. Om virksomheden4 af 5 stjerner197. ', 'J.M. Huber Corporation, Lille Skensved.  We are looking for a Regulatory Affairs Specialist to support our EU Regulatory Affairs Team in working on EU food and chemical regulations applying to our products. The Regulatory Affairs Specialist will also be responsible for other regulatory activities and projects pertaining to J.M. Huber’s product lines and will be required to work with a variety of regulations pertaining to the EU market. .  Your main field of work will be: . Follow and monitor the EU regulations applying to J.M. Huber’s products and communicate regulatory requirements and potential impacts to the organisation. Prepare regulatory responses to internal and external customer inquiries on food, food additives, chemicals (REACH), feed, cosmetics, pharmaceuticals and/or non-food applications. GemGem job . FølgFølger. Del. Fejlmeld. Indrykket\\xa022.\\xa0december\\xa02009. Om virksomheden4 af 5 stjerner7. ', 'Horsens Kommune. 1 stilling som socialrådgiver/-formidler i Myndighedsafdelingen er ledig til besættelse pr. 1. februar 2010. Den ugentlige arbejdstid er på 37 timer.. Socialrådgiver/-formidlerens målgruppe er voksne fra 18 år og opefter med fysisk eller psykisk funktionsnedsættelse og voksne med særlige sociale problemer. Opgaverne i relation til disse omfatter rådgivning og vejledning samt helhedsorienteret sagsbehandling – herunder bl.a. visitering til:.  Ophold i midlertidige og længerevarende boformer .  Beskyttet beskæftigelse, aktivitets- og samværstilbud .  Borgerstyret personlig assistance . GemGem job . FølgFølger. Del. Fejlmeld. Indrykket\\xa022.\\xa0december\\xa02009. Om virksomheden4 af 5 stjerner58. ', 'Hillerød Hospital. Medico Strategi og Styring - en enhed i IT og Medicoteknisk afdeling på Hillerød Hospital (ITM) søger en dygtig og engageret ingeniør til et meget tværorganisatorisk og udadvendt job. Du vil bl.a. rådgive Hillerød Hospitals kliniske afdelinger omkring Medicoteknisk udstyr, og du vil få glæde af din erfaring og interesse med projektarbejde..  Dine arbejdsopgaver:. sparringspartner for det kliniske personale i forbindelse med indførelse af medicoteknisk udstyr. tilrettelæggelse af indkøbs- og servicestrategier mv.. kontakt og samarbejde med leverandører af medicoteknisk udstyr. GemGem job . Del. Fejlmeld. Indrykket\\xa022.\\xa0december\\xa02009. ', 'Alm. Brand. Lige nu søger vi en forsikringsrådgiver til vores filial i Kolding . Du skal både være en god sælger og en god rådgiver. Det er dig, der tager godt imod de kunder, som besøger os i filialen, eller som ringer til os. .  Vi har både en ambitiøs vækststrategi og vil være bedre til vores kunder, derfor har vi brug for flere medarbejdere. . GemGem job . FølgFølger. Del. Fejlmeld. Indrykket\\xa022.\\xa0december\\xa02009. Om virksomheden5 af 5 stjerner67. ', 'HR Solutions A/S.  HR Solutions A/S er i en spændende udvikling og søger derfor nye ambitiøse salgskonsulenter – en til Sjælland og en til Jylland/Fyn. Virksomheden har base i Hadsten og består i dag af 5 medarbejdere, som primært arbejder på det danske og norske marked. .  HR Solutions A/S leverer ydelser og løsninger til udvikling af mennesker og organisationer til både strategisk- , taktisk- og operativt niveau. Dette er bl.a. til ledelsen, linjeledelsen, interne HR funktioner, konsulent- og rekrutteringsbranchen. . GemGem job . FølgFølger. Del. Fejlmeld. Indrykket\\xa022.\\xa0december\\xa02009. Om virksomheden. ', 'eSec A/S, Lyngby. Vi søger en dygtig sælger til at sælge IT-sikkerhed til mellemstore virksomheder. Vi kan tilbyde dig et job med masser af udfordringer, hvor du sælger helt ny teknologi, og hvor du får rig mulighed for at specialisere dig hos en af frontløberne for salg af IT-sikkerhed..  Dine kunder er mellemstore virksomheder og der er primært tale om salg til nye kunder. Du har dog også i mindre grad eksisterende kunder. Salget foregår over telefonen, hvor du ofte er i dialog med IT-chefer og systemadministratorer. Det er din fornemmeste opgave at skabe en god dialog med kunderne og tilbyde dem en online demo af vores produkter eller en prøveperiode, hvor de har mulighed for at afprøve løsningen på eget netværk. Herefter er det din opgave at få solgt løsningen ind og lukke salget.. GemGem job . FølgFølger. Del. Fejlmeld. Indrykket\\xa022.\\xa0december\\xa02009. Om virksomheden. ', 'UniqueConsult recruiting on behalf of DSM Nutritional Products, Broendby and Europe. - Marketing professional and result oriented capacity for the Animal Nutrition and Health industry .  As Market Development Manager you are overall responsible for developing the product strategy and marketing activities for RONOZYME ProAct, a product of true radical innovation from the fast growing enzyme business area supporting DSM Nutritional Product’s growth strategy in EMEA. You focus on strengthening product and company brand awareness by proactively developing value marketing tools and selling strategies. . GemGem job . FølgFølger. Del. Fejlmeld. Indrykket\\xa022.\\xa0december\\xa02009. Om virksomheden. ', 'Silkeborg Bogtryk, Silkeborg. Til ordrekontoret søger vi en grafisk beregner, der sammen med de øvrige 3 medarbejdere i afdelingen er bindeled mellem salg og produktion, såvel intern som ekstern. Dine primære arbejdsopgaver bliver kalkulation i PrintVis, sparring med sælgerne for optimering af løsningerne, indhentning af tilbud hos eksterne underleverandører og prisforhandling med disse. Som beregner bliver du en nøgleperson, der ud over ordrekontoret også vil få et tæt samarbejde med salgsafdelingen..  Der tilbydes et spændende og udfordrende job i en udviklingsorienteret koncern. Løn efter kvalifikationer og indsats, samt en fleksibel pensions- og sundhedsordning.. GemGem job . FølgFølger. Del. Fejlmeld. Indrykket\\xa022.\\xa0december\\xa02009. Om virksomheden. ', 'Aastra Telecom Denmark A/S, Taastrup.  Would you like to take on a challenge as Managing Director of Aastra Telecom Denmark A/S and lead the business with a focus on sales growth? .  Aastra Telecom Denmark A/S is the Danish business unit of Aastra Technologies Limited, a leading company at the forefront of the enterprise communication market. Headquartered in Canada, Aastra develops and delivers innovative communications products and applications for businesses. .  Responsibilities of the position: . Overall responsibility for operation and development of Aastra’s business in Denmark. Optimize P&L, Balance Sheet and Cash Flow performance. Take responsibility for strategic direction of Aastra in Denmark as agreed with HQ. GemGem job . FølgFølger. Del. Fejlmeld. Indrykket\\xa022.\\xa0december\\xa02009. Om virksomheden. ', 'DONG Energy Power, Skærbæk ved Fredericia . Kan du inspirere en dygtig medarbejdergruppe, og har du lyst til at arbejde i en organisation, hvor vi omsætter værdierne målrettet, ansvarlig og lydhør til hverdagens opgaver? .  Vi arbejder målrettet med at drive en effektiv virksomhed, vi tager hensyn til mennesker, miljø og markeder i vores handlinger, og sidst – men ikke mindst – er vi lydhøre over for nye udviklingstendenser i vores omverden. .  Så har vi brug for dig som leder af vores afdeling for elektriske maskiner og fordelingsanlæg snarest muligt. Du har et tæt samarbejde med afdelingslederen for elektriske netanlæg og -systemer. Som medlem af et dynamisk lederteam med fem afdelingsledere og en teknologichef kan du blandt andet trække på faglig sparring med erfarne kolleger.. GemGem job . FølgFølger. Del. Fejlmeld. Indrykket\\xa022.\\xa0december\\xa02009. Om virksomheden4 af 5 stjerner191. ', '123hjemmeside, København. Hvis du brænder for velfungerende systemer og processer, og hvis du er en systematisk og engageret person har 123hjemmeside.dk en ledig stilling som IT driftschef. Vi tilbyder muligheden for at skabe resultater i et internationalt team med store ambitioner..  Som IT driftschef vil du komme til at definere, lede og implementere den tekniske platform på et af Nordens mest besøgte websites. Dit ansvar omfatter sikring af oppetid og tryghed for vores infrastruktur samt problemløsning og eksekvering af projekter på vores systemer. Den perfekte kandidat har detaljeret indsigt i internet og netværksteknologier.. GemGem job . FølgFølger. Del. Fejlmeld. Indrykket\\xa022.\\xa0december\\xa02009. Om virksomheden. ', 'JKS søger for Thisted Vand, Thisted.  Med direkte reference til Forsyningsdirektøren får den nye Økonomiansvarlige det overordnede ansvar for de økonomiske rapporteringer til direktøren samt bestyrelsen. .  Dine arbejdsopgaver . Perioderegnskaber, Årsregnskaber. Benchmarking, Økonomi. Ansættelseskontrakter. Lønaftaler. Løn, Funktionærer. GemGem job . FølgFølger. Del. Fejlmeld. Indrykket\\xa022.\\xa0december\\xa02009. Om virksomheden. ', 'UniqueConsult søger for HAMLET PROTEIN, Horsens. Som area sales manager er du ansvarlig for salg og styring af en udvalgt del af HAMLET PROTEINs globale forhandlernet. Du optimerer løbende kundeporteføljen og servicerer forhandlere og slutbrugere bedst muligt. Du omsætter salgsstrategier til konkrete tiltag og sikrer, at budgettet nås på et marked, der er underlagt et svingende prisniveau på råvarer. Af ansvarsområder kan bl.a. nævnes: . Udarbejdelse af aktivitets- og handlingsplaner for eksisterende og nye kunder . Formidling og salg af produkternes egenskaber på såvel teknisk som kommercielt niveau . Systematisk indsamling og bearbejdning af markeds-, konkurrent- og kundeinformationer. GemGem job . FølgFølger. Del. Fejlmeld. Indrykket\\xa022.\\xa0december\\xa02009. Om virksomheden4 af 5 stjerner9. ']\n",
      "desc_own \n",
      " 0 \n",
      " []\n",
      "desc_own \n",
      " 0 \n",
      " []\n",
      "desc_own \n",
      " 0 \n"
     ]
    },
    {
     "name": "stdout",
     "output_type": "stream",
     "text": [
      " []\n",
      "desc_own \n",
      " 0 \n",
      " []\n",
      "desc_own \n",
      " 0 \n",
      " []\n",
      "desc_own \n",
      " 0 \n",
      " []\n",
      "desc_own \n",
      " 0 \n",
      " []\n",
      "desc_own \n",
      " 0 \n",
      " []\n",
      "desc_own \n",
      " 0 \n",
      " []\n",
      "desc_own \n",
      " 0 \n",
      " []\n",
      "desc_own \n",
      " 0 \n",
      " []\n",
      "desc_own \n",
      " 0 \n",
      " []\n",
      "desc_own \n",
      " 20 \n",
      " ['Knowledge Cube A/S, København . Vi er en virksomhed i vækst og er derfor på jagt efter en initiativrig HR Manager med flair for rekruttering og medarbejderudvikling til en nyoprettet stilling med direkte reference til ledelsen. Du får derfor en central rolle i opbygningen af virksomhedens HR afdeling og stor indflydelse på den fremtidige succes for tiltrækning og fastholdelse af de bedste medarbejdere. . Du vil få en selvstændig stilling med ansvaret for at styre vores rekrutteringsproces med udgangspunkt i de konkrete behov i virksomheden. Du skal kunne tilrettelægge og gennemføre rekrutteringsprocessen lige fra udformningen af jobbeskrivelserne til kandidatinterview og kontraktindgåelse. . GemGem job . FølgFølger. Del. Fejlmeld. Indrykket\\xa030.\\xa0juli\\xa02008. Om virksomheden. ', 'Hempel A/S . Til Hempels Nordiske Salgsfunktion søges en Area Manager til industridivisionen med base i Jylland. Du vil rapportere til Hempels Protective Sales Manager, og være en del af salgsorganisationen, som har base i Kgs. Lyngby ved København. . Som Area Manager får du først og fremmest ansvaret for at fastholde og udvikle relationer til vore eksisterende industrikunder, specielt inden for Energi, Olie & Gas samt Infrastruktur segmentet. . Du vil være Hempels udfarende kraft i forhold til at varetage mersalg, forhandling af kontrakter, tilpasning og udvikling af services etc. overfor vore kunder i Jylland, hvor du vil vedligeholde og styrke Hempels stærke relationer i nært samarbejde med et kompetent og dynamisk team. . GemGem job . FølgFølger. Del. Fejlmeld. Indrykket\\xa030.\\xa0juli\\xa02008. Om virksomheden4 af 5 stjerner13. ', 'Højstrup Industrilim, Odense . Du vil med reference til direktøren få ansvaret for opfølgning på vores salgs- og konsulentaktiviteter, herunder udarbejdelse af priser, informationsmateriale m.m.. Endvidere vil du få ansvaret for en gruppe eksisterende kunder og enkelte udvalgte potentielle kunder, som du skal vejlede via kundebesøg 1-2 dage om ugen. . Du vil få daglig kontakt til vores leverandører og være med til at udvælge og introducere nye produkter. Dette gøres gennem kampagner, brochure udarbejdet i samarbejde med vores reklamebureau og gennem vores website www.hojstrup.dk. . GemGem job . FølgFølger. Del. Fejlmeld. Indrykket\\xa030.\\xa0juli\\xa02008. Om virksomheden. ', 'Vestas Wind Systems A/S . Canteen & Cleaning har ansvar for udvikling og drift af kantiner og rengøring i Vestas’ danske afdelinger. Vi er en tværorganisatorisk funktion, der sørger for sund kost og udsøgt service for alle vore enheder i Danmark.. Ansvarsområder. Produktion af ernæringsbevidste kolde og varme retter samt bagning. Gæstebespisning. Planlægning af menu og disponering af varer. Produktudvikling af ernæringsbevidst mad. GemGem job . FølgFølger. Del. Fejlmeld. Indrykket\\xa030.\\xa0juli\\xa02008. Om virksomheden5 af 5 stjerner278. ', 'Vestas Wind Systems A/S . Innovation Networks is a newly formed department, established to manage and develop Vestas research partnerships around the world.. Responsibilities and Tasks. European preferred and partnership management. Ad hoc assistance on partnerships fro Project Managers within Europe. Development of collaboration plans. Partners/technology scouting. GemGem job . FølgFølger. Del. Fejlmeld. Indrykket\\xa030.\\xa0juli\\xa02008. Om virksomheden5 af 5 stjerner278. ', 'Værdipapircentralen (VP), Taastrup . Favner du de store fremtidsvisioner og vil du være med til at realisere dem? Med en international produktlinje og godt ry med højt serviceniveau, søger vi profiler til at være med til at realisere fremtidsvisionerne. . Du får ansvaret for 6 engagerede medarbejdere, som har til opgave at rådgive og servicere vores danske og internationale kunder indenfor Corporate Actions, Custody, Aktie- og obligationsudstedelser m.m. . Har du spørgsmål til jobbet, er du velkommen til at kontakte chef for Clearing & Custody Service Carsten Lebtien Mohr tlf.: 4358 8730. . Klik ind på www.vp.dk/karriere og søg jobbet online - senest den 25. august 2008. Skriv gerne, hvor du har set annoncen.. Se mere om stillingen på www.vp.dk/karriere. GemGem job . FølgFølger. Del. Fejlmeld. Indrykket\\xa030.\\xa0juli\\xa02008. Om virksomheden4 af 5 stjerner6. ', 'Alm. Brand . Til vores kundeservicecenter i Odense søger vi en forsikringsrådgiver til forsikring. Din vigtigste opgave er, at både nuværende og nye kunder føler sig godt behandlet, når de ringer til os. . Vi forestiller os, at du både er en god sælger, som kan lukke en handel i telefonen - men også kan rådgive de kunder der kontakter os for at få hjælp. Du skal have lyst til et job med meget kundekontakt og være god til både at lytte og tale med mange forskellige mennesketyper. Vi forventer du har erfaring med rådgivning og salg af forsikringer. . GemGem job . FølgFølger. Del. Fejlmeld. Indrykket\\xa030.\\xa0juli\\xa02008. Om virksomheden5 af 5 stjerner67. ', 'PersonaleBureauet A/S søger for kunde . Som lønningsbogholder i regnskabsafdelingen har du flere spændende opgaver. Den primære er at udarbejde løn til Maxi Zoos mange engagerede medarbejdere: . Lønkørsler for 130 medarbejdere. Holde styr på personalearkiv, kontrakter og sørge for reguleringer. Lønrefusioner . Sørge for tilmelding af medarbejdere til pension - PFA. GemGem job . Del. Fejlmeld. Indrykket\\xa030.\\xa0juli\\xa02008. ', 'CSC, København. Dit primære arbejdsområde bliver medarbejder og lederuddannelse, hvor du støtter forretningen på tværs af forretningsområderne i den nordiske region. . I tæt samarbejde med dine kolleger bliver en af dine opgaver at implementere en struktureret proces til at klarlægge behov for såvel den enkelte medarbejder som for organisationen som helhed. . GemGem job . FølgFølger. Del. Fejlmeld. Indrykket\\xa030.\\xa0juli\\xa02008. Om virksomheden. ', 'DR Byen, København . Vil du have ansvaret for den fremadrettede udvikling samt drift og vedligehold for de samlede VVS-installationer i DR-Byen fra hovedforsyning til slutbruger - i Danmarks største medievirksomhed? . Så har vi jobbet til dig. . Dine primære ansvarsområder vil være følgende: .  Varmeanlæg, brugsvand og sanitet. Regnvandsanlæg og genbrugsvand. Afløb, dræn og kloakanlæg. Trykluft og gas. GemGem job . FølgFølger. Del. Fejlmeld. Indrykket\\xa030.\\xa0juli\\xa02008. Om virksomheden4 af 5 stjerner47. ', 'Værdipapircentralen (VP), Taastrup. Med en international produktlinje og godt ry med højt serviceniveau, søger vi profiler til at være med til at realisere fremtidsvisionerne. Clearing og Custody Service servicerer VP’s kunder på værdipapirområdet. Du vil komme til at arbejde i et af flere teams, der løser en række opgaver for vores danske og udenlandske kunder. Fx kontakt og rådgivning i forbindelse med Corporate Actions, servicering af VP’s filial i Luxembourg, kundesupport til custody kunder, håndtering af oprettelse, udstedelse & indfrielse af udenlandske værdipapirer i VP-systemet samt overvågning og opfølgning på den daglige handelsafvikling. . Har du spørgsmål til jobbet, er du velkommen til at kontakte chef for Clearing & Custody Service Carsten Lebtien Mohr tlf.: 4358 8730. . Klik ind på www.vp.dk/karriere og søg jobbet online - senest den 25. august 2008. Skriv gerne, hvor du har set annoncen. . Se mere om stillingen på www.vp.dk/karriere. GemGem job . FølgFølger. Del. Fejlmeld. Indrykket\\xa030.\\xa0juli\\xa02008. Om virksomheden4 af 5 stjerner6. ', 'Dell A/S, København . Stadig flere danske offentlige og private virksomheder vælger Dell som deres primære samarbejdspartner. Derfor søger Dell en medarbejder, der kan lede afdelingen for opsøgende salg til offentlige og store private virksomheder. Som Acquisition Business Development Manager kommer du til a stå i spidsen for vores indsat på dette område og du vil være ansvarlig for at inspirere og motivere en dedikeret salgsstyrke ligesom du også selv vil være på landevejen og på kundebesøg. . Din opgave er at skabe og udvikle relationer til dine kunder, samt sælge Dells produkter. En del af arbejdet går også ud på at vejlede og rådgive kunderne, samt følge op på tilbud og henvendelser. . GemGem job . FølgFølger. Del. Fejlmeld. Indrykket\\xa030.\\xa0juli\\xa02008. Om virksomheden4 af 5 stjerner10. ', 'Man Diesel A/S, København. Vi søger en person med allround teknisk indsigt, som med lyst og energi vil indgå i et team i vores indkøbsafdeling, der håndterer global sourcing, kontrahering, beordring og administrativ overvågning og assistance til vores leverandører / producenter i Asien. Produkterne er primært til fremstilling af hovedsektioner og komponenter til vores nye motortyper (ME-motorer). . Der er behov for at udvide dette team med en person, der skal fungere som teknisk koordinator; internt mellem indkøb og Engineering / R&D; externt mellem indkøb og vores lokale indkøbsorganisation i Asien samt vores leverandører for at sikre en hurtig og professionel sagsbehandling.. GemGem job . FølgFølger. Del. Fejlmeld. Indrykket\\xa030.\\xa0juli\\xa02008. Om virksomheden4 af 5 stjerner61. ', 'A.P. Møller - Mærsk A/S, Lyngby . Can you move people and organisations by creating and implementing strategic training solutions? Do you want to apply and develop your competencies in an international environment? . Maersk Contractors is seeking a experienced and ambitious Training Consultant to join our team in a global, fast-paced business, offering unique personal growth opportunities. . GemGem job . FølgFølger. Del. Fejlmeld. Indrykket\\xa030.\\xa0juli\\xa02008. Om virksomheden4 af 5 stjerner90. ', 'A.P. Møller - Mærsk A/S, Lyngby . Supply Service and A.P. Moller-Maersk Group IT, we seek talented and experienced Consultants to implement general A.P. Moller-Maersk strategic HR tools and to create and conceptualise unique and business specific HR initiatives. . As a member of the Strategy/Organisational Development team, you will join an organisation that is driven by World Class aspirations that can lead you anywhere. . GemGem job . FølgFølger. Del. Fejlmeld. Indrykket\\xa030.\\xa0juli\\xa02008. Om virksomheden4 af 5 stjerner90. ', 'Damco, Copenhagen . As Global Head of Service Delivery, you will play a vital role in enhancing the standard of service delivered by Damco Ocean Customer Service across our global organization. Your base is Copenhagen, Denmark in a dynamic Customer Service department with an informal tone. . This position will provide you with an opportunity to work in a highly international environment managing cross-functional relationships across regions. . GemGem job . FølgFølger. Del. Fejlmeld. Indrykket\\xa030.\\xa0juli\\xa02008. Om virksomheden4 af 5 stjerner90. ', 'Værdipapircentralen (VP), Taastrup . Du bliver en del af et dedikeret team, der forestår udvikling af VP’s kerneforretning; clearing & afvikling, udstedelse og corporate actions. Du vil få det overordnede ansvar for udvikling og anvendelse af det internationale handelsformat SWIFT i VP, herunder også ansvar for den danske SWIFT brugergruppe samt deltagelse i internationale arbejdsgrupper. Jobbet er meget selvstændigt og kræver, at du har mod på at gå forrest indenfor dette område. . Har du spørgsmål til jobbet, er du velkommen til at kontakte chef for Clearing & Custody Service Carsten Lebtien Mohr tlf.: 4358 8730. . Klik ind på www.vp.dk/karriere og søg jobbet online - senest den 25. august 2008. Skriv gerne, hvor du har set annoncen.. Se mere om stillingen på www.vp.dk/karriere. GemGem job . FølgFølger. Del. Fejlmeld. Indrykket\\xa030.\\xa0juli\\xa02008. Om virksomheden4 af 5 stjerner6. ', 'A.P. Møller - Mærsk A/S, Lyngby . Are you committed to working with Human Resources? Are you ready to move on, but looking for the perfect opportunity to make use of untapped potential? . Maersk Contractors is seeking HR Partners to join our team in a global, fast-paced business, offering unique personal growth opportunities. . GemGem job . FølgFølger. Del. Fejlmeld. Indrykket\\xa030.\\xa0juli\\xa02008. Om virksomheden4 af 5 stjerner90. ', 'C2P ApS, Randers . Grundet vækst søger vi endnu en medarbejder til vores CTP afdeling. . Jobbet: . Tryktilpasning af filer til pladeudkørsel . Indgå i et lille team der selv tilrettelægger dagen . Køre plader ud på vores nye Heidelberg Topsetter PF 102 8-up anlæg. Arbejde i Signa udskydningsprogram, Heidelberg workflow . 37 timer om ugen . GemGem job . FølgFølger. Del. Fejlmeld. Indrykket\\xa030.\\xa0juli\\xa02008. Om virksomheden. ', 'Damco, Copenhagen . Do you want to manage our Global LCL product including the regional hubs? If so, join Damco and you will be working in Copenhagen, Denmark. Here, you will become part of a young and energetic team. Some international travel will be required. . As head of LCL Forwarding, you will gain in-depth knowledge of the ocean forwarding business and how to manage cross-functional relationships across the global organisation. The objectives of the position are to create global financial visibility in the LCL performance and to increase LCL profitability. . GemGem job . FølgFølger. Del. Fejlmeld. Indrykket\\xa030.\\xa0juli\\xa02008. Om virksomheden4 af 5 stjerner90. ']\n"
     ]
    },
    {
     "name": "stdout",
     "output_type": "stream",
     "text": [
      "desc_own \n",
      " 0 \n",
      " []\n",
      "Procestid er 1.02 sekunder\n"
     ]
    }
   ],
   "source": [
    "\n",
    "def process_data() :\n",
    "    t0 = time.time()\n",
    "    base_path = r\"C:\\Notebooks\\jobindex_sample.txt\" # file with scraped jobindex data\n",
    "\n",
    "    f = open(base_path, mode='r') # open the file for reading # jobindex2 skal læses med , encoding='utf8'\n",
    "    count = 0\n",
    "    # loop through the file one line at a time\n",
    "\n",
    "    output_oth = pd.DataFrame(columns=['date', 'job_title', 'job_describ', 'city', 'company'])\n",
    "    output_own = pd.DataFrame(columns=['date', 'job_describ', 'city', 'company'])\n",
    "    \n",
    "   \n",
    "    for html in f :\n",
    "        count += 1\n",
    "#        print(count, len(html))\n",
    "        if len(html) == 1 :\n",
    "            continue\n",
    "        # here the various processing functions will be called\n",
    "        tabel, tabel1, tabel2= prepros(html)\n",
    "#        print(len(tabel))\n",
    "\n",
    "        desc_own = job_descr_own(tabel2)\n",
    "        print(\"desc_own\", '\\n', len(desc_own), '\\n', desc_own)\n",
    "\n",
    "        desc_oth = job_descr_oth(tabel1)\n",
    "#        print('desc_oth', len(desc_oth), desc_oth)\n",
    "        \n",
    "        jobs_oth = job_title_oth(tabel)\n",
    "#        print('jobs_oth', len(jobs_oth), jobs_oth)\n",
    "        \n",
    "        city_oth, firm_oth = firm_place(tabel1)\n",
    "#        print(\"Andre firms:\", len(firm_oth))\n",
    "        \n",
    "        post_dates_oth = dates(tabel1)\n",
    "#        print(\"dates\", len(post_dates_oth))\n",
    "\n",
    "        post_dates_own = dates(tabel2)\n",
    "#        print(\"dates\", len(post_dates_own), post_dates_own)\n",
    "\n",
    "        firms_own = firms_own_fct(tabel2)\n",
    "#        print(\"Egne firms:\", len(firms_own), '\\n', firms_own)\n",
    "\n",
    "        city_own = cities_own(tabel2)\n",
    "#        print(\"Egne city:\", len(city_own), '\\n', city_own)\n",
    "#        print(\"\\n\")\n",
    "    \n",
    "    # der skal laves en zip-funktion, så de kan blive sat rigtig sammen\n",
    "#    return desc_own, desc_oth, jobs_oth, firm, city, post_dates\n",
    "        tmp = pd.DataFrame(list(zip(post_dates_oth, jobs_oth, desc_oth, city_oth, firm_oth)), \n",
    "                           columns=['date', 'job_title', 'job_describ', 'city', 'company'])\n",
    "        output_oth = pd.concat([output_oth, tmp], axis=0, join='inner', ignore_index=True)\n",
    " \n",
    "#        print(\"Dato:\", '\\n', post_dates_own, '\\n')\n",
    "#        print(\"Beskrivelse:\", '\\n', desc_own, '\\n')\n",
    "#        print(\"Byer:\", '\\n', city_own, '\\n')\n",
    "#        print(\"Firma:\", '\\n', firms_own, '\\n')\n",
    "    \n",
    "\n",
    "        tmp2 = pd.DataFrame(list(zip(post_dates_own, desc_own, city_own, firms_own)),\n",
    "                           columns=['date', 'job_describ', 'city', 'company'])\n",
    "        output_own = pd.concat([output_own, tmp2], axis=0, join='inner', ignore_index=True)\n",
    "    f.close()\n",
    "    t1 = time.time()\n",
    "    print(\"Procestid er\", round(t1-t0, 2), \"sekunder\")\n",
    "    #print(output_oth)\n",
    "    return output_oth, output_own\n",
    "\n",
    "output_oth, output_own = process_data()\n",
    "\n"
   ]
  },
  {
   "cell_type": "markdown",
   "metadata": {},
   "source": [
    "### Saves the outcome with pandas pickle"
   ]
  },
  {
   "cell_type": "code",
   "execution_count": 135,
   "metadata": {},
   "outputs": [
    {
     "name": "stdout",
     "output_type": "stream",
     "text": [
      "(260, 5)\n",
      "(40, 4)\n",
      "(300, 5)\n",
      "           city                   company          date  \\\n",
      "285    Taastrup  Værdipapircentralen (VP)  1.535382e+09   \n",
      "286     Uoplyst                Alm. Brand  1.535382e+09   \n",
      "287     Uoplyst     PersonaleBureauet A/S  1.535382e+09   \n",
      "288   København                       CSC  1.535382e+09   \n",
      "289   København                   DR Byen  1.535382e+09   \n",
      "290    Taastrup  Værdipapircentralen (VP)  1.535382e+09   \n",
      "291   København                  Dell A/S  1.535382e+09   \n",
      "292   København            Man Diesel A/S  1.535382e+09   \n",
      "293      Lyngby   A.P. Møller - Mærsk A/S  1.535382e+09   \n",
      "294      Lyngby   A.P. Møller - Mærsk A/S  1.535382e+09   \n",
      "295  Copenhagen                     Damco  1.535382e+09   \n",
      "296    Taastrup  Værdipapircentralen (VP)  1.535382e+09   \n",
      "297      Lyngby   A.P. Møller - Mærsk A/S  1.535382e+09   \n",
      "298     Randers                   C2P ApS  1.535382e+09   \n",
      "299  Copenhagen                     Damco  1.535382e+09   \n",
      "\n",
      "                                           job_describ job_title  \n",
      "285  Værdipapircentralen (VP), Taastrup . Favner du...       NaN  \n",
      "286  Alm. Brand . Til vores kundeservicecenter i Od...       NaN  \n",
      "287  PersonaleBureauet A/S søger for kunde . Som lø...       NaN  \n",
      "288  CSC, København. Dit primære arbejdsområde bliv...       NaN  \n",
      "289  DR Byen, København . Vil du have ansvaret for ...       NaN  \n",
      "290  Værdipapircentralen (VP), Taastrup. Med en int...       NaN  \n",
      "291  Dell A/S, København . Stadig flere danske offe...       NaN  \n",
      "292  Man Diesel A/S, København. Vi søger en person ...       NaN  \n",
      "293  A.P. Møller - Mærsk A/S, Lyngby . Can you move...       NaN  \n",
      "294  A.P. Møller - Mærsk A/S, Lyngby . Supply Servi...       NaN  \n",
      "295  Damco, Copenhagen . As Global Head of Service ...       NaN  \n",
      "296  Værdipapircentralen (VP), Taastrup . Du bliver...       NaN  \n",
      "297  A.P. Møller - Mærsk A/S, Lyngby . Are you comm...       NaN  \n",
      "298  C2P ApS, Randers . Grundet vækst søger vi endn...       NaN  \n",
      "299  Damco, Copenhagen . Do you want to manage our ...       NaN  \n"
     ]
    },
    {
     "name": "stderr",
     "output_type": "stream",
     "text": [
      "C:\\Users\\Peter Ottosen\\Anaconda3\\lib\\site-packages\\ipykernel_launcher.py:6: FutureWarning: Sorting because non-concatenation axis is not aligned. A future version\n",
      "of pandas will change to not sort by default.\n",
      "\n",
      "To accept the future behavior, pass 'sort=True'.\n",
      "\n",
      "To retain the current behavior and silence the warning, pass sort=False\n",
      "\n",
      "  \n"
     ]
    }
   ],
   "source": [
    "# gem data\n",
    "\n",
    "print(output_oth.shape)\n",
    "print(output_own.shape)\n",
    "\n",
    "df_both = pd.concat([output_oth, output_own], axis=0, join='outer', ignore_index=True)\n",
    "print(df_both.shape)\n",
    "df_both.to_pickle('both_sample.pkl')\n",
    "\n",
    "print(df_both.tail(15))"
   ]
  },
  {
   "cell_type": "markdown",
   "metadata": {},
   "source": [
    "### Procedure to read the pandas pickle"
   ]
  },
  {
   "cell_type": "code",
   "execution_count": 115,
   "metadata": {},
   "outputs": [
    {
     "name": "stdout",
     "output_type": "stream",
     "text": [
      "Antallet af records 300\n",
      "\n",
      "\n",
      "                        city      company          date  \\\n",
      "0  Kommunernes Landsforening  København S  1.535379e+09   \n",
      "\n",
      "                                job_describ  \\\n",
      "0  Er kvalitet og service nøgleord for dig?   \n",
      "\n",
      "                                           job_title  \n",
      "0  Sekretær til KL's kontor for Arbejdsmarked og ...   \n",
      "            city  company          date  \\\n",
      "298     Randers  C2P ApS  1.535379e+09   \n",
      "299  Copenhagen    Damco  1.535379e+09   \n",
      "\n",
      "                                           job_describ job_title  \n",
      "298  C2P ApS, Randers . Grundet vækst søger vi endn...       NaN  \n",
      "299  Damco, Copenhagen . Do you want to manage our ...       NaN  \n"
     ]
    }
   ],
   "source": [
    "# læs data \n",
    "ny = pd.read_pickle('both_sample.pkl')\n",
    "\n",
    "print(\"Antallet af records\", len(ny))\n",
    "print(\"\\n\")\n",
    "print(ny.head(1), \"\\n\", ny.tail(2))\n"
   ]
  }
 ],
 "metadata": {
  "kernelspec": {
   "display_name": "Python 3",
   "language": "python",
   "name": "python3"
  },
  "language_info": {
   "codemirror_mode": {
    "name": "ipython",
    "version": 3
   },
   "file_extension": ".py",
   "mimetype": "text/x-python",
   "name": "python",
   "nbconvert_exporter": "python",
   "pygments_lexer": "ipython3",
   "version": "3.6.5"
  }
 },
 "nbformat": 4,
 "nbformat_minor": 2
}
