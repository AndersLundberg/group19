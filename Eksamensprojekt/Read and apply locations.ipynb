{
 "cells": [
  {
   "cell_type": "code",
   "execution_count": 1,
   "metadata": {},
   "outputs": [],
   "source": [
    "import numpy as np, pandas as pd\n"
   ]
  },
  {
   "cell_type": "code",
   "execution_count": 81,
   "metadata": {},
   "outputs": [
    {
     "data": {
      "text/plain": [
       "'Nordsjælland'"
      ]
     },
     "execution_count": 81,
     "metadata": {},
     "output_type": "execute_result"
    }
   ],
   "source": [
    "# Stednavne\n",
    "stednavne = pd.read_csv('stednavne.csv', sep=';', encoding='ANSI')\n",
    "\n",
    "stednavne2 = stednavne[stednavne['Type'] == 'By']\n",
    "#stednavne2['KommuneKode'] = int(stednavne2['KommuneKode'])\n",
    "#print(stednavne2.head())\n",
    "\n",
    "# kommuner, landsdele\n",
    "kommuner = pd.read_excel('kommuner.xls')\n",
    "#print(kommuner.head())\n",
    "\n",
    "# Samlet stednavn, kommune, landsdel, region\n",
    "stednavn3 = pd.merge(stednavne2, kommuner, how='inner', left_on=('KommuneKode'), right_on=('k_kode'))\n",
    "stednavn4 = stednavn3[['Navn', 'kommune', 'k_kode', 'RegionNavn', 'RegionKode', 'landsdel', 'l_kode']]\n",
    "#print(stednavn4.head())\n",
    "\n",
    "\n",
    "dict_komm = pd.Series(list(stednavn3.kommune), index=list(stednavn3.Navn)).to_dict()\n",
    "dict_landsdel = pd.Series(list(stednavn3.landsdel), index=list(stednavn3.Navn)).to_dict()\n",
    "dict_region = pd.Series(list(stednavn3.RegionNavn), index=list(stednavn3.Navn)).to_dict()\n",
    "\n",
    "#type(dict_landsdel)\n",
    "sted='Slagslunde'\n",
    "dict_landsdel[sted]"
   ]
  },
  {
   "cell_type": "code",
   "execution_count": 103,
   "metadata": {},
   "outputs": [
    {
     "data": {
      "text/plain": [
       "'Vestjylland'"
      ]
     },
     "execution_count": 103,
     "metadata": {},
     "output_type": "execute_result"
    }
   ],
   "source": [
    "sted='Søndbjerg'\n",
    "dict_landsdel[sted]"
   ]
  },
  {
   "cell_type": "code",
   "execution_count": 108,
   "metadata": {},
   "outputs": [
    {
     "data": {
      "text/plain": [
       "'Københavns omegn'"
      ]
     },
     "execution_count": 108,
     "metadata": {},
     "output_type": "execute_result"
    }
   ],
   "source": [
    "dict_special = {'Kgs. Lyngby': 'Københavns omegn', \n",
    "                'Grønland': 'Grønland', \n",
    "                'Brøndby': 'Københavns omegn',\n",
    "                'Udlandet': 'Udlandet', \n",
    "                'Århus': 'Østjylland',\n",
    "                'Copenhagen': 'Byen København', \n",
    "                'Bagsværd': 'Københavns omegn', \n",
    "                'Risskov': 'Østjylland', \n",
    "                'Allerød': 'Nordsjælland', \n",
    "                'Storkøbenhavn': 'Byen København', \n",
    "                'Fyn': 'Fyn', \n",
    "                'Brønshøj': 'Byen København', \n",
    "                'Dyssegård, Gladsaxe': 'Københavns omegn', \n",
    "                'Bornholm': 'Bornholm', \n",
    "                'Åbyhøj': 'Østjylland', \n",
    "                'Brabrand': 'Østjylland', \n",
    "                'Tilst': 'Østjylland', \n",
    "                'Stenløse': 'Nordsjælland',\n",
    "                'Egå': 'Østjylland', \n",
    "                'Hasselager': 'Østjylland', \n",
    "                'Nykøbing Sj': 'Vest- og Sydsjælland', \n",
    "                'Ølstykke': 'Nordsjælland', \n",
    "                'Hellerup, København': 'Københavns omegn', \n",
    "                'Karlslunde': 'Østsjælland', \n",
    "                'Smørum': 'Københavns omegn', \n",
    "                'Vallensbæk': 'Københavns omegn', \n",
    "                'Tranbjerg J': 'Østjylland', \n",
    "                'Vedbæk': 'Nordsjælland', \n",
    "                'Espergærde': 'Nordsjælland', \n",
    "                'Blåvand': 'Sydjylland', \n",
    "                'Samsø': 'Østjylland', \n",
    "                'Allerød, Hillerød': 'Nordsjælland', \n",
    "                'Broby': 'Fyn', \n",
    "                'Løsning': 'Østjylland', \n",
    "                'Sisimiut': 'Grønland', \n",
    "                'Silkeborg, Viborg': 'Østjylland', \n",
    "                'Allinge': 'Bornholm', \n",
    "                'Gladsaxe, Herlev': 'Københavns omegn', \n",
    "                'Fanø': 'Sydjylland', \n",
    "                'Rømø': 'Sydjylland', \n",
    "                'Holmegaard': 'Vest- og Sydsjælland',\n",
    "                'Fårevejle': 'Vest- og Sydsjælland', \n",
    "                'Langå, Randers': 'Østjylland',\n",
    "                'Qaqortoq': 'Grønland',\n",
    "                'Rungsted Kyst': 'Nordsjælland', \n",
    "                'Klampenborg': 'Københavns omegn', \n",
    "                'Færøerne': 'Færøerne', \n",
    "                'Ilulissat': 'Grønland', \n",
    "                'Hvalsø': 'Vest- og Sydsjælland', \n",
    "                'Herfølge': 'Vest- og Sydsjælland', \n",
    "                'Henne': 'Sydjylland', \n",
    "                'Thyholm': 'Vestjylland', \n",
    "                'Herning, Holstebro': 'Vestjylland', \n",
    "                'Snekkersten': 'Nordsjælland',\n",
    "                'Dyssegård': 'Københavns omegn', \n",
    "                'Maniitsoq': 'Grønland', \n",
    "                'Sydals': 'Sydjylland',\n",
    "                'Kangerlussuaq': 'Grønland'}\n",
    "\n",
    "dict_landsdel.update(dict_special)\n"
   ]
  },
  {
   "cell_type": "code",
   "execution_count": 109,
   "metadata": {},
   "outputs": [
    {
     "name": "stdout",
     "output_type": "stream",
     "text": [
      "                       date job_title job_describ     city        company\n",
      "count                644600    644600      644600   644600         644600\n",
      "unique                 1096    411114      484783     3308          98503\n",
      "top     2008-02-07 00:00:00   Pædagog              Uoplyst  Århus Kommune\n",
      "freq                   2194      2721       35389    54342           5009\n",
      "first   2008-01-01 00:00:00       NaN         NaN      NaN            NaN\n",
      "last    2010-12-31 00:00:00       NaN         NaN      NaN            NaN\n"
     ]
    }
   ],
   "source": [
    "ny1 = pd.read_pickle('both1.pkl')\n",
    "ny2 = pd.read_pickle('both2.pkl')\n",
    "ny4 = pd.read_pickle('both4.pkl')\n",
    "\n",
    "df_both = pd.concat([ny1, ny2, ny4], axis=0, join='inner', ignore_index=True)\n",
    "print(df_both.describe())\n",
    "df_both_sample = df_both.sample(1000, random_state=1)\n",
    "\n",
    "#print(df_both_sample.head())"
   ]
  },
  {
   "cell_type": "code",
   "execution_count": 110,
   "metadata": {},
   "outputs": [
    {
     "data": {
      "text/plain": [
       "28798"
      ]
     },
     "execution_count": 110,
     "metadata": {},
     "output_type": "execute_result"
    }
   ],
   "source": [
    "def fetch_landsdel(key) :\n",
    "    try :\n",
    "        ld = dict_landsdel[key]\n",
    "    except :\n",
    "        k = find_hidden(key)\n",
    "        try :\n",
    "            ld = dict_landsdel[(k)]\n",
    "        except:\n",
    "            if key in [' ','Uoplyst'] :\n",
    "                ld = 'Uoplyst'\n",
    "            else :\n",
    "                ld = np.nan\n",
    "    return ld\n",
    "    \n",
    "def find_hidden(key) :\n",
    "    try :\n",
    "        first = key.split()[0].strip()\n",
    "    except :\n",
    "        first = key\n",
    "    return first\n",
    "    \n",
    "    \n",
    "df_both['landsdel'] = df_both['city'].apply(lambda x: fetch_landsdel(x))\n",
    "\n",
    "len(df_both[df_both.landsdel.isnull()])\n",
    "#233755\n",
    "#77999\n",
    "#28798\n"
   ]
  },
  {
   "cell_type": "code",
   "execution_count": 111,
   "metadata": {},
   "outputs": [
    {
     "name": "stdout",
     "output_type": "stream",
     "text": [
      "1822\n",
      "Counter({'Region Midtjylland': 4577, 'Region Sjælland': 3287, 'Danmark': 2762, 'Region Nordjylland': 2493, 'Sydjylland': 2287, 'Norge': 1841, 'Tyskland': 560, 'Luxembourg': 535, 'USA': 385, 'Schweiz': 194, 'Australien': 192, 'Østrig': 181, 'Qatar': 175, 'Finland': 152, 'Kina': 148, 'Canada': 116, 'Danmark, Grønland': 112, 'Holland': 110, 'Irland': 108, 'Albertslund, Glostrup': 98, 'Hundige': 93, 'Bagsvaerd': 93, 'Tisvildeleje': 90, 'Belgien': 88, 'Nuuk': 86, 'Aasiaat': 85, 'Vemmelev': 85, 'Upernavik': 83, 'Spanien': 80, 'Paamiut': 77, 'Bjert': 76, 'København, Søborg': 73, 'Storbritannien': 72, 'Agedrup': 70, 'Italien': 69, 'Singapore': 68, 'Gladsaxe, Kgs. Lyngby': 67, 'Indien': 66, 'Vietnam': 62, 'Uummannaq': 62, 'Fur': 60, 'Ålsgårde': 58, 'Tasiilaq': 56, 'Island': 55, 'Tjekkiet': 53, 'Japan': 52, 'Kenya': 50, 'Kalundborg, Slagelse': 50, 'Kastrup, København': 49, 'Hoersholm': 48, 'Hedensted, Vejle': 47, 'Frederikssund, Hillerød': 46, 'Asperup': 44, 'Ålborg': 44, 'Nanortalik': 43, 'Tanzania': 43, 'Angola': 43, 'Avedøre': 43, 'Malaysia': 42, 'Uganda': 41, 'Fredericia, Vejle': 40, 'Köpenhamn': 40, 'Bangladesh': 38, 'Allerød, Birkerød': 37, 'Københavns vestegn': 37, 'Jordan': 36, 'Hedensted, Horsens': 36, 'Holstebro, Skive': 35, 'Køge, Tureby': 35, 'Odder, Aarhus': 35, 'Hillerød, Slangerup': 34, 'Tureby': 33, 'Narsaq': 33, 'Vejers Strand': 32, 'Soeborg': 32, 'Vedbaek': 32, 'Stilling': 32, 'Afghanistan': 31, 'Oman': 31, 'Aabybro, Aalborg': 31, 'Thailand': 30, 'Qaanaaq': 30, 'Gentofte, Klampenborg': 30, 'Stilling ved Skanderborg': 29, 'Mexico': 28, 'Herning, Karup J': 28, 'Nykøbing F.': 28, 'Teglholmen i København eller Skærbæk ved Fredericia': 28, 'Sjælland': 28, 'Nordfyn': 27, 'Ukraine': 27, 'Ruds Vedby, Sorø': 27, 'Nykøbing Falster': 27, 'Ballerup, Køge': 27, 'Tranbjerg': 26, 'Thule Air Base': 26, 'Fredensborg, Hørsholm': 25, 'Sjællands Odde': 25, 'Hørning, Aarhus': 24, 'Ballerup, Herlev': 24, 'Narsarsuaq': 24, 'Gentofte, Gladsaxe, Kgs. Lyngby': 24, 'Odense, Vissenbjerg': 23, 'København, Rødovre': 23, 'Sri Lanka': 23, 'Egtved, Kolding': 23, 'Skive, Viborg': 23, 'Nykøbing Mors': 23, 'Ittoqqortoormiit': 22, 'Dragør, Tårnby': 22, 'Ballerup, Smørum': 22, 'Oslo': 22, 'Soborg': 22, 'Stockholm': 22, 'Vassingerød': 22, 'Jyderup, Kalundborg': 21, 'Kgs. Lyngby, København': 21, 'Grenå': 21, 'Torrig L': 20, 'Nuussuaq': 20, 'Åbenrå': 20, 'Horsens, Kolding': 19, 'Skalborg': 19, 'Malmö': 19, 'Stakroge': 18, 'Malta': 18, 'Region Syddanmark': 18, 'Sporup': 18, 'Filippinerne': 18, 'Qasigiannguit': 18, 'Thule': 18, 'Horsens, Aarhus': 17, 'Buddinge': 17, 'Husum': 17, 'Portugal': 16, 'Holbæk, Stenlille': 16, 'Harpelunde': 16, 'Albertslund, København': 16, 'Frederikshavn, Hjørring': 16, 'Horsens, Odder': 16, 'Amager': 16, 'City 2': 16, 'Hinnerup, Aarhus': 15, 'Nicaragua': 15, 'Sudan': 15, 'Tyrkiet': 15, 'Fredensborg, Hillerød': 15, 'Ghana': 15, 'Panama': 15, 'Haderslev, Kolding': 15, 'Mozambique': 15, 'Skejby': 15, 'søger for kunde': 15, 'Peru': 14, 'Sydafrika': 14, 'Nykøbing M, Thisted': 14, 'Estland': 14, 'Bevtoft, Tønder': 14, 'Nepal': 14, 'Græsted, Helsingør': 14, 'Rwanda': 14, 'Hampen, Ikast-Brande': 13, 'Qeqertarsuaq': 13, 'Chile': 13, 'Hvidovre, København': 13, 'Ballerup, København': 13, 'Tørring, Vejle': 13, 'Kuwait': 13, 'hvis du har problemer med at åbne stillingsopslaget via hjemmesiden.': 13, 'Hillerod': 13, 'Bolivia': 12, 'Bulgarien': 12, 'Horsens, Skanderborg': 12, 'Ungarn': 12, 'København, Region Sjælland': 12, 'Horsens, Odense': 12, 'Ballerup, Hillerød': 12, 'Nr. Snede': 12, 'Sdr. Felding': 12, 'Hoejbjerg': 12, 'Nr. Vium': 12, 'Norge, Valby': 12, 'Haiti': 12, 'Esbjerg, Årre': 11, 'Somalia': 11, 'Zimbabwe': 11, 'Sejerø': 11, 'Kibæk, Ringkøbing-Skjern': 11, 'Ry, Silkeborg': 11, 'Nykøbing M, Skive': 11, 'Zambia': 11, 'Grækenland': 11, 'Israel': 11, 'Helsingør, Hillerød': 11, 'Hele landet': 11, 'Kvistgaard': 11, 'Shanghai': 11, 'Hamburg': 11, 'Broendby': 11, 'Fakse': 11, 'Hilleroed': 11, 'Malmø': 11, 'Sierra Leone': 10, 'Slovenien': 10, 'Kangaatsiaq': 10, 'Grindsted, Varde': 10, 'Christiansfeld, Haderslev': 10, 'Hvidovre, Kastrup': 10, 'London': 10, 'Tórshavn': 10, 'Vangede': 10, 'Teglholmen in Copenhagen or Skærbæk near Fredericia': 10, 'Teglholmen i København': 10, 'Brasilien': 9, 'Indonesien': 9, 'Syrien': 9, 'Hobro, Viborg': 9, 'Køge, Ringsted': 9, 'Glostrup, København': 9, 'Kolding, Løsning': 9, 'Herlev, Horsens': 9, 'Rønde, Aarhus': 9, 'Vrå, Aalborg': 9, 'Bahrain': 9, 'Fuglebjerg, Slagelse': 9, 'Aabyhøj': 9, 'Videbaek': 9, 'Fields': 9, 'Mørkhøj': 9, 'Hele Danmark': 9, 'Switzerland': 9, 'Gentofte/Hørsholm': 9, 'Lynge-Uggeløse': 9, 'Congo-Brazzaville': 8, 'New Zealand': 8, 'Kroatien': 8, 'Slovakiet': 8, 'Brande, Herning': 8, 'Hørsholm, Vedbæk': 8, 'Mali': 8, 'Irak': 8, 'Tarm, Varde': 8, 'Horsens, Vejle': 8, 'Horsens, København': 8, 'Slagelse, Sorø': 8, 'Brøndby, Region Midtjylland': 8, 'Hornslet, Aarhus': 8, 'Kolding, Vejle': 8, 'Sdr. Omme': 8, 'Brondby': 8, 'Høje-Taastrup': 8, 'Nr. Aaby': 8, 'Ballerup, Gentofte': 8, 'Guatemala': 7, 'Kolding, Silkeborg': 7, 'Marokko': 7, 'Liberia': 7, 'Frederiksberg, København': 7, 'Esbjerg, Vejle': 7, 'Holstebro, Aarhus N': 7, 'Horsens, Tørring': 7, 'Ballerup, Værløse': 7, 'København, Taastrup': 7, 'Vejle, Aarhus N': 7, 'Faaborg-Midtfyn, Svendborg': 7, 'Horsens, Ry': 7, 'Stavanger': 7, 'Nr. Åby': 7, 'Nykøbing Sj.': 7, 'Tjekkiet, Valby': 7, 'Solroed': 7, 'Danmark, Norge': 7, 'Lille Skensved, Solrød': 6, 'Gladsaxe, Rødovre': 6, 'Bhutan': 6, 'Benin': 6, 'Ringsted, Store Merløse': 6, 'Rudersdal': 6, 'Togo': 6, 'Litauen': 6, 'Holstebro, Horsens': 6, 'Brønderslev, Hjørring': 6, 'Cambodja': 6, 'Fejø': 6, 'Cypern': 6, 'Espergærde, København': 6, 'Yemen': 6, 'Fyn, København': 6, 'Horsens, Vejen': 6, 'Letland': 6, 'Fredericia, Kolding': 6, 'Hornsyld, Horsens': 6, 'Horsens, Middelfart': 6, 'Herlev, København': 6, 'Billund, Stakroge': 6, 'Fredericia, Horsens': 6, 'Københavnsområdet': 6, 'Vallensbaek': 6, 'Hovedstaden': 6, 'Brussels': 6, 'Nordjylland': 6, 'Tunesien': 6, 'Skandinavien': 6, 'Teglholmen in Copenhagen': 6, 'Krusaa': 6, 'Dublin': 6, 'Zürich': 6, 'Engesvang, Silkeborg': 5, 'Albanien': 5, 'Argentina': 5, 'Karlslunde, Roskilde': 5, 'Brønderslev, Tylstrup': 5, 'Serbien': 5, 'Gentofte, København': 5, 'Skanderborg, Viborg': 5, 'Hvidovre, Rødovre': 5, 'Rumænien': 5, 'Hjallerup, Aalborg': 5, 'Roskilde, Veksø Sjælland': 5, 'Haderslev, Vejle': 5, 'Vejle, Aabenraa': 5, 'Kulusuk': 5, 'Kerteminde, Nyborg': 5, 'Kolding, Odense NV': 5, 'Iran': 5, 'Skanderborg, Åbyhøj': 5, 'Nyborg, Odense': 5, 'Horsens, Hørsholm': 5, 'Herning, Ikast': 5, 'Nørrebro': 5, 'Naerum': 5, 'Midtjylland': 5, 'Midt- og Nordjylland': 5, 'Amager Centret': 5, 'københavn': 5, 'Dyrehavsbakken': 5, 'Aalborg/København': 5, 'Nykøbing Sjælland': 5, 'søger for klient': 5, 'Humlebaek': 5, 'Brøndby, Hvidovre': 5, 'Frederiksberg, Horsens': 5, 'Lundby, Næstved': 5, 'Europa': 5, 'Ballerup, Kolding': 5, 'Nordsjælland': 5, 'Flensborg': 5, 'Arsuk': 5, 'Silkeborg, Åbyhøj': 4, 'Kolding, Odense, Silkeborg, Vejle, Aalborg, Aarhus': 4, 'Pakistan': 4, 'Ranum, Aalborg': 4, 'Esbjerg, København K': 4, 'Lolland, Nykøbing F': 4, 'Charlottenlund, København': 4, 'Sydkorea': 4, 'Haderslev, Sønderborg': 4, 'Horsens, Stenderup': 4, 'Maldiverne': 4, 'Pandrup, Aalborg': 4, 'København, Region Nordjylland': 4, 'Kgs. Lyngby, Viborg': 4, 'Malling, Odder': 4, 'Høng, Slagelse': 4, 'København, Ringsted': 4, 'Fredensborg, Helsingør': 4, 'Burkina Faso': 4, 'Herlev, København S': 4, 'Odense, Vejle': 4, 'Hammel, Silkeborg': 4, 'Dragør, København': 4, 'Frederikssund, Slagelse': 4, 'Dragør, Kastrup': 4, 'Herning, Hobro': 4, 'Fuglebjerg, Sorø': 4, 'Holbæk, Ringsted': 4, 'Kjellerup, Viborg': 4, 'Nyborg, Svendborg': 4, 'Vejen, Vejle': 4, 'Horsens, Ringkøbing-Skjern': 4, 'Fredensborg, Kvistgård': 4, 'Djursland': 4, 'Tingbjerg': 4, 'Dubai': 4, 'Christianshavn': 4, 'Bergen': 4, 'Isle of Wight, UK': 4, 'Norway': 4, 'Jylland': 4, 'Brøndby/Ringsted': 4, 'Hovedstadsområdet': 4, 'Nr. Broby': 4, 'Ryomgaard': 4, 'New York': 4, 'Nyrup, Nordsjælland': 4, 'Bjaeverskov': 4, 'Nr. Alslev': 4, 'Kolding/Egtved': 4, 'Ll. Skensved': 4, 'Nørre Åby': 4, 'Købehavn': 4, 'City2': 4, 'Rungsted': 4, 'Hyrdehøj': 4, 'Esbjerg, Horsens': 4, 'Herning, Horsens': 4, 'Hillerød, København N': 4, 'Brøndby, Glostrup, København': 4, 'Horsens, Aalborg': 4, 'Nigeria': 4, 'Etiopien': 4, 'Espergærde, Odense': 4, 'Ballerup, Hvidovre': 4, 'Stockholm or Copenhagen': 4, 'Østerbro': 4, 'Stilling v. Skanderborg': 4, 'Stilling v. Århus': 4, 'Misto Kyiv, Ukraine': 4, 'Any of the Nordic countries': 4, 'Teglholmen in Copenhagen or in Skærbæk near Fredericia': 4, 'Glostrup, Lyngby eller Århus': 4, 'Pituffik': 3, 'Costa Rica': 3, 'Birkerød, København': 3, 'Colombia': 3, 'Brønshøj, Haderslev': 3, 'Monaco': 3, 'Karlslunde, Solrød': 3, 'Honduras': 3, 'Glostrup, København K': 3, 'Thisted, Viborg': 3, 'Jyllinge, Aarhus': 3, 'København, Aars': 3, 'Hammel, Aarhus': 3, 'Mørke, Aarhus': 3, 'Skanderborg, Aarhus': 3, 'Herning, Ikast-Brande': 3, 'Brøndby, København': 3, 'Holbæk, Snertinge': 3, 'Hørsholm, Kokkedal': 3, 'Furesø': 3, 'Fredericia, Greve': 3, 'Dronninglund, Frederikshavn': 3, 'Libanon': 3, 'Ballerup, Brønshøj': 3, 'Haslev, Næstved': 3, 'Silkeborg, Sporup': 3, 'Vissenbjerg, Aarhus': 3, 'Ballerup, Frederikssund': 3, 'Assens, Horsens': 3, 'Kolding, Aabenraa': 3, 'København, Region Midtjylland': 3, 'Holbæk, Hvalsø': 3, 'Viborg, Aarhus': 3, 'Slagelse, Stenlille': 3, 'Holbæk, Slagelse': 3, 'København, Virum': 3, 'Helsingør, Søborg': 3, 'Hedensted, Trige': 3, 'Albertslund, Rødovre': 3, 'Næstved, Slagelse': 3, 'Ikast, Silkeborg': 3, 'Fyn, Aabenraa': 3, 'Ishøj, København': 3, 'Lystrup, Aalborg': 3, 'Aarhus, Stockholm or Leeds': 3, 'Munich': 3, 'Trondheim': 3, 'København, Århus og Kolding': 3, 'Gibraltar': 3, 'Toender': 3, 'Hasseris': 3, 'Harrislee': 3, 'Islands Brygge': 3, 'Sønderjylland': 3, 'Odense, Århus eller København': 3, 'København, Odense og Århus': 3, 'Hele Sjælland': 3, 'Fløng': 3, 'Malmø og København': 3, 'Daugaard': 3, 'China': 3, 'Lübeck, Germany': 3, 'Mors': 3, 'Jylland/Fyn': 3, 'Loegumkloster': 3, 'Holte, Virum, Nærum og Birkerød-området': 3, 'France': 3, 'Helsingborg': 3, 'Bispebjerg': 3, 'Låsby, Silkeborg': 3, 'Albertslund, Frederiksberg': 3, 'Anholt, Aarhus': 3, 'Helsingør, Humlebæk': 3, 'Langå, Aarhus': 3, 'Silkeborg, Vejle': 3, 'København, Varde': 3, 'Rødkærsbro, Silkeborg': 3, 'Kastrup, Aarhus': 3, 'Venezuela': 3, 'Flensburg': 3, 'århus': 3, 'Nørre-Snede': 3, 'Fredericia/København': 3, 'Låmsås': 3, 'Esbjerg/Glostrup': 3, 'Omsorgscenter Rosenlund': 3, 'Randers, Vejle': 3, 'El Salvador': 3, 'Frederiksberg, København N': 3, 'Herlev, Rødovre': 3, 'Frederikshavn, Aars': 3, 'Hammerum': 3, 'Erritsø ved Fredericia': 3, 'Fisketorvet': 3, 'EU and US': 3, 'EU': 3, 'Helsinki': 3, 'Brande.': 3, 'Tranbjerg eller København': 3, 'Vester Skjerninge': 3, 'Hoeje Taastrup': 3, 'København, Århus - lønniveau 140-200 kr.': 3, 'Hillerød, Birkerød, Hørsholm og Helsinge': 3, \"Field's\": 3, 'Vordingborg/Nykøbing F.': 3, 'Herlev/Ishøj': 3, 'Manila': 3, 'Copehagen': 3, 'Højby, Skanderborg': 2, 'Danmark, Sverige': 2, 'Madagaskar': 2, 'Ballerup, Gladsaxe': 2, 'Aulum, Viborg': 2, 'Haderslev, København Ø': 2, 'Esbjerg, København': 2, 'Liechtenstein': 2, 'Helsingør, Hørsholm': 2, 'Albertslund, Vallensbæk': 2, 'Esbjerg, Vejen': 2, 'Constable Pynt': 2, 'Holbæk, Sorø': 2, 'Kolding, Sommersted': 2, 'Danmark, Udlandet': 2, 'Hellerup, Slagelse': 2, 'Hesselager, Nyborg': 2, 'Skanderborg, Viby J': 2, 'Frederikshavn, Pandrup': 2, 'Hjørring, Aalborg': 2, 'Esbjerg, Fyn': 2, 'Fredericia, Holstebro': 2, 'Fredericia, Odense': 2, 'Odense, Svendborg': 2, 'Bornholm, København Ø': 2, 'Kalundborg, København Ø': 2, 'Allerød, Gentofte': 2, 'Niger': 2, 'Tonga': 2, 'Tønder, Vejle': 2, 'Glostrup, Hvidovre': 2, 'Holstebro, Silkeborg': 2, 'Galten, Aarhus': 2, 'Hjørring, Odder': 2, 'Herning, Videbæk': 2, 'Hvidovre, Roskilde': 2, 'Dianalund, Kalundborg': 2, 'Gentofte, København Ø': 2, 'Billund, Brande': 2, 'Helsingør, København S': 2, 'Næstved, Ringsted': 2, 'Frederiksberg, Udlandet': 2, 'Allerød, Fredensborg': 2, 'Ringsted, Stenlille': 2, 'Ikast-Brande, Tørring': 2, 'Herning, Silkeborg': 2, 'Nykøbing Sj, Sorø': 2, 'Brøndby, Horsens': 2, 'Holstebro, Sørvad': 2, 'Herning, Struer': 2, 'Guinea-Bissau': 2, 'København, Lystrup': 2, 'Aalborg, Aarhus': 2, 'Herning, Aarhus': 2, 'Ikast-Brande, Them': 2, 'Tønder, Viborg': 2, 'Hinnerup, Læsø': 2, 'Tørring, Aabenraa': 2, 'Horsens, Svendborg': 2, 'Region Nordjylland, Aarhus': 2, 'Odense, Ringe': 2, 'Hviderusland': 2, 'Hillerød, Horsens': 2, 'Odense, Aarup': 2, 'Havdrup, Roskilde': 2, 'Fyn, Ringsted': 2, 'Glostrup, Horsens': 2, 'Sønderborg, Aabenraa': 2, 'København, Aarhus': 2, 'Ballerup, Aarhus': 2, 'Brædstrup, Skanderborg': 2, 'Danmarkshavn': 2, 'Faaborg-Midtfyn, Langeskov': 2, 'Kværndrup, Svendborg': 2, 'Herning, Nykøbing M': 2, 'Søborg, Aalborg': 2, 'Hvidovre, Valby': 2, 'Holbæk, Lejre': 2, 'Espergærde, Aalborg': 2, 'Egå, Randers': 2, 'Region Midtjylland, Vejle': 2, 'København, Vejle': 2, 'Albertslund, Horsens': 2, 'Horsens, Varde': 2, 'Ikast-Brande, Nykøbing M': 2, 'Ilulissat-nut': 2, 'Jylland og Fyn': 2, 'Ørholm': 2, 'Nørrevold': 2, 'Brande, Horsens, Stilling og København': 2, 'Bristol, UK or Randers, DK': 2, 'Ringkøbing/Aarhus': 2, 'Brønshøj/Husum': 2, 'Sigerslevøster/Frederikssund': 2, 'Bratislava': 2, 'Nr. Sundby': 2, 'Erritsø': 2, 'Copenhagen, Oslo or Stockholm': 2, 'Humlebeak': 2, 'Albertsund': 2, 'København/Ballerup': 2, 'København/Malmø': 2, 'Aalborg/Århus': 2, 'Fortunbyen': 2, 'Poland': 2, 'Nr. Jernløse': 2, 'Geneve': 2, 'Alleroed': 2, 'Virum, Roskilde eller Århus': 2, 'Munich, The Hague and Berlin': 2, 'Haubro': 2, 'Brande, Horsens, Århus og København': 2, 'Fredriksberg': 2, 'Birkerod': 2, 'Abroad': 2, 'Syd- og Vestjylland': 2, 'Ribe-området': 2, 'Teglholmen i København eller i Skærbæk ved Fredericia': 2, 'Himmerland': 2, 'Skrydstrup': 2, 'Frederikberg': 2, 'Aalborg/Albertslund': 2, 'Denmark and southern Sweden': 2, 'Lem/Randers (UK)': 2, 'Lillebælt': 2, 'Århus, Stockholm eller Leeds': 2, 'Albertlund': 2, 'Rødkærbro': 2, 'Lyngby/Bagsværd/Søborg': 2, 'Trekantsområdet': 2, 'Jylland, Fyn &amp; Sjælland': 2, 'Amagerbrogade': 2, 'Roskilde/Herning': 2, 'Saudi Arabia': 2, 'Hørsholm, Holbæk': 2, 'Amager og Taastrup': 2, 'Birkerød, Farum og Lyngby': 2, 'hele landet': 2, 'Hørsholm, Vedbæk og Holte': 2, 'Lille Skenvsved': 2, 'Aalbæk': 2, 'Nidda': 2, 'Århus, Holstebro eller Lillebælt': 2, 'Michigan': 2, 'Søborg/Zürich': 2, 'Sweden': 2, 'Bjeringbro': 2, 'Jamaica': 2, 'Holsterbro': 2, 'København/Århus': 2, 'Roskilde, Ølstykke': 2, 'Holstebro, Lystrup': 2, 'Holstebro, Nykøbing M': 2, 'Holstebro, Aabenraa': 2, 'Ballerup, Kgs. Lyngby': 2, 'Herlev, København N': 2, 'Herning, Ringkøbing': 2, 'Ballerup, København Ø': 2, 'Horsens, Nyborg': 2, 'Frederikshavn, Lystrup': 2, 'Rudkøbing, Svendborg': 2, 'Helsingør, Horsens': 2, 'Kastrup, Aalborg': 2, 'Silkeborg, Skanderborg': 2, 'Bagsværd, Odense': 2, 'Grindsted, Sønderborg': 2, 'Kolding, Aarhus': 2, 'Ejstrupholm, Herning': 2, 'Ballerup, Aalborg Øst': 2, 'Varde, Vejen': 2, 'Silkeborg, Aarhus': 2, 'Herning, Lystrup': 2, 'Spanien, Valby': 2, 'Horsens, Aabenraa': 2, 'Sverige, Valby': 2, 'Sæby, Aalborg': 2, 'Randers, Silkeborg': 2, 'Frankrig, Tyskland, Valby, Østrig': 2, 'Middelfart, Vejle': 2, 'Bornholm, Ringsted': 2, 'Kgs.Lyngby': 2, 'Lynge-Uggerløse': 2, 'St. Heddinge': 2, 'Herning, evt. Kolding': 2, 'Hammel/Aarhus': 2, 'Oslo eller København': 2, 'Videbaek or Aarhus': 2, 'Dublin - Ireland': 2, 'Neumünster': 2, 'Hørsholm, Kokkedal og Vedbæk': 2, 'Fakse eller Odense': 2, 'Denmark': 2, 'Omsorgscentret Rosenlund': 2, 'Hjørring, Spjald': 2, 'Hvidovre, Kolding': 2, 'Gentofte, Nivå': 2, 'Region Sjælland, Silkeborg': 2, 'Belgien, Danmark, Holland, Norge': 2, 'Espergærde, Glostrup': 2, 'Hillerød, Lynge': 2, 'Støvring, Aalborg': 2, 'Ballerup, Solrød Strand': 2, 'København, Spjald': 2, 'Region Midtjylland, Aalborg': 2, 'Sønderborg, København, Århus': 2, 'Koszalin, Polen': 2, 'Herlev, Odense eller Århus': 2, 'Hørsholm/Gentofte': 2, 'Århus.': 2, 'Hong Kong': 2, 'Copenhagen, Bratislava or Casablanca': 2, 'Fasterholt/Brande': 2, 'Europe': 2, 'København, Århus eller Aalborg': 2, 'Aarhus, Copenhagen, the Isle of Wight in the United Kingdom, Singapore or Houston in the US': 2, 'Amsterdam': 2, 'Beder-Århus': 2, 'Noerresundby': 2, 'Nordsøen (via Esbjerg)': 2, 'Hamburg, Leatherhead - London, Copenhagen or Randers': 2, 'Skæring': 2, 'Århus-området': 2, 'Lem/ Randers': 2, 'Aalborg, Herning eller Århus': 2, 'Esbjerg, Vejle eller Odense': 2, 'Germany': 2, 'Copenhague': 2, 'Kopenhagen': 2, 'Helsinki or Copenhagen': 2, 'Kamstrup/Roskilde': 2, 'Olomouc in Czech Republic': 2, 'Fredericia, Kolding og Haderslev': 2, 'Kirke Saaby': 2, 'Køge, Herfølge og Bjæverskov': 2, 'Hedehusene, Stenløse og Skibby': 2, 'Viborg, Ringkøbing or Aarhus': 2, 'Chennai (IN)': 2, 'Beijing (CN) or Aarhus (DK)': 2, 'København, Århus eller Odense': 2, 'København, Aalborg og Århus': 2, 'Zürich or Copenhagen': 2, 'Beijing, China or Aarhus, Denmark': 2, 'Strasbourg': 2, 'Malling, Beder og Odder': 2, 'Alicante': 2, 'Copenhagen, Randers, Hamburg or Warrington': 2, 'Kastrup, Odense, Aalborg, Århus, Billund og Padborg': 2, 'Bolbro': 2, 'Holstebro, Viby J': 1, 'Skive, Viby J': 1, 'Eskilstrup, Roskilde': 1, 'Grenaa, Aarhus': 1, 'Vallensbæk, Vejen': 1, 'Brønderslev, Skanderborg': 1, 'Randers, Rønde': 1, 'Kalundborg, København': 1, 'Dragør, Gentofte': 1, 'Borup, Lolland': 1, 'Middelfart, Viborg': 1, 'Gambia': 1, 'København, Odense M': 1, 'Esbjerg, Region Midtjylland': 1, 'Storkøbenhavn, Trekantområdet, Aarhus': 1, 'Esbjerg, Holsted': 1, 'Sorø, Søborg': 1, 'Billund, Odense SØ': 1, 'Gesten, Kolding': 1, 'Ringsted, Aarhus': 1, 'Egå, Hedensted': 1, 'Frederiksberg, Vanløse': 1, 'Kgs. Lyngby, Aalborg': 1, 'Lejre, Tølløse': 1, 'Usbekistan': 1, 'Helsingør, Nivå': 1, 'Næstved, Roskilde': 1, 'Holstebro, Odense': 1, 'Helsingør, Virum': 1, 'Horsens, Randers C': 1, 'Faaborg-Midtfyn, Odense N': 1, 'Faxe, Lejre': 1, 'Faaborg-Midtfyn, Nibe': 1, 'Brøndby, Norge': 1, 'Grenada': 1, 'Kolding, København N': 1, 'Frederiksberg, Ikast-Brande': 1, 'Esbjerg, København Ø': 1, 'Montenegro': 1, 'Hjørring, Region Sjælland': 1, 'Mårslet, Silkeborg': 1, 'Billund, Aars': 1, 'Ansager, Billund': 1, 'Lemvig, Struer': 1, 'Greve, Haslev': 1, 'Lolland, Næstved': 1, 'Kastrup, Slagelse': 1, 'Lolland, Aalborg Øst': 1, 'Assens, Tyskland': 1, 'Bermuda': 1, 'Ruds Vedby, Tårnby': 1, 'Vejle, Åbyhøj': 1, 'Hinnerup, Tønder': 1, 'Finland, København Ø, Letland, Litauen': 1, 'Hillerød, Tisvildeleje': 1, 'Grenaa, Aalborg': 1, 'Faaborg-Midtfyn, Ørbæk': 1, 'Vejen, Viborg': 1, 'Odense, Aarhus N': 1, 'Brande, Vejle': 1, 'Roskilde, Aarhus': 1, 'Gentofte, Glostrup': 1, 'Gladsaxe, Kastrup': 1, 'Norge, Sverige': 1, 'Frederikshavn, Aalborg, Aarhus': 1, 'Blokhus, Hjørring': 1, 'Give, Ikast-Brande': 1, 'Norden': 1, 'Gilleleje, Glostrup': 1, 'Brøndby, Fredericia, Aarhus': 1, 'Hjørring, Pandrup': 1, 'Herning, Hjørring': 1, 'Danmark, USA': 1, 'Faaborg-Midtfyn, Rudkøbing': 1, 'Hvidovre, Slagelse': 1, 'Hundested, Norge': 1, 'Herning, Langeskov': 1, 'Kolding, Skanderborg': 1, 'Allerød, Silkeborg': 1, 'København, Slagelse': 1, 'Brørup, Kolding': 1, 'Glostrup, Kolding': 1, 'Horsens, Risskov': 1, 'Herlufmagle, Roskilde': 1, 'Billund, Give': 1, 'Albertslund, Odense SØ': 1, 'Kerteminde, Odense NØ': 1, 'Helsinge, København': 1, 'Herlev, Roskilde': 1, 'Millinge, Aarhus': 1, 'Guinea': 1, 'Virum, Aalborg, Aarhus': 1, 'Horsens, København K': 1, 'Botswana': 1, 'Assens, Millinge': 1, 'Horsens, Vejle Øst': 1, 'Senegal': 1, 'Borup, Ringsted': 1, 'Herning, Højer': 1, 'Storbritannien, Storkøbenhavn': 1, 'Esbjerg, Åbyhøj': 1, 'Dyssegård, København': 1, 'Næstved, Præstø': 1, 'Slagelse, Stenløse': 1, 'Kolding, Viborg': 1, 'Holmegaard, Slagelse': 1, 'Vejle, Viborg': 1, 'Malawi': 1, 'København, Ålsgårde': 1, 'Haderslev, Toftlund': 1, 'Sorø, Vordingborg': 1, 'Ryomgård, Aarhus': 1, 'Frederiksberg, København K': 1, 'Ringkøbing, Aarhus': 1, 'Esbjerg, Hinnerup': 1, 'Gladsaxe, Skovlunde': 1, 'Region Nordjylland, Smørum': 1, 'Hinnerup, Skanderborg': 1, 'Randers, Aalborg SV': 1, 'Horsens, Silkeborg': 1, 'Holstebro, Hvidovre': 1, 'Vojens, Aabenraa': 1, 'Rødding, Aabenraa': 1, 'Nykøbing F, Vordingborg': 1, 'Fredensborg, Horsens': 1, 'Odense, Region Midtjylland': 1, 'Næstved, Randers': 1, 'Fyn, Kolding, Region Midtjylland, Region Nordjylland, Region Sjælland, Storkøbenhavn': 1, 'Gentofte, Kgs. Lyngby': 1, 'Frederiksberg, Rødovre': 1, 'Ishøj, Taastrup': 1, 'Holbæk, Rødovre': 1, 'Løkken, Aarhus': 1, 'Helsingør, København': 1, 'København, Sønderborg': 1, 'Eritrea': 1, 'Hanstholm, Hjørring': 1, 'Allerød, Nærum': 1, 'Holstebro, Thyholm': 1, 'Brørup, Vallensbæk': 1, 'Middelfart, Odense': 1, 'Georgien': 1, 'Hjørring, Østervrå': 1, 'Albertslund, København Ø': 1, 'Brønderslev, Vrå': 1, 'Assens, Faaborg': 1, 'Glostrup, Kgs. Lyngby': 1, 'Birkerød, Odense': 1, 'Fyn, Aarhus': 1, 'Odense, Silkeborg': 1, 'Glostrup, København V': 1, 'Frederiksberg, Hellerup': 1, 'Esbjerg, Tistrup': 1, 'Ringsted, Slagelse': 1, 'Gentofte, Odense': 1, 'Herning, Skive': 1, 'Hillerød, København Ø': 1, 'Cuba': 1, 'Nørre Snede, Silkeborg': 1, 'Vejen, Vorbasse': 1, 'Gladsaxe, Solrød Strand': 1, 'Hedehusene, Roskilde': 1, 'Glostrup, Kolding, Odense': 1, 'Frederiksberg, Frederiksberg C': 1, 'Kokkedal, Roskilde': 1, 'Nørre Aaby, Varde': 1, 'Næstved, Vordingborg': 1, 'Ecuador': 1, 'Hobro, Randers': 1, 'Fjenneslev, Ringsted': 1, 'Frederikssund, Holbæk': 1, 'Horsens, Næstved': 1, 'Højslev, Viborg': 1, 'Horsens, Ikast-Brande': 1, 'Hjørring, København Ø': 1, 'Esbjerg, Rødding': 1, 'Billund, Vejle': 1, 'Lemvig, Nykøbing M': 1, 'Kolding, Vejen': 1, 'Bornholm, Pituffik': 1, 'Horsens, Køge': 1, 'Glostrup, Hillerød, København S, Køge, Roskilde': 1, 'Billund, Aarhus': 1, 'Region Hovedstaden, Region Sjælland': 1, 'Gentofte, Horsens': 1, 'Lunderskov, Vejen': 1, 'Skovlunde, Varde': 1, 'Herlev, Vejle': 1, 'Slagelse, Støvring': 1, 'Slagelse, Viby J': 1, 'Esbjerg, København S': 1, 'Nordborg, Aarhus': 1, 'Assens, Odense S': 1, 'Ballerup, Væggerløse': 1, 'Vesthimmerland': 1, 'Ballerup, Århus, Herning': 1, 'Warrington UK or Videbæk': 1, 'Istanbul': 1, 'Jyllinge/Taastrup': 1, 'Edinburgh': 1, 'Holbæk, Næstved eller Slagelse': 1, 'Denmark/Sjaelland': 1, 'Måløv/Værløse': 1, 'Vejle, Horsens eller Århusområdet': 1, 'Gjelleråsen': 1, 'Istanbul, Turkey': 1, 'Hellerup/Ballerup': 1, 'Tissø': 1, 'Herning, Silkeborg og Ikast': 1, 'København, Ballerup eller Holbæk': 1, 'eller ring på 56 29 26 15, og aftal evt. besøg.': 1, 'Bonn, Germany': 1, 'Værløse/Vassingerød': 1, 'Thisted/Mors': 1, 'Billiund': 1, 'Sdr. Felding or Ringkobing': 1, 'Midtsjælland el. Nordjylland': 1, 'Hamburg, Germany': 1, 'Borås, Sverige': 1, 'Billind': 1, 'Slet': 1, 'Amagerområdet': 1, 'Esbjerg, Grindsted, Varde og omegn': 1, 'Rio de Janeiro and Lyngby': 1, 'Isle of Wight': 1, 'Østjylland og Århusområdet': 1, 'Nykøbing F. eller Vordingborg': 1, 'Slagelse, Næstved og omegn': 1, 'Esbjerg, Varde og Ribe': 1, 'Ringkøbing, Randers or Aarhus': 1, 'CCopenhagen': 1, 'Lausanne': 1, 'Glostrup, Brøndby og Hvidovre': 1, 'Aalborg, Hadsund og Aars': 1, 'Ringkøbing/Lem or Copenhagen': 1, 'London (UK) or Copenhagen (DK)': 1, 'Stilling ved Århus': 1, 'Åbenrå/Rødekro': 1, 'Køgeområdet': 1, 'Svenstrup, Støvring og Arden': 1, 'Alnarp': 1, 'Teglholmen in Copenhagen or Skærbæk by Fredericia': 1, 'Esbjerg/Bramming': 1, 'Leeds, UK or Copenhagen, Denmark': 1, 'Nykøbing': 1, 'Amager og Lyngby': 1, 'eller ring på 56 29 26 29 og aftal evt. besøg på skolen.': 1, 'Sønderborg, Odense og Randers': 1, 'Hörsholm': 1, 'Vallensbæk/Glostrup': 1, 'Kolding, Århus eller Herning': 1, 'Bracknell, Copenhagen, or Stockholm': 1, 'Hundige og Fields': 1, 'Gentofte/Fredericia': 1, 'Düsseldorf': 1, 'The Hague': 1, 'Ålholm': 1, 'Aalborg, Aarhus, Odense, Vordingborg eller København': 1, 'København, Århus, Kolding': 1, 'Albertslund, Rødovre og Gladsaxe': 1, 'Syd- og Østjylland': 1, 'Ringkøbing/Århus': 1, 'Norrköping (Sverige)': 1, 'Magasin Kgs. Nytorv': 1, 'Holstebro, Struer og Odense': 1, 'Viborg, Langå, Aalborg, Fredericia, Roskilde og København': 1, '<a data-click=\"/c?t=h241550&amp;ctx=w&amp;u=15462167\" href=\"http://www.boghandleren.dk\" rel=\"noopener\" target=\"_blank\"><b>www.boghandleren.dk</b></a> samt <a data-click=\"/c?t=h241550&amp;ctx=w&amp;u=15462168\" href=\"http://www.indeks-retail.dk\" rel=\"noopener\" target=\"_blank\"><b>www.indeks-retail.dk</b></a>, og <a data-click=\"/c?t=h241550&amp;ctx=w&amp;u=15462169\" href=\"http://www.gad.dk\" rel=\"noopener\" target=\"_blank\"><b>www.gad.dk</b></a>.': 1, 'Fredericia, København eller Odense': 1, 'Kangerlussuaq/Søndre Strømfjord': 1, 'Aaborg': 1, 'world wide': 1, 'location negotiable': 1, 'Kæøbenhavn': 1, 'Madrid': 1, 'Holstebro, Ringkøbing og Lemvig': 1, 'Brabrand/Fredericia': 1, 'Ribe, Varde, Esbjerg og Kolding': 1, 'Lolland, Falster, Møn og omegn': 1, 'Stockholm eller Söderhamn': 1, 'Copenhagen, Helsinki or Warsawa/Riga/Vilnius': 1, 'Århusområdet': 1, 'København, Fredericia og Århus': 1, 'Kgs. Lyngby,': 1, 'Nord- og Vestjylland': 1, 'Aalborg, Nørresundby og Frederikshavn': 1, 'Nykøbing F., Korsør og Køge': 1, 'Østjylland og Aarhusområdet': 1, 'Midt- og Vestjylland': 1, 'Borlänge (Sweden)': 1, 'Århus, Odense eller Glostrup': 1, 'Skanderborg/Horsens': 1, 'Hadsten/Randers': 1, 'Nr. Nebel': 1, 'Piteå': 1, 'Måløv/Køge': 1, 'Køge, Næstved og Ringsted': 1, 'Vestsjælland': 1, 'Portland, Oregon, USA': 1, 'Odense, Århus eller Taulov': 1, 'Dalum': 1, 'Rhodos - Grækenland': 1, 'Standorte Wiesbaden, München, Deutschland': 1, 'Køge/Roskilde': 1, 'Billund, Denmark, or Enfield, CT, USA': 1, 'Billund, Denmark, or Denver, CO, USA': 1, 'Göteborg/Copenhagen': 1, 'Hllerød': 1, 'Horrsholm': 1, 'Latin America and Copenhagen': 1, 'Halsskov': 1, 'Tianjin - China': 1, 'Tianjin - Kina': 1, 'Sønderjylland, Fyn, Trekantsområde og Randers': 1, 'Cairo': 1, 'Søger for kunde': 1, 'Aalborg, Esbjerg eller Roskilde': 1, 'Madrid - Spain': 1, 'Herning/Værløse': 1, 'Ringsted/Sorø': 1, 'Glostup': 1, 'Hele Jylland': 1, 'Stockholm Area': 1, 'Rio de Janeiro and Copenhagen': 1, 'Ballerup/Taastrup': 1, 'Taastrup, Gentofte, Odense og Aarhus': 1, 'Mannheim': 1, 'Nordic': 1, 'Gentofte, København, Hørsholm eller Skærbæk': 1, 'Sjælland og Sydjylland/Fyn': 1, 'Risskov/Århus': 1, 'Helsingør, Herlev eller Næstved': 1, 'Aulum/ Vildbjerg': 1, 'Randers-DK or Singapore': 1, 'Beijing': 1, 'Helsingør, Herlev el. Næstved': 1, 'Hjemmekontor eller Ballerup': 1, 'Hobro, Christiansfeld, Slagelse, Esbjerg, Brabrand og Ishøj': 1, 'Aarhus, Ringkøbing or Dortmund, Germany': 1, 'Lebanon': 1, 'Lem/ Randers (DK)': 1, 'Lem/Randers (DK)': 1, 'Taastrup, Holbæk og Amager': 1, 'Fredericia, Kolding og Århus': 1, 'agen/Brande in Denmark or Berlin/Hamburg in Germany': 1, 'Kultur- og Fritidsforvaltningen': 1, 'Aarhus/Ringkøbing or Hamburg, Germany': 1, 'Kirky Såby': 1, 'Skensved': 1, 'København, Århus el. Odense': 1, 'Skaerbaek at Fredericia or Teglholmen in Copenhagen': 1, 'Aalborg, København eller eventuelt i Århus': 1, 'København/Aalborg': 1, 'Aarhus/Leatherhead': 1, 'nørresundby': 1, 'kolding': 1, 'Aarhus/Copenhagen': 1, 'New York City or Hoersholm': 1, 'Horsholm': 1, 'Bjeaverskov': 1, 'Aalborg, Århus, Kolding eller Hellerup': 1, 'Århus, Odense eller København': 1, 'Stockholm eller Köpenhamn': 1, 'Copenhagen, Riga, Vilnius or Warsaw': 1, 'Bredgade - Copenhagen': 1, 'Det Biovidenskabelige Fakultet': 1, 'Randers/Århus': 1, 'Nearum': 1, 'Täby': 1, 'Augsburg or Copenhagen': 1, 'Herning/Roskilde': 1, 'Barcelona': 1, 'Herning, Århus eller Kolding': 1, 'Hobro/Hjørring': 1, 'København, Skærbæk ved Fredericia el. London': 1, 'Virum, Roskilde, Århus, Odense og Vejle': 1, 'Fåvang': 1, 'Vendsyssel': 1, 'Nordic Region': 1, 'Sonderborg': 1, 'Fakse Ladeplads': 1, 'Roskilde, Virum og Århus': 1, 'Birkerød, Farum pg Lyngby': 1, 'Ringkobing or Aarhus': 1, 'Østerbro og Frederiksberg': 1, 'København, Roskilde og Hillerød': 1, 'Odense/Kolding': 1, 'Bislev, Hobro eller Hjørring': 1, 'Munkerup': 1, 'Sydgrønland': 1, 'Frederksberg': 1, 'Avedoere': 1, 'Brazil': 1, 'Nordborg/Sønderborg': 1, 'Copenhagen, Paris or London': 1, 'Hvidovre, Fredericia og Århus': 1, 'Megastore Tåstrup': 1, 'Nordøst Italien': 1, 'Africa/Ghana': 1, 'Wahlstedt': 1, 'Houston': 1, 'Glostrup, Kgs. Lyngby or Århus': 1, 'Sjælland og Lolland/Falster': 1, 'Stockholm, Leeds, Copenhagen and Aarhus': 1, 'Indonesia': 1, 'København, Næstved og Vordingborg': 1, 'Århus/Silkeborg': 1, 'Sjælland og Fyn/Sønderjylland': 1, 'Cannes': 1, 'Division Lauritz Knudsen, Ballerup': 1, 'lier - norge': 1, 'Luanda - Angola': 1, 'Århus/Skanderborg': 1, 'ELOGIC - Viby': 1, 'Neumünster, Germany or Nordborg, Denmark': 1, 'Flyvestation Karup': 1, 'Haderslev-Sønderborg området': 1, 'Qatar and Copenhagen': 1, 'Ringkobing': 1, 'Greve/Taastrup': 1, 'Noerre Sundby': 1, 'Birkeroed': 1, 'Rødovre, Glostrup, Skovlunde, Valby og Hvidovre': 1, 'Greve, Albertslund, Hvidovre og Friheden': 1, 'Aarslev': 1, 'Rødovre, Glostrup, Skovlunde, Valby og Hvidovre området': 1, 'bagsværd': 1, 'Ålborg/Hobro': 1, 'Hinstrup': 1, 'Audebo': 1, 'Ohio': 1, 'Kvisgaard': 1, 'Broenshoej': 1, 'KØBENHAVN': 1, 'Ballerup, Kolding eller Århus': 1, 'Horns Rev': 1, 'Sweden, Norway and Denmark': 1, 'India': 1, 'Snedsted, Struer': 1, 'Bolderslev, Skive': 1, 'Frederiksberg, Sorø': 1, 'Brædstrup, Silkeborg': 1, 'Herning, Kolding, Aarhus': 1, 'Bornholm, Horsens': 1, 'Allerød, Horsens': 1, 'Frederikssund, Lyngby-Taarbæk': 1, 'Næstved, Sorø': 1, 'Region Midtjylland, Region Nordjylland, Region Syddanmark': 1, 'Ishøj, Næstved': 1, 'Ballerup, Herning, Kolding, Aarhus': 1, 'Esbjerg, Odense': 1, 'Fyn, Region Midtjylland, Region Nordjylland, Region Sjælland, Storkøbenhavn, Sydjylland': 1, 'Svendborg, Ølstykke': 1, 'Kolding, Slagelse': 1, 'Sønderborg, Vejle': 1, 'Faaborg-Midtfyn': 1, 'København, Åbyhøj': 1, 'Kolding, Region Sjælland': 1, 'Ryomgård, Viborg': 1, 'Hjørring, Horsens': 1, 'Løkken, Aalborg': 1, 'Horsens, Skive': 1, 'Fredericia, Aabenraa': 1, 'Birkerød, Slagelse': 1, 'Malling, Skive': 1, 'Køge, Næstved': 1, 'Helsingør, Kgs. Lyngby': 1, 'Brande, Hørsholm': 1, 'Roskilde, Taastrup': 1, 'Kolding, Struer': 1, 'Albertslund, Stenløse': 1, 'Brøndby, Kolding': 1, 'Frederikssund, Horsens': 1, 'Grenaa, Lemvig': 1, 'Viborg, Åbyhøj': 1, 'Horsens, Nykøbing M': 1, 'Hillerød, Støvring': 1, 'Varde, Vejle': 1, 'Hjørring, Ålbæk': 1, 'Frederikshavn, København K': 1, 'Odense, Aalborg Øst': 1, 'Hvidovre, Vejle': 1, 'Frederikshavn, Søborg': 1, 'Esbjerg, Søborg': 1, 'Horsens, Vojens': 1, 'Marstal, Svendborg': 1, 'Grindsted, Haderslev': 1, 'Horsens, Løsning': 1, 'Esbjerg, Aabenraa': 1, 'Brønshøj, Gladsaxe': 1, 'Hillerød, Ringsted': 1, 'Frederiksberg, Stenløse': 1, 'Grindsted, Roskilde': 1, 'Fredericia, Haderslev': 1, 'Hvidovre, Svendborg': 1, 'Herning, Viborg': 1, 'København, Nyborg': 1, 'Skive, Tranbjerg J': 1, 'Hjørring, Støvring': 1, 'Holstebro, Struer': 1, 'Fyn, Holstebro': 1, 'Holbæk, Hørve': 1, 'Bolderslev, Nyborg': 1, 'Bagsværd, Aarhus': 1, 'Viborg, Aalestrup': 1, 'Frederiksberg, Vejle': 1, 'Brøndby, København, Aarhus': 1, 'Bagsværd, Greve': 1, 'Tønder, Aalborg Øst': 1, 'Kerteminde, Varde': 1, 'Ringsted, Rødovre': 1, 'Fredericia, Silkeborg': 1, 'Bagsværd, Gentofte': 1, 'Esbjerg, Kolding': 1, 'Espergærde, Aarhus': 1, 'Uldum, Viborg': 1, 'København, Tønder': 1, 'Gørding, Aabenraa': 1, 'Lejre, Slagelse': 1, 'Greve, Roskilde': 1, 'Hjørring, Aalborg Øst': 1, 'Kastrup, Silkeborg': 1, 'Billund, Esbjerg': 1, 'Ringsted, Sorø': 1, 'Ballerup, Brøndby, Glostrup, Aarhus': 1, 'Ejstrupholm, Silkeborg': 1, 'Frederiksberg, Herlev': 1, 'Hillerød, Spøttrup': 1, 'Roskilde, Spøttrup': 1, 'Lolland, Spøttrup': 1, 'Odense, Spøttrup': 1, 'Spøttrup, Aabenraa': 1, 'Randers, Spøttrup': 1, 'Farum, Gentofte': 1, 'Gentofte, København N': 1, 'Viborg, Viborg': 1, 'Region Midtjylland, Region Nordjylland': 1, 'Odense, Sønderborg': 1, 'Trekantområdet': 1, 'Ballerup, Brøndby, Aarhus': 1, 'København, Norge': 1, 'Karlslunde, Køge': 1, 'Brøndby, Skive': 1, 'Burundi': 1, 'Kjellerup, Skanderborg': 1, 'Horsens, Viborg': 1, 'Horsens, Region Sjælland': 1, 'Sandved, Slagelse': 1, 'Gråsten, Aabenraa': 1, 'Taastrup, Aabenraa': 1, 'Ballerup, Brøndby': 1, 'Frederikssund, Karlslunde': 1, 'Rask Mølle, Vejle': 1, 'Kolding, Varde': 1, 'København, Værløse': 1, 'Lystrup, Thisted': 1, 'Tyskland, Valby': 1, 'Odense, Aarhus': 1, 'Hvidovre, København K': 1, 'Dragør, Stenløse': 1, 'Albertslund, København K': 1, 'Odense, Viby J': 1, 'Blåvand, Esbjerg': 1, 'Padborg, Tønder': 1, 'Fyn, Schweiz': 1, 'Schweiz, Valby': 1, 'Assens, Langeskov': 1, 'Copenhagen/Esbjerg': 1, 'Marbella, Spanien': 1, 'Göteborg': 1, 'Silkebrog': 1, 'vejle': 1, 'Ringkøbing-Skjern': 1, 'Esbjerg/Odense/Ballerup': 1, 'Taastrup/Århus': 1, 'Vejle/Uldum': 1, 'Nyk. Sj.': 1, 'Alderslyst': 1, 'Århus, Silkeborg, Ikast, Ry og Skanderborg': 1, 'Herning, Kolding eller Århus': 1, 'Ballerup, Herning eller Kolding': 1, 'Sjælland og øerne': 1, 'Faarborg': 1, 'Kridthøj': 1, 'Nordsjælland og Storkøbenhavn': 1, 'Sisimut': 1, 'Sekretariatet København': 1, 'Skibby, Ølstykke, Stenløse og Hedehusene': 1, 'Vejen, Grindsted, Billund og Give': 1, 'Hørsholm-, Kokkedal og Vedbækområdet': 1, 'Hørsholm-, Kokkedal- og Vedbæk-området': 1, 'Rødove': 1, 'Århus/Aalborg': 1, 'Ruds-Vedby': 1, 'Rrande': 1, 'Taastrup, Århus, Kolding eller Ålborg': 1, 'Sydney, Melbourne or Perth': 1, 'Køge- og Greve-området': 1, 'Køge/Greve området': 1, 'Gug': 1, 'Hobro, Aars, Nibe og Skørping': 1, 'Åbybro': 1, 'Midt- og Sydsjælland': 1, 'K?avn': 1, 'Næstved, Køge og Taastrup': 1, 'Bagsværd, Glostrup og Frederiksberg': 1, 'Slough - UK': 1, 'Erlangen': 1, 'Sjælland og Sverige': 1, 'Jyderup, Svinninge, Nykøbing Sj. og omegn': 1, 'Institut for Folkesundhedsvidenskab': 1, 'valby': 1, 'Østerbro, Frederiksberg eller Lyngby': 1, 'Vestegnen': 1, 'Københavnsområdet og Nordsjælland': 1, 'v Silkeborg og v. Videbæk': 1, 'Stenløse/Hørsholm': 1, 'UK': 1, 'Flintehøj': 1, 'Rådhuset': 1, 'Avedøre &amp; Roskilde': 1, 'CHARLOTTENLUND': 1, 'Midt og - Nordjylland': 1, 'Advedøre': 1, 'Jægersborg': 1, 'Det Humanistiske Fakultet': 1, 'Århus, Vejle eller Greve': 1, 'Østerbro eller Skærbæk': 1, 'Rungsted kyst': 1, 'New Jersey': 1, 'Ballerup, Odense &amp; Slet': 1, 'Skanderborg/Århus': 1, 'landsdækkende': 1, 'Copnhagen': 1, 'Midt-og Nordjylland': 1, 'TranbVejle': 1, 'Roskilde/Slagelse': 1, 'Hørsholm/København': 1, 'Viborg, Kjellerup, Thorning og Ans': 1, 'Amagerværket': 1, 'svendborg': 1, 'Suzhou': 1, 'Brørup, Søndersø, Fiskbæk v/Videbæk': 1, 'Fredericia/København/Nordjyllandsværket': 1, 'Hørsholm/Bispebjerg': 1, 'Neumünster or Nordborg': 1, 'Nr.Sundby': 1, 'Østjylland': 1, 'Kolding/Nordborg/Sønderborg': 1, 'Nr. Alslev og Taastrup': 1, 'Kilding': 1, 'Købnehavn eller Aalborg': 1, 'Herrsching': 1, 'Århus/Taastrup': 1, 'København/Malmö': 1, 'Rødovre, Valby, Glostrup og Skovlunde': 1, 'Kr. Hyllinge': 1, 'Dragoer': 1, 'Frederikssund, Herlev': 1, 'Fredensborg, Ølstykke': 1, 'Gentofte, Søborg': 1, 'Dianalund, Slagelse': 1, 'Herning, Vejle': 1, 'Bornholm, København NV': 1, 'Beder, Odder': 1, 'Herlev, København K': 1, 'København, Smørum': 1, 'De Forenede Arabiske Emirater': 1, 'Fyn, Hillerød': 1, 'Odsherred': 1, 'Hillerød, Ølsted': 1, 'Hvidovre, Aarhus': 1, 'Bornholm, Ribe': 1, 'Kosovo': 1, 'Norddjurs, Syddjurs': 1, 'Herning, København Ø': 1, 'Frederikshavn, Støvring': 1, 'Kolding, Randers SØ': 1, 'Frederiksberg, Gladsaxe': 1, 'Glostrup, Hillerød': 1, 'Greve, København': 1, 'Papua Ny Guinea': 1, 'Herning, Risskov': 1, 'Holstebro, Viborg': 1, 'Haderslev, Odense': 1, 'Billund, Vipperød': 1, 'Espergærde, Silkeborg': 1, 'Søborg, Vejle': 1, 'Ballerup, Aalborg': 1, 'Glostrup, Taastrup': 1, 'Nordborg, Silkeborg, Vejle': 1, 'Kolding, Sønderborg, Vejle, Aarhus': 1, 'Kangilinnguit': 1, 'Albertslund, Hadsund': 1, 'Haderslev, Viborg': 1, 'Haderslev, Rødding': 1, 'Køge, Taastrup': 1, 'Holte, Lyngby-Taarbæk': 1, 'Gistrup, Aarhus': 1, 'Kolding, Silkeborg, Sønderborg, Vejle, Aarhus': 1, 'Helsingør, Roskilde': 1, 'Hjørring, Holstebro': 1, 'Hornbæk, København': 1, 'Egernsund, Aabenraa': 1, 'Odense, Årslev': 1, 'Danmark, Finland, Norge, Sverige': 1, 'Ballerup, Vejle, Aalborg, Aarhus': 1, 'Ballerup, Kolding, Aarhus': 1, 'Jyllinge, Lolland': 1, 'København, Viborg': 1, 'Hasselager, Skanderborg': 1, 'Hedensted, Hjørring': 1, 'Irland, Polen': 1, 'Region Sjælland, Aarhus': 1, 'Ringkøbing-Skjern, Viborg': 1, 'Espergærde, Viborg': 1, 'Ballerup, Odense S': 1, 'Hinnerup, Viborg': 1, 'Ringkøbing-Skjern, Varde': 1, 'Esbjerg, Espergærde': 1, 'Faaborg, Middelfart': 1, 'Espergærde, Kolding': 1, 'Ringkøbing-Skjern, Silkeborg': 1, 'Bjerringbro, Aarhus': 1, 'Ringkøbing-Skjern, Ulfborg': 1, 'Holstebro, Vejle': 1, 'København, Skanderborg': 1, 'København, Tune': 1, 'Farum, Næstved': 1, 'Esbjerg, Viborg': 1, 'Langeland, Langeskov': 1, 'Galten, Silkeborg': 1, 'Esbjerg, Svendborg': 1, 'Hadsund, Aalborg': 1, 'Hillerød, København': 1, 'Lejre, Roskilde': 1, 'Vejen, Aalborg': 1, 'Brunei': 1, 'Ejby, Kolding': 1, 'København, Næstved': 1, 'Hillerød, Hørsholm': 1, 'Næstved, Vejle': 1, 'Haderslev, Højbjerg': 1, 'Haderslev, Hejls': 1, 'Norge, Storkøbenhavn': 1, 'København, Vamdrup': 1, 'Frederikshavn, Hjallerup': 1, 'Middelfart, Odense SØ': 1, 'Frederiksberg, Hørsholm': 1, 'Glostrup, Aalborg': 1, 'Hobro, Aalborg': 1, 'Holstebro, Køge': 1, 'Esbjerg, Fredericia': 1, 'Helsinge, Hillerød': 1, 'Espergærde, Frederikssund': 1, 'København, Vodskov': 1, 'Odense, Sydjylland': 1, 'Espergærde, Vejle': 1, 'Danmark, Norge, Sverige': 1, 'Kerteminde, København SV': 1, 'Sønderborg, Aalborg SV': 1, 'Bornholm, Slagelse': 1, 'Herning, Odense, Vejle': 1, 'Hedensted, Kolding': 1, 'Allerød, Kastrup': 1, 'Grønland, Aarhus': 1, 'Litauen, Ølstykke': 1, 'Hjørring, Vejle Øst': 1, 'Region Sjælland, Storkøbenhavn': 1, 'Lolland': 1, 'Nørrebro/Lynge': 1, 'Lolland-Falster, Sydsjælland og Møn': 1, 'Brøndby, Århus og Odense samt trekantsområdet': 1, 'Stockholm, Copenhagen or Oslo': 1, '4750 Lundby': 1, 'til Rusland/Ukraine': 1, 'København, Odense og Aalborg': 1, 'Frederikbserg': 1, 'AArhus': 1, 'AAlborg': 1, 'Borgergade, Silkeborg': 1, 'Ørestaden': 1, 'Skovsgaard': 1, 'Brøndby/Århus': 1, 'Barritskov': 1, 'Poland (Grodzisk) or in Denmark (Kolding or Nordborg)': 1, 'Chamonix (FR)': 1, 'Rødby/Puttgarden': 1, 'varde': 1, 'Rønde, Djursland': 1, 'Copenhagen/ Kalundborg': 1, 'Faarup': 1, 'Copenhagen/Brussels': 1, 'Kgs. Lyngy': 1, 'Sarpsborg eller Tune': 1, 'Milano': 1, 'Vitten, Hinnerup': 1, 'Poland (Grodzisk) or Denmark (Kolding or Nordborg)': 1, 'Höganäs and Hilleroed': 1, 'Ontario': 1, 'Horsens, Århus eller Hornslet': 1, 'Nykøbing S.': 1, 'Denmark/Kolding, Germany/ Hamburg or also possibly in Austria/Vienna or Switzerland/Zürich': 1, 'København, Århus eller Kolding': 1, 'København, Charlottenlund og Hellerup': 1, 'Esbjerg-Kolding området': 1, 'Storkøbenhavn, Slagelse, Aalborg, Vejle og Randers': 1, 'Copnehagen': 1, 'Jönköping eller Hedehusene': 1, 'Hedehusene, Jönköping eller Oslo': 1, 'Ørestad/Aarhus': 1, 'Odenseområdet': 1, 'Esbjerg.': 1, 'Esbjeg': 1, 'København, Århus og Aalborg': 1, 'Naestved': 1, 'Ballerup, Germany or France': 1, 'København, Odense &amp; Århus': 1, 'København, Århus, Aalborg og Odense': 1, 'Århus, Ringkøbing, Hamborg.': 1, 'England': 1, 'Hvidovre, Kolding, Aalborg eller Århus': 1, 'Nordborg, Kolding or Århus': 1, 'recruiting on behalf of Sandoz Nordic in Copenhagen': 1, 'Østdanmark': 1, 'Zürich, Switzerland': 1, 'Hillerød, Bagsværd og Kalundborg': 1, 'Prague': 1, 'Hørsholm/Nærum': 1, 'Frederiksberg/Herlev': 1, 'Balleup': 1, 'EU &amp; Singapore': 1, 'Europe and US': 1, 'Søborg/Dyssegård': 1, 'Tarm/Skjern': 1, 'Kiev, Ukraine': 1, 'Aarslev, Odense': 1, 'Sydsjælland': 1, 'Midt- og nordjylland': 1, 'Kgs. Nytorv og Lyngby': 1, 'Randers/Ringkøbing': 1, 'Østjyske Motorvej Ejer Bavnehøj': 1, 'Allerod': 1, 'Copenhagen, Magdeburg or Kristiansand': 1, 'Ålborg og omegn': 1, 'Manchester': 1, 'Odense, Svendborg og Middelfart': 1, 'Solna': 1, 'Sandvika': 1, 'København, Fyn, Århus og Aalborg': 1, 'Tingbjerg-Utterslevhuse': 1, 'Malmo': 1, 'Malmo or Stockholm': 1, 'Bronshoj': 1, 'Esbjerg, Vejle og Odense': 1, 'Vester Nebel ved Esbjerg': 1, 'Oslo, Norge': 1, 'Vejle, Odense eller Esbjerg': 1, 'Silkeborg, Holstebro eller Aalborg': 1, 'Vejle/Kolding': 1, 'Holbaek': 1, 'Esbjerg/Aalborg': 1, 'Odense, Vejle og Esbjerg': 1, 'Herregården Løndal ved Silkeborg': 1, 'Lyngby, Allerød, Assens og Nyborg': 1, 'Viborg, Hadsten, Horsens &amp; Vejle': 1, 'Skovlunde, Denmark': 1, 'Odense, Vejle eller Esbjerg': 1, 'Københvan': 1, 'Them-Silkeborg': 1, 'Belgium': 1, 'Roskilde, Birkerød og Ishøj': 1, 'Århus, Randers eller Grenå': 1, 'Herning, Odense, Aalborg eller Aarhus': 1, 'Gentofte, senere Hørsholm': 1, 'Stockholm og Århus': 1, 'Zurich': 1, 'Skejby, Århus': 1, 'Brande, Horsens eller Stilling': 1, 'Leverkusen - Germany': 1, 'Harrislee, Tyskland': 1, 'Ringkøbing/Ulfborg': 1, 'Holstebro/Struer': 1, 'Danmark og Basel': 1, 'Rødekro, Brøndby eller Malmø': 1, 'København/Lyngby': 1, 'Vadovce, Slovakia': 1, 'Rågeleje': 1, 'Ballerup, Århus og Odense': 1, 'Kolding/Lunderskov': 1, 'Hobro, Frederikshavn, Skagen': 1, 'Thy': 1, 'Taastrup, Helsingør og Ballerup': 1, 'Valby/Amager': 1, 'Nykøbing F. og Vordingborg': 1, 'Lynbgy': 1, 'Hørsholm, Gelsted/Fyn eller Kolding': 1, 'Nærum/Fredericia': 1, 'så kontakter vi dig mhp. nærmere aftale.': 1, 'Waterfront Shopping - Hellerup': 1, 'Ringkøbing, Aarhus or Hamburg': 1, 'Vejlevej 361, 6000 Kolding': 1, 'Syd-Østsjælland': 1, 'Lolland-Falster': 1, 'Lolland/Falster og Ålborg': 1, 'Kristiansand, Copenhagen or Magdeburg': 1, 'Ærø': 1, 'Fredensborg/Humlebæk': 1, 'Nykøbing F./Vordingborg': 1, 'Birkerød, Luxembourg or United Kingdom': 1, 'Vejle/Kolding området': 1, 'Århus/Randers': 1, 'Nordeuropa': 1, 'Randers/Aarhus': 1, 'Kødbyen': 1, 'Sverige/København': 1, 'Bangalore, India': 1, 'Vores nordiske hovedkontor i Vallensbæk Strand': 1, 'Bangkok, Thailand': 1, 'Svenstrup, Brøndby eller Vejen': 1, 'Herning, Give, Silkeborg': 1, 'Sydsjælland-Møn': 1, 'Malmö or Farum': 1, 'Aalborg, Nørresundby, Brønderslev, Silkeborg, Sønderborg eller Roskilde': 1, 'Kolt tæt ved Århus': 1, 'Slagelse, Holbæk og Odsherred': 1, 'Bagsværd, Hillerød og Kalundborg': 1, 'Kolding, Vejle, Horsens': 1, 'Ålborg, Aars, Farsø': 1, 'Vedbeak': 1, 'Møn': 1, 'Greater Copenhagen': 1, 'Arlöv, Malmö': 1, 'Vester Hassing, Ballerup eller Erritsø ved Fredericia': 1, 'Nykøbing M.': 1, 'Copenhagen, Stockholm, Oslo or Helsinki': 1, 'Viborg, Herning og Holstebro': 1, 'Avedøre Holme': 1, 'Warrington, UK': 1, 'Isle of Wright, UK': 1, 'Sjælland eller Jylland': 1, 'samt <a data-click=\"/c?t=h268799&amp;ctx=w&amp;u=15434243\" href=\"http://www.fhdk.dk\" rel=\"noopener\" target=\"_blank\">www.fhdk.dk</a><a>) </a>': 1, 'Esbjerg, Grindsted, Kolding og Vejen': 1, 'Copenhagen/Paris': 1, 'Lommel, Belgium': 1, 'Rungsted Havn': 1, 'Ramlösa, Sverige': 1, 'Lind v. Herning': 1, 'Viborg/Søften': 1, 'Helsinki, Stockholm, Oslo or Copenhagen': 1, 'Portland, Oregon in the US or Randers in Denmark': 1, 'Stilling v.Skanderborg': 1, 'Ribe/Bramming og Esbjerg': 1, 'Ribe/Bramming': 1, 'Hovedstadsområdet, Nord -, Midt- og Sydsjælland samt Lolland &amp; Falster': 1, 'Højbjerg, Skåde': 1, 'Svendborg, Odense og Vejle': 1, 'Chennai, India': 1, 'SILICON VALLEY – USA': 1, 'Germany, UK or Denmark': 1, 'Dubai (UA)': 1, 'Åbenrå, Tønder og Varde': 1, 'Barcelona, Spain': 1, 'Grenoble, France': 1, 'Aalborg, Kolding/Odense og Tåstrup': 1, 'Bulk': 1, 'Malmö og København': 1, 'Aarhus, Denmark or Chennai, India': 1, 'Ireland': 1, 'Risø': 1, 'Knudshoved': 1, 'Bruxelles': 1, 'København, Frederiksberg og Hellerup': 1, 'Sorgenfri, Lyngby': 1, 'Rungsted havn': 1, 'Odder, Beder og Malling': 1, 'Ulfborg/Vemb': 1, 'Roskilde, Slagelse eller Vordingborg': 1, 'Odense, Aalborg, Herning og Vejle': 1, 'Gentofte/Hellerup': 1, 'er en privat, landsdækkende forening, attraktivt beliggende i Silkeborg, der i dag beskæftiger 16 medarbejdere. Foreningen tæller ca. 500 medlemsvirksomheder, der er inddelt i netværk, sammensat efter deres internationale kundesegmenter. Dette giver bl.a. gode muligheder for at gennemføre eksportrelaterede aktiviteter - herunder kollektive eksportfremstød.': 1, 'Aarhus, Isle of Wight, Singapore or Houston': 1, 'Copenhagen/Malmö': 1, 'Helsingør, Fredensborg og Holte': 1, 'Odense, København og Århus': 1, 'Madison, USA or Dangé-St-Romain, France or Brabrand, Denmark': 1, 'Jylland &amp; Fyn': 1, 'Vilafranca del Penedès, Spain': 1, 'Trekantsområdet, KBH eller Sydsjælland': 1, 'Ishøj, Karlslunde og Taastrup': 1, 'the Isle of Wight, UK or in Lem, Denmark': 1, 'Lyngby, Bagsværd eller Søborg': 1, 'Glostrup/Esbjerg': 1, 'Glostrup/Esbjerg/Tønder': 1, 'Ballerup, Herning eller Aabenrå': 1, 'Kolding, Århus, Aalborg og København': 1, 'hvis du har problemer med at åbne stillingsopslaget via hjemmesiden': 1, 'Kregme': 1, 'Fredericia/Herning/Ringsted eller Masnedø': 1, 'Østjylland eller København': 1, 'Nr. Bjert': 1, 'Odense, Århus og København': 1, 'København/Skærbæk/Kyndbyværket': 1, 'Silkeborg, Herning og omegn': 1, 'Århus, Randers, København og omegn, Aabenraa, Slagelse, Næstved og Odense og omegn': 1, 'Hamburg, Germany or Warrington, UK': 1, 'The Isle of Wight, UK': 1, 'Vejle, Vandel og Børkop': 1, 'Randers/Lem': 1, 'Videbæk, Randers or Aarhus': 1, 'Tåstrup/Hvidovre': 1, 'København, Odense, Aarhus': 1, 'Copenhagen, Aalborg or Fredericia': 1, 'Stockholm og København': 1, 'Kolt': 1, 'Viby, Århus': 1, 'Odense, Kolding eller Ballerup': 1, 'Thule Air Base, Grønland': 1, 'Tromsø': 1, 'Amersfoort (NL)': 1, 'Midt-/Nordjylland': 1, 'Glostrup, Hillerød, Århus og Esbjerg': 1, 'søger for Flex Pack A/S, Greve': 1, 'Copenhagen, Stockholm and Helsinki': 1, 'København, Strøget': 1, 'frederiksberg': 1, 'Passagerskib København-Oslo': 1, 'Billund, Esbjerg og Varde': 1, 'Helsingør, Ballerup og Lyngby': 1, 'Äänekoski, Finland': 1, 'understøttet af landsdækkende udstillinger, hvor kunderne kan se og prøve vores møbler. Al varedistribution foregår fra vores hovedlager i Herlev. Mandalay er på få år vokset til at blive Danmarks største online-butik for havemøbler.': 1, 'ganløse': 1, 'Stilling/Aarhus': 1, 'Vejle, Herlev og Nordsjælland': 1, 'eller ring +33 492 02 33 77.': 1, 'Gentofte, Hørsholm, København eller Skærbæk': 1, 'Midt – og Nordjylland': 1, 'Holstebro-området': 1, 'Risø, Roskilde or Skejby, Aarhus': 1, 'Glostrup, Lyngby eller Brabrand': 1, 'Sydsjælland/Nordfalster': 1, 'UK, Derby': 1, 'Sydsjælland &amp; Lolland-Falster': 1, 'Hele Landet': 1, 'Østerbro eller Taastrup': 1, 'Jyderup, Nykøbing Sj. og omegn': 1})\n"
     ]
    }
   ],
   "source": [
    "from collections import Counter\n",
    "\n",
    "ukendt_by = df_both[df_both['landsdel'].isnull()]['city']\n",
    "\n",
    "print(len(pd.unique(ukendt_by)))\n",
    "print(Counter(ukendt_by))\n",
    "\n",
    "\n"
   ]
  }
 ],
 "metadata": {
  "kernelspec": {
   "display_name": "Python 3",
   "language": "python",
   "name": "python3"
  },
  "language_info": {
   "codemirror_mode": {
    "name": "ipython",
    "version": 3
   },
   "file_extension": ".py",
   "mimetype": "text/x-python",
   "name": "python",
   "nbconvert_exporter": "python",
   "pygments_lexer": "ipython3",
   "version": "3.6.5"
  }
 },
 "nbformat": 4,
 "nbformat_minor": 2
}
