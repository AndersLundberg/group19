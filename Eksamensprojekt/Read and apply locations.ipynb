{
 "cells": [
  {
   "cell_type": "code",
   "execution_count": 1,
   "metadata": {},
   "outputs": [],
   "source": [
    "import numpy as np, pandas as pd\n",
    "import re"
   ]
  },
  {
   "cell_type": "code",
<<<<<<< HEAD
   "execution_count": 2,
   "metadata": {},
   "outputs": [],
=======
   "execution_count": 3,
   "metadata": {},
   "outputs": [
    {
     "ename": "UnicodeDecodeError",
     "evalue": "'utf-8' codec can't decode byte 0xe5 in position 6: invalid continuation byte",
     "output_type": "error",
     "traceback": [
      "\u001b[0;31m---------------------------------------------------------------------------\u001b[0m",
      "\u001b[0;31mUnicodeDecodeError\u001b[0m                        Traceback (most recent call last)",
      "\u001b[0;32mpandas/_libs/parsers.pyx\u001b[0m in \u001b[0;36mpandas._libs.parsers.TextReader._convert_tokens\u001b[0;34m()\u001b[0m\n",
      "\u001b[0;32mpandas/_libs/parsers.pyx\u001b[0m in \u001b[0;36mpandas._libs.parsers.TextReader._convert_with_dtype\u001b[0;34m()\u001b[0m\n",
      "\u001b[0;32mpandas/_libs/parsers.pyx\u001b[0m in \u001b[0;36mpandas._libs.parsers.TextReader._string_convert\u001b[0;34m()\u001b[0m\n",
      "\u001b[0;32mpandas/_libs/parsers.pyx\u001b[0m in \u001b[0;36mpandas._libs.parsers._string_box_utf8\u001b[0;34m()\u001b[0m\n",
      "\u001b[0;31mUnicodeDecodeError\u001b[0m: 'utf-8' codec can't decode byte 0xe5 in position 6: invalid continuation byte",
      "\nDuring handling of the above exception, another exception occurred:\n",
      "\u001b[0;31mUnicodeDecodeError\u001b[0m                        Traceback (most recent call last)",
      "\u001b[0;32m<ipython-input-3-b8e203ab7646>\u001b[0m in \u001b[0;36m<module>\u001b[0;34m()\u001b[0m\n\u001b[1;32m      1\u001b[0m \u001b[0;31m# Stednavne\u001b[0m\u001b[0;34m\u001b[0m\u001b[0;34m\u001b[0m\u001b[0m\n\u001b[0;32m----> 2\u001b[0;31m \u001b[0mstednavne\u001b[0m \u001b[0;34m=\u001b[0m \u001b[0mpd\u001b[0m\u001b[0;34m.\u001b[0m\u001b[0mread_csv\u001b[0m\u001b[0;34m(\u001b[0m\u001b[0;34m'stednavne.csv'\u001b[0m\u001b[0;34m,\u001b[0m \u001b[0msep\u001b[0m\u001b[0;34m=\u001b[0m\u001b[0;34m';'\u001b[0m\u001b[0;34m)\u001b[0m\u001b[0;34m\u001b[0m\u001b[0m\n\u001b[0m\u001b[1;32m      3\u001b[0m \u001b[0;34m\u001b[0m\u001b[0m\n\u001b[1;32m      4\u001b[0m \u001b[0mstednavne2\u001b[0m \u001b[0;34m=\u001b[0m \u001b[0mstednavne\u001b[0m\u001b[0;34m[\u001b[0m\u001b[0mstednavne\u001b[0m\u001b[0;34m[\u001b[0m\u001b[0;34m'Type'\u001b[0m\u001b[0;34m]\u001b[0m \u001b[0;34m==\u001b[0m \u001b[0;34m'By'\u001b[0m\u001b[0;34m]\u001b[0m\u001b[0;34m\u001b[0m\u001b[0m\n\u001b[1;32m      5\u001b[0m \u001b[0;31m#stednavne2['KommuneKode'] = int(stednavne2['KommuneKode'])\u001b[0m\u001b[0;34m\u001b[0m\u001b[0;34m\u001b[0m\u001b[0m\n",
      "\u001b[0;32m~/anaconda3/lib/python3.6/site-packages/pandas/io/parsers.py\u001b[0m in \u001b[0;36mparser_f\u001b[0;34m(filepath_or_buffer, sep, delimiter, header, names, index_col, usecols, squeeze, prefix, mangle_dupe_cols, dtype, engine, converters, true_values, false_values, skipinitialspace, skiprows, nrows, na_values, keep_default_na, na_filter, verbose, skip_blank_lines, parse_dates, infer_datetime_format, keep_date_col, date_parser, dayfirst, iterator, chunksize, compression, thousands, decimal, lineterminator, quotechar, quoting, escapechar, comment, encoding, dialect, tupleize_cols, error_bad_lines, warn_bad_lines, skipfooter, doublequote, delim_whitespace, low_memory, memory_map, float_precision)\u001b[0m\n\u001b[1;32m    676\u001b[0m                     skip_blank_lines=skip_blank_lines)\n\u001b[1;32m    677\u001b[0m \u001b[0;34m\u001b[0m\u001b[0m\n\u001b[0;32m--> 678\u001b[0;31m         \u001b[0;32mreturn\u001b[0m \u001b[0m_read\u001b[0m\u001b[0;34m(\u001b[0m\u001b[0mfilepath_or_buffer\u001b[0m\u001b[0;34m,\u001b[0m \u001b[0mkwds\u001b[0m\u001b[0;34m)\u001b[0m\u001b[0;34m\u001b[0m\u001b[0m\n\u001b[0m\u001b[1;32m    679\u001b[0m \u001b[0;34m\u001b[0m\u001b[0m\n\u001b[1;32m    680\u001b[0m     \u001b[0mparser_f\u001b[0m\u001b[0;34m.\u001b[0m\u001b[0m__name__\u001b[0m \u001b[0;34m=\u001b[0m \u001b[0mname\u001b[0m\u001b[0;34m\u001b[0m\u001b[0m\n",
      "\u001b[0;32m~/anaconda3/lib/python3.6/site-packages/pandas/io/parsers.py\u001b[0m in \u001b[0;36m_read\u001b[0;34m(filepath_or_buffer, kwds)\u001b[0m\n\u001b[1;32m    444\u001b[0m \u001b[0;34m\u001b[0m\u001b[0m\n\u001b[1;32m    445\u001b[0m     \u001b[0;32mtry\u001b[0m\u001b[0;34m:\u001b[0m\u001b[0;34m\u001b[0m\u001b[0m\n\u001b[0;32m--> 446\u001b[0;31m         \u001b[0mdata\u001b[0m \u001b[0;34m=\u001b[0m \u001b[0mparser\u001b[0m\u001b[0;34m.\u001b[0m\u001b[0mread\u001b[0m\u001b[0;34m(\u001b[0m\u001b[0mnrows\u001b[0m\u001b[0;34m)\u001b[0m\u001b[0;34m\u001b[0m\u001b[0m\n\u001b[0m\u001b[1;32m    447\u001b[0m     \u001b[0;32mfinally\u001b[0m\u001b[0;34m:\u001b[0m\u001b[0;34m\u001b[0m\u001b[0m\n\u001b[1;32m    448\u001b[0m         \u001b[0mparser\u001b[0m\u001b[0;34m.\u001b[0m\u001b[0mclose\u001b[0m\u001b[0;34m(\u001b[0m\u001b[0;34m)\u001b[0m\u001b[0;34m\u001b[0m\u001b[0m\n",
      "\u001b[0;32m~/anaconda3/lib/python3.6/site-packages/pandas/io/parsers.py\u001b[0m in \u001b[0;36mread\u001b[0;34m(self, nrows)\u001b[0m\n\u001b[1;32m   1034\u001b[0m                 \u001b[0;32mraise\u001b[0m \u001b[0mValueError\u001b[0m\u001b[0;34m(\u001b[0m\u001b[0;34m'skipfooter not supported for iteration'\u001b[0m\u001b[0;34m)\u001b[0m\u001b[0;34m\u001b[0m\u001b[0m\n\u001b[1;32m   1035\u001b[0m \u001b[0;34m\u001b[0m\u001b[0m\n\u001b[0;32m-> 1036\u001b[0;31m         \u001b[0mret\u001b[0m \u001b[0;34m=\u001b[0m \u001b[0mself\u001b[0m\u001b[0;34m.\u001b[0m\u001b[0m_engine\u001b[0m\u001b[0;34m.\u001b[0m\u001b[0mread\u001b[0m\u001b[0;34m(\u001b[0m\u001b[0mnrows\u001b[0m\u001b[0;34m)\u001b[0m\u001b[0;34m\u001b[0m\u001b[0m\n\u001b[0m\u001b[1;32m   1037\u001b[0m \u001b[0;34m\u001b[0m\u001b[0m\n\u001b[1;32m   1038\u001b[0m         \u001b[0;31m# May alter columns / col_dict\u001b[0m\u001b[0;34m\u001b[0m\u001b[0;34m\u001b[0m\u001b[0m\n",
      "\u001b[0;32m~/anaconda3/lib/python3.6/site-packages/pandas/io/parsers.py\u001b[0m in \u001b[0;36mread\u001b[0;34m(self, nrows)\u001b[0m\n\u001b[1;32m   1846\u001b[0m     \u001b[0;32mdef\u001b[0m \u001b[0mread\u001b[0m\u001b[0;34m(\u001b[0m\u001b[0mself\u001b[0m\u001b[0;34m,\u001b[0m \u001b[0mnrows\u001b[0m\u001b[0;34m=\u001b[0m\u001b[0;32mNone\u001b[0m\u001b[0;34m)\u001b[0m\u001b[0;34m:\u001b[0m\u001b[0;34m\u001b[0m\u001b[0m\n\u001b[1;32m   1847\u001b[0m         \u001b[0;32mtry\u001b[0m\u001b[0;34m:\u001b[0m\u001b[0;34m\u001b[0m\u001b[0m\n\u001b[0;32m-> 1848\u001b[0;31m             \u001b[0mdata\u001b[0m \u001b[0;34m=\u001b[0m \u001b[0mself\u001b[0m\u001b[0;34m.\u001b[0m\u001b[0m_reader\u001b[0m\u001b[0;34m.\u001b[0m\u001b[0mread\u001b[0m\u001b[0;34m(\u001b[0m\u001b[0mnrows\u001b[0m\u001b[0;34m)\u001b[0m\u001b[0;34m\u001b[0m\u001b[0m\n\u001b[0m\u001b[1;32m   1849\u001b[0m         \u001b[0;32mexcept\u001b[0m \u001b[0mStopIteration\u001b[0m\u001b[0;34m:\u001b[0m\u001b[0;34m\u001b[0m\u001b[0m\n\u001b[1;32m   1850\u001b[0m             \u001b[0;32mif\u001b[0m \u001b[0mself\u001b[0m\u001b[0;34m.\u001b[0m\u001b[0m_first_chunk\u001b[0m\u001b[0;34m:\u001b[0m\u001b[0;34m\u001b[0m\u001b[0m\n",
      "\u001b[0;32mpandas/_libs/parsers.pyx\u001b[0m in \u001b[0;36mpandas._libs.parsers.TextReader.read\u001b[0;34m()\u001b[0m\n",
      "\u001b[0;32mpandas/_libs/parsers.pyx\u001b[0m in \u001b[0;36mpandas._libs.parsers.TextReader._read_low_memory\u001b[0;34m()\u001b[0m\n",
      "\u001b[0;32mpandas/_libs/parsers.pyx\u001b[0m in \u001b[0;36mpandas._libs.parsers.TextReader._read_rows\u001b[0;34m()\u001b[0m\n",
      "\u001b[0;32mpandas/_libs/parsers.pyx\u001b[0m in \u001b[0;36mpandas._libs.parsers.TextReader._convert_column_data\u001b[0;34m()\u001b[0m\n",
      "\u001b[0;32mpandas/_libs/parsers.pyx\u001b[0m in \u001b[0;36mpandas._libs.parsers.TextReader._convert_tokens\u001b[0;34m()\u001b[0m\n",
      "\u001b[0;32mpandas/_libs/parsers.pyx\u001b[0m in \u001b[0;36mpandas._libs.parsers.TextReader._convert_with_dtype\u001b[0;34m()\u001b[0m\n",
      "\u001b[0;32mpandas/_libs/parsers.pyx\u001b[0m in \u001b[0;36mpandas._libs.parsers.TextReader._string_convert\u001b[0;34m()\u001b[0m\n",
      "\u001b[0;32mpandas/_libs/parsers.pyx\u001b[0m in \u001b[0;36mpandas._libs.parsers._string_box_utf8\u001b[0;34m()\u001b[0m\n",
      "\u001b[0;31mUnicodeDecodeError\u001b[0m: 'utf-8' codec can't decode byte 0xe5 in position 6: invalid continuation byte"
     ]
    }
   ],
>>>>>>> d7a2db169fd484f5ef3b0b6ae072f501b6f2bf7b
   "source": [
    "# Stednavne\n",
    "stednavne = pd.read_csv('stednavne.csv', sep=';', encoding='ANSI')\n",
    "\n",
    "stednavne2 = stednavne[stednavne['Type'] == 'By']\n",
    "#stednavne2['KommuneKode'] = int(stednavne2['KommuneKode'])\n",
    "#print(stednavne2.head())\n",
    "\n",
    "# kommuner, landsdele\n",
    "kommuner = pd.read_excel('kommuner.xls')\n",
    "#print(kommuner.head())\n",
    "\n",
    "# Samlet stednavn, kommune, landsdel, region\n",
    "stednavn3 = pd.merge(stednavne2, kommuner, how='inner', left_on=('KommuneKode'), right_on=('k_kode'))\n",
    "stednavn4 = stednavn3[['Navn', 'kommune', 'k_kode', 'RegionNavn', 'RegionKode', 'landsdel', 'l_kode']]\n",
    "#print(stednavn4.head())\n",
    "\n",
    "\n",
    "dict_komm = pd.Series(list(stednavn3.kommune), index=list(stednavn3.Navn)).to_dict()\n",
    "dict_landsdel = pd.Series(list(stednavn3.landsdel), index=list(stednavn3.Navn)).to_dict()\n",
    "dict_region = pd.Series(list(stednavn3.RegionNavn), index=list(stednavn3.Navn)).to_dict()\n"
   ]
  },
  {
   "cell_type": "code",
   "execution_count": 103,
   "metadata": {},
   "outputs": [
    {
     "data": {
      "text/plain": [
       "'Vestjylland'"
      ]
     },
     "execution_count": 103,
     "metadata": {},
     "output_type": "execute_result"
    }
   ],
   "source": [
    "sted='Søndbjerg'\n",
    "dict_landsdel[sted]"
   ]
  },
  {
   "cell_type": "code",
   "execution_count": 3,
   "metadata": {},
   "outputs": [],
   "source": [
    "dict_special = {'Kgs. Lyngby': 'Københavns omegn', \n",
    "                'Grønland': 'Grønland', \n",
    "                'Brøndby': 'Københavns omegn',\n",
    "                'Udlandet': 'Udlandet', \n",
    "                'Århus': 'Østjylland',\n",
    "                'Copenhagen': 'Byen København', \n",
    "                'Bagsværd': 'Københavns omegn', \n",
    "                'Risskov': 'Østjylland', \n",
    "                'Allerød': 'Nordsjælland', \n",
    "                'Storkøbenhavn': 'Byen København', \n",
    "                'Fyn': 'Fyn', \n",
    "                'Brønshøj': 'Byen København', \n",
    "                'Dyssegård, Gladsaxe': 'Københavns omegn', \n",
    "                'Bornholm': 'Bornholm', \n",
    "                'Åbyhøj': 'Østjylland', \n",
    "                'Brabrand': 'Østjylland', \n",
    "                'Tilst': 'Østjylland', \n",
    "                'Stenløse': 'Nordsjælland',\n",
    "                'Egå': 'Østjylland', \n",
    "                'Hasselager': 'Østjylland', \n",
    "                'Nykøbing Sj': 'Vest- og Sydsjælland', \n",
    "                'Nykøbing Sj.': 'Vest- og Sydsjælland', \n",
    "                'Nykøbing Sjælland': 'Vest- og Sydsjælland', \n",
    "                'Ølstykke': 'Nordsjælland', \n",
    "                'Hellerup, København': 'Københavns omegn', \n",
    "                'Karlslunde': 'Østsjælland', \n",
    "                'Smørum': 'Københavns omegn', \n",
    "                'Vallensbæk': 'Københavns omegn', \n",
    "                'Tranbjerg J': 'Østjylland', \n",
    "                'Vedbæk': 'Nordsjælland', \n",
    "                'Espergærde': 'Nordsjælland', \n",
    "                'Blåvand': 'Sydjylland', \n",
    "                'Samsø': 'Østjylland', \n",
    "                'Allerød, Hillerød': 'Nordsjælland', \n",
    "                'Broby': 'Fyn', \n",
    "                'Løsning': 'Østjylland', \n",
    "                'Sisimiut': 'Grønland', \n",
    "                'Silkeborg, Viborg': 'Østjylland', \n",
    "                'Allinge': 'Bornholm', \n",
    "                'Gladsaxe, Herlev': 'Københavns omegn', \n",
    "                'Fanø': 'Sydjylland', \n",
    "                'Rømø': 'Sydjylland', \n",
    "                'Holmegaard': 'Vest- og Sydsjælland',\n",
    "                'Fårevejle': 'Vest- og Sydsjælland', \n",
    "                'Langå, Randers': 'Østjylland',\n",
    "                'Qaqortoq': 'Grønland',\n",
    "                'Rungsted Kyst': 'Nordsjælland', \n",
    "                'Klampenborg': 'Københavns omegn', \n",
    "                'Færøerne': 'Færøerne', \n",
    "                'Ilulissat': 'Grønland', \n",
    "                'Hvalsø': 'Vest- og Sydsjælland', \n",
    "                'Herfølge': 'Vest- og Sydsjælland', \n",
    "                'Henne': 'Sydjylland', \n",
    "                'Thyholm': 'Vestjylland', \n",
    "                'Herning, Holstebro': 'Vestjylland', \n",
    "                'Snekkersten': 'Nordsjælland',\n",
    "                'Dyssegård': 'Københavns omegn', \n",
    "                'Maniitsoq': 'Grønland', \n",
    "                'Sydals': 'Sydjylland',\n",
    "                'Kangerlussuaq': 'Grønland'}\n",
    "\n",
    "dict_landsdel.update(dict_special)\n"
   ]
  },
  {
   "cell_type": "code",
   "execution_count": 4,
   "metadata": {},
   "outputs": [
    {
     "ename": "FileNotFoundError",
     "evalue": "[Errno 2] No such file or directory: 'both5.pkl'",
     "output_type": "error",
     "traceback": [
      "\u001b[1;31m---------------------------------------------------------------------------\u001b[0m",
      "\u001b[1;31mFileNotFoundError\u001b[0m                         Traceback (most recent call last)",
      "\u001b[1;32m~\\Anaconda3\\lib\\site-packages\\pandas\\io\\pickle.py\u001b[0m in \u001b[0;36mtry_read\u001b[1;34m(path, encoding)\u001b[0m\n\u001b[0;32m    165\u001b[0m                 \u001b[1;31m# We want to silencce any warnings about, e.g. moved modules.\u001b[0m\u001b[1;33m\u001b[0m\u001b[1;33m\u001b[0m\u001b[0m\n\u001b[1;32m--> 166\u001b[1;33m                 \u001b[1;32mreturn\u001b[0m \u001b[0mread_wrapper\u001b[0m\u001b[1;33m(\u001b[0m\u001b[1;32mlambda\u001b[0m \u001b[0mf\u001b[0m\u001b[1;33m:\u001b[0m \u001b[0mpkl\u001b[0m\u001b[1;33m.\u001b[0m\u001b[0mload\u001b[0m\u001b[1;33m(\u001b[0m\u001b[0mf\u001b[0m\u001b[1;33m)\u001b[0m\u001b[1;33m)\u001b[0m\u001b[1;33m\u001b[0m\u001b[0m\n\u001b[0m\u001b[0;32m    167\u001b[0m         \u001b[1;32mexcept\u001b[0m \u001b[0mException\u001b[0m\u001b[1;33m:\u001b[0m\u001b[1;33m\u001b[0m\u001b[0m\n",
      "\u001b[1;32m~\\Anaconda3\\lib\\site-packages\\pandas\\io\\pickle.py\u001b[0m in \u001b[0;36mread_wrapper\u001b[1;34m(func)\u001b[0m\n\u001b[0;32m    146\u001b[0m                             \u001b[0mcompression\u001b[0m\u001b[1;33m=\u001b[0m\u001b[0minferred_compression\u001b[0m\u001b[1;33m,\u001b[0m\u001b[1;33m\u001b[0m\u001b[0m\n\u001b[1;32m--> 147\u001b[1;33m                             is_text=False)\n\u001b[0m\u001b[0;32m    148\u001b[0m         \u001b[1;32mtry\u001b[0m\u001b[1;33m:\u001b[0m\u001b[1;33m\u001b[0m\u001b[0m\n",
      "\u001b[1;32m~\\Anaconda3\\lib\\site-packages\\pandas\\io\\common.py\u001b[0m in \u001b[0;36m_get_handle\u001b[1;34m(path_or_buf, mode, encoding, compression, memory_map, is_text)\u001b[0m\n\u001b[0;32m    405\u001b[0m             \u001b[1;31m# Python 3 and binary mode\u001b[0m\u001b[1;33m\u001b[0m\u001b[1;33m\u001b[0m\u001b[0m\n\u001b[1;32m--> 406\u001b[1;33m             \u001b[0mf\u001b[0m \u001b[1;33m=\u001b[0m \u001b[0mopen\u001b[0m\u001b[1;33m(\u001b[0m\u001b[0mpath_or_buf\u001b[0m\u001b[1;33m,\u001b[0m \u001b[0mmode\u001b[0m\u001b[1;33m)\u001b[0m\u001b[1;33m\u001b[0m\u001b[0m\n\u001b[0m\u001b[0;32m    407\u001b[0m         \u001b[0mhandles\u001b[0m\u001b[1;33m.\u001b[0m\u001b[0mappend\u001b[0m\u001b[1;33m(\u001b[0m\u001b[0mf\u001b[0m\u001b[1;33m)\u001b[0m\u001b[1;33m\u001b[0m\u001b[0m\n",
      "\u001b[1;31mFileNotFoundError\u001b[0m: [Errno 2] No such file or directory: 'both5.pkl'",
      "\nDuring handling of the above exception, another exception occurred:\n",
      "\u001b[1;31mFileNotFoundError\u001b[0m                         Traceback (most recent call last)",
      "\u001b[1;32m~\\Anaconda3\\lib\\site-packages\\pandas\\io\\pickle.py\u001b[0m in \u001b[0;36mtry_read\u001b[1;34m(path, encoding)\u001b[0m\n\u001b[0;32m    170\u001b[0m                 return read_wrapper(\n\u001b[1;32m--> 171\u001b[1;33m                     lambda f: pc.load(f, encoding=encoding, compat=False))\n\u001b[0m\u001b[0;32m    172\u001b[0m             \u001b[1;31m# compat pickle\u001b[0m\u001b[1;33m\u001b[0m\u001b[1;33m\u001b[0m\u001b[0m\n",
      "\u001b[1;32m~\\Anaconda3\\lib\\site-packages\\pandas\\io\\pickle.py\u001b[0m in \u001b[0;36mread_wrapper\u001b[1;34m(func)\u001b[0m\n\u001b[0;32m    146\u001b[0m                             \u001b[0mcompression\u001b[0m\u001b[1;33m=\u001b[0m\u001b[0minferred_compression\u001b[0m\u001b[1;33m,\u001b[0m\u001b[1;33m\u001b[0m\u001b[0m\n\u001b[1;32m--> 147\u001b[1;33m                             is_text=False)\n\u001b[0m\u001b[0;32m    148\u001b[0m         \u001b[1;32mtry\u001b[0m\u001b[1;33m:\u001b[0m\u001b[1;33m\u001b[0m\u001b[0m\n",
      "\u001b[1;32m~\\Anaconda3\\lib\\site-packages\\pandas\\io\\common.py\u001b[0m in \u001b[0;36m_get_handle\u001b[1;34m(path_or_buf, mode, encoding, compression, memory_map, is_text)\u001b[0m\n\u001b[0;32m    405\u001b[0m             \u001b[1;31m# Python 3 and binary mode\u001b[0m\u001b[1;33m\u001b[0m\u001b[1;33m\u001b[0m\u001b[0m\n\u001b[1;32m--> 406\u001b[1;33m             \u001b[0mf\u001b[0m \u001b[1;33m=\u001b[0m \u001b[0mopen\u001b[0m\u001b[1;33m(\u001b[0m\u001b[0mpath_or_buf\u001b[0m\u001b[1;33m,\u001b[0m \u001b[0mmode\u001b[0m\u001b[1;33m)\u001b[0m\u001b[1;33m\u001b[0m\u001b[0m\n\u001b[0m\u001b[0;32m    407\u001b[0m         \u001b[0mhandles\u001b[0m\u001b[1;33m.\u001b[0m\u001b[0mappend\u001b[0m\u001b[1;33m(\u001b[0m\u001b[0mf\u001b[0m\u001b[1;33m)\u001b[0m\u001b[1;33m\u001b[0m\u001b[0m\n",
      "\u001b[1;31mFileNotFoundError\u001b[0m: [Errno 2] No such file or directory: 'both5.pkl'",
      "\nDuring handling of the above exception, another exception occurred:\n",
      "\u001b[1;31mFileNotFoundError\u001b[0m                         Traceback (most recent call last)",
      "\u001b[1;32m~\\Anaconda3\\lib\\site-packages\\pandas\\io\\pickle.py\u001b[0m in \u001b[0;36mread_pickle\u001b[1;34m(path, compression)\u001b[0m\n\u001b[0;32m    176\u001b[0m     \u001b[1;32mtry\u001b[0m\u001b[1;33m:\u001b[0m\u001b[1;33m\u001b[0m\u001b[0m\n\u001b[1;32m--> 177\u001b[1;33m         \u001b[1;32mreturn\u001b[0m \u001b[0mtry_read\u001b[0m\u001b[1;33m(\u001b[0m\u001b[0mpath\u001b[0m\u001b[1;33m)\u001b[0m\u001b[1;33m\u001b[0m\u001b[0m\n\u001b[0m\u001b[0;32m    178\u001b[0m     \u001b[1;32mexcept\u001b[0m\u001b[1;33m:\u001b[0m\u001b[1;33m\u001b[0m\u001b[0m\n",
      "\u001b[1;32m~\\Anaconda3\\lib\\site-packages\\pandas\\io\\pickle.py\u001b[0m in \u001b[0;36mtry_read\u001b[1;34m(path, encoding)\u001b[0m\n\u001b[0;32m    174\u001b[0m                 return read_wrapper(\n\u001b[1;32m--> 175\u001b[1;33m                     lambda f: pc.load(f, encoding=encoding, compat=True))\n\u001b[0m\u001b[0;32m    176\u001b[0m     \u001b[1;32mtry\u001b[0m\u001b[1;33m:\u001b[0m\u001b[1;33m\u001b[0m\u001b[0m\n",
      "\u001b[1;32m~\\Anaconda3\\lib\\site-packages\\pandas\\io\\pickle.py\u001b[0m in \u001b[0;36mread_wrapper\u001b[1;34m(func)\u001b[0m\n\u001b[0;32m    146\u001b[0m                             \u001b[0mcompression\u001b[0m\u001b[1;33m=\u001b[0m\u001b[0minferred_compression\u001b[0m\u001b[1;33m,\u001b[0m\u001b[1;33m\u001b[0m\u001b[0m\n\u001b[1;32m--> 147\u001b[1;33m                             is_text=False)\n\u001b[0m\u001b[0;32m    148\u001b[0m         \u001b[1;32mtry\u001b[0m\u001b[1;33m:\u001b[0m\u001b[1;33m\u001b[0m\u001b[0m\n",
      "\u001b[1;32m~\\Anaconda3\\lib\\site-packages\\pandas\\io\\common.py\u001b[0m in \u001b[0;36m_get_handle\u001b[1;34m(path_or_buf, mode, encoding, compression, memory_map, is_text)\u001b[0m\n\u001b[0;32m    405\u001b[0m             \u001b[1;31m# Python 3 and binary mode\u001b[0m\u001b[1;33m\u001b[0m\u001b[1;33m\u001b[0m\u001b[0m\n\u001b[1;32m--> 406\u001b[1;33m             \u001b[0mf\u001b[0m \u001b[1;33m=\u001b[0m \u001b[0mopen\u001b[0m\u001b[1;33m(\u001b[0m\u001b[0mpath_or_buf\u001b[0m\u001b[1;33m,\u001b[0m \u001b[0mmode\u001b[0m\u001b[1;33m)\u001b[0m\u001b[1;33m\u001b[0m\u001b[0m\n\u001b[0m\u001b[0;32m    407\u001b[0m         \u001b[0mhandles\u001b[0m\u001b[1;33m.\u001b[0m\u001b[0mappend\u001b[0m\u001b[1;33m(\u001b[0m\u001b[0mf\u001b[0m\u001b[1;33m)\u001b[0m\u001b[1;33m\u001b[0m\u001b[0m\n",
      "\u001b[1;31mFileNotFoundError\u001b[0m: [Errno 2] No such file or directory: 'both5.pkl'",
      "\nDuring handling of the above exception, another exception occurred:\n",
      "\u001b[1;31mFileNotFoundError\u001b[0m                         Traceback (most recent call last)",
      "\u001b[1;32m~\\Anaconda3\\lib\\site-packages\\pandas\\io\\pickle.py\u001b[0m in \u001b[0;36mtry_read\u001b[1;34m(path, encoding)\u001b[0m\n\u001b[0;32m    165\u001b[0m                 \u001b[1;31m# We want to silencce any warnings about, e.g. moved modules.\u001b[0m\u001b[1;33m\u001b[0m\u001b[1;33m\u001b[0m\u001b[0m\n\u001b[1;32m--> 166\u001b[1;33m                 \u001b[1;32mreturn\u001b[0m \u001b[0mread_wrapper\u001b[0m\u001b[1;33m(\u001b[0m\u001b[1;32mlambda\u001b[0m \u001b[0mf\u001b[0m\u001b[1;33m:\u001b[0m \u001b[0mpkl\u001b[0m\u001b[1;33m.\u001b[0m\u001b[0mload\u001b[0m\u001b[1;33m(\u001b[0m\u001b[0mf\u001b[0m\u001b[1;33m)\u001b[0m\u001b[1;33m)\u001b[0m\u001b[1;33m\u001b[0m\u001b[0m\n\u001b[0m\u001b[0;32m    167\u001b[0m         \u001b[1;32mexcept\u001b[0m \u001b[0mException\u001b[0m\u001b[1;33m:\u001b[0m\u001b[1;33m\u001b[0m\u001b[0m\n",
      "\u001b[1;32m~\\Anaconda3\\lib\\site-packages\\pandas\\io\\pickle.py\u001b[0m in \u001b[0;36mread_wrapper\u001b[1;34m(func)\u001b[0m\n\u001b[0;32m    146\u001b[0m                             \u001b[0mcompression\u001b[0m\u001b[1;33m=\u001b[0m\u001b[0minferred_compression\u001b[0m\u001b[1;33m,\u001b[0m\u001b[1;33m\u001b[0m\u001b[0m\n\u001b[1;32m--> 147\u001b[1;33m                             is_text=False)\n\u001b[0m\u001b[0;32m    148\u001b[0m         \u001b[1;32mtry\u001b[0m\u001b[1;33m:\u001b[0m\u001b[1;33m\u001b[0m\u001b[0m\n",
      "\u001b[1;32m~\\Anaconda3\\lib\\site-packages\\pandas\\io\\common.py\u001b[0m in \u001b[0;36m_get_handle\u001b[1;34m(path_or_buf, mode, encoding, compression, memory_map, is_text)\u001b[0m\n\u001b[0;32m    405\u001b[0m             \u001b[1;31m# Python 3 and binary mode\u001b[0m\u001b[1;33m\u001b[0m\u001b[1;33m\u001b[0m\u001b[0m\n\u001b[1;32m--> 406\u001b[1;33m             \u001b[0mf\u001b[0m \u001b[1;33m=\u001b[0m \u001b[0mopen\u001b[0m\u001b[1;33m(\u001b[0m\u001b[0mpath_or_buf\u001b[0m\u001b[1;33m,\u001b[0m \u001b[0mmode\u001b[0m\u001b[1;33m)\u001b[0m\u001b[1;33m\u001b[0m\u001b[0m\n\u001b[0m\u001b[0;32m    407\u001b[0m         \u001b[0mhandles\u001b[0m\u001b[1;33m.\u001b[0m\u001b[0mappend\u001b[0m\u001b[1;33m(\u001b[0m\u001b[0mf\u001b[0m\u001b[1;33m)\u001b[0m\u001b[1;33m\u001b[0m\u001b[0m\n",
      "\u001b[1;31mFileNotFoundError\u001b[0m: [Errno 2] No such file or directory: 'both5.pkl'",
      "\nDuring handling of the above exception, another exception occurred:\n",
      "\u001b[1;31mFileNotFoundError\u001b[0m                         Traceback (most recent call last)",
      "\u001b[1;32m~\\Anaconda3\\lib\\site-packages\\pandas\\io\\pickle.py\u001b[0m in \u001b[0;36mtry_read\u001b[1;34m(path, encoding)\u001b[0m\n\u001b[0;32m    170\u001b[0m                 return read_wrapper(\n\u001b[1;32m--> 171\u001b[1;33m                     lambda f: pc.load(f, encoding=encoding, compat=False))\n\u001b[0m\u001b[0;32m    172\u001b[0m             \u001b[1;31m# compat pickle\u001b[0m\u001b[1;33m\u001b[0m\u001b[1;33m\u001b[0m\u001b[0m\n",
      "\u001b[1;32m~\\Anaconda3\\lib\\site-packages\\pandas\\io\\pickle.py\u001b[0m in \u001b[0;36mread_wrapper\u001b[1;34m(func)\u001b[0m\n\u001b[0;32m    146\u001b[0m                             \u001b[0mcompression\u001b[0m\u001b[1;33m=\u001b[0m\u001b[0minferred_compression\u001b[0m\u001b[1;33m,\u001b[0m\u001b[1;33m\u001b[0m\u001b[0m\n\u001b[1;32m--> 147\u001b[1;33m                             is_text=False)\n\u001b[0m\u001b[0;32m    148\u001b[0m         \u001b[1;32mtry\u001b[0m\u001b[1;33m:\u001b[0m\u001b[1;33m\u001b[0m\u001b[0m\n",
      "\u001b[1;32m~\\Anaconda3\\lib\\site-packages\\pandas\\io\\common.py\u001b[0m in \u001b[0;36m_get_handle\u001b[1;34m(path_or_buf, mode, encoding, compression, memory_map, is_text)\u001b[0m\n\u001b[0;32m    405\u001b[0m             \u001b[1;31m# Python 3 and binary mode\u001b[0m\u001b[1;33m\u001b[0m\u001b[1;33m\u001b[0m\u001b[0m\n\u001b[1;32m--> 406\u001b[1;33m             \u001b[0mf\u001b[0m \u001b[1;33m=\u001b[0m \u001b[0mopen\u001b[0m\u001b[1;33m(\u001b[0m\u001b[0mpath_or_buf\u001b[0m\u001b[1;33m,\u001b[0m \u001b[0mmode\u001b[0m\u001b[1;33m)\u001b[0m\u001b[1;33m\u001b[0m\u001b[0m\n\u001b[0m\u001b[0;32m    407\u001b[0m         \u001b[0mhandles\u001b[0m\u001b[1;33m.\u001b[0m\u001b[0mappend\u001b[0m\u001b[1;33m(\u001b[0m\u001b[0mf\u001b[0m\u001b[1;33m)\u001b[0m\u001b[1;33m\u001b[0m\u001b[0m\n",
      "\u001b[1;31mFileNotFoundError\u001b[0m: [Errno 2] No such file or directory: 'both5.pkl'",
      "\nDuring handling of the above exception, another exception occurred:\n",
      "\u001b[1;31mFileNotFoundError\u001b[0m                         Traceback (most recent call last)",
      "\u001b[1;32m<ipython-input-4-c2e996f8ad14>\u001b[0m in \u001b[0;36m<module>\u001b[1;34m()\u001b[0m\n\u001b[0;32m      3\u001b[0m \u001b[0mny3\u001b[0m \u001b[1;33m=\u001b[0m \u001b[0mpd\u001b[0m\u001b[1;33m.\u001b[0m\u001b[0mread_pickle\u001b[0m\u001b[1;33m(\u001b[0m\u001b[1;34m'both3.pkl'\u001b[0m\u001b[1;33m)\u001b[0m\u001b[1;33m\u001b[0m\u001b[0m\n\u001b[0;32m      4\u001b[0m \u001b[0mny4\u001b[0m \u001b[1;33m=\u001b[0m \u001b[0mpd\u001b[0m\u001b[1;33m.\u001b[0m\u001b[0mread_pickle\u001b[0m\u001b[1;33m(\u001b[0m\u001b[1;34m'both4.pkl'\u001b[0m\u001b[1;33m)\u001b[0m\u001b[1;33m\u001b[0m\u001b[0m\n\u001b[1;32m----> 5\u001b[1;33m \u001b[0mny5\u001b[0m \u001b[1;33m=\u001b[0m \u001b[0mpd\u001b[0m\u001b[1;33m.\u001b[0m\u001b[0mread_pickle\u001b[0m\u001b[1;33m(\u001b[0m\u001b[1;34m'both5.pkl'\u001b[0m\u001b[1;33m)\u001b[0m\u001b[1;33m\u001b[0m\u001b[0m\n\u001b[0m\u001b[0;32m      6\u001b[0m \u001b[1;33m\u001b[0m\u001b[0m\n\u001b[0;32m      7\u001b[0m \u001b[0mdf_both\u001b[0m \u001b[1;33m=\u001b[0m \u001b[0mpd\u001b[0m\u001b[1;33m.\u001b[0m\u001b[0mconcat\u001b[0m\u001b[1;33m(\u001b[0m\u001b[1;33m[\u001b[0m\u001b[0mny1\u001b[0m\u001b[1;33m,\u001b[0m \u001b[0mny2\u001b[0m\u001b[1;33m,\u001b[0m \u001b[0mny3\u001b[0m\u001b[1;33m,\u001b[0m \u001b[0mny4\u001b[0m\u001b[1;33m,\u001b[0m \u001b[0mny5\u001b[0m\u001b[1;33m]\u001b[0m\u001b[1;33m,\u001b[0m \u001b[0maxis\u001b[0m\u001b[1;33m=\u001b[0m\u001b[1;36m0\u001b[0m\u001b[1;33m,\u001b[0m \u001b[0mjoin\u001b[0m\u001b[1;33m=\u001b[0m\u001b[1;34m'inner'\u001b[0m\u001b[1;33m,\u001b[0m \u001b[0mignore_index\u001b[0m\u001b[1;33m=\u001b[0m\u001b[1;32mTrue\u001b[0m\u001b[1;33m)\u001b[0m\u001b[1;33m\u001b[0m\u001b[0m\n",
      "\u001b[1;32m~\\Anaconda3\\lib\\site-packages\\pandas\\io\\pickle.py\u001b[0m in \u001b[0;36mread_pickle\u001b[1;34m(path, compression)\u001b[0m\n\u001b[0;32m    178\u001b[0m     \u001b[1;32mexcept\u001b[0m\u001b[1;33m:\u001b[0m\u001b[1;33m\u001b[0m\u001b[0m\n\u001b[0;32m    179\u001b[0m         \u001b[1;32mif\u001b[0m \u001b[0mPY3\u001b[0m\u001b[1;33m:\u001b[0m\u001b[1;33m\u001b[0m\u001b[0m\n\u001b[1;32m--> 180\u001b[1;33m             \u001b[1;32mreturn\u001b[0m \u001b[0mtry_read\u001b[0m\u001b[1;33m(\u001b[0m\u001b[0mpath\u001b[0m\u001b[1;33m,\u001b[0m \u001b[0mencoding\u001b[0m\u001b[1;33m=\u001b[0m\u001b[1;34m'latin1'\u001b[0m\u001b[1;33m)\u001b[0m\u001b[1;33m\u001b[0m\u001b[0m\n\u001b[0m\u001b[0;32m    181\u001b[0m         \u001b[1;32mraise\u001b[0m\u001b[1;33m\u001b[0m\u001b[0m\n\u001b[0;32m    182\u001b[0m \u001b[1;33m\u001b[0m\u001b[0m\n",
      "\u001b[1;32m~\\Anaconda3\\lib\\site-packages\\pandas\\io\\pickle.py\u001b[0m in \u001b[0;36mtry_read\u001b[1;34m(path, encoding)\u001b[0m\n\u001b[0;32m    173\u001b[0m             \u001b[1;32mexcept\u001b[0m\u001b[1;33m:\u001b[0m\u001b[1;33m\u001b[0m\u001b[0m\n\u001b[0;32m    174\u001b[0m                 return read_wrapper(\n\u001b[1;32m--> 175\u001b[1;33m                     lambda f: pc.load(f, encoding=encoding, compat=True))\n\u001b[0m\u001b[0;32m    176\u001b[0m     \u001b[1;32mtry\u001b[0m\u001b[1;33m:\u001b[0m\u001b[1;33m\u001b[0m\u001b[0m\n\u001b[0;32m    177\u001b[0m         \u001b[1;32mreturn\u001b[0m \u001b[0mtry_read\u001b[0m\u001b[1;33m(\u001b[0m\u001b[0mpath\u001b[0m\u001b[1;33m)\u001b[0m\u001b[1;33m\u001b[0m\u001b[0m\n",
      "\u001b[1;32m~\\Anaconda3\\lib\\site-packages\\pandas\\io\\pickle.py\u001b[0m in \u001b[0;36mread_wrapper\u001b[1;34m(func)\u001b[0m\n\u001b[0;32m    145\u001b[0m         f, fh = _get_handle(path, 'rb',\n\u001b[0;32m    146\u001b[0m                             \u001b[0mcompression\u001b[0m\u001b[1;33m=\u001b[0m\u001b[0minferred_compression\u001b[0m\u001b[1;33m,\u001b[0m\u001b[1;33m\u001b[0m\u001b[0m\n\u001b[1;32m--> 147\u001b[1;33m                             is_text=False)\n\u001b[0m\u001b[0;32m    148\u001b[0m         \u001b[1;32mtry\u001b[0m\u001b[1;33m:\u001b[0m\u001b[1;33m\u001b[0m\u001b[0m\n\u001b[0;32m    149\u001b[0m             \u001b[1;32mreturn\u001b[0m \u001b[0mfunc\u001b[0m\u001b[1;33m(\u001b[0m\u001b[0mf\u001b[0m\u001b[1;33m)\u001b[0m\u001b[1;33m\u001b[0m\u001b[0m\n",
      "\u001b[1;32m~\\Anaconda3\\lib\\site-packages\\pandas\\io\\common.py\u001b[0m in \u001b[0;36m_get_handle\u001b[1;34m(path_or_buf, mode, encoding, compression, memory_map, is_text)\u001b[0m\n\u001b[0;32m    404\u001b[0m         \u001b[1;32melse\u001b[0m\u001b[1;33m:\u001b[0m\u001b[1;33m\u001b[0m\u001b[0m\n\u001b[0;32m    405\u001b[0m             \u001b[1;31m# Python 3 and binary mode\u001b[0m\u001b[1;33m\u001b[0m\u001b[1;33m\u001b[0m\u001b[0m\n\u001b[1;32m--> 406\u001b[1;33m             \u001b[0mf\u001b[0m \u001b[1;33m=\u001b[0m \u001b[0mopen\u001b[0m\u001b[1;33m(\u001b[0m\u001b[0mpath_or_buf\u001b[0m\u001b[1;33m,\u001b[0m \u001b[0mmode\u001b[0m\u001b[1;33m)\u001b[0m\u001b[1;33m\u001b[0m\u001b[0m\n\u001b[0m\u001b[0;32m    407\u001b[0m         \u001b[0mhandles\u001b[0m\u001b[1;33m.\u001b[0m\u001b[0mappend\u001b[0m\u001b[1;33m(\u001b[0m\u001b[0mf\u001b[0m\u001b[1;33m)\u001b[0m\u001b[1;33m\u001b[0m\u001b[0m\n\u001b[0;32m    408\u001b[0m \u001b[1;33m\u001b[0m\u001b[0m\n",
      "\u001b[1;31mFileNotFoundError\u001b[0m: [Errno 2] No such file or directory: 'both5.pkl'"
     ]
    }
   ],
   "source": [
    "ny1 = pd.read_pickle('both1.pkl')\n",
    "ny2 = pd.read_pickle('both2.pkl')\n",
    "ny3 = pd.read_pickle('both3.pkl')\n",
    "ny4 = pd.read_pickle('both4.pkl')\n",
    "ny5 = pd.read_pickle('both5.pkl')\n",
    "\n",
    "df_both = pd.concat([ny1, ny2, ny3, ny4, ny5], axis=0, join='inner', ignore_index=True)\n",
    "\n",
    "print(df_both.describe())\n",
    "df_both_sample = df_both.sample(1000, random_state=1)\n",
    "\n",
    "#print(df_both_sample.head())"
   ]
  },
  {
   "cell_type": "code",
   "execution_count": 181,
   "metadata": {},
   "outputs": [
    {
     "data": {
      "text/plain": [
       "30713"
      ]
     },
     "execution_count": 181,
     "metadata": {},
     "output_type": "execute_result"
    }
   ],
   "source": [
    "def fetch_landsdel(key) :\n",
    "    try :\n",
    "        ld = dict_landsdel[key]\n",
    "    except :        \n",
    "        k = find_hidden(strip_comma(key))\n",
    "        try :\n",
    "            ld = dict_landsdel[k[0]]\n",
    "        except:\n",
    "            try :\n",
    "                ld = dict_landsdel[k[1]]\n",
    "            except :\n",
    "                try :\n",
    "                    ld = dict_landsdel[k[2]]\n",
    "                except :\n",
    "                    if key in [' ','Uoplyst'] :\n",
    "                        ld = 'Uoplyst'\n",
    "                    else :\n",
    "                        ld = np.nan\n",
    "    return ld\n",
    "    \n",
    "def find_hidden(key) :\n",
    "    try :\n",
    "        first = key.split()\n",
    "    except :\n",
    "        first = key\n",
    "    return first\n",
    "\n",
    "def strip_comma(key) :\n",
    "    k1 = re.sub('/', \" \", key)\n",
    "    k2 = re.sub('ae', \"æ\", k1)\n",
    "    k3 = re.sub('Å', \"Aa\", k2)\n",
    "    k4 = re.sub('-', \" \", k3)\n",
    "    k5 = re.sub('oe', \"ø\", k4)\n",
    "    return re.sub(',', \"\", k5)\n",
    "    \n",
    "df_both['landsdel'] = df_both['city'].apply(lambda x: fetch_landsdel(x))\n",
    "\n",
    "len(df_both[df_both.landsdel.isnull()])\n",
    "#30713\n"
   ]
  },
  {
   "cell_type": "code",
   "execution_count": 182,
   "metadata": {},
   "outputs": [
    {
     "name": "stdout",
     "output_type": "stream",
     "text": [
      "690\n",
      "Counter({'Region Midtjylland': 5572, 'Region Sjælland': 4829, 'Danmark': 3371, 'Region Nordjylland': 3110, 'Sydjylland': 2635, 'Norge': 2388, 'Tyskland': 711, 'Luxembourg': 598, 'USA': 442, 'Østrig': 255, 'Schweiz': 232, 'Qatar': 222, 'Australien': 207, 'Finland': 186, 'Kina': 171, 'Irland': 126, 'Bjert': 123, 'Holland': 121, 'Canada': 117, 'Tisvildeleje': 114, 'Belgien': 114, 'Vemmelev': 108, 'Upernavik': 107, 'Spanien': 103, 'Hundige': 101, 'Nuuk': 98, 'Agedrup': 92, 'Aasiaat': 91, 'Paamiut': 84, 'Italien': 82, 'Uummannaq': 80, 'Singapore': 77, 'Storbritannien': 76, 'Ålsgårde': 75, 'Indien': 75, 'Tjekkiet': 74, 'Island': 72, 'Fur': 68, 'Vietnam': 63, 'Tasiilaq': 63, 'Japan': 59, 'Asperup': 51, 'Kenya': 51, 'Avedøre': 50, 'Köpenhamn': 48, 'Nanortalik': 47, 'Tanzania': 45, 'Uganda': 44, 'Angola': 43, 'Malaysia': 43, 'Bangladesh': 41, 'Tureby': 40, 'Narsaq': 39, 'Jordan': 38, 'Københavns vestegn': 38, 'Stilling': 36, 'Afghanistan': 33, 'Vejers Strand': 33, 'Nykøbing Mors': 33, 'Nykøbing F.': 33, 'Oman': 32, 'Sjælland': 32, 'Thailand': 31, 'Qaanaaq': 31, 'Nykøbing Falster': 31, 'Mexico': 29, 'Nordfyn': 29, 'Tranbjerg': 28, 'Ukraine': 27, 'Thule Air Base': 26, 'Narsarsuaq': 25, 'Stockholm': 25, 'Ittoqqortoormiit': 24, 'Torrig L': 23, 'Nuussuaq': 23, 'Sri Lanka': 23, 'Sporup': 23, 'Oslo': 23, 'Grenå': 23, 'Tyrkiet': 22, 'Soborg': 22, 'Vassingerød': 22, 'Stakroge': 21, 'Åbenrå': 21, 'Skalborg': 20, 'Malta': 19, 'Amager': 19, 'Malmö': 19, 'Sejerø': 18, 'Region Syddanmark': 18, 'Filippinerne': 18, 'Qasigiannguit': 18, 'Thule': 18, 'Sudan': 17, 'Ghana': 17, 'Harpelunde': 17, 'Skejby': 17, 'Buddinge': 17, 'Husum': 17, 'Portugal': 16, 'City 2': 16, 'søger for kunde': 16, 'Peru': 15, 'Sydafrika': 15, 'Nicaragua': 15, 'Estland': 15, 'Nepal': 15, 'Panama': 15, 'Mozambique': 15, 'Stavanger': 15, 'Fakse': 15, 'Hele landet': 14, 'Nr. Aaby': 14, 'Rwanda': 14, 'Grækenland': 13, 'Qeqertarsuaq': 13, 'Chile': 13, 'Kuwait': 13, 'hvis du har problemer med at åbne stillingsopslaget via hjemmesiden.': 13, 'Kvistgaard': 13, 'Shanghai': 13, 'Nr. Snede': 13, 'Hillerod': 13, 'Sdr. Felding': 13, 'Zimbabwe': 12, 'Bolivia': 12, 'Bulgarien': 12, 'Mali': 12, 'Ungarn': 12, 'Israel': 12, 'London': 12, 'Hamburg': 12, 'Fields': 12, 'Haiti': 12, 'Congo-Brazzaville': 11, 'Somalia': 11, 'Zambia': 11, 'Malmø': 11, 'Europa': 11, 'Brasilien': 10, 'Slovakiet': 10, 'Sierra Leone': 10, 'Slovenien': 10, 'Kangaatsiaq': 10, 'Aabyhøj': 10, 'Tórshavn': 10, 'Vangede': 10, 'New Zealand': 9, 'Argentina': 9, 'Indonesien': 9, 'Syrien': 9, 'Fejø': 9, 'Bahrain': 9, 'Brondby': 9, 'Mørkhøj': 9, 'Hele Danmark': 9, 'Switzerland': 9, 'Rungsted': 9, 'Østerbro': 9, 'Kroatien': 8, 'Liberia': 8, 'Irak': 8, 'Letland': 8, 'Amsterdam': 8, 'Guatemala': 7, 'Marokko': 7, 'Kulusuk': 7, 'Nr. Åby': 7, 'Københavnsområdet': 7, 'Nordsjælland': 7, 'Danmark, Norge': 7, 'Bhutan': 6, 'Benin': 6, 'Rudersdal': 6, 'Togo': 6, 'Litauen': 6, 'Cambodja': 6, 'Cypern': 6, 'Yemen': 6, 'Rumænien': 6, 'Midtjylland': 6, 'Midt- og Nordjylland': 6, 'Amager Centret': 6, 'københavn': 6, 'Hovedstaden': 6, 'Mors': 6, 'Brussels': 6, 'hele landet': 6, 'Flensborg': 6, 'Nordjylland': 6, 'Nørre-Snede': 6, 'Tunesien': 6, 'Skandinavien': 6, 'Krusaa': 6, 'Dublin': 6, 'Zürich': 6, 'Albanien': 5, 'Serbien': 5, 'Iran': 5, 'Munich': 5, 'Djursland': 5, 'Dubai': 5, 'Nørrebro': 5, 'Bergen': 5, 'New York': 5, 'Dyrehavsbakken': 5, 'søger for klient': 5, 'Trekantsområdet': 5, 'Købehavn': 5, 'City2': 5, 'Venezuela': 5, 'Zurich': 5, 'Arsuk': 5, 'Pituffik': 4, 'Pakistan': 4, 'Lolland, Nykøbing F': 4, 'Sydkorea': 4, 'Maldiverne': 4, 'Libanon': 4, 'Burkina Faso': 4, 'Tingbjerg': 4, 'Christianshavn': 4, 'Isle of Wight, UK': 4, 'Norway': 4, 'Jylland': 4, 'Hovedstadsområdet': 4, 'Ryomgaard': 4, 'Ll. Skensved': 4, 'Albertlund': 4, 'Nørre Åby': 4, 'Hyrdehøj': 4, 'Nigeria': 4, 'Hammerum': 4, 'Tromsø': 4, 'Etiopien': 4, 'Misto Kyiv, Ukraine': 4, 'Any of the Nordic countries': 4, 'Costa Rica': 3, 'Liechtenstein': 3, 'Colombia': 3, 'Monaco': 3, 'Honduras': 3, 'Niger': 3, 'Furesø': 3, 'Trondheim': 3, 'Gibraltar': 3, 'Hasseris': 3, 'Harrislee': 3, 'Islands Brygge': 3, 'Sønderjylland': 3, 'Hele Sjælland': 3, 'Fløng': 3, 'Århusområdet': 3, 'Daugaard': 3, 'China': 3, 'Lübeck, Germany': 3, 'Vestsjælland': 3, 'Skrydstrup': 3, 'France': 3, 'Helsingborg': 3, 'Bispebjerg': 3, 'Flensburg': 3, 'århus': 3, 'Låmsås': 3, 'Libyen': 3, 'Hong Kong': 3, 'Nykøbing M.': 3, 'Fuglebakken': 3, 'Kopenhagen': 3, 'Kosovo': 3, 'El Salvador': 3, 'Fisketorvet': 3, 'EU and US': 3, 'EU': 3, 'Helsinki': 3, 'Brande.': 3, 'Vester Skjerninge': 3, \"Field's\": 3, 'Manila': 3, 'Copehagen': 3, 'Madagaskar': 2, 'Constable Pynt': 2, 'Tonga': 2, 'Guinea-Bissau': 2, 'Hviderusland': 2, 'Danmarkshavn': 2, 'Ørholm': 2, 'Nørrevold': 2, 'Bristol, UK or Randers, DK': 2, 'Bratislava': 2, 'Erritsø': 2, 'Humlebeak': 2, 'Albertsund': 2, 'Fortunbyen': 2, 'Poland': 2, 'Nr. Jernløse': 2, 'Geneve': 2, 'Munich, The Hague and Berlin': 2, 'Haubro': 2, 'Fredriksberg': 2, 'Birkerod': 2, 'Abroad': 2, 'Syd- og Vestjylland': 2, 'Dalum': 2, 'Himmerland': 2, 'Frederikberg': 2, 'Denmark and southern Sweden': 2, 'Lillebælt': 2, 'Rødkærbro': 2, 'Horsholm': 2, 'Amagerbrogade': 2, 'Saudi Arabia': 2, 'Lille Skenvsved': 2, 'Aalbæk': 2, 'Nidda': 2, 'Michigan': 2, 'lier - norge': 2, 'Sweden': 2, 'Bjeringbro': 2, 'Jamaica': 2, 'Holsterbro': 2, 'KØBENHAVN': 2, 'Kgs.Lyngby': 2, 'St. Heddinge': 2, 'Dublin - Ireland': 2, 'Neumünster': 2, 'Denmark': 2, 'Danmark, Indien': 2, 'Odsherred': 2, 'Bruxelles': 2, 'glostrup': 2, 'Novy Bydzov, Czech Republic': 2, 'Lumsaas': 2, 'Copnehagen': 2, 'Kgs. Kyngby': 2, 'Lynbgy': 2, 'England': 2, 'Belgien, Danmark, Holland, Norge': 2, 'Århus.': 2, 'Europe': 2, 'Nordsøen (via Esbjerg)': 2, 'Hamburg, Leatherhead - London, Copenhagen or Randers': 2, 'Skæring': 2, 'Germany': 2, 'Copenhague': 2, 'Olomouc in Czech Republic': 2, 'Kirke Saaby': 2, 'Chennai (IN)': 2, 'Beijing (CN) or Aarhus (DK)': 2, 'Beijing, China or Aarhus, Denmark': 2, 'Strasbourg': 2, 'Alicante': 2, 'Bolbro': 2, 'Gambia': 1, 'Usbekistan': 1, 'Grenada': 1, 'Montenegro': 1, 'Bermuda': 1, 'Norden': 1, 'Danmark, USA': 1, 'Guinea': 1, 'Botswana': 1, 'Senegal': 1, 'Malawi': 1, 'Eritrea': 1, 'Georgien': 1, 'Cuba': 1, 'Ecuador': 1, 'Region Hovedstaden, Region Sjælland': 1, 'Vesthimmerland': 1, 'Warrington UK or Videbæk': 1, 'Istanbul': 1, 'Edinburgh': 1, 'Denmark/Sjaelland': 1, 'Gjelleråsen': 1, 'Istanbul, Turkey': 1, 'Tissø': 1, 'eller ring på 56 29 26 15, og aftal evt. besøg.': 1, 'Bonn, Germany': 1, 'Billiund': 1, 'Sdr. Felding or Ringkobing': 1, 'Midtsjælland el. Nordjylland': 1, 'Hamburg, Germany': 1, 'Billind': 1, 'Slet': 1, 'Amagerområdet': 1, 'Rio de Janeiro and Lyngby': 1, 'Isle of Wight': 1, 'Østjylland og Århusområdet': 1, 'Nykøbing F. eller Vordingborg': 1, 'CCopenhagen': 1, 'Lausanne': 1, 'London (UK) or Copenhagen (DK)': 1, 'Køgeområdet': 1, 'Alnarp': 1, 'Leeds, UK or Copenhagen, Denmark': 1, 'Nykøbing': 1, 'eller ring på 56 29 26 29 og aftal evt. besøg på skolen.': 1, 'Hörsholm': 1, 'Hundige og Fields': 1, 'Düsseldorf': 1, 'The Hague': 1, 'Ålholm': 1, 'Syd- og Østjylland': 1, 'Norrköping (Sverige)': 1, 'Magasin Kgs. Nytorv': 1, '<a data-click=\"/c?t=h241550&amp;ctx=w&amp;u=15462167\" href=\"http://www.boghandleren.dk\" rel=\"noopener\" target=\"_blank\"><b>www.boghandleren.dk</b></a> samt <a data-click=\"/c?t=h241550&amp;ctx=w&amp;u=15462168\" href=\"http://www.indeks-retail.dk\" rel=\"noopener\" target=\"_blank\"><b>www.indeks-retail.dk</b></a>, og <a data-click=\"/c?t=h241550&amp;ctx=w&amp;u=15462169\" href=\"http://www.gad.dk\" rel=\"noopener\" target=\"_blank\"><b>www.gad.dk</b></a>.': 1, 'Aaborg': 1, 'world wide': 1, 'location negotiable': 1, 'Kæøbenhavn': 1, 'Madrid': 1, 'Lolland, Falster, Møn og omegn': 1, 'Stockholm eller Söderhamn': 1, 'Nord- og Vestjylland': 1, 'Østjylland og Aarhusområdet': 1, 'Midt- og Vestjylland': 1, 'Borlänge (Sweden)': 1, 'Piteå': 1, 'Portland, Oregon, USA': 1, 'Rhodos - Grækenland': 1, 'Standorte Wiesbaden, München, Deutschland': 1, 'Hllerød': 1, 'Horrsholm': 1, 'Latin America and Copenhagen': 1, 'Halsskov': 1, 'Tianjin - China': 1, 'Tianjin - Kina': 1, 'Cairo': 1, 'Søger for kunde': 1, 'Madrid - Spain': 1, 'Glostup': 1, 'Hele Jylland': 1, 'Stockholm Area': 1, 'Rio de Janeiro and Copenhagen': 1, 'Mannheim': 1, 'Nordic': 1, 'Sjælland og Sydjylland/Fyn': 1, 'Beijing': 1, 'Lebanon': 1, 'Kultur- og Fritidsforvaltningen': 1, 'Skensved': 1, 'nørresundby': 1, 'kolding': 1, 'New York City or Hoersholm': 1, 'Bjeaverskov': 1, 'Stockholm eller Köpenhamn': 1, 'Det Biovidenskabelige Fakultet': 1, 'Nearum': 1, 'Täby': 1, 'Barcelona': 1, 'Fåvang': 1, 'Vendsyssel': 1, 'Nordic Region': 1, 'Sonderborg': 1, 'Fakse Ladeplads': 1, 'Munkerup': 1, 'Sydgrønland': 1, 'Frederksberg': 1, 'Avedoere': 1, 'Brazil': 1, 'Nordøst Italien': 1, 'Africa/Ghana': 1, 'Wahlstedt': 1, 'Houston': 1, 'Sjælland og Lolland/Falster': 1, 'Indonesia': 1, 'Cannes': 1, 'Division Lauritz Knudsen, Ballerup': 1, 'Luanda - Angola': 1, 'Neumünster, Germany or Nordborg, Denmark': 1, 'Ringkobing': 1, 'Aarslev': 1, 'bagsværd': 1, 'Hinstrup': 1, 'Audebo': 1, 'Ohio': 1, 'Kvisgaard': 1, 'Horns Rev': 1, 'Sweden, Norway and Denmark': 1, 'India': 1, 'Region Midtjylland, Region Nordjylland, Region Syddanmark': 1, 'Region Midtjylland, Region Nordjylland': 1, 'Trekantområdet': 1, 'Burundi': 1, 'Marbella, Spanien': 1, 'Göteborg': 1, 'Silkebrog': 1, 'vejle': 1, 'Nyk. Sj.': 1, 'Alderslyst': 1, 'Sjælland og øerne': 1, 'Faarborg': 1, 'Kridthøj': 1, 'Sisimut': 1, 'Rødove': 1, 'Rrande': 1, 'Sydney, Melbourne or Perth': 1, 'Gug': 1, 'Midt- og Sydsjælland': 1, 'K?avn': 1, 'Slough - UK': 1, 'Erlangen': 1, 'Institut for Folkesundhedsvidenskab': 1, 'valby': 1, 'Vestegnen': 1, 'Københavnsområdet og Nordsjælland': 1, 'UK': 1, 'Flintehøj': 1, 'Rådhuset': 1, 'CHARLOTTENLUND': 1, 'Midt og - Nordjylland': 1, 'Advedøre': 1, 'Jægersborg': 1, 'Det Humanistiske Fakultet': 1, 'Rungsted kyst': 1, 'New Jersey': 1, 'landsdækkende': 1, 'Copnhagen': 1, 'Midt-og Nordjylland': 1, 'TranbVejle': 1, 'Amagerværket': 1, 'svendborg': 1, 'Suzhou': 1, 'Nr.Sundby': 1, 'Østjylland': 1, 'Kilding': 1, 'Herrsching': 1, 'Laos': 1, 'Region Hovedstaden': 1, 'Syddjurs': 1, 'Aabenrå': 1, 'Bremen': 1, 'Købnehavn': 1, 'taastrup': 1, 'Midt/Nordjylland': 1, 'Nordrhein-Westfalen, Germany': 1, 'Alberslund': 1, 'Sacramento, Californien': 1, 'Stilling (v. Skanderborg)': 1, 'Ankara, Turkey': 1, 'Italien eller Spanien': 1, 'Jylland og Sjælland': 1, 'Brønby': 1, 'Løgstør.': 1, 'Bilka': 1, 'Herstedvester': 1, 'Kristiansand': 1, 'Borgstedt bei Rendsburg': 1, 'hillerød': 1, 'Børndby': 1, 'Jernløse': 1, 'Nykøbing F og Næstved': 1, 'Kungsbacka': 1, 'Kohlenz': 1, 'Amager Centeret': 1, 'Vimmelskaftet, Amager Centret og Lyngby STORcenter': 1, 'Baku, Azerbaijan': 1, 'Fredeirksberg': 1, 'Düsseldorf/Hamburg/Stuttgart': 1, 'Moscow': 1, 'sorø': 1, 'Bgsværd': 1, 'Helleup': 1, 'Vably': 1, 'Ankara': 1, 'Hilerød': 1, 'Randeres': 1, 'Vesterbrogade og Amagerbrogade': 1, 'Koling': 1, 'Tjørring': 1, 'fredensborg': 1, 'Det Grønne Område': 1, 'Münster': 1, 'De Forenede Arabiske Emirater': 1, 'Norddjurs, Syddjurs': 1, 'Papua Ny Guinea': 1, 'Kangilinnguit': 1, 'Danmark, Finland, Norge, Sverige': 1, 'Brunei': 1, 'Lolland': 1, 'Lolland-Falster, Sydsjælland og Møn': 1, 'Frederikbserg': 1, 'AArhus': 1, 'AAlborg': 1, 'Ørestaden': 1, 'Skovsgaard': 1, 'Barritskov': 1, 'Poland (Grodzisk) or in Denmark (Kolding or Nordborg)': 1, 'Chamonix (FR)': 1, 'varde': 1, 'Faarup': 1, 'Kgs. Lyngy': 1, 'Milano': 1, 'Poland (Grodzisk) or Denmark (Kolding or Nordborg)': 1, 'Ontario': 1, 'Nykøbing S.': 1, 'Odenseområdet': 1, 'Esbjerg.': 1, 'Esbjeg': 1, 'recruiting on behalf of Sandoz Nordic in Copenhagen': 1, 'Østdanmark': 1, 'Zürich, Switzerland': 1, 'Prague': 1, 'Balleup': 1, 'EU &amp; Singapore': 1, 'Europe and US': 1, 'Kiev, Ukraine': 1, 'Sydsjælland': 1, 'Midt- og nordjylland': 1, 'Kgs. Nytorv og Lyngby': 1, 'Allerod': 1, 'Manchester': 1, 'Solna': 1, 'Sandvika': 1, 'Tingbjerg-Utterslevhuse': 1, 'Malmo': 1, 'Malmo or Stockholm': 1, 'Bronshoj': 1, 'Oslo, Norge': 1, 'Københvan': 1, 'Belgium': 1, 'Leverkusen - Germany': 1, 'Harrislee, Tyskland': 1, 'Danmark og Basel': 1, 'Vadovce, Slovakia': 1, 'Rågeleje': 1, 'Thy': 1, 'Nykøbing F. og Vordingborg': 1, 'så kontakter vi dig mhp. nærmere aftale.': 1, 'Vejlevej 361, 6000 Kolding': 1, 'Syd-Østsjælland': 1, 'Lolland-Falster': 1, 'Lolland/Falster og Ålborg': 1, 'Ærø': 1, 'Nordeuropa': 1, 'Kødbyen': 1, 'Bangalore, India': 1, 'Vores nordiske hovedkontor i Vallensbæk Strand': 1, 'Bangkok, Thailand': 1, 'Sydsjælland-Møn': 1, 'Kolt tæt ved Århus': 1, 'Vedbeak': 1, 'Møn': 1, 'Arlöv, Malmö': 1, 'Warrington, UK': 1, 'Isle of Wright, UK': 1, 'Sjælland eller Jylland': 1, 'samt <a data-click=\"/c?t=h268799&amp;ctx=w&amp;u=15434243\" href=\"http://www.fhdk.dk\" rel=\"noopener\" target=\"_blank\">www.fhdk.dk</a><a>) </a>': 1, 'Lommel, Belgium': 1, 'Rungsted Havn': 1, 'Helsinki, Stockholm, Oslo or Copenhagen': 1, 'Portland, Oregon in the US or Randers in Denmark': 1, 'Stilling v.Skanderborg': 1, 'Hovedstadsområdet, Nord -, Midt- og Sydsjælland samt Lolland &amp; Falster': 1, 'Chennai, India': 1, 'SILICON VALLEY – USA': 1, 'Germany, UK or Denmark': 1, 'Dubai (UA)': 1, 'Barcelona, Spain': 1, 'Grenoble, France': 1, 'Bulk': 1, 'Ireland': 1, 'Risø': 1, 'Knudshoved': 1, 'Rungsted havn': 1, 'er en privat, landsdækkende forening, attraktivt beliggende i Silkeborg, der i dag beskæftiger 16 medarbejdere. Foreningen tæller ca. 500 medlemsvirksomheder, der er inddelt i netværk, sammensat efter deres internationale kundesegmenter. Dette giver bl.a. gode muligheder for at gennemføre eksportrelaterede aktiviteter - herunder kollektive eksportfremstød.': 1, 'Madison, USA or Dangé-St-Romain, France or Brabrand, Denmark': 1, 'Vilafranca del Penedès, Spain': 1, 'Trekantsområdet, KBH eller Sydsjælland': 1, 'the Isle of Wight, UK or in Lem, Denmark': 1, 'hvis du har problemer med at åbne stillingsopslaget via hjemmesiden': 1, 'Kregme': 1, 'Nr. Bjert': 1, 'Hamburg, Germany or Warrington, UK': 1, 'The Isle of Wight, UK': 1, 'Kolt': 1, 'Thule Air Base, Grønland': 1, 'Amersfoort (NL)': 1, 'Midt-/Nordjylland': 1, 'søger for Flex Pack A/S, Greve': 1, 'frederiksberg': 1, 'Äänekoski, Finland': 1, 'understøttet af landsdækkende udstillinger, hvor kunderne kan se og prøve vores møbler. Al varedistribution foregår fra vores hovedlager i Herlev. Mandalay er på få år vokset til at blive Danmarks største online-butik for havemøbler.': 1, 'ganløse': 1, 'eller ring +33 492 02 33 77.': 1, 'Midt – og Nordjylland': 1, 'Sydsjælland/Nordfalster': 1, 'UK, Derby': 1, 'Sydsjælland &amp; Lolland-Falster': 1})\n"
     ]
    }
   ],
   "source": [
    "from collections import Counter\n",
    "\n",
    "ukendt_by = df_both[df_both['landsdel'].isnull()]['city']\n",
    "\n",
    "print(len(pd.unique(ukendt_by)))\n",
    "print(Counter(ukendt_by))\n",
    "\n",
    "\n"
   ]
  },
  {
   "cell_type": "code",
   "execution_count": null,
   "metadata": {},
   "outputs": [],
   "source": [
    "df_both.set_index(['date', 'landsdel'], inplace=True)\n",
    "test = df_both.groupby(level=(0,1)).size()\n",
    "df_both.reset_index()\n"
   ]
  }
 ],
 "metadata": {
  "kernelspec": {
   "display_name": "Python 3",
   "language": "python",
   "name": "python3"
  },
  "language_info": {
   "codemirror_mode": {
    "name": "ipython",
    "version": 3
   },
   "file_extension": ".py",
   "mimetype": "text/x-python",
   "name": "python",
   "nbconvert_exporter": "python",
   "pygments_lexer": "ipython3",
   "version": "3.6.6"
  }
 },
 "nbformat": 4,
 "nbformat_minor": 2
}
