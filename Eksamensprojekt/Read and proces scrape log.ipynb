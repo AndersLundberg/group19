{
 "cells": [
  {
   "cell_type": "code",
   "execution_count": 4,
   "metadata": {},
   "outputs": [],
   "source": [
    "import pandas as pd, numpy as np\n",
    "from collections import Counter"
   ]
  },
  {
   "cell_type": "code",
   "execution_count": 18,
   "metadata": {},
   "outputs": [
    {
     "name": "stdout",
     "output_type": "stream",
     "text": [
      "(7314, 6)\n",
      "\n",
      "\n",
      "     serverTime    deltaT                                                url  \\\n",
      "0  1.535313e+09  2.421636  https://www.jobindex.dk/jobsoegning.json?q=&jo...   \n",
      "1  1.535313e+09  2.561897  https://www.jobindex.dk/jobsoegning.json?q=&jo...   \n",
      "2  1.535313e+09  2.825356  https://www.jobindex.dk/jobsoegning.json?q=&jo...   \n",
      "3  1.535313e+09  2.936696  https://www.jobindex.dk/jobsoegning.json?q=&jo...   \n",
      "4  1.535313e+09  2.531905  https://www.jobindex.dk/jobsoegning.json?q=&jo...   \n",
      "\n",
      "   success  length                                         path  \n",
      "0     True  120364  C:\\Users\\pot\\Documents\\GitHub/jobindex2.txt  \n",
      "1     True  116342  C:\\Users\\pot\\Documents\\GitHub/jobindex2.txt  \n",
      "2     True  119794  C:\\Users\\pot\\Documents\\GitHub/jobindex2.txt  \n",
      "3     True  120162  C:\\Users\\pot\\Documents\\GitHub/jobindex2.txt  \n",
      "4     True  125632  C:\\Users\\pot\\Documents\\GitHub/jobindex2.txt  \n"
     ]
    }
   ],
   "source": [
    "df_log = pd.read_csv('log_jobindex.csv', sep=',')\n",
    "\n",
    "print(df_log.shape)\n",
    "print('\\n')\n",
    "print(df_log.head())\n",
    "\n",
    "\n"
   ]
  }
 ],
 "metadata": {
  "kernelspec": {
   "display_name": "Python 3",
   "language": "python",
   "name": "python3"
  },
  "language_info": {
   "codemirror_mode": {
    "name": "ipython",
    "version": 3
   },
   "file_extension": ".py",
   "mimetype": "text/x-python",
   "name": "python",
   "nbconvert_exporter": "python",
   "pygments_lexer": "ipython3",
   "version": "3.6.5"
  }
 },
 "nbformat": 4,
 "nbformat_minor": 2
}
