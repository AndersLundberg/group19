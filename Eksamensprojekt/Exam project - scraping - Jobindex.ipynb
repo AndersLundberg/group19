{
 "cells": [
  {
   "cell_type": "markdown",
   "metadata": {},
   "source": [
    "# Scrape Jobindex"
   ]
  },
  {
   "cell_type": "markdown",
   "metadata": {},
   "source": [
    "## Import packages"
   ]
  },
  {
   "cell_type": "code",
   "execution_count": 2,
   "metadata": {},
   "outputs": [],
   "source": [
    "# import packages\n",
    "import requests, json\n",
    "import pandas as pd, numpy as np\n",
    "import time, os"
   ]
  },
  {
   "cell_type": "markdown",
   "metadata": {},
   "source": [
    "## Get web data"
   ]
  },
  {
   "cell_type": "markdown",
   "metadata": {},
   "source": [
    "Procedure\n",
    "collect the first page\n",
    "save the totalresultcount for later usage\n"
   ]
  },
  {
   "cell_type": "code",
   "execution_count": 170,
   "metadata": {},
   "outputs": [],
   "source": [
    "# the basic url\n",
    "# https://www.jobindex.dk/jobsoegning.json?q=&jobage=archive&mindate=20180524&maxdate=20180824&page=2\n",
    "url = 'https://www.jobindex.dk/jobsoegning.json'\n",
    "\n",
    "\n",
    "# the request session\n",
    "session = requests.session()\n",
    "session.headers['email'] = 'pot@potweb.dk' \n",
    "session.headers['name'] = 'Peter Ottosen'\n",
    "#session.headers['User-Agent'] = '' # sometimes you need to pose as another agent...\n",
    "session.headers\n",
    "\n",
    "# container for jobpostings\n",
    "jobpostings = []\n",
    "done = []\n",
    "\n",
    "global last_t\n",
    "last_t = time.time()\n",
    "\n",
    "# function to create the next link\n",
    "def create_link(offset_) :\n",
    "    mindate = 20080101\n",
    "    maxdate = 20091231\n",
    "    addit = '?q=&jobage=archive&mindate=' + str(mindate) + '&maxdate=' + str(maxdate) + '&page=' + str(offset_)\n",
    "    return url + addit\n",
    "\n",
    "def ratelimit():\n",
    "    time.sleep(2) # sleep one second.\n",
    "\n",
    "# Reliable requests\n",
    "def get(url,iterations=10,check_function=lambda x: x.ok):\n",
    "    \"\"\"This module ensures that your script does not crash from connection errors.\n",
    "        that you limit the rate of your calls\n",
    "        that you have some reliability check\n",
    "        iterations : Define number of iterations before giving up. \n",
    "        exceptions: Define which exceptions you accept, default is all. \n",
    "    \"\"\"\n",
    "    for iteration in range(iterations):\n",
    "        try:\n",
    "            # add ratelimit function call here\n",
    "            ratelimit() # !!\n",
    "            response = session.get(url)\n",
    "            if response.ok:\n",
    "                return response # if succesful it will end the iterations here\n",
    "        except exceptions as e: #  find exceptions in the request library requests.exceptions\n",
    "            print(e) # print or log the exception message.\n",
    "    return None # your code will purposely crash if you don't create a check function later.\n",
    "\n",
    "def log_function(url,response,error_check=lambda x: x.ok,separator=',') :\n",
    "    global last_t\n",
    "    logfilepath = r\"C:\\Notebooks\\group19\\Eksamensprojekt/log_jobnet.csv\"\n",
    "    if os.path.isfile(logfilepath) :\n",
    "        f_log = open(logfilepath,'a')\n",
    "    else:\n",
    "        f_log = open(logfilepath,'w') # define logfile, remember not to overwrite it.\n",
    "        # write columns to be used, basic ones are, servertime, deltaT since last call, url, success of request, \n",
    "        header = ['serverTime','deltaT','url','success','length','path']\n",
    "        f_log.write(','.join(header)+'\\n')\n",
    "    #### Update timing info ####\n",
    "    t = time.time()\n",
    "    delta_t = t-last_t # calculate time since last call\n",
    "    last_t = t# update last call time\n",
    "    #### meta data ### \n",
    "    success = error_check(response)\n",
    "    if success: # if call is successfull we add it to the done container\n",
    "        done.append(url)\n",
    "    if response.ok:\n",
    "        length = len(response.text)\n",
    "    else:\n",
    "        length = 0\n",
    "    row = [t,delta_t,url,success,length,path]\n",
    "    f_log.write(separator.join(map(str,row))+'\\n')\n",
    "    f_log.close()\n",
    "\n",
    "\n",
    "# just to get the number of results\n",
    "offset = 1\n",
    "count = 0\n",
    "r = get(create_link(offset))\n",
    "d=json.loads(r.text)\n",
    "\n",
    "#ResultCount=d['TotalResultCount']\n",
    "#jp_keys = d['JobPositionPostings'][0].keys()\n",
    "\n",
    "for pages in range(2, 3) : # pagineringen\n",
    "    offset = pages\n",
    "    link = create_link(offset)\n",
    "    if link in done: #check if you have already downloaded the link\n",
    "        continue\n",
    "    count +=1\n",
    "    r = get(link)\n",
    "    d=json.loads(r.text)\n",
    "#    jobpostings.append(d['JobPositionPostings'])\n",
    "\n",
    "    #define path \n",
    "    base_path = r\"C:\\Notebooks\\group19\\Eksamensprojekt/jobindex.txt\"\n",
    "    path = base_path      # use the link count as a filename\n",
    "    if r.ok:\n",
    "        if os.path.isfile(path) :\n",
    "            f = open(path,'a')\n",
    "        else:\n",
    "            f = open(path,'w') # define logfile, remember not to overwrite it.\n",
    "            \n",
    "        html = r.text\n",
    "        try :\n",
    "            f.write(html)\n",
    "        except UnicodeEncodeError :\n",
    "            print(\"Der opstod en UnicodeEncodeError ved skrivning af side\", str(pages))\n",
    "        else :\n",
    "            pass\n",
    "        f.write('\\n')\n",
    "        f.close()\n",
    "    # run your log function\n",
    "    log_function(link, r)\n",
    "\n"
   ]
  },
  {
   "cell_type": "code",
   "execution_count": 178,
   "metadata": {},
   "outputs": [
    {
     "name": "stdout",
     "output_type": "stream",
     "text": [
      "['\\nChartis, København', ' Teoretisk velfunderet og initiativrig underwriter søges af international forsikringskoncern. ', ' Du skal beskæftige dig med analyse og risikovurdering indenfor erhvervs- og produktansvarsforsikring, autoforsikring og arbejdsskadeforsikring i segmentet for mindre og mellemstore virksomheder. Herudover skal du forhandle forsikringsaftaler, lave skadeovervågning, formulere forsikringsvilkår og lave opsøgende salgsarbejde, primært via forsikringsmæglere. ', ' Vi lægger vægt på, at du har entreprenør ånd, er udadvendt, målbevidst, har mod på komplekse problemstillinger, og ikke mindst er du en teamplayer! ', '\\nBilka, København', 'Som salgsassistentelev bliver du med det sammen en del af et velfungerende team. Du får kundekontakt fra første dag og du får hurtigt ansvar for din egen varegruppe. ', ' Uddannelsen tager 2 år og er en kombination af 8 ugers kursusophold samt praktik i varehuset. I løbet af de 2 år lærer du grundprincipperne inden for kundeservice, vareopfyldning og varepræsentation samt prisstyring og varebestilling. ', '\\nDahl & Kjærgaard HR ApS søger for Conecto A/S i København', 'Vi har et meget interessant forretningsfokus, vi har den faglige ekspertise, og vi har et godt navn i branchen – vi mangler bare … ', 'Endnu en erfaren ordrebehandler, der kan håndtere dele af vores back office! ', ' Du ansættes i Conecto A/S som ordrebehandler med reference til vores kommercielle direktør. ', ' Dine opgaver bliver bl.a: ', '\\nMaersk Drilling A/S, Lyngby', 'Do you want to enable winning leaders and teams in a global business environment through HR transactional excellence and the execution of strategic initiatives? ', ' The Corporate HR Operations department of Maersk Drilling, Maersk FPSOs and Maersk Supply Service is seeking a strong HR professional who is driven by the opportunity to support leaders and the organisation to win in the marketplace. If you are playing to win then you might be the one we are looking for. ', '\\nMatchMind søger for kunde i Aalborg', ' Til vores kunde, en handelsvirksomhed beliggende i Aalborg, søges en faglig kompetent og handlekraftig medarbejder, som skal være ansvarlig for bogholderifunktionen. ', ' Dine arbejdsopgaver og ansvarsområder bliver bl.a.: ', '\\nTAPLOW Denmark recruiting on behalf of client', 'We are seeking a highly dedicated Product Manager / Clinical Manager, EMEA, for a fast growing Medical Device Company within Radiology and Cardiology ', ' The role of the new Clinical Manager, EMEA is to provide technical and clinical support to the Company’s sales representatives and customers regarding the products in the EMEA Region. You will be reporting directly to the Executive Vice President Merit EMEA. ', ' Key Responsibilities: ', '\\nDansk Retursystem A/S', ' På nuværende tidspunkt består it-afdelingen af seks medarbejdere. Afdelingen er delt op i drift og koordinering. It-drift har ansvaret for daglig drift og vedligeholdelse af virksomhedens interne it-systemer i Hedehusene og Løsning. It-koordinering har ansvaret for it sikkerhed, support, dokumentation samt it-udvikling af blandt andet vores forretningssystemer. ', ' Som projektleder får du dagligt arbejde i it-koordinering. Her vil du arbejde tæt sammen med to medarbejdere, som har ansvaret for at koordinere de driftsmæssige tiltag. Du skal være bindeleddet mellem it-koordineringen og udviklingen af vores forretningssystemer. Du får ansvar for at styre og lede it-projekter og sikre, at processen gennemføres og dokumenteres. Ved nye projekter er det dig, som vurderer hvilke og hvor mange ressourcer, der er brug for og løbende følge op – herunder også budgetopfølgning. ', '\\n3', ' Er du velsignet med et velsmurt stemmebånd, mestrer du kunsten at yde kundeservice ud over det sædvanlige, og kører du i Turbo-3G-gear i jagten på det næste salg? Så er det vist lige dig, vi står og mangler. ', ' Vores team i Skalborg søger en kollega til at hjælpe med salg af produkter til både erhvervs- og privatkunder. Jobbet kræver, at du sætter dig grundigt ind i alle vores produkter, så du kan give kunderne en unik oplevelse ved at vejlede og servicere dem med udgangspunkt 3’s værdier: FUN, OWNERSHIP, RELIABLE, CHALLENGING & EAZY. ', '\\n3', ' Er du velsignet med et velsmurt stemmebånd, mestrer du kunsten at yde kundeservice ud over det sædvanlige, og kører du i Turbo-3G-gear i jagten på det næste salg? Så er det vist lige dig, vi står og mangler. ', ' Vores team i 3 butikken på gågaden i Aalborg søger en kollega til at hjælpe med salg af produkter til både erhvervs- og privatkunder. Jobbet kræver, at du sætter dig grundigt ind i alle vores produkter, så du kan give kunderne en unik oplevelse ved at vejlede og servicere dem med udgangspunkt 3’s værdier: FUN, OWNERSHIP, RELIABLE, CHALLENGING & EAZY. ', '\\nBøf og Ost, København', 'Til en stilling som køkkenchef for kvalitetsrestaurant i hjertet af København søges en køkkenchef, der brænder for sit fag og elsker at forkæle gæsternes smagsløg. ', 'Er du kvalitetsbevidst og har fokus på gæsternes oplevelse, venter der dig en udfordrende stilling i et dynamisk og travlt køkken, hvor vi svinger godt med hinanden. Vore høje krav til råvarerne går hånd i hånd med de høje krav til service, og det, at give gæsterne en ekstraordinær oplevelse. ', ' Du skal motivere og inspirere en stab af særdeles kompetente medarbejdere, sikre trivsel og gå foran med et godt eksempel, og sørge for, at driften foregår optimalt. ', '\\nDYRBERG/KERN', '”Vi vil være de bedste til at sælge smykker i Danmark” ', 'DYRBERG/KERN søger M/K fuldtid og deltids Shop Assistants til vor butik i Magasin, Kgs. Lyngby. Du skal som Shop Assistant have erfaring inden for salg og kundeservice, hvor personlige kvaliteter er i højsædet.', ' Vores Shop Assistant skal yde en top motiveret og professionel kundeservice overfor alle vores kunder. Kundeservice er i højsædet da vores kunder kan lide at få en nærværende betjening - og det sætter vi en ære i at tilbyde dem. Vi rådgiver og vejleder om vores produkter og forstår kundens behov hver gang. ', '\\nStatoil A/S - Vejle', 'Statoil A/S er altid på udkig efter servicemindede medarbejdere, der har \"et glimt i øjet\". ', ' Lige nu søger vi en deltidssælger, der har lyst til at være en del af vores team. ', ' Jobbet på et Statoil servicenter er spændende og fleksibelt og der er mange afvekslende opgaver. Du får en grundig oplæring, så du er klædt på til at kunne sælge til og servicere vores kunder.', '\\nSuperBrugsen, Fredensborg', 'Vi tilbyder:', ' Opgaver:', '\\nSuperBrugsen, Ullerød', 'Vi tilbyder:', 'Opgaver:']\n"
     ]
    }
   ],
   "source": [
    "from bs4 import BeautifulSoup\n",
    "import re\n",
    "\n",
    "#print(d.keys())\n",
    "\n",
    "rl = d['result_list_box_html']\n",
    "\n",
    "lineshift = re.compile('\\n')\n",
    "#rl2 = lineshift.sub('<br>', rl)\n",
    "#print(rl2)\n",
    "soup = BeautifulSoup(rl,'lxml')\n",
    "\n",
    "tabel = soup.find('div', attrs={'class':'results component--default'})\n",
    "\n",
    "# Jobindex' importerede annoncer\n",
    "andre = re.compile('r[\\d]+')\n",
    "tabel1 = tabel.findAll('div', attrs={'data-beacon-tid':andre})\n",
    "#print(tabel1)\n",
    "\n",
    "# Jobindex' egne annoncer\n",
    "egne = re.compile('h[\\d]+')\n",
    "tabel2 = tabel.findAll('div', attrs={'data-beacon-tid':egne})\n",
    "#print(tabel2)\n",
    "\n",
    "\n",
    "beskre = []\n",
    "\n",
    "# tag ul skal med \n",
    "for l in tabel2 :\n",
    "    g = l.findAll('p')\n",
    "    for m in g :\n",
    "        beskre.append(m.text)\n",
    "print(beskre)\n",
    "\n",
    "\n",
    "#p=re.compile('\"')\n",
    "#for t_ in tabel2 :\n",
    "#    beskr.append(lineshift.sub(\"\", t_.text))\n",
    "#\n",
    "#beskre2 = []\n",
    "#for t in beskr :\n",
    "#    beskr2.append(t.split(sep='    ')[1])\n",
    "#for t in beskr2 :\n",
    "#    print(t)\n",
    "\n",
    "    \n",
    "    \n",
    "#hyper = []\n",
    "#x1 = tabel.findAll('a', attrs={'href':True}) \n",
    "#for x in x1 :\n",
    "#    hyper.append(x.)\n",
    "#    \n",
    "#print(x1)\n",
    "\n"
   ]
  },
  {
   "cell_type": "markdown",
   "metadata": {},
   "source": [
    "## Jobs hos andre"
   ]
  },
  {
   "cell_type": "code",
   "execution_count": 173,
   "metadata": {},
   "outputs": [
    {
     "name": "stdout",
     "output_type": "stream",
     "text": [
      "['Sales/Customer Business Development Account Manager Intern (English), Copenhagen Area', 'Sygeplejerske, medicinsk gastroenterologisk sengeafsnit D9, Medicinsk afdeling', 'Lægesekretær', 'Timelærer i billedkunst', 'Erhvervsorienteret advokat og advokatfuldmægtige', 'Social- og sundhedsassistent eller plejer til Retspsykiatrisk Afdeling']\n"
     ]
    }
   ],
   "source": [
    "# udled jobs andre\n",
    "jobs = []\n",
    "j = tabel.findAll('strong') \n",
    "for l in j :\n",
    "    jobs.append(l.text)\n",
    "print(jobs)\n",
    "\n",
    "#udled jobbeskrivelse andre\n",
    "beskr = []\n",
    "p=re.compile('\"')\n",
    "for t_ in tabel1 :\n",
    "    beskr.append(lineshift.sub(\"\", t_.text))\n",
    "\n",
    "beskr2 = []\n",
    "for t in beskr :\n",
    "    beskr2.append(t.split(sep='    ')[1])\n",
    "for t in beskr2 :\n",
    "    print(t)\n"
   ]
  },
  {
   "cell_type": "markdown",
   "metadata": {},
   "source": [
    "## Oversigt over data"
   ]
  },
  {
   "cell_type": "code",
   "execution_count": 95,
   "metadata": {},
   "outputs": [
    {
     "name": "stdout",
     "output_type": "stream",
     "text": [
      "Pages read: 3 <class 'list'>\n",
      "Postings per page: 20 <class 'list'>\n",
      "Number of variables in posting: 42 <class 'dict'>\n",
      "AutomatchType : 0\n",
      "Weight : 1.0\n",
      "Title : køkkenmedhjælper\n",
      "JobHeadline : køkkenmedhjælper\n",
      "Presentation : <p>Mama Rosa s&oslash;ger lige i &oslash;jeblikket 2 engagerede dygtige k&oslash;kkenmedhj&aelig;lper/pizzabagere med godt kendskab til det internationale k&oslash;kken.</p>\n",
      "<p>Vi har fokus p&aring; k\n",
      "HiringOrgName : MAMA ROSA COPENHAGEN APS\n",
      "WorkPlaceAddress : Østergade 57\n",
      "WorkPlacePostalCode : 1100\n",
      "WorkPlaceCity : København K\n",
      "WorkPlaceOtherAddress : False\n",
      "WorkPlaceAbroad : False\n",
      "WorkPlaceNotStatic : False\n",
      "UseWorkPlaceAddressForJoblog : True\n",
      "PostingCreated : 2018-08-23T00:00:00\n",
      "LastDateApplication : 2018-10-18T00:00:00\n",
      "AssignmentStartDate : 0001-01-01T00:00:00\n",
      "IsHotjob : False\n",
      "IsExternal : False\n",
      "Url : https://job.jobnet.dk/CV/FindWork/JobDetail/4866851\n",
      "Region : Hovedstaden og Bornholm\n",
      "Municipality : København\n",
      "Country : Danmark\n",
      "PostalCode : 1100\n",
      "PostalCodeName : None\n",
      "JobAnnouncementType : \n",
      "EmploymentType : \n",
      "WorkHours : Fuldtid\n",
      "OccupationArea : Hotel, restauration, køkken, kantine \n",
      "OccupationGroup : køkken- og kantinearbejde\n",
      "Occupation : køkkenmedhjælper\n",
      "Location : {'Latitude': 55.6791, 'Longitude': 12.5806}\n",
      "JoblogWorkTime : {'WorkHour': None, 'DailyWorkTime': 'Dag, aften, nat, weekend'}\n",
      "WorkplaceID : 19401\n",
      "OrganisationId : 20380\n",
      "HiringOrgCVR : 21350370\n",
      "AnonymousEmployer : False\n",
      "ShareUrl : https://job.jobnet.dk/CV/FindWork/Details/4866851\n",
      "JobLogUrl : https://job.jobnet.dk/CV/FindWork/JobDetail/4866851\n",
      "HasLocationValues : True\n",
      "ID : 4866851\n",
      "Latitude : 55.6791\n",
      "Longitude : 12.5806\n"
     ]
    }
   ],
   "source": [
    "print(\"Pages read:\", len(jobpostings), type(jobpostings))\n",
    "print(\"Postings per page:\", len(jobpostings[1]), type(jobpostings[0]))\n",
    "print(\"Number of variables in posting:\", len(jobpostings[0][0]), type(jobpostings[0][0]))\n",
    "for key in jp_keys :\n",
    "    print(key, \":\", jobpostings[0][0][key])"
   ]
  },
  {
   "cell_type": "code",
   "execution_count": 7,
   "metadata": {},
   "outputs": [
    {
     "data": {
      "text/plain": [
       "156"
      ]
     },
     "execution_count": 7,
     "metadata": {},
     "output_type": "execute_result"
    }
   ],
   "source": [
    "len(done)"
   ]
  }
 ],
 "metadata": {
  "kernelspec": {
   "display_name": "Python 3",
   "language": "python",
   "name": "python3"
  },
  "language_info": {
   "codemirror_mode": {
    "name": "ipython",
    "version": 3
   },
   "file_extension": ".py",
   "mimetype": "text/x-python",
   "name": "python",
   "nbconvert_exporter": "python",
   "pygments_lexer": "ipython3",
   "version": "3.6.5"
  }
 },
 "nbformat": 4,
 "nbformat_minor": 2
}
