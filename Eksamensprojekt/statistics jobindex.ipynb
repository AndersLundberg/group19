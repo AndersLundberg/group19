{
 "cells": [
  {
   "cell_type": "code",
   "execution_count": null,
   "metadata": {},
   "outputs": [],
   "source": [
    "print(\"Pages read:\", len(jobpostings), type(jobpostings))\n",
    "print(\"Postings per page:\", len(jobpostings[1]), type(jobpostings[0]))\n",
    "print(\"Number of variables in posting:\", len(jobpostings[0][0]), type(jobpostings[0][0]))\n",
    "for key in jp_keys :\n",
    "    print(key, \":\", jobpostings[0][0][key])"
   ]
  }
 ],
 "metadata": {
  "kernelspec": {
   "display_name": "Python 3",
   "language": "python",
   "name": "python3"
  },
  "language_info": {
   "codemirror_mode": {
    "name": "ipython",
    "version": 3
   },
   "file_extension": ".py",
   "mimetype": "text/x-python",
   "name": "python",
   "nbconvert_exporter": "python",
   "pygments_lexer": "ipython3",
   "version": "3.6.5"
  }
 },
 "nbformat": 4,
 "nbformat_minor": 2
}
