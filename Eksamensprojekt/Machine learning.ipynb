{
 "cells": [
  {
   "cell_type": "code",
   "execution_count": 209,
   "metadata": {},
   "outputs": [],
   "source": [
    "import warnings\n",
    "from sklearn.exceptions import ConvergenceWarning\n",
    "warnings.filterwarnings(action='ignore', category=ConvergenceWarning)\n",
    "\n",
    "import matplotlib.pyplot as plt\n",
    "import numpy as np \n",
    "import pandas as pd \n",
    "import seaborn as sns\n",
    "from sklearn.preprocessing import StandardScaler\n",
    "from sklearn.preprocessing import PolynomialFeatures\n",
    "import time\n",
    "\n",
    "from sklearn.metrics import mean_squared_error as mse\n",
    "from sklearn.linear_model import Lasso, LinearRegression\n",
    "from sklearn.pipeline import make_pipeline\n",
    "\n",
    "%matplotlib inline\n",
    "\n",
    "from sklearn.model_selection import train_test_split\n",
    "\n"
   ]
  },
  {
   "cell_type": "code",
   "execution_count": 184,
   "metadata": {},
   "outputs": [
    {
     "name": "stdout",
     "output_type": "stream",
     "text": [
      "             Carlsberg   Coloplast  Danske Bank         DSV  Jyske Bank  \\\n",
      "Date                                                                      \n",
      "2007-01-31  456.189545  101.200000   235.768773  102.263636  397.664091   \n",
      "2007-02-28  480.336250  100.815000   247.720700   99.975000  428.416050   \n",
      "2007-03-31  470.682727   94.413636   233.739318   96.081818  400.536455   \n",
      "2007-04-30  485.811778   94.594444   237.665111  103.672222  418.761556   \n",
      "2007-05-31  528.809850   97.145000   226.807400  115.155000  404.439550   \n",
      "\n",
      "               Nordea  Novo Nordisk   Novozymes     Vestas        Tryg  \\\n",
      "Date                                                                     \n",
      "2007-01-31  89.079545     48.022727  102.440909  90.772727  242.977273   \n",
      "2007-02-28  90.075000     51.272500   99.295000  93.835000  277.125000   \n",
      "2007-03-31  86.704545     48.602273   98.013636  90.781818  284.295455   \n",
      "2007-04-30  92.750000     53.472222  104.655556  93.572222  343.833333   \n",
      "2007-05-31  92.850000     57.095000  117.150000  93.260000  373.900000   \n",
      "\n",
      "              ...     DSV_jobs  Jyske_Bank_jobs  Nordea_jobs  \\\n",
      "Date          ...                                              \n",
      "2007-01-31    ...           12               30           34   \n",
      "2007-02-28    ...           13               28           46   \n",
      "2007-03-31    ...           23               40           48   \n",
      "2007-04-30    ...           22               31           34   \n",
      "2007-05-31    ...           24               36           59   \n",
      "\n",
      "            Novo_Nordisk_jobs  Novozymes_jobs  Vestas_jobs  Tryg_jobs  \\\n",
      "Date                                                                    \n",
      "2007-01-31                 79              26          106       24.0   \n",
      "2007-02-28                 61              22          109       22.0   \n",
      "2007-03-31                122              34          152       19.0   \n",
      "2007-04-30                 60              13           84       17.0   \n",
      "2007-05-31                106              26           87       20.0   \n",
      "\n",
      "            H_Lundbeck_jobs  Alm_Brand_jobs  SAS_jobs  \n",
      "Date                                                   \n",
      "2007-01-31               37              26        21  \n",
      "2007-02-28               24              21        16  \n",
      "2007-03-31               29              34        29  \n",
      "2007-04-30                9              24        17  \n",
      "2007-05-31               28              23        19  \n",
      "\n",
      "[5 rows x 26 columns]\n"
     ]
    }
   ],
   "source": [
    "# læs data \n",
    "df_est = pd.read_pickle('job_kurser.pkl')\n",
    "\n",
    "print(df_est.head())\n",
    "\n",
    "\n",
    "# def dan_xy(index) :\n",
    "#     y = np.array((np.log(df_est.iloc[index])))\n",
    "#     X = np.array((np.log(df_est.iloc[index+14]))).reshape(-1, 1)\n",
    "#     return X, y\n",
    "\n",
    "# X, y = dan_xy(7)\n",
    "# X_dev, X_test, y_dev, y_test = train_test_split(X, y, test_size=0.25, random_state=1)\n",
    "# X_train, X_eval, y_train, y_eval = train_test_split(X_dev, y_dev, test_size=.25, random_state=2)\n",
    "\n",
    "# X_train\n"
   ]
  },
  {
   "cell_type": "markdown",
   "metadata": {},
   "source": [
    "## Structure data"
   ]
  },
  {
   "cell_type": "code",
   "execution_count": 195,
   "metadata": {},
   "outputs": [
    {
     "name": "stdout",
     "output_type": "stream",
     "text": [
      "['Carlsberg', 'Coloplast', 'Danske Bank', 'DSV', 'Jyske Bank', 'Nordea', 'Novo Nordisk', 'Novozymes', 'Vestas', 'Tryg', 'H. Lundbeck', 'Alm. Brand', 'SAS']\n",
      "     stock_price job_postings    company\n",
      "0       6.174486           22  Carlsberg\n",
      "1       6.154184            8  Carlsberg\n",
      "2       6.185821           16  Carlsberg\n",
      "3       6.270629           30  Carlsberg\n",
      "4       6.275957            9  Carlsberg\n",
      "5       6.333669           17  Carlsberg\n",
      "6       6.346503           13  Carlsberg\n",
      "7       6.365787            7  Carlsberg\n",
      "8       6.370812           21  Carlsberg\n",
      "9       6.261834           19  Carlsberg\n",
      "10      6.236962           31  Carlsberg\n",
      "11      6.143526           23  Carlsberg\n",
      "12      6.105924           34  Carlsberg\n",
      "13      6.195010           36  Carlsberg\n",
      "14      6.233448           20  Carlsberg\n",
      "15      6.268969           41  Carlsberg\n",
      "16      6.193231           14  Carlsberg\n",
      "17      6.040876           22  Carlsberg\n",
      "18      6.099732           33  Carlsberg\n",
      "19      6.081492           19  Carlsberg\n",
      "20      5.529774           34  Carlsberg\n",
      "21      5.263532           28  Carlsberg\n",
      "22      5.210492           17  Carlsberg\n",
      "23      5.244012           10  Carlsberg\n",
      "24      5.258341            7  Carlsberg\n",
      "25      5.363584            6  Carlsberg\n",
      "26      5.542398           10  Carlsberg\n",
      "27      5.770922            8  Carlsberg\n",
      "28      5.822010            9  Carlsberg\n",
      "29      5.838871           14  Carlsberg\n",
      "..           ...          ...        ...\n",
      "581     5.881658           15        SAS\n",
      "582     6.147864           16        SAS\n",
      "583     6.245856           11        SAS\n",
      "584     5.918599           10        SAS\n",
      "585     5.694690           13        SAS\n",
      "586     5.711241           17        SAS\n",
      "587     5.973547            2        SAS\n",
      "588     5.655325            5        SAS\n",
      "589     4.683567            3        SAS\n",
      "590     3.581454            6        SAS\n",
      "591     3.603800            6        SAS\n",
      "592     3.465094            8        SAS\n",
      "593     3.404160            9        SAS\n",
      "594     3.595762            6        SAS\n",
      "595     3.697375            3        SAS\n",
      "596     3.779052            6        SAS\n",
      "597     3.742043            6        SAS\n",
      "598     3.664455            9        SAS\n",
      "599     3.585327            8        SAS\n",
      "600     3.307390            4        SAS\n",
      "601     3.277889           10        SAS\n",
      "602     3.383001            3        SAS\n",
      "603     3.081145            2        SAS\n",
      "604     3.023082            2        SAS\n",
      "605     2.994595            6        SAS\n",
      "606     3.057639            7        SAS\n",
      "607     3.038443            5        SAS\n",
      "608     3.026908           13        SAS\n",
      "609     2.978077           14        SAS\n",
      "610     2.895649           16        SAS\n",
      "\n",
      "[611 rows x 3 columns]\n"
     ]
    }
   ],
   "source": [
    "col_kurs = list(df_est.iloc[:,:13])\n",
    "col_post = list(df_est.iloc[:,-13:])\n",
    "print(col_kurs)\n",
    "l = len(df_est)\n",
    "\n",
    "container = pd.DataFrame(columns=['stock_price', 'job_postings', 'company'])\n",
    "for i in range(len(col_kurs)) :\n",
    "    yserie = np.log(df_est[col_kurs[i]]).shift(periods=-1)\n",
    "    xserie = (df_est[col_post[i]])\n",
    "    tmp = pd.DataFrame(pd.concat([yserie.iloc[:-1], xserie.iloc[:-1]], axis=1, ignore_index=True))\n",
    "    tmp.columns=(['stock_price', 'job_postings'])\n",
    "    tmp['company']=col_kurs[i]\n",
    "    container = pd.concat([container, tmp], axis=0, ignore_index=True)\n",
    "print(container)"
   ]
  },
  {
   "cell_type": "code",
   "execution_count": 230,
   "metadata": {},
   "outputs": [
    {
     "name": "stdout",
     "output_type": "stream",
     "text": [
      "    stock_price  job_postings  company_Alm. Brand  company_Danske Bank  \\\n",
      "94     5.512302          29.0                   0                    1   \n",
      "95     5.454206          45.0                   0                    1   \n",
      "96     5.470863          23.0                   0                    1   \n",
      "97     5.424101          56.0                   0                    1   \n",
      "98     5.363661          73.0                   0                    1   \n",
      "\n",
      "    company_Jyske Bank  company_Nordea  company_Tryg  \n",
      "94                   0               0             0  \n",
      "95                   0               0             0  \n",
      "96                   0               0             0  \n",
      "97                   0               0             0  \n",
      "98                   0               0             0  \n",
      "(176, 6) (176,)\n",
      "(59, 6) (59,)\n"
     ]
    }
   ],
   "source": [
    "container0 = container.fillna(0)#nan_to_num(container)\n",
    "#banks=['Carlsberg']#, 'Danske Bank', 'DSV', 'Jyske Bank', 'Nordea', 'Vestas', 'Tryg', 'Alm. Brand', 'H. Lundbeck']\n",
    "banks=['Nordea', 'Danske Bank', 'Jyske Bank', 'Alm. Brand', 'Tryg']\n",
    "df_bank = container0[container0.company.isin(banks)]\n",
    "\n",
    "#input_data = pd.get_dummies(container0, columns=['company'])\n",
    "input_data = pd.get_dummies(df_bank, columns=['company'])\n",
    "print(input_data.head())\n",
    "\n",
    "input_data_l1 = input_data.shift()\n",
    "\n",
    "# dan X og y\n",
    "y = np.array(input_data['stock_price'])\n",
    "X = np.array(input_data.iloc[:,1:])\n",
    "\n",
    "# dan training og test\n",
    "X_dev, X_test, y_dev, y_test = train_test_split(X, y, test_size=0.25, random_state=1)\n",
    "\n",
    "print(X_dev.shape, y_dev.shape)\n",
    "print(X_test.shape, y_test.shape)\n",
    "y = np.nan_to_num(y, copy=False)\n",
    "\n"
   ]
  },
  {
   "cell_type": "markdown",
   "metadata": {},
   "source": [
    "## Regression"
   ]
  },
  {
   "cell_type": "code",
   "execution_count": 236,
   "metadata": {},
   "outputs": [
    {
     "name": "stdout",
     "output_type": "stream",
     "text": [
      "R^2 Train: 0.873, test: 0.780\n"
     ]
    },
    {
     "data": {
      "text/plain": [
       "<matplotlib.lines.Line2D at 0x216e55175f8>"
      ]
     },
     "execution_count": 236,
     "metadata": {},
     "output_type": "execute_result"
    },
    {
     "data": {
      "image/png": "[encoded data removed]",
      "text/plain": [
       "<Figure size 1440x720 with 2 Axes>"
      ]
     },
     "metadata": {},
     "output_type": "display_data"
    }
   ],
   "source": [
    "from sklearn.metrics import r2_score\n",
    "\n",
    "pipe_lr = make_pipeline(PolynomialFeatures(include_bias=False),\n",
    "                        StandardScaler(),\n",
    "                        LinearRegression())\n",
    "\n",
    "pipe_lr.fit(X_dev, y_dev)\n",
    "\n",
    "\n",
    "#print(\"Beta =\", pipe_lr.coef_[0])\n",
    "#print('Alpha = ', pipe_lr.intercept_)\n",
    "\n",
    "y_dev_hat = pipe_lr.predict(X_dev)\n",
    "y_test_hat = pipe_lr.predict(X_test)\n",
    "\n",
    "\n",
    "print('R^2 Train: %.3f, test: %.3f' % (r2_score(y_dev, y_dev_hat), r2_score(y_test, y_test_hat)))\n",
    "\n",
    "#plt.scatter(X_test[:,0], y_test)\n",
    "\n",
    "fig, ax = plt.subplots(1,2, figsize=(20,10))\n",
    "#ax[0].set_ylim(2.5,6.5)\n",
    "#ax[1].set_ylim(2.5,6.5)\n",
    "ax[0].scatter(y_test, pipe_lr.predict(X_test))\n",
    "ax[1].scatter((y_test-pipe_lr.predict(X_test)), pipe_lr.predict(X_test))\n",
    "ax[1].vlines(x=0, ymin=2.5, ymax=6.5, color='black', lw=2)\n",
    "\n",
    "ax[0].axhline()\n",
    "#x = np.linspace(*ax[0].get_xlim())\n",
    "#ax[0].plot(x, x)"
   ]
  },
  {
   "cell_type": "markdown",
   "metadata": {},
   "source": [
    "## Lasso"
   ]
  },
  {
   "cell_type": "markdown",
   "metadata": {},
   "source": [
    "### Pure lasso"
   ]
  },
  {
   "cell_type": "code",
   "execution_count": 225,
   "metadata": {},
   "outputs": [
    {
     "name": "stdout",
     "output_type": "stream",
     "text": [
      "           alpha  RMSE_test\n",
      "0   1.000000e-10   0.382083\n",
      "1   1.654817e-10   0.382083\n",
      "2   2.738420e-10   0.382083\n",
      "3   4.531584e-10   0.382083\n",
      "4   7.498942e-10   0.382083\n",
      "5   1.240938e-09   0.382083\n",
      "6   2.053525e-09   0.382083\n",
      "7   3.398208e-09   0.382083\n",
      "8   5.623413e-09   0.382083\n",
      "9   9.305720e-09   0.382083\n",
      "10  1.539927e-08   0.382083\n",
      "11  2.548297e-08   0.382083\n",
      "12  4.216965e-08   0.382083\n",
      "13  6.978306e-08   0.382083\n",
      "14  1.154782e-07   0.382083\n",
      "15  1.910953e-07   0.382083\n",
      "16  3.162278e-07   0.382084\n",
      "17  5.232991e-07   0.382084\n",
      "18  8.659643e-07   0.382084\n",
      "19  1.433013e-06   0.382085\n",
      "20  2.371374e-06   0.382085\n",
      "21  3.924190e-06   0.382087\n",
      "22  6.493816e-06   0.382089\n",
      "23  1.074608e-05   0.382093\n",
      "24  1.778279e-05   0.382099\n",
      "25  2.942727e-05   0.382109\n",
      "26  4.869675e-05   0.382126\n",
      "27  8.058422e-05   0.382154\n",
      "28  1.333521e-04   0.382201\n",
      "29  2.206734e-04   0.382279\n",
      "30  3.651741e-04   0.382411\n",
      "31  6.042964e-04   0.382637\n",
      "32  1.000000e-03   0.383028\n"
     ]
    },
    {
     "data": {
      "text/html": [
       "<div>\n",
       "<style scoped>\n",
       "    .dataframe tbody tr th:only-of-type {\n",
       "        vertical-align: middle;\n",
       "    }\n",
       "\n",
       "    .dataframe tbody tr th {\n",
       "        vertical-align: top;\n",
       "    }\n",
       "\n",
       "    .dataframe thead th {\n",
       "        text-align: right;\n",
       "    }\n",
       "</style>\n",
       "<table border=\"1\" class=\"dataframe\">\n",
       "  <thead>\n",
       "    <tr style=\"text-align: right;\">\n",
       "      <th></th>\n",
       "      <th>alpha</th>\n",
       "      <th>RMSE_test</th>\n",
       "    </tr>\n",
       "  </thead>\n",
       "  <tbody>\n",
       "    <tr>\n",
       "      <th>0</th>\n",
       "      <td>1.000000e-10</td>\n",
       "      <td>0.382083</td>\n",
       "    </tr>\n",
       "  </tbody>\n",
       "</table>\n",
       "</div>"
      ],
      "text/plain": [
       "          alpha  RMSE_test\n",
       "0  1.000000e-10   0.382083"
      ]
     },
     "execution_count": 225,
     "metadata": {},
     "output_type": "execute_result"
    }
   ],
   "source": [
    "perform = []\n",
    "\n",
    "alphas = np.logspace(-10,-3,33)\n",
    "\n",
    "for alpha_ in alphas:\n",
    "    \n",
    "    pipe_lasso = make_pipeline(PolynomialFeatures(include_bias=False),\n",
    "                                 StandardScaler(),\n",
    "                                 Lasso(alpha=alpha_, random_state=1))\n",
    "    pipe_lasso.fit(X_dev, y_dev)\n",
    "    perform.append([alpha_, np.sqrt(mse(pipe_lasso.predict(X_test),y_test))])\n",
    "    \n",
    "pf = pd.DataFrame(perform)\n",
    "headers = ['alpha', 'RMSE_test']\n",
    "pf.columns = headers\n",
    "pf.set_index('alpha')\n",
    "print(pf)\n",
    "pf.nsmallest(1, 'RMSE_test')\n",
    "\n"
   ]
  },
  {
   "cell_type": "code",
   "execution_count": 229,
   "metadata": {},
   "outputs": [
    {
     "name": "stdout",
     "output_type": "stream",
     "text": [
      "[5.25834137 5.21049226 6.12478064 5.97940462 6.18582126 6.27062892\n",
      " 5.83887063 5.86743334 6.33477214 5.54239809 6.0814922  5.95988358]\n",
      "[6.06771396 6.06771396 6.06771396 6.06771396 6.06771396 6.06771396\n",
      " 6.06771396 6.06771396 6.06771396 6.06771396 6.06771396 6.06771396] [ 7. 17.  9.  7. 16. 30. 14. 10. 12. 10. 19. 11.]\n"
     ]
    },
    {
     "data": {
      "text/plain": [
       "<matplotlib.collections.PathCollection at 0x216e4bee780>"
      ]
     },
     "execution_count": 229,
     "metadata": {},
     "output_type": "execute_result"
    },
    {
     "data": {
      "image/png": "[encoded data removed]",
      "text/plain": [
       "<Figure size 432x288 with 1 Axes>"
      ]
     },
     "metadata": {},
     "output_type": "display_data"
    }
   ],
   "source": [
    "pipe_lasso = make_pipeline(PolynomialFeatures(include_bias=False),\n",
    "                                 StandardScaler(),\n",
    "                                 Lasso(alpha=0.382083, random_state=1))\n",
    "pipe_lasso.fit(X_dev, y_dev)\n",
    "y_hat = pipe_lasso.predict(X_test)\n",
    "print(y_test)\n",
    "print(y_hat, X_test[:,0])\n",
    "plt.scatter(X_test[:,0], y_hat)\n"
   ]
  },
  {
   "cell_type": "markdown",
   "metadata": {},
   "source": [
    "### kFold"
   ]
  },
  {
   "cell_type": "code",
   "execution_count": null,
   "metadata": {},
   "outputs": [],
   "source": [
    "from sklearn.model_selection import KFold\n",
    "\n",
    "kfolds = KFold(n_splits=5)\n",
    "\n",
    "mseCV = []\n",
    "\n",
    "lambdas =  np.logspace(-5, 4, 12)\n",
    "\n",
    "for lambda_ in lambdas:\n",
    "   \n",
    "    pipe_lassoCV = make_pipeline(PolynomialFeatures(include_bias=False),\n",
    "                                 StandardScaler(),\n",
    "                                 Lasso(alpha=lambda_, random_state=1))    \n",
    "    mseCV_ = []\n",
    "    \n",
    "    for train_idx, val_idx in kfolds.split(X_dev, y_dev):\n",
    "        X_train, y_train = X_dev[train_idx], y_dev[train_idx]\n",
    "        X_val, y_val = X_dev[val_idx], y_dev[val_idx] \n",
    "\n",
    "        pipe_lassoCV.fit(X_train, y_train)\n",
    "        \n",
    "        msetest = mse(pipe_lassoCV.predict(X_test), y_test)\n",
    "        mseCV_.append(msetest)    \n",
    "    mseCV.append(np.mean(mseCV_))\n",
    "\n",
    "optimal = pd.Series(mseCV,index=lambdas).nsmallest(1)\n",
    "print(\"Optimal lambda\")\n",
    "print(\"lambda\",\" \"*5, \"Mean MSE\")\n",
    "print(optimal)\n"
   ]
  },
  {
   "cell_type": "markdown",
   "metadata": {},
   "source": [
    "## Bag of words"
   ]
  },
  {
   "cell_type": "markdown",
   "metadata": {},
   "source": [
    "### Stopwords"
   ]
  },
  {
   "cell_type": "code",
   "execution_count": 119,
   "metadata": {},
   "outputs": [],
   "source": [
    "import nltk\n",
    "stopwords = nltk.corpus.stopwords.words('danish')\n"
   ]
  },
  {
   "cell_type": "markdown",
   "metadata": {},
   "source": [
    "### Get data and fit the CountVectorizer"
   ]
  },
  {
   "cell_type": "code",
   "execution_count": 135,
   "metadata": {},
   "outputs": [
    {
     "name": "stdout",
     "output_type": "stream",
     "text": [
      "Procestid er 0 minutter og 17.5 sekunder\n"
     ]
    }
   ],
   "source": [
    "from sklearn.feature_extraction.text import CountVectorizer\n",
    "from sklearn.feature_extraction.text import TfidfVectorizer\n",
    "\n",
    "ny1 = pd.read_pickle('both1.pkl')\n",
    "ny2 = pd.read_pickle('both2.pkl')\n",
    "ny4 = pd.read_pickle('both4.pkl')\n",
    "\n",
    "df_both = pd.concat([ny1, ny2, ny4], axis=0, join='inner', ignore_index=True)\n",
    "\n",
    "#print(\"Shape\", df_both.shape)\n",
    "#print(\"\\n\")\n",
    "#print(df_both.head(1), \"\\n\", df_both.tail(2))\n",
    "\n",
    "desc = df_both.sample(60000, random_state=5)\n",
    "\n",
    "#print(desc)\n",
    "\n",
    "\n",
    "t0 = time.time()\n",
    "\n",
    "count=TfidfVectorizer(ngram_range=(1, 3), max_df=.1, max_features=5000)\n",
    "bag = count.fit_transform(desc['job_describ'].values)\n",
    "\n",
    "t1 = time.time()\n",
    "\n",
    "print(\"Procestid er\", int((t1-t0)/60), \"minutter og\", round((t1-t0)%60, 2), \"sekunder\")\n",
    "\n",
    "# 10000 linier: Procestid er 0 minutter og 0.78 sekunder"
   ]
  },
  {
   "cell_type": "code",
   "execution_count": 136,
   "metadata": {},
   "outputs": [
    {
     "name": "stdout",
     "output_type": "stream",
     "text": [
      "Procestid er 0 minutter og 6.59 sekunder\n"
     ]
    }
   ],
   "source": [
    "t0 = time.time()\n",
    "\n",
    "X = count.transform(desc['job_describ'])\n",
    "\n",
    "t1 = time.time()\n",
    "\n",
    "print(\"Procestid er\", int((t1-t0)/60), \"minutter og\", round((t1-t0)%60, 2), \"sekunder\")\n",
    "\n",
    "# 10000 linier: Procestid er 0 minutter og 0.49 sekunder"
   ]
  },
  {
   "cell_type": "code",
   "execution_count": 137,
   "metadata": {},
   "outputs": [
    {
     "name": "stdout",
     "output_type": "stream",
     "text": [
      "(60000, 5000)\n"
     ]
    }
   ],
   "source": [
    "print(X.shape)\n",
    "# print(type(X))\n"
   ]
  },
  {
   "cell_type": "markdown",
   "metadata": {},
   "source": [
    "## LatentDirichletAllocation"
   ]
  },
  {
   "cell_type": "code",
   "execution_count": 138,
   "metadata": {},
   "outputs": [
    {
     "name": "stdout",
     "output_type": "stream",
     "text": [
      "Procestid er 2 minutter og 25.17 sekunder\n"
     ]
    }
   ],
   "source": [
    "from sklearn.decomposition import LatentDirichletAllocation\n",
    "lda = LatentDirichletAllocation(n_topics=20, random_state=5, learning_method='batch')\n",
    "t0 = time.time()\n",
    "\n",
    "X_topics = lda.fit_transform(X)\n",
    "\n",
    "t1 = time.time()\n",
    "\n",
    "print(\"Procestid er {} minutter og {} sekunder\".format(int((t1-t0)/60),round((t1-t0)%60, 2)))\n",
    "\n",
    "# 10000 linier: Procestid er 0 minutter og 30.01 sekunder"
   ]
  },
  {
   "cell_type": "code",
   "execution_count": 91,
   "metadata": {},
   "outputs": [
    {
     "name": "stdout",
     "output_type": "stream",
     "text": [
      "(10, 2000)\n"
     ]
    }
   ],
   "source": [
    "print(lda.components_.shape)\n"
   ]
  },
  {
   "cell_type": "code",
   "execution_count": 139,
   "metadata": {
    "scrolled": true
   },
   "outputs": [
    {
     "name": "stdout",
     "output_type": "stream",
     "text": [
      "Category 1:\n",
      "medarbejder muligt medarbejder til rengøring vi søger hurtigst hurtigst muligt en medarbejder til rengøring vi søger en frisk mangler och muligt en søges\n",
      "Category 2:\n",
      "kan det er du dig så skal kan du have god du er måske være for at så er du skal\n",
      "Category 3:\n",
      "timer pr 37 37 timer uge pædagog 30 snarest eller ugen 2009 om ugen 2010 pr uge timer pr\n",
      "Category 4:\n",
      "være være med vil du du være vil du være med til med til at være med til du være med del af en del en del af være en udvikle være en del\n",
      "Category 5:\n",
      "søges søges til dygtig til vores søger vi vi søger en dygtig snarest tiltrædelse vi søger en søger vi en vi en søges en job fra et job fra\n",
      "Category 6:\n",
      "efter løn overenskomst aftale efter aftale løn efter eller efter henhold henhold til nyt eller efter aftale løn og et nyt mail løn efter aftale\n",
      "Category 7:\n",
      "for at blive oprettet konsulenter kontakt med en vores konsulenter med en af du kontakt du kontakt med blive oprettet af vores konsulenter at blive virksomhedsbruger skal du som virksomhedsbruger blive oprettet som virksomhedsbruger\n",
      "Category 8:\n",
      "fuld tid fuld tid annoncen på fuld ny på fuld tid en ny ønsker du ønsker engageret en engageret ansøgning søger en ny du at\n",
      "Category 9:\n",
      "opgaver den samt bliver de virksomheden dine skal det 2008 om får være kunder om virksomheden søger for\n",
      "Category 10:\n",
      "ledig ved stilling besættelse stilling som til besættelse en stilling en stilling som ledig til afdeling ledig til besættelse er ledig pr sygehus er ledig til\n",
      "Category 11:\n",
      "kunde vores kunde kommune søger vi erfaren søger vi en vi en en erfaren for vores kunde for vores kommune søger du for brænder du brænder du for jks\n",
      "Category 12:\n",
      "er en børn er et vi er år danmarks største unge vi er en institution beliggende børn og ligger ca består\n",
      "Category 13:\n",
      "dig arbejde tænke kunne kan at du forventer tænke dig du tænke kunne du du tænke dig vi forventer snarlig du er kunne du tænke\n",
      "Category 14:\n",
      "skole lærer kr lærere nyoprettet elever en lærer skole søger assistent pædagoger nyoprettet stilling time sfo forbindelse med lærer til\n",
      "Category 15:\n",
      "spændende indgå team brug for brug et spændende medarbejdere har brug for har brug spændende og kan udfordrende at indgå arbejdssted sundhedshjælper\n",
      "Category 16:\n",
      "lyst lyst til lyst til at har du du lyst har du lyst du lyst til arbejde at arbejde til at arbejde har lyst har lyst til 00 efter overenskomst arbejde med\n",
      "Category 17:\n",
      "løn kvalifikationer efter kvalifikationer udfordringer efter god løn efter kvalifikationer tilbyder løn efter nye udfordringer gode nye vi tilbyder udvikling god løn\n",
      "Category 18:\n",
      "da søger vi derfor medarbejdere en af flere dygtige af vores valgt vi en gå vore går da en valgt at\n",
      "Category 19:\n",
      "the and of in to is you with as will are our gældende we be\n",
      "Category 20:\n",
      "erfaring social social og eller sundhedsassistent og sundhedsassistent social og sundhedsassistent interesse erfaring med kendskab kendskab til interesse for inden uddannelse inden for\n"
     ]
    }
   ],
   "source": [
    "n_top_words = 15\n",
    "feature_names = count.get_feature_names()\n",
    "for cat_idx, cat in (enumerate(lda.components_)) :\n",
    "    print(\"Category %d:\" % (cat_idx + 1))\n",
    "    print(\" \".join([feature_names[i] for i in cat.argsort()[:-n_top_words - 1:-1]]))\n",
    "    "
   ]
  },
  {
   "cell_type": "code",
   "execution_count": 86,
   "metadata": {},
   "outputs": [
    {
     "name": "stdout",
     "output_type": "stream",
     "text": [
      "Sondrup Bilcenter A/S er en moderne handelsvirksomhed i stadig ekspansion. Vi er autoriseret Volvo og Renault forhandler, og har 5 afdelinger i Østjylland, med hovedkontor i Viby. Sondrup Bilcenter A/S ha \n",
      "\n",
      "Hos Euromaster Danmark A/S har vi søger vi en montør/udemontør til vores center i Skejby Om jobbet: - Montering af dæk på biler lastbiler og... \n",
      "\n",
      "Er du en ildsjæl der har lyst til at være med på holdet der udvikler fælles ledelsesinformation i en af Danmarks største virksomheder - så... \n",
      "\n"
     ]
    }
   ],
   "source": [
    "cat5 = X_topics[:, 4].argsort()[::-1]\n",
    "\n",
    "for iter_idx, post_idx in enumerate(cat5[:3]) :\n",
    "#    print(iter_idx, post_idx)\n",
    "    print(desc['job_describ'].iloc[post_idx], \"\\n\")"
   ]
  }
 ],
 "metadata": {
  "kernelspec": {
   "display_name": "Python 3",
   "language": "python",
   "name": "python3"
  },
  "language_info": {
   "codemirror_mode": {
    "name": "ipython",
    "version": 3
   },
   "file_extension": ".py",
   "mimetype": "text/x-python",
   "name": "python",
   "nbconvert_exporter": "python",
   "pygments_lexer": "ipython3",
   "version": "3.6.5"
  }
 },
 "nbformat": 4,
 "nbformat_minor": 2
}
