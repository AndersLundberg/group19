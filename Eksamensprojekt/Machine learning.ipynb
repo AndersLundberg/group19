{
 "cells": [
  {
   "cell_type": "code",
   "execution_count": 96,
   "metadata": {},
   "outputs": [],
   "source": [
    "import warnings\n",
    "from sklearn.exceptions import ConvergenceWarning\n",
    "warnings.filterwarnings(action='ignore', category=ConvergenceWarning)\n",
    "\n",
    "import matplotlib.pyplot as plt\n",
    "import numpy as np \n",
    "import pandas as pd \n",
    "import seaborn as sns\n",
    "from sklearn.preprocessing import StandardScaler\n",
    "from sklearn.preprocessing import PolynomialFeatures\n",
    "import time\n",
    "\n",
    "from sklearn.metrics import mean_squared_error as mse\n",
    "from sklearn.linear_model import Lasso, LinearRegression\n",
    "from sklearn.pipeline import make_pipeline\n",
    "\n",
    "%matplotlib inline\n",
    "\n",
    "from sklearn.model_selection import train_test_split\n",
    "\n"
   ]
  },
  {
   "cell_type": "code",
   "execution_count": 36,
   "metadata": {},
   "outputs": [
    {
     "name": "stdout",
     "output_type": "stream",
     "text": [
      "            Carlsberg  Coloplast  Danske Bank     DSV  Jyske Bank  Nordea  \\\n",
      "2008-01-31    497.248       89.5      187.387  110.00     370.798   83.75   \n",
      "2008-02-29    441.549       82.4      171.193   99.50     301.564   68.00   \n",
      "2008-03-31    491.597       81.4      172.350   94.25     303.423   74.25   \n",
      "2008-04-30    516.621       88.1      166.566  106.75     305.281   80.25   \n",
      "2008-05-31    524.693       93.0      157.081  122.25     311.322   82.75   \n",
      "\n",
      "            Novo Nordisk  Novozymes  Vestas   Tryg    ...     DSV_jobs  \\\n",
      "2008-01-31          65.0      117.4    78.6  552.0    ...           19   \n",
      "2008-02-29          61.8       80.9    72.9  497.5    ...           38   \n",
      "2008-03-31          67.5       86.9    74.9  516.0    ...           13   \n",
      "2008-04-30          64.8       87.4    84.3  516.0    ...           13   \n",
      "2008-05-31          64.6       90.8    83.8  516.0    ...           13   \n",
      "\n",
      "            Jyske_Bank_jobs  Nordea_jobs  Novo_Nordisk_jobs  Novozymes_jobs  \\\n",
      "2008-01-31               41           78                134              29   \n",
      "2008-02-29               52          102                 87              28   \n",
      "2008-03-31               45           54                 78              26   \n",
      "2008-04-30               31           47                 93              34   \n",
      "2008-05-31               36           42                 81              17   \n",
      "\n",
      "            Vestas_jobs  Tryg_jobs  H_Lundbeck_jobs  Alm_Brand_jobs  SAS_jobs  \n",
      "2008-01-31          345         21               48              40        35  \n",
      "2008-02-29           90         30               35              33        36  \n",
      "2008-03-31          174          9               31              22        24  \n",
      "2008-04-30          281         23               62              42        34  \n",
      "2008-05-31          286         24               49              23         6  \n",
      "\n",
      "[5 rows x 26 columns]\n"
     ]
    },
    {
     "data": {
      "text/plain": [
       "array([[1.94591015],\n",
       "       [4.93447393],\n",
       "       [5.26663576],\n",
       "       [1.79175947],\n",
       "       [1.60943791],\n",
       "       [3.7978908 ],\n",
       "       [3.80425961],\n",
       "       [4.81840885],\n",
       "       [2.99573227],\n",
       "       [4.5685062 ],\n",
       "       [3.91701055],\n",
       "       [1.94591015],\n",
       "       [4.34898678],\n",
       "       [4.4391156 ]])"
      ]
     },
     "execution_count": 36,
     "metadata": {},
     "output_type": "execute_result"
    }
   ],
   "source": [
    "# læs data \n",
    "df_est = pd.read_pickle('job_kurser.pkl')\n",
    "\n",
    "print(df_est.head())\n",
    "\n",
    "\n",
    "def dan_xy(index) :\n",
    "    y = np.array((np.log(df_est.iloc[index])))\n",
    "    X = np.array((np.log(df_est.iloc[index+14]))).reshape(-1, 1)\n",
    "    return X, y\n",
    "\n",
    "X, y = dan_xy(7)\n",
    "X_dev, X_test, y_dev, y_test = train_test_split(X, y, test_size=0.25, random_state=1)\n",
    "X_train, X_eval, y_train, y_eval = train_test_split(X_dev, y_dev, test_size=.25, random_state=2)\n",
    "\n",
    "X_train\n"
   ]
  },
  {
   "cell_type": "markdown",
   "metadata": {},
   "source": [
    "## Regression"
   ]
  },
  {
   "cell_type": "code",
   "execution_count": 37,
   "metadata": {},
   "outputs": [
    {
     "name": "stdout",
     "output_type": "stream",
     "text": [
      "Beta = 0.6516341206822265\n",
      "Alpha =  2.2754764870443376\n",
      "R^2 Train: 0.760, test: 0.859\n"
     ]
    },
    {
     "data": {
      "text/plain": [
       "<matplotlib.collections.PathCollection at 0x20e75492c50>"
      ]
     },
     "execution_count": 37,
     "metadata": {},
     "output_type": "execute_result"
    },
    {
     "data": {
      "image/png": "[encoded data removed]",
      "text/plain": [
       "<Figure size 432x288 with 1 Axes>"
      ]
     },
     "metadata": {},
     "output_type": "display_data"
    }
   ],
   "source": [
    "from sklearn.metrics import r2_score\n",
    "\n",
    "pipe_lr = make_pipeline(PolynomialFeatures(include_bias=False),\n",
    "                        StandardScaler(),\n",
    "                        LinearRegression())\n",
    "\n",
    "pipe_lr.fit(X_dev, y_dev)\n",
    "\n",
    "print(\"Beta =\", lr.coef_[0])\n",
    "print('Alpha = ', lr.intercept_)\n",
    "\n",
    "y_dev_hat = pipe_lr.predict(X_dev)\n",
    "y_test_hat = pipe_lr.predict(X_test)\n",
    "\n",
    "print('R^2 Train: %.3f, test: %.3f' % (r2_score(y_dev, y_dev_hat), r2_score(y_test, y_test_hat)))\n",
    "\n",
    "plt.scatter(X_test, y_test)\n",
    "plt.scatter(X_test, pipe_lr.predict(X_test))"
   ]
  },
  {
   "cell_type": "markdown",
   "metadata": {},
   "source": [
    "## Lasso"
   ]
  },
  {
   "cell_type": "markdown",
   "metadata": {},
   "source": [
    "### Pure lasso"
   ]
  },
  {
   "cell_type": "code",
   "execution_count": 38,
   "metadata": {},
   "outputs": [
    {
     "name": "stdout",
     "output_type": "stream",
     "text": [
      "           alpha  RMSE_eval  RMSE_test\n",
      "0   1.000000e-10   0.515534   0.263842\n",
      "1   1.654817e-10   0.515534   0.263842\n",
      "2   2.738420e-10   0.515534   0.263842\n",
      "3   4.531584e-10   0.515534   0.263842\n",
      "4   7.498942e-10   0.515534   0.263842\n",
      "5   1.240938e-09   0.515534   0.263842\n",
      "6   2.053525e-09   0.515534   0.263842\n",
      "7   3.398208e-09   0.515534   0.263842\n",
      "8   5.623413e-09   0.515534   0.263842\n",
      "9   9.305720e-09   0.515534   0.263842\n",
      "10  1.539927e-08   0.515534   0.263842\n",
      "11  2.548297e-08   0.515534   0.263842\n",
      "12  4.216965e-08   0.515534   0.263842\n",
      "13  6.978306e-08   0.515535   0.263842\n",
      "14  1.154782e-07   0.515536   0.263843\n",
      "15  1.910953e-07   0.515537   0.263843\n",
      "16  3.162278e-07   0.515540   0.263843\n",
      "17  5.232991e-07   0.515543   0.263844\n",
      "18  8.659643e-07   0.515550   0.263845\n",
      "19  1.433013e-06   0.515561   0.263847\n",
      "20  2.371374e-06   0.515579   0.263850\n",
      "21  3.924190e-06   0.515608   0.263855\n",
      "22  6.493816e-06   0.515657   0.263863\n",
      "23  1.074608e-05   0.515738   0.263876\n",
      "24  1.778279e-05   0.515872   0.263899\n",
      "25  2.942727e-05   0.516093   0.263936\n",
      "26  4.869675e-05   0.516236   0.263955\n",
      "27  8.058422e-05   0.516266   0.263946\n",
      "28  1.333521e-04   0.516316   0.263932\n",
      "29  2.206734e-04   0.516400   0.263909\n",
      "30  3.651741e-04   0.516538   0.263871\n",
      "31  6.042964e-04   0.516767   0.263808\n",
      "32  1.000000e-03   0.517146   0.263705\n"
     ]
    },
    {
     "data": {
      "text/html": [
       "<div>\n",
       "<style scoped>\n",
       "    .dataframe tbody tr th:only-of-type {\n",
       "        vertical-align: middle;\n",
       "    }\n",
       "\n",
       "    .dataframe tbody tr th {\n",
       "        vertical-align: top;\n",
       "    }\n",
       "\n",
       "    .dataframe thead th {\n",
       "        text-align: right;\n",
       "    }\n",
       "</style>\n",
       "<table border=\"1\" class=\"dataframe\">\n",
       "  <thead>\n",
       "    <tr style=\"text-align: right;\">\n",
       "      <th></th>\n",
       "      <th>alpha</th>\n",
       "      <th>RMSE_eval</th>\n",
       "      <th>RMSE_test</th>\n",
       "    </tr>\n",
       "  </thead>\n",
       "  <tbody>\n",
       "    <tr>\n",
       "      <th>32</th>\n",
       "      <td>0.001</td>\n",
       "      <td>0.517146</td>\n",
       "      <td>0.263705</td>\n",
       "    </tr>\n",
       "  </tbody>\n",
       "</table>\n",
       "</div>"
      ],
      "text/plain": [
       "    alpha  RMSE_eval  RMSE_test\n",
       "32  0.001   0.517146   0.263705"
      ]
     },
     "execution_count": 38,
     "metadata": {},
     "output_type": "execute_result"
    }
   ],
   "source": [
    "perform = []\n",
    "\n",
    "alphas = np.logspace(-10,-3,33)\n",
    "\n",
    "for alpha_ in alphas:\n",
    "    \n",
    "    pipe_lasso = make_pipeline(PolynomialFeatures(include_bias=False),\n",
    "                                 StandardScaler(),\n",
    "                                 Lasso(alpha=alpha_, random_state=1))\n",
    "    pipe_lasso.fit(X_train, y_train)\n",
    "    perform.append([alpha_, np.sqrt(mse(pipe_lasso.predict(X_eval),y_eval)), \n",
    "                    np.sqrt(mse(pipe_lasso.predict(X_test),y_test))])\n",
    "    \n",
    "pf = pd.DataFrame(perform)\n",
    "headers = ['alpha', 'RMSE_eval', 'RMSE_test']\n",
    "pf.columns = headers\n",
    "pf.set_index('alpha')\n",
    "print(pf)\n",
    "pf.nsmallest(1, 'RMSE_test')\n",
    "\n"
   ]
  },
  {
   "cell_type": "code",
   "execution_count": 39,
   "metadata": {},
   "outputs": [
    {
     "data": {
      "text/plain": [
       "<matplotlib.collections.PathCollection at 0x20e75524320>"
      ]
     },
     "execution_count": 39,
     "metadata": {},
     "output_type": "execute_result"
    },
    {
     "data": {
      "image/png": "[encoded data removed]",
      "text/plain": [
       "<Figure size 432x288 with 1 Axes>"
      ]
     },
     "metadata": {},
     "output_type": "display_data"
    }
   ],
   "source": [
    "pipe_lasso = make_pipeline(PolynomialFeatures(include_bias=False),\n",
    "                                 StandardScaler(),\n",
    "                                 Lasso(alpha=0.001, random_state=1))\n",
    "pipe_lasso.fit(X_train, y_train)\n",
    "y_hat = pipe_lasso.predict(X)\n",
    "\n",
    "plt.scatter(X, y)\n",
    "plt.scatter(X, y_hat)\n"
   ]
  },
  {
   "cell_type": "markdown",
   "metadata": {},
   "source": [
    "### kFold"
   ]
  },
  {
   "cell_type": "code",
   "execution_count": null,
   "metadata": {},
   "outputs": [],
   "source": [
    "from sklearn.model_selection import KFold\n",
    "\n",
    "kfolds = KFold(n_splits=5)\n",
    "\n",
    "mseCV = []\n",
    "\n",
    "lambdas =  np.logspace(-5, 4, 12)\n",
    "\n",
    "for lambda_ in lambdas:\n",
    "   \n",
    "    pipe_lassoCV = make_pipeline(PolynomialFeatures(include_bias=False),\n",
    "                                 StandardScaler(),\n",
    "                                 Lasso(alpha=lambda_, random_state=1))    \n",
    "    mseCV_ = []\n",
    "    \n",
    "    for train_idx, val_idx in kfolds.split(X_dev, y_dev):\n",
    "        X_train, y_train = X_dev[train_idx], y_dev[train_idx]\n",
    "        X_val, y_val = X_dev[val_idx], y_dev[val_idx] \n",
    "\n",
    "        pipe_lassoCV.fit(X_train, y_train)\n",
    "        \n",
    "        msetest = mse(pipe_lassoCV.predict(X_test), y_test)\n",
    "        mseCV_.append(msetest)    \n",
    "    mseCV.append(np.mean(mseCV_))\n",
    "\n",
    "optimal = pd.Series(mseCV,index=lambdas).nsmallest(1)\n",
    "print(\"Optimal lambda\")\n",
    "print(\"lambda\",\" \"*5, \"Mean MSE\")\n",
    "print(optimal)\n"
   ]
  },
  {
   "cell_type": "markdown",
   "metadata": {},
   "source": [
    "## Bag of words"
   ]
  },
  {
   "cell_type": "markdown",
   "metadata": {},
   "source": [
    "### Stopwords"
   ]
  },
  {
   "cell_type": "code",
   "execution_count": 119,
   "metadata": {},
   "outputs": [],
   "source": [
    "import nltk\n",
    "stopwords = nltk.corpus.stopwords.words('danish')\n"
   ]
  },
  {
   "cell_type": "markdown",
   "metadata": {},
   "source": [
    "### Get data and fit the CountVectorizer"
   ]
  },
  {
   "cell_type": "code",
   "execution_count": 135,
   "metadata": {},
   "outputs": [
    {
     "name": "stdout",
     "output_type": "stream",
     "text": [
      "Procestid er 0 minutter og 17.5 sekunder\n"
     ]
    }
   ],
   "source": [
    "from sklearn.feature_extraction.text import CountVectorizer\n",
    "from sklearn.feature_extraction.text import TfidfVectorizer\n",
    "\n",
    "ny1 = pd.read_pickle('both1.pkl')\n",
    "ny2 = pd.read_pickle('both2.pkl')\n",
    "ny4 = pd.read_pickle('both4.pkl')\n",
    "\n",
    "df_both = pd.concat([ny1, ny2, ny4], axis=0, join='inner', ignore_index=True)\n",
    "\n",
    "#print(\"Shape\", df_both.shape)\n",
    "#print(\"\\n\")\n",
    "#print(df_both.head(1), \"\\n\", df_both.tail(2))\n",
    "\n",
    "desc = df_both.sample(60000, random_state=5)\n",
    "\n",
    "#print(desc)\n",
    "\n",
    "\n",
    "t0 = time.time()\n",
    "\n",
    "count=TfidfVectorizer(ngram_range=(1, 3), max_df=.1, max_features=5000)\n",
    "bag = count.fit_transform(desc['job_describ'].values)\n",
    "\n",
    "t1 = time.time()\n",
    "\n",
    "print(\"Procestid er\", int((t1-t0)/60), \"minutter og\", round((t1-t0)%60, 2), \"sekunder\")\n",
    "\n",
    "# 10000 linier: Procestid er 0 minutter og 0.78 sekunder"
   ]
  },
  {
   "cell_type": "code",
   "execution_count": 136,
   "metadata": {},
   "outputs": [
    {
     "name": "stdout",
     "output_type": "stream",
     "text": [
      "Procestid er 0 minutter og 6.59 sekunder\n"
     ]
    }
   ],
   "source": [
    "t0 = time.time()\n",
    "\n",
    "X = count.transform(desc['job_describ'])\n",
    "\n",
    "t1 = time.time()\n",
    "\n",
    "print(\"Procestid er\", int((t1-t0)/60), \"minutter og\", round((t1-t0)%60, 2), \"sekunder\")\n",
    "\n",
    "# 10000 linier: Procestid er 0 minutter og 0.49 sekunder"
   ]
  },
  {
   "cell_type": "code",
   "execution_count": 137,
   "metadata": {},
   "outputs": [
    {
     "name": "stdout",
     "output_type": "stream",
     "text": [
      "(60000, 5000)\n"
     ]
    }
   ],
   "source": [
    "print(X.shape)\n",
    "# print(type(X))\n"
   ]
  },
  {
   "cell_type": "markdown",
   "metadata": {},
   "source": [
    "## LatentDirichletAllocation"
   ]
  },
  {
   "cell_type": "code",
   "execution_count": 138,
   "metadata": {},
   "outputs": [
    {
     "name": "stdout",
     "output_type": "stream",
     "text": [
      "Procestid er 2 minutter og 25.17 sekunder\n"
     ]
    }
   ],
   "source": [
    "from sklearn.decomposition import LatentDirichletAllocation\n",
    "lda = LatentDirichletAllocation(n_topics=20, random_state=5, learning_method='batch')\n",
    "t0 = time.time()\n",
    "\n",
    "X_topics = lda.fit_transform(X)\n",
    "\n",
    "t1 = time.time()\n",
    "\n",
    "print(\"Procestid er {} minutter og {} sekunder\".format(int((t1-t0)/60),round((t1-t0)%60, 2)))\n",
    "\n",
    "# 10000 linier: Procestid er 0 minutter og 30.01 sekunder"
   ]
  },
  {
   "cell_type": "code",
   "execution_count": 91,
   "metadata": {},
   "outputs": [
    {
     "name": "stdout",
     "output_type": "stream",
     "text": [
      "(10, 2000)\n"
     ]
    }
   ],
   "source": [
    "print(lda.components_.shape)\n"
   ]
  },
  {
   "cell_type": "code",
   "execution_count": 139,
   "metadata": {
    "scrolled": true
   },
   "outputs": [
    {
     "name": "stdout",
     "output_type": "stream",
     "text": [
      "Category 1:\n",
      "medarbejder muligt medarbejder til rengøring vi søger hurtigst hurtigst muligt en medarbejder til rengøring vi søger en frisk mangler och muligt en søges\n",
      "Category 2:\n",
      "kan det er du dig så skal kan du have god du er måske være for at så er du skal\n",
      "Category 3:\n",
      "timer pr 37 37 timer uge pædagog 30 snarest eller ugen 2009 om ugen 2010 pr uge timer pr\n",
      "Category 4:\n",
      "være være med vil du du være vil du være med til med til at være med til du være med del af en del en del af være en udvikle være en del\n",
      "Category 5:\n",
      "søges søges til dygtig til vores søger vi vi søger en dygtig snarest tiltrædelse vi søger en søger vi en vi en søges en job fra et job fra\n",
      "Category 6:\n",
      "efter løn overenskomst aftale efter aftale løn efter eller efter henhold henhold til nyt eller efter aftale løn og et nyt mail løn efter aftale\n",
      "Category 7:\n",
      "for at blive oprettet konsulenter kontakt med en vores konsulenter med en af du kontakt du kontakt med blive oprettet af vores konsulenter at blive virksomhedsbruger skal du som virksomhedsbruger blive oprettet som virksomhedsbruger\n",
      "Category 8:\n",
      "fuld tid fuld tid annoncen på fuld ny på fuld tid en ny ønsker du ønsker engageret en engageret ansøgning søger en ny du at\n",
      "Category 9:\n",
      "opgaver den samt bliver de virksomheden dine skal det 2008 om får være kunder om virksomheden søger for\n",
      "Category 10:\n",
      "ledig ved stilling besættelse stilling som til besættelse en stilling en stilling som ledig til afdeling ledig til besættelse er ledig pr sygehus er ledig til\n",
      "Category 11:\n",
      "kunde vores kunde kommune søger vi erfaren søger vi en vi en en erfaren for vores kunde for vores kommune søger du for brænder du brænder du for jks\n",
      "Category 12:\n",
      "er en børn er et vi er år danmarks største unge vi er en institution beliggende børn og ligger ca består\n",
      "Category 13:\n",
      "dig arbejde tænke kunne kan at du forventer tænke dig du tænke kunne du du tænke dig vi forventer snarlig du er kunne du tænke\n",
      "Category 14:\n",
      "skole lærer kr lærere nyoprettet elever en lærer skole søger assistent pædagoger nyoprettet stilling time sfo forbindelse med lærer til\n",
      "Category 15:\n",
      "spændende indgå team brug for brug et spændende medarbejdere har brug for har brug spændende og kan udfordrende at indgå arbejdssted sundhedshjælper\n",
      "Category 16:\n",
      "lyst lyst til lyst til at har du du lyst har du lyst du lyst til arbejde at arbejde til at arbejde har lyst har lyst til 00 efter overenskomst arbejde med\n",
      "Category 17:\n",
      "løn kvalifikationer efter kvalifikationer udfordringer efter god løn efter kvalifikationer tilbyder løn efter nye udfordringer gode nye vi tilbyder udvikling god løn\n",
      "Category 18:\n",
      "da søger vi derfor medarbejdere en af flere dygtige af vores valgt vi en gå vore går da en valgt at\n",
      "Category 19:\n",
      "the and of in to is you with as will are our gældende we be\n",
      "Category 20:\n",
      "erfaring social social og eller sundhedsassistent og sundhedsassistent social og sundhedsassistent interesse erfaring med kendskab kendskab til interesse for inden uddannelse inden for\n"
     ]
    }
   ],
   "source": [
    "n_top_words = 15\n",
    "feature_names = count.get_feature_names()\n",
    "for cat_idx, cat in (enumerate(lda.components_)) :\n",
    "    print(\"Category %d:\" % (cat_idx + 1))\n",
    "    print(\" \".join([feature_names[i] for i in cat.argsort()[:-n_top_words - 1:-1]]))\n",
    "    "
   ]
  },
  {
   "cell_type": "code",
   "execution_count": 86,
   "metadata": {},
   "outputs": [
    {
     "name": "stdout",
     "output_type": "stream",
     "text": [
      "Sondrup Bilcenter A/S er en moderne handelsvirksomhed i stadig ekspansion. Vi er autoriseret Volvo og Renault forhandler, og har 5 afdelinger i Østjylland, med hovedkontor i Viby. Sondrup Bilcenter A/S ha \n",
      "\n",
      "Hos Euromaster Danmark A/S har vi søger vi en montør/udemontør til vores center i Skejby Om jobbet: - Montering af dæk på biler lastbiler og... \n",
      "\n",
      "Er du en ildsjæl der har lyst til at være med på holdet der udvikler fælles ledelsesinformation i en af Danmarks største virksomheder - så... \n",
      "\n"
     ]
    }
   ],
   "source": [
    "cat5 = X_topics[:, 4].argsort()[::-1]\n",
    "\n",
    "for iter_idx, post_idx in enumerate(cat5[:3]) :\n",
    "#    print(iter_idx, post_idx)\n",
    "    print(desc['job_describ'].iloc[post_idx], \"\\n\")"
   ]
  }
 ],
 "metadata": {
  "kernelspec": {
   "display_name": "Python 3",
   "language": "python",
   "name": "python3"
  },
  "language_info": {
   "codemirror_mode": {
    "name": "ipython",
    "version": 3
   },
   "file_extension": ".py",
   "mimetype": "text/x-python",
   "name": "python",
   "nbconvert_exporter": "python",
   "pygments_lexer": "ipython3",
   "version": "3.6.6"
  }
 },
 "nbformat": 4,
 "nbformat_minor": 2
}
