{
 "cells": [
  {
   "cell_type": "code",
   "execution_count": 1,
   "metadata": {},
   "outputs": [],
   "source": [
    "from sklearn.ensemble import RandomForestClassifier\n",
    "\n",
    "import warnings\n",
    "from sklearn.exceptions import ConvergenceWarning\n",
    "warnings.filterwarnings(action='ignore', category=ConvergenceWarning)\n",
    "\n",
    "import matplotlib.pyplot as plt\n",
    "import numpy as np \n",
    "import pandas as pd \n",
    "import seaborn as sns\n",
    "from sklearn.preprocessing import StandardScaler\n",
    "from sklearn.preprocessing import PolynomialFeatures\n",
    "\n",
    "\n",
    "from sklearn.metrics import mean_squared_error as mse\n",
    "from sklearn.linear_model import Lasso, LinearRegression\n",
    "from sklearn.pipeline import make_pipeline\n",
    "\n",
    "%matplotlib inline\n",
    "\n",
    "from sklearn.model_selection import train_test_split\n",
    "\n"
   ]
  },
  {
   "cell_type": "raw",
   "metadata": {},
   "source": [
    "# læs data \n",
    "ny1 = pd.read_pickle('both1.pkl')\n",
    "ny2 = pd.read_pickle('both2.pkl')\n",
    "\n",
    "df_both = pd.concat([ny1, ny2], axis=0, join='inner', ignore_index=True)\n",
    "\n",
    "df_both.head()"
   ]
  },
  {
   "cell_type": "code",
   "execution_count": null,
   "metadata": {},
   "outputs": [],
   "source": [
    "X_train, X_test, y_train, y_test = train_test_split(X, y, test_size=0.25, random_state=1)\n"
   ]
  },
  {
   "cell_type": "markdown",
   "metadata": {},
   "source": [
    "## Random forest"
   ]
  },
  {
   "cell_type": "code",
   "execution_count": null,
   "metadata": {},
   "outputs": [],
   "source": [
    "model3 = RandomForestClassifier(n_estimators=20)\n",
    "\n",
    "model3.fit(X_train, y_train)\n"
   ]
  },
  {
   "cell_type": "markdown",
   "metadata": {},
   "source": [
    "## Lasso"
   ]
  },
  {
   "cell_type": "code",
   "execution_count": null,
   "metadata": {},
   "outputs": [],
   "source": [
    "\n",
    "perform = []\n",
    "lambdas = np.logspace(-4,4,33)\n",
    "\n",
    "for lambda_ in lambdas:\n",
    "    pipe_lasso = Lasso(alpha=lambda_, random_state=1)\n",
    "    pipe_lasso.fit(X_train_std, y_train)\n",
    "    perform.append([lambda_, np.sqrt(mse(pipe_lasso.predict(X_train_std),y_train)), \n",
    "                    np.sqrt(mse(pipe_lasso.predict(X_test_std),y_test))])\n",
    "    \n",
    "pf = pd.DataFrame(perform)\n",
    "headers = ['lambda', 'RMSE_train', 'RMSE_test']\n",
    "pf.columns = headers\n",
    "pf.set_index('lambda')\n"
   ]
  },
  {
   "cell_type": "markdown",
   "metadata": {},
   "source": [
    "## kFold"
   ]
  },
  {
   "cell_type": "code",
   "execution_count": null,
   "metadata": {},
   "outputs": [],
   "source": [
    "from sklearn.model_selection import KFold\n",
    "\n",
    "X_dev, X_test, y_dev, y_test = train_test_split(X, y, test_size=0.3, random_state=1)\n",
    "\n",
    "kfolds = KFold(n_splits=5)\n",
    "\n",
    "mseCV = []\n",
    "\n",
    "lambdas =  np.logspace(-5, 4, 12)\n",
    "\n",
    "for lambda_ in lambdas:\n",
    "   \n",
    "    pipe_lassoCV = make_pipeline(PolynomialFeatures(include_bias=False),\n",
    "                                 StandardScaler(),\n",
    "                                 Lasso(alpha=lambda_, random_state=1))    \n",
    "    mseCV_ = []\n",
    "    \n",
    "    for train_idx, val_idx in kfolds.split(X_dev, y_dev):\n",
    "        X_train, y_train = X_dev[train_idx], y_dev[train_idx]\n",
    "        X_val, y_val = X_dev[val_idx], y_dev[val_idx] \n",
    "\n",
    "        pipe_lassoCV.fit(X_train, y_train)\n",
    "        \n",
    "        msetest = mse(pipe_lassoCV.predict(X_test), y_test)\n",
    "        mseCV_.append(msetest)    \n",
    "    mseCV.append(np.mean(mseCV_))\n",
    "\n",
    "optimal = pd.Series(mseCV,index=lambdas).nsmallest(1)\n",
    "print(\"Optimal lambda\")\n",
    "print(\"lambda\",\" \"*5, \"Mean MSE\")\n",
    "print(optimal)\n"
   ]
  }
 ],
 "metadata": {
  "kernelspec": {
   "display_name": "Python 3",
   "language": "python",
   "name": "python3"
  },
  "language_info": {
   "codemirror_mode": {
    "name": "ipython",
    "version": 3
   },
   "file_extension": ".py",
   "mimetype": "text/x-python",
   "name": "python",
   "nbconvert_exporter": "python",
   "pygments_lexer": "ipython3",
   "version": "3.6.5"
  }
 },
 "nbformat": 4,
 "nbformat_minor": 2
}
