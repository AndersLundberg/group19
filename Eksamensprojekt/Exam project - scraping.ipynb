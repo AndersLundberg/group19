{
 "cells": [
  {
   "cell_type": "markdown",
   "metadata": {},
   "source": [
    "# Scrape Jobnet "
   ]
  },
  {
   "cell_type": "markdown",
   "metadata": {},
   "source": [
    "## Import packages"
   ]
  },
  {
   "cell_type": "code",
   "execution_count": 61,
   "metadata": {},
   "outputs": [],
   "source": [
    "# import packages\n",
    "import requests, json\n",
    "import pandas as pd, numpy as np\n",
    "import time, os\n"
   ]
  },
  {
   "cell_type": "markdown",
   "metadata": {},
   "source": [
    "## Get web data"
   ]
  },
  {
   "cell_type": "markdown",
   "metadata": {},
   "source": [
    "Procedure\n",
    "collect the first page\n",
    "save the totalresultcount for later usage\n"
   ]
  },
  {
   "cell_type": "code",
   "execution_count": 107,
   "metadata": {},
   "outputs": [
    {
     "name": "stdout",
     "output_type": "stream",
     "text": [
      "True\n",
      "True\n",
      "True\n"
     ]
    },
    {
     "ename": "AttributeError",
     "evalue": "'int' object has no attribute 'close'",
     "output_type": "error",
     "traceback": [
      "\u001b[1;31m---------------------------------------------------------------------------\u001b[0m",
      "\u001b[1;31mAttributeError\u001b[0m                            Traceback (most recent call last)",
      "\u001b[1;32m<ipython-input-107-71a93bc7d05d>\u001b[0m in \u001b[0;36m<module>\u001b[1;34m()\u001b[0m\n\u001b[0;32m    101\u001b[0m     \u001b[0mlog_function\u001b[0m\u001b[1;33m(\u001b[0m\u001b[0mlink\u001b[0m\u001b[1;33m,\u001b[0m \u001b[0mr\u001b[0m\u001b[1;33m)\u001b[0m\u001b[1;33m\u001b[0m\u001b[0m\n\u001b[0;32m    102\u001b[0m \u001b[1;33m\u001b[0m\u001b[0m\n\u001b[1;32m--> 103\u001b[1;33m \u001b[0mf_log\u001b[0m\u001b[1;33m.\u001b[0m\u001b[0mclose\u001b[0m\u001b[1;33m(\u001b[0m\u001b[1;33m)\u001b[0m\u001b[1;33m\u001b[0m\u001b[0m\n\u001b[0m",
      "\u001b[1;31mAttributeError\u001b[0m: 'int' object has no attribute 'close'"
     ]
    }
   ],
   "source": [
    "# the basic url\n",
    "url = 'https://job.jobnet.dk/CV/FindWork/Search'\n",
    "\n",
    "\n",
    "# the request session\n",
    "session = requests.session()\n",
    "session.headers['email'] = 'pot@potweb.dk' \n",
    "session.headers['name'] = 'Peter Ottosen'\n",
    "#session.headers['User-Agent'] = '' # sometimes you need to pose as another agent...\n",
    "session.headers\n",
    "\n",
    "# container for jobpostings\n",
    "jobpostings = []\n",
    "done = []\n",
    "\n",
    "global last_t\n",
    "last_t = time.time()\n",
    "\n",
    "# function to create the next link\n",
    "def create_link(offset_) :\n",
    "    addit = '?Offset=' + str(offset) + '&SortValue=BestMatch'\n",
    "    return url + addit\n",
    "\n",
    "def ratelimit():\n",
    "    time.sleep(2) # sleep one second.\n",
    "\n",
    "# Reliable requests\n",
    "def get(url,iterations=10,check_function=lambda x: x.ok):\n",
    "    \"\"\"This module ensures that your script does not crash from connection errors.\n",
    "        that you limit the rate of your calls\n",
    "        that you have some reliability check\n",
    "        iterations : Define number of iterations before giving up. \n",
    "        exceptions: Define which exceptions you accept, default is all. \n",
    "    \"\"\"\n",
    "    for iteration in range(iterations):\n",
    "        try:\n",
    "            # add ratelimit function call here\n",
    "            ratelimit() # !!\n",
    "            response = session.get(url)\n",
    "            if response.ok:\n",
    "                return response # if succesful it will end the iterations here\n",
    "        except exceptions as e: #  find exceptions in the request library requests.exceptions\n",
    "            print(e) # print or log the exception message.\n",
    "    return None # your code will purposely crash if you don't create a check function later.\n",
    "\n",
    "def log_function(url,response,error_check=lambda x: x.ok,separator=',') :\n",
    "    global last_t\n",
    "    logfilepath = r\"C:\\Notebooks\\group19\\Eksamensprojekt/log_jobnet.csv\"\n",
    "    if os.path.isfile(logfilepath) :\n",
    "        f_log = open(logfilepath,'a')\n",
    "    else:\n",
    "        f_log = open(logfilepath,'w') # define logfile, remember not to overwrite it.\n",
    "        # write columns to be used, basic ones are, servertime, deltaT since last call, url, success of request, \n",
    "        header = ['serverTime','deltaT','url','success','length','path']\n",
    "        f_log.write(','.join(header)+'\\n')\n",
    "    #### Update timing info ####\n",
    "    t = time.time()\n",
    "    delta_t = t-last_t # calculate time since last call\n",
    "    last_t = t# update last call time\n",
    "    #### meta data ### \n",
    "    success = error_check(response)\n",
    "    if success: # if call is successfull we add it to the done container\n",
    "        done.append(url)\n",
    "    if response.ok:\n",
    "        length = len(response.text)\n",
    "    else:\n",
    "        length = 0\n",
    "    row = [t,delta_t,url,success,length,path]\n",
    "    f_log.write(separator.join(map(str,row))+'\\n')\n",
    "\n",
    "# just to get the number of results\n",
    "offset = 0\n",
    "count = 0\n",
    "r = get(create_link(offset))\n",
    "d=json.loads(r.text)\n",
    "\n",
    "ResultCount=d['TotalResultCount']\n",
    "jp_keys = d['JobPositionPostings'][0].keys()\n",
    "\n",
    "for pages in range(0, 60, 20) : # 60 skal erstattes af ResultCount i en skarp version\n",
    "    offset = pages\n",
    "    link = create_link(offset)\n",
    "    if link in done: #check if you have already downloaded the link\n",
    "        continue\n",
    "    count +=1\n",
    "    r = get(link)\n",
    "#    d=json.loads(r.text)\n",
    "#    jobpostings.append(d['JobPositionPostings'])\n",
    "\n",
    "    #define path \n",
    "    base_path = r\"C:\\Notebooks\\group19\\Eksamensprojekt/\"\n",
    "    path = base_path+str(count) # use the link count as a filename\n",
    "    if r.ok:\n",
    "        f = open(path,'w') \n",
    "        html = r.text\n",
    "        f.write(html)\n",
    "        f.write('\\n\\r')\n",
    "        f.close()\n",
    "    # run your log function\n",
    "    log_function(link, r)\n",
    "\n",
    "f_log.close()\n"
   ]
  },
  {
   "cell_type": "markdown",
   "metadata": {},
   "source": [
    "## Oversigt over data"
   ]
  },
  {
   "cell_type": "code",
   "execution_count": 95,
   "metadata": {},
   "outputs": [
    {
     "name": "stdout",
     "output_type": "stream",
     "text": [
      "Pages read: 3 <class 'list'>\n",
      "Postings per page: 20 <class 'list'>\n",
      "Number of variables in posting: 42 <class 'dict'>\n",
      "AutomatchType : 0\n",
      "Weight : 1.0\n",
      "Title : køkkenmedhjælper\n",
      "JobHeadline : køkkenmedhjælper\n",
      "Presentation : <p>Mama Rosa s&oslash;ger lige i &oslash;jeblikket 2 engagerede dygtige k&oslash;kkenmedhj&aelig;lper/pizzabagere med godt kendskab til det internationale k&oslash;kken.</p>\n",
      "<p>Vi har fokus p&aring; k\n",
      "HiringOrgName : MAMA ROSA COPENHAGEN APS\n",
      "WorkPlaceAddress : Østergade 57\n",
      "WorkPlacePostalCode : 1100\n",
      "WorkPlaceCity : København K\n",
      "WorkPlaceOtherAddress : False\n",
      "WorkPlaceAbroad : False\n",
      "WorkPlaceNotStatic : False\n",
      "UseWorkPlaceAddressForJoblog : True\n",
      "PostingCreated : 2018-08-23T00:00:00\n",
      "LastDateApplication : 2018-10-18T00:00:00\n",
      "AssignmentStartDate : 0001-01-01T00:00:00\n",
      "IsHotjob : False\n",
      "IsExternal : False\n",
      "Url : https://job.jobnet.dk/CV/FindWork/JobDetail/4866851\n",
      "Region : Hovedstaden og Bornholm\n",
      "Municipality : København\n",
      "Country : Danmark\n",
      "PostalCode : 1100\n",
      "PostalCodeName : None\n",
      "JobAnnouncementType : \n",
      "EmploymentType : \n",
      "WorkHours : Fuldtid\n",
      "OccupationArea : Hotel, restauration, køkken, kantine \n",
      "OccupationGroup : køkken- og kantinearbejde\n",
      "Occupation : køkkenmedhjælper\n",
      "Location : {'Latitude': 55.6791, 'Longitude': 12.5806}\n",
      "JoblogWorkTime : {'WorkHour': None, 'DailyWorkTime': 'Dag, aften, nat, weekend'}\n",
      "WorkplaceID : 19401\n",
      "OrganisationId : 20380\n",
      "HiringOrgCVR : 21350370\n",
      "AnonymousEmployer : False\n",
      "ShareUrl : https://job.jobnet.dk/CV/FindWork/Details/4866851\n",
      "JobLogUrl : https://job.jobnet.dk/CV/FindWork/JobDetail/4866851\n",
      "HasLocationValues : True\n",
      "ID : 4866851\n",
      "Latitude : 55.6791\n",
      "Longitude : 12.5806\n"
     ]
    }
   ],
   "source": [
    "print(\"Pages read:\", len(jobpostings), type(jobpostings))\n",
    "print(\"Postings per page:\", len(jobpostings[1]), type(jobpostings[0]))\n",
    "print(\"Number of variables in posting:\", len(jobpostings[0][0]), type(jobpostings[0][0]))\n",
    "for key in jp_keys :\n",
    "    print(key, \":\", jobpostings[0][0][key])"
   ]
  },
  {
   "cell_type": "code",
   "execution_count": null,
   "metadata": {},
   "outputs": [],
   "source": []
  }
 ],
 "metadata": {
  "kernelspec": {
   "display_name": "Python 3",
   "language": "python",
   "name": "python3"
  },
  "language_info": {
   "codemirror_mode": {
    "name": "ipython",
    "version": 3
   },
   "file_extension": ".py",
   "mimetype": "text/x-python",
   "name": "python",
   "nbconvert_exporter": "python",
   "pygments_lexer": "ipython3",
   "version": "3.6.5"
  }
 },
 "nbformat": 4,
 "nbformat_minor": 2
}
