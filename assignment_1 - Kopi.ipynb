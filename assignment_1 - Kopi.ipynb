{
 "cells": [
  {
   "cell_type": "markdown",
   "metadata": {},
   "source": [
    "# Mandatory Assignment 1\n",
    "\n",
    "This is the first of two mandatory assignments which must be completed during the course. First some practical information:\n",
    "\n",
    "* When is the assignment due?: **23:59, Sunday, August 19, 2018.**\n",
    "* How do you grade the assignment?: You will **peergrade** each other as primary grading. \n",
    "* Must I hand-in as a group?: **yes**\n",
    "\n",
    "The assigment consist of one to three problems from each of the exercise sets you have solved so far (excluding Exercise Set 1). We've tried to select problems which are self contained, but it might be nessecary to solve some of the previous exercises in each set to fully answer the problems in this assignment.\n",
    "\n",
    "## Problems from Exercise Set 2:\n",
    "\n",
    "> **Ex. 2.2**: Make two lists. The first should be numbered. The second should be unnumbered and contain at least one sublevel. "
   ]
  },
  {
   "cell_type": "markdown",
   "metadata": {},
   "source": [
    "# [Answer to Ex. 2.2 here] (convert to markdown cell)\n",
    "\n",
    "\n",
    "List1\n",
    "1. Dette er den første\n",
    "2. Dette er den anden"
   ]
  },
  {
   "cell_type": "markdown",
   "metadata": {},
   "source": [
    "## Problems from Exercise set 3:\n",
    "\n",
    "> **Ex. 3.1.3:** Let `l1 = ['r ', 'Is', '>', ' < ', 'g ', '?']`. Create from `l1` the sentence \"Is r > g?\" using your knowledge about string formatting. Make sure there is only one space in between worlds.\n",
    ">\n",
    ">> _Hint:_ You should be able to combine the above informations to solve this exercise."
   ]
  },
  {
   "cell_type": "code",
   "execution_count": 1,
   "metadata": {},
   "outputs": [
    {
     "data": {
      "text/plain": [
       "'Is r > g?'"
      ]
     },
     "execution_count": 1,
     "metadata": {},
     "output_type": "execute_result"
    }
   ],
   "source": [
    "import pandas as pd\n",
    "import numpy as np\n",
    "import requests\n",
    "import random\n",
    "import json\n",
    "import re\n",
    "import pprint\n",
    "from bs4 import BeautifulSoup\n",
    "# [Answer to Ex. 3.1.3 here] \n",
    "l1=['r ', 'Is', '>', ' < ', 'g ', '?']\n",
    "' '.join(['Is', 'r '.strip(), '>', 'g '.strip()+ '?' ])"
   ]
  },
  {
   "cell_type": "markdown",
   "metadata": {},
   "source": [
    "> **Ex. 3.1.4**: Create an empty dictionary `words` using the `dict()`function. Then add each of the words in `['animal', 'coffee', 'python', 'unit', 'knowledge', 'tread', 'arise']` as a key, with the value being a boolean indicator for whether the word begins with a vowel. The results should look like `{'bacon': False, 'asynchronous': True ...}`\n",
    ">\n",
    ">> _Hint:_ You might want co first construct a function that asseses whether a given word begins with a vowel or not."
   ]
  },
  {
   "cell_type": "code",
   "execution_count": 2,
   "metadata": {},
   "outputs": [
    {
     "name": "stdout",
     "output_type": "stream",
     "text": [
      "{'animal': True, 'coffee': False, 'python': False, 'unit': True, 'knowledge': False, 'tread': False, 'arise': True}\n"
     ]
    }
   ],
   "source": [
    "# [Answer to Ex. 3.1.4 here]\n",
    "keys=['animal', 'coffee', 'python', 'unit', 'knowledge', 'tread', 'arise']\n",
    "values=[True, False, False, True, False, False, True]\n",
    "key_values= list(zip(keys, values))\n",
    "\n",
    "words=dict(key_values)\n",
    "print(words)"
   ]
  },
  {
   "cell_type": "markdown",
   "metadata": {},
   "source": [
    "> **Ex. 3.3.2:** use the `requests` module (get it with `pip install requests`) and `construct_link()` to request birth data from the \"FOD\" table. Get all available years (variable \"Tid\"), but only female births (BARNKON=P) . Unpack the json payload and store the result. Wrap the whole thing in a function which takes an url as input and returns the corresponding output.\n",
    ">\n",
    ">> _Hint:_ The `requests.response` object has a `.json()` method. \n",
    ">\n",
    ">> _Note:_ you wrote `construct_link()` in 3.3.1, if you didn't heres the link you need to get: `https://api.statbank.dk/v1/data/FOLK1A/JSONSTAT?lang=en&Tid=*`"
   ]
  },
  {
   "cell_type": "code",
   "execution_count": 5,
   "metadata": {},
   "outputs": [
    {
     "name": "stdout",
     "output_type": "stream",
     "text": [
      "https://api.statbank.dk/v1/data/FOLK1A/JSONSTAT?valuePresentation=Default&Tid=*&alder=IALT&køn=2&område=157&civilstand=U\n",
      "https://api.statbank.dk/v1/data/FOD/JSONSTAT?valuePresentation=Default&Tid=*&BARNKON=P\n",
      "It went well\n",
      "{'dataset': {'dimension': {'BARNKON': {'category': {'index': {'P': 0},\n",
      "                                                    'label': {'P': 'Piger'}},\n",
      "                                       'label': 'barnets køn'},\n",
      "                           'ContentsCode': {'category': {'index': {'FOD': 0},\n",
      "                                                         'label': {'FOD': 'Levendefødte'},\n",
      "                                                         'unit': {'FOD': {'base': 'antal',\n",
      "                                                                          'decimals': 0}}},\n",
      "                                            'label': 'Indhold'},\n",
      "                           'Tid': {'category': {'index': {'1973': 0,\n",
      "                                                          '1974': 1,\n",
      "                                                          '1975': 2,\n",
      "                                                          '1976': 3,\n",
      "                                                          '1977': 4,\n",
      "                                                          '1978': 5,\n",
      "                                                          '1979': 6,\n",
      "                                                          '1980': 7,\n",
      "                                                          '1981': 8,\n",
      "                                                          '1982': 9,\n",
      "                                                          '1983': 10,\n",
      "                                                          '1984': 11,\n",
      "                                                          '1985': 12,\n",
      "                                                          '1986': 13,\n",
      "                                                          '1987': 14,\n",
      "                                                          '1988': 15,\n",
      "                                                          '1989': 16,\n",
      "                                                          '1990': 17,\n",
      "                                                          '1991': 18,\n",
      "                                                          '1992': 19,\n",
      "                                                          '1993': 20,\n",
      "                                                          '1994': 21,\n",
      "                                                          '1995': 22,\n",
      "                                                          '1996': 23,\n",
      "                                                          '1997': 24,\n",
      "                                                          '1998': 25,\n",
      "                                                          '1999': 26,\n",
      "                                                          '2000': 27,\n",
      "                                                          '2001': 28,\n",
      "                                                          '2002': 29,\n",
      "                                                          '2003': 30,\n",
      "                                                          '2004': 31,\n",
      "                                                          '2005': 32,\n",
      "                                                          '2006': 33,\n",
      "                                                          '2007': 34,\n",
      "                                                          '2008': 35,\n",
      "                                                          '2009': 36,\n",
      "                                                          '2010': 37,\n",
      "                                                          '2011': 38,\n",
      "                                                          '2012': 39,\n",
      "                                                          '2013': 40,\n",
      "                                                          '2014': 41,\n",
      "                                                          '2015': 42,\n",
      "                                                          '2016': 43,\n",
      "                                                          '2017': 44},\n",
      "                                                'label': {'1973': '1973',\n",
      "                                                          '1974': '1974',\n",
      "                                                          '1975': '1975',\n",
      "                                                          '1976': '1976',\n",
      "                                                          '1977': '1977',\n",
      "                                                          '1978': '1978',\n",
      "                                                          '1979': '1979',\n",
      "                                                          '1980': '1980',\n",
      "                                                          '1981': '1981',\n",
      "                                                          '1982': '1982',\n",
      "                                                          '1983': '1983',\n",
      "                                                          '1984': '1984',\n",
      "                                                          '1985': '1985',\n",
      "                                                          '1986': '1986',\n",
      "                                                          '1987': '1987',\n",
      "                                                          '1988': '1988',\n",
      "                                                          '1989': '1989',\n",
      "                                                          '1990': '1990',\n",
      "                                                          '1991': '1991',\n",
      "                                                          '1992': '1992',\n",
      "                                                          '1993': '1993',\n",
      "                                                          '1994': '1994',\n",
      "                                                          '1995': '1995',\n",
      "                                                          '1996': '1996',\n",
      "                                                          '1997': '1997',\n",
      "                                                          '1998': '1998',\n",
      "                                                          '1999': '1999',\n",
      "                                                          '2000': '2000',\n",
      "                                                          '2001': '2001',\n",
      "                                                          '2002': '2002',\n",
      "                                                          '2003': '2003',\n",
      "                                                          '2004': '2004',\n",
      "                                                          '2005': '2005',\n",
      "                                                          '2006': '2006',\n",
      "                                                          '2007': '2007',\n",
      "                                                          '2008': '2008',\n",
      "                                                          '2009': '2009',\n",
      "                                                          '2010': '2010',\n",
      "                                                          '2011': '2011',\n",
      "                                                          '2012': '2012',\n",
      "                                                          '2013': '2013',\n",
      "                                                          '2014': '2014',\n",
      "                                                          '2015': '2015',\n",
      "                                                          '2016': '2016',\n",
      "                                                          '2017': '2017'}},\n",
      "                                   'label': 'tid'},\n",
      "                           'id': ['BARNKON', 'ContentsCode', 'Tid'],\n",
      "                           'role': {'metric': ['ContentsCode'],\n",
      "                                    'time': ['Tid']},\n",
      "                           'size': [1, 1, 45]},\n",
      "             'label': 'Levendefødte efter barnets køn, Indhold og tid',\n",
      "             'source': 'Danmarks Statistik',\n",
      "             'updated': '2018-02-21T07:00:00Z',\n",
      "             'value': [34996,\n",
      "                       34771,\n",
      "                       35260,\n",
      "                       31533,\n",
      "                       30055,\n",
      "                       30161,\n",
      "                       28909,\n",
      "                       27941,\n",
      "                       25972,\n",
      "                       25595,\n",
      "                       24821,\n",
      "                       25228,\n",
      "                       26284,\n",
      "                       26878,\n",
      "                       27142,\n",
      "                       28520,\n",
      "                       29876,\n",
      "                       30813,\n",
      "                       31353,\n",
      "                       32914,\n",
      "                       32760,\n",
      "                       34027,\n",
      "                       33885,\n",
      "                       32819,\n",
      "                       32899,\n",
      "                       32116,\n",
      "                       32341,\n",
      "                       32652,\n",
      "                       31961,\n",
      "                       31109,\n",
      "                       31441,\n",
      "                       31539,\n",
      "                       31459,\n",
      "                       31580,\n",
      "                       31267,\n",
      "                       31507,\n",
      "                       30557,\n",
      "                       30946,\n",
      "                       28984,\n",
      "                       28131,\n",
      "                       27283,\n",
      "                       27616,\n",
      "                       28357,\n",
      "                       29833,\n",
      "                       29930]}}\n"
     ]
    }
   ],
   "source": [
    "# [Answer to Ex. 3.3.2 here]\n",
    "\n",
    "#3.3.1\n",
    "root= 'https://api.statbank.dk/v1/data/'\n",
    "form='/JSONSTAT?valuePresentation=Default'\n",
    "\n",
    "response_dst=requests.get(root)\n",
    "response_dst.ok\n",
    "\n",
    "\n",
    "def construct_link(table_id, strings):\n",
    "    root_table=root + table_id + form\n",
    "    for i in strings:\n",
    "        root_table=root_table + '&' + i\n",
    "    return root_table\n",
    "\n",
    "url=construct_link('FOLK1A', ['Tid=*', 'alder=IALT', 'køn=2', 'område=157', 'civilstand=U'])\n",
    "\n",
    "response_dst1=requests.get(url)\n",
    "response_dst1.ok\n",
    "\n",
    "print(url)\n",
    "\n",
    "#3.3.2\n",
    "def getdata(url):\n",
    "    response_dst=requests.get(url)\n",
    "    if response_dst.ok:\n",
    "        print('It went well')\n",
    "        with open('my_file.json', 'w') as f:\n",
    "            response_json_str = json.dumps(response_dst.json()) #\n",
    "            f.write(response_json_str)\n",
    "        return response_dst.json()\n",
    "    else:\n",
    "        print('It went wrong')\n",
    "\n",
    "#\n",
    "url=construct_link('FOD', ['Tid=*', 'BARNKON=P'])\n",
    "\n",
    "print(url)\n",
    "\n",
    "piger=getdata(url)\n",
    "\n",
    "import pprint\n",
    "pprint.pprint(piger)"
   ]
  },
  {
   "cell_type": "markdown",
   "metadata": {},
   "source": [
    "## Problems from exercise set 4\n"
   ]
  },
  {
   "cell_type": "code",
   "execution_count": 2,
   "metadata": {},
   "outputs": [],
   "source": [
    "import numpy as np\n",
    "import pandas as pd"
   ]
  },
  {
   "cell_type": "markdown",
   "metadata": {},
   "source": [
    "> **Ex. 4.1.1:** Use Pandas' CSV reader to fetch  daily data weather from 1864 for various stations - available [here](https://www1.ncdc.noaa.gov/pub/data/ghcn/daily/by_year/). \n",
    ">\n",
    ">> *Hint 1*: for compressed files you may need to specify the keyword `compression`.\n",
    ">\n",
    ">> *Hint 2*: keyword `header` can be specified as the CSV has no column names.\n",
    ">\n",
    ">> *Hint 3*: Specify the path, as the URL linking directly to the 1864 file. "
   ]
  },
  {
   "cell_type": "code",
   "execution_count": 3,
   "metadata": {},
   "outputs": [
    {
     "name": "stdout",
     "output_type": "stream",
     "text": [
      "             0         1     2    3    4    5  6   7\n",
      "0  ITE00100550  18640101  TMAX   10  NaN  NaN  E NaN\n",
      "1  ITE00100550  18640101  TMIN  -23  NaN  NaN  E NaN\n",
      "2  ITE00100550  18640101  PRCP   25  NaN  NaN  E NaN\n",
      "3  ASN00079028  18640101  PRCP    0  NaN  NaN  a NaN\n",
      "4  USC00064757  18640101  PRCP  119  NaN  NaN  F NaN\n"
     ]
    }
   ],
   "source": [
    "# [Answer to Ex. 4.1.1 here]\n",
    "\n",
    "url='https://www1.ncdc.noaa.gov/pub/data/ghcn/daily/by_year/1864.csv.gz' # url to weather data\n",
    "\n",
    "# fetch data via pandas csv-reader\n",
    "df_weather = pd.read_csv(url,\n",
    "                        compression='gzip',\n",
    "                        header=None)\n",
    "\n",
    "# print the first five records\n",
    "print(df_weather.head())"
   ]
  },
  {
   "cell_type": "markdown",
   "metadata": {},
   "source": [
    "> **Ex. 4.1.2:** Structure your weather DataFrame by using only the relevant columns (station identifier, data, observation type, observation value), rename them. Make sure observations are correctly formated (how many decimals should we add? one?).\n",
    ">\n",
    ">> *Hint:* rename can be done with `df.columns=COLS` where `COLS` is a list of column names."
   ]
  },
  {
   "cell_type": "code",
   "execution_count": 4,
   "metadata": {},
   "outputs": [
    {
     "name": "stdout",
     "output_type": "stream",
     "text": [
      "    station_id      date obs_type  obs_value\n",
      "0  ITE00100550  18640101     TMAX        1.0\n",
      "1  ITE00100550  18640101     TMIN       -2.3\n",
      "2  ITE00100550  18640101     PRCP        2.5\n",
      "3  ASN00079028  18640101     PRCP        0.0\n",
      "4  USC00064757  18640101     PRCP       11.9\n"
     ]
    }
   ],
   "source": [
    "# [Answer to Ex. 4.1.2 here]\n",
    "# list with column names\n",
    "headers = ['station_id', 'date', 'obs_type', 'obs_value']\n",
    "\n",
    "# select the first 4 colomn being the interesting ones\n",
    "df_weather2 = df_weather.iloc[:,:4]\n",
    "\n",
    "# rename columns to headers-list\n",
    "df_weather2.columns = headers\n",
    "\n",
    "# according to documentation on the website, the observations are in tenth\n",
    "# recalculate the observation value to unit\n",
    "df_weather2['obs_value'] = df_weather2['obs_value'] / 10\n",
    "\n",
    "# print the first five observations\n",
    "print(df_weather2.head())\n"
   ]
  },
  {
   "cell_type": "markdown",
   "metadata": {},
   "source": [
    "> **Ex. 4.1.3:**  Select data for the station `ITE00100550` and only observations for maximal temperature. Make a copy of the DataFrame. Explain in a one or two sentences how copying works.\n",
    ">\n",
    ">> *Hint 1*: the `&` operator works elementwise on boolean series (like `and` in core python).\n",
    ">\n",
    ">> *Hint 2*: copying of the dataframe is done with the `copy` method for DataFrames."
   ]
  },
  {
   "cell_type": "code",
   "execution_count": 6,
   "metadata": {},
   "outputs": [
    {
     "name": "stdout",
     "output_type": "stream",
     "text": [
      "      station_id      date obs_type  obs_value\n",
      "0    ITE00100550  18640101     TMAX        1.0\n",
      "75   ITE00100550  18640102     TMAX        0.8\n",
      "152  ITE00100550  18640103     TMAX       -2.8\n",
      "227  ITE00100550  18640104     TMAX        0.0\n",
      "305  ITE00100550  18640105     TMAX       -1.9\n"
     ]
    }
   ],
   "source": [
    "# [Answer to Ex. 4.1.3 here]\n",
    "'''\n",
    ".copy() is used to disconnect the new DataFrame from the old. When setting a \n",
    "dataframe equal to another, it only creates a second reference to the same data.\n",
    "Using .copy() will copy the data rather than the reference, thus disconnecting \n",
    "the new DataFrame name from the old data. Otherwise changes in one will affect the other.\n",
    "'''\n",
    "\n",
    "# select station = ITE00100550 and only observations with max temperature\n",
    "df_select = df_weather2[(df_weather2.station_id == 'ITE00100550') & (df_weather2.obs_type == 'TMAX')].copy()\n",
    "\n",
    "# print first five observations\n",
    "print(df_select.head())"
   ]
  },
  {
   "cell_type": "markdown",
   "metadata": {},
   "source": [
    "> **Ex. 4.1.4:** Make a new column called `TMAX_F` where you have converted the temperature variables to Fahrenheit. \n",
    ">\n",
    ">> *Hint*: Conversion is $F = 32 + 1.8*C$ where $F$ is Fahrenheit and $C$ is Celsius."
   ]
  },
  {
   "cell_type": "code",
   "execution_count": 7,
   "metadata": {},
   "outputs": [
    {
     "name": "stdout",
     "output_type": "stream",
     "text": [
      "      station_id      date obs_type  obs_value  TMAX_F\n",
      "0    ITE00100550  18640101     TMAX        1.0   33.80\n",
      "75   ITE00100550  18640102     TMAX        0.8   33.44\n",
      "152  ITE00100550  18640103     TMAX       -2.8   26.96\n",
      "227  ITE00100550  18640104     TMAX        0.0   32.00\n",
      "305  ITE00100550  18640105     TMAX       -1.9   28.58\n"
     ]
    }
   ],
   "source": [
    "# [Answer to Ex. 4.1.4 here]\n",
    "# create new variable containing temperature in Fahrenheit\n",
    "df_select['TMAX_F'] = 32 + 1.8 * df_select['obs_value']\n",
    "\n",
    "# print first five observations\n",
    "print(df_select.head())\n",
    "\n",
    "\n",
    "# this next part is just to make things easier in the later exercises\n",
    "# reset index\n",
    "df_select2 = df_select.reset_index(drop=True)\n",
    "# Saves data in CSV file for later use\n",
    "df_select.to_csv('weather.csv', index=False)"
   ]
  },
  {
   "cell_type": "markdown",
   "metadata": {},
   "source": [
    "## Problems from exercise set 5"
   ]
  },
  {
   "cell_type": "code",
   "execution_count": 13,
   "metadata": {},
   "outputs": [],
   "source": [
    "import matplotlib.pyplot as plt\n",
    "import numpy as np \n",
    "import pandas as pd\n",
    "import seaborn as sns \n",
    "\n",
    "%matplotlib inline \n",
    "\n",
    "iris = sns.load_dataset('iris')\n",
    "titanic = sns.load_dataset('titanic')"
   ]
  },
  {
   "cell_type": "markdown",
   "metadata": {},
   "source": [
    "> **Ex. 5.1.1:**: Show the first five rows of the titanic dataset. What information is in the dataset? Use a barplot to show the probability of survival for men and women within each passenger class. Can you make a boxplot showing the same information (why/why not?). _Bonus:_ show a boxplot for the fare-prices within each passenger class. \n",
    ">\n",
    "> Spend five minutes discussing what you can learn about the survival-selection aboard titanic from the figure(s).\n",
    ">\n",
    "> > _Hint:_ https://seaborn.pydata.org/generated/seaborn.barplot.html, specifically the `hue` option.\n"
   ]
  },
  {
   "cell_type": "code",
   "execution_count": null,
   "metadata": {},
   "outputs": [],
   "source": [
    "# [Answer to Ex. 5.1.1 here]"
   ]
  },
  {
   "cell_type": "markdown",
   "metadata": {},
   "source": [
    "> **Ex. 5.1.2:** Using the iris flower dataset, draw a scatterplot of sepal length and petal length. Include a second order polynomial fitted to the data. Add a title to the plot and rename the axis labels.\n",
    "> _Discuss:_ Is this a meaningful way to display the data? What could we do differently?\n",
    ">\n",
    "> For a better understanding of the dataset this image might be useful:\n",
    "> <img src=\"iris_pic.png\" alt=\"Drawing\" style=\"width: 200px;\"/>\n",
    ">\n",
    ">> _Hint:_ use the `.regplot` method from seaborn. "
   ]
  },
  {
   "cell_type": "code",
   "execution_count": null,
   "metadata": {},
   "outputs": [],
   "source": [
    "# [Answer to Ex. 5.1.2 here]"
   ]
  },
  {
   "cell_type": "markdown",
   "metadata": {},
   "source": [
    "> **Ex. 5.1.3:** Combine the two of the figures you created above into a two-panel figure similar to the one shown here:\n",
    "> <img src=\"Example.png\" alt=\"Drawing\" style=\"width: 600px;\"/>\n",
    ">\n",
    "> Save the figure as a png file on your computer. \n",
    ">> _Hint:_ See [this question](https://stackoverflow.com/questions/41384040/subplot-for-seaborn-boxplot) on stackoverflow for inspiration."
   ]
  },
  {
   "cell_type": "code",
   "execution_count": null,
   "metadata": {},
   "outputs": [],
   "source": [
    "# [Answer to Ex. 5.1.3 here]"
   ]
  },
  {
   "cell_type": "markdown",
   "metadata": {},
   "source": [
    "> **Ex. 5.1.4:** Use [pairplot with hue](https://seaborn.pydata.org/generated/seaborn.pairplot.html) to create a figure that clearly shows how the different species vary across measurements. Change the color palette and remove the shading from the density plots. _Bonus:_ Try to explain how the `diag_kws` argument works (_hint:_ [read here](https://stackoverflow.com/questions/1769403/understanding-kwargs-in-python))"
   ]
  },
  {
   "cell_type": "code",
   "execution_count": null,
   "metadata": {},
   "outputs": [],
   "source": [
    "# [Answer to Ex. 5.1.4 here]"
   ]
  },
  {
   "cell_type": "markdown",
   "metadata": {},
   "source": [
    "## Problems from exercise set 6\n",
    "\n",
    "> _Note:_ A central part of these exercises and the ones from exercise set 7 is downloading data from the NOAA servers. If you cannot complete this part, you can download the data as csv files **from [github](https://github.com/abjer/sds/tree/master/material/session_7)**."
   ]
  },
  {
   "cell_type": "code",
   "execution_count": 9,
   "metadata": {},
   "outputs": [],
   "source": [
    "%matplotlib inline\n",
    "import pandas as pd\n",
    "import matplotlib.pyplot as plt\n",
    "import random"
   ]
  },
  {
   "cell_type": "markdown",
   "metadata": {},
   "source": [
    "> **Ex. 6.1.4:** Extract the country code from the station name into a separate column.\n",
    ">\n",
    ">> _Hint:_ The station column contains a GHCND ID, given to each weather station by NOAA. The format of these ID's is a 2-3 letter country code, followed by a integer identifying the specific station. A simple approach is to assume a fixed length of the country ID. A more complex way would be to use the [`re`](https://docs.python.org/2/library/re.html) module."
   ]
  },
  {
   "cell_type": "code",
   "execution_count": 4,
   "metadata": {},
   "outputs": [
    {
     "name": "stdout",
     "output_type": "stream",
     "text": [
      "    station_id      date obs_type  obs_value  TMAX_F\n",
      "0  ITE00100550  18640101     TMAX        1.0   33.80\n",
      "1  ITE00100550  18640102     TMAX        0.8   33.44\n",
      "2  ITE00100550  18640103     TMAX       -2.8   26.96\n",
      "3  ITE00100550  18640104     TMAX        0.0   32.00\n",
      "4  ITE00100550  18640105     TMAX       -1.9   28.58\n",
      "366\n",
      "    station_id       date obs_type  obs_value  TMAX_F  Month\n",
      "0  ITE00100550 1864-01-01     TMAX        1.0   33.80      1\n",
      "1  ITE00100550 1864-01-02     TMAX        0.8   33.44      1\n",
      "             station_id obs_type  obs_value  TMAX_F  Month\n",
      "date                                                      \n",
      "1864-01-01  ITE00100550     TMAX        1.0   33.80      1\n",
      "1864-01-02  ITE00100550     TMAX        0.8   33.44      1\n",
      "1864-01-03  ITE00100550     TMAX       -2.8   26.96      1\n",
      "1864-01-04  ITE00100550     TMAX        0.0   32.00      1\n",
      "1864-01-05  ITE00100550     TMAX       -1.9   28.58      1\n",
      "1864-01-06  ITE00100550     TMAX       -1.3   29.66      1\n",
      "1864-01-07  ITE00100550     TMAX       -0.4   31.28      1\n",
      "1864-01-08  ITE00100550     TMAX        1.3   34.34      1\n",
      "1864-01-09  ITE00100550     TMAX        1.3   34.34      1\n",
      "             station_id obs_type  obs_value  TMAX_F  Month country\n",
      "date                                                              \n",
      "1864-01-01  ITE00100550     TMAX        1.0   33.80      1     ITE\n",
      "1864-01-02  ITE00100550     TMAX        0.8   33.44      1     ITE\n",
      "1864-01-03  ITE00100550     TMAX       -2.8   26.96      1     ITE\n",
      "1864-01-04  ITE00100550     TMAX        0.0   32.00      1     ITE\n",
      "1864-01-05  ITE00100550     TMAX       -1.9   28.58      1     ITE\n"
     ]
    },
    {
     "data": {
      "image/png": "[encoded data removed]",
      "text/plain": [
       "<Figure size 432x288 with 1 Axes>"
      ]
     },
     "metadata": {},
     "output_type": "display_data"
    }
   ],
   "source": [
    "# [Answer to Ex. 6.1.4]\n",
    "\n",
    "#6.1.1\n",
    "# fetches weather data from our github group, i.e. sample directory as this program\n",
    "# we can use a relative path\n",
    "url='weather.csv'\n",
    "df_weather = pd.read_csv(url)\n",
    "\n",
    "print(df_weather.head(5))\n",
    "print(len(df_weather))\n",
    "\n",
    "#6.1.2\n",
    "df_weather['date']=pd.to_datetime(df_weather['date'], format='%Y%m%d')\n",
    "#print(df_weather.head(2))\n",
    "\n",
    "df_weather['Month']=df_weather['date'].dt.month\n",
    "print(df_weather.head(2))\n",
    "\n",
    "#6.1.3\n",
    "df_weather.set_index('date', inplace=True)\n",
    "print(df_weather.head(9))\n",
    "df_weather.plot()\n",
    "\n",
    "\n",
    "##6.1.4\n",
    "df_weather['country']=df_weather['station_id'].str[:3]\n",
    "print(df_weather.head(5))"
   ]
  },
  {
   "cell_type": "markdown",
   "metadata": {},
   "source": [
    "> **Ex. 6.1.5:** Make a function that downloads and formats the weather data according to previous exercises in Exercise Section 4.1, 6.1. You should use data for ALL stations but still only select maximal temperature. _Bonus:_ To validate that your function works plot the temperature curve for each country in the same window. Use `plt.legend()` to add a legend. "
   ]
  },
  {
   "cell_type": "code",
   "execution_count": 32,
   "metadata": {},
   "outputs": [
    {
     "name": "stdout",
     "output_type": "stream",
     "text": [
      "<class 'pandas.core.frame.DataFrame'>\n",
      "    station_id       date obs_type  obs_value  TMAX_F  Month country\n",
      "0  ITE00100550 1864-01-01     TMAX        1.0   33.80      1      IT\n",
      "1  ASN00086071 1864-01-01     TMAX       21.4   70.52      1      AS\n",
      "2  CA006158350 1864-01-01     TMAX        1.1   33.98      1      CA\n",
      "3  EIE00101859 1864-01-01     TMAX        9.4   48.92      1      EI\n",
      "4  BE000006447 1864-01-01     TMAX       -2.3   27.86      1      BE\n"
     ]
    }
   ],
   "source": [
    "# [Answer to Ex. 6.1.5]\n",
    "import time\n",
    "\n",
    "def get_weather(nyear):\n",
    "    # function to get and structure weather data from NOAA\n",
    "    # input is a year in 4-digit integer\n",
    "    # output is a DataFrame     \n",
    "    time.sleep(1) # take a rest to prevent denial of services attack\n",
    "    url='https://www1.ncdc.noaa.gov/pub/data/ghcn/daily/by_year/' + str(nyear) + '.csv.gz' # the url to data file\n",
    "    # retrieve data\n",
    "    df_weather = pd.read_csv(url,\n",
    "                        compression='gzip',\n",
    "                        header=None)\n",
    "    headers = ['station_id', 'date', 'obs_type', 'obs_value'] # list of new column names\n",
    "    df_weather2 = df_weather.iloc[:,:4] # select the first four variables\n",
    "    df_weather2.columns = headers # we change the names of the columns\n",
    "    df_weather2['obs_value'] = df_weather2['obs_value'] / 10 # the values in tenth are changed to units\n",
    "    \n",
    "    df_select = df_weather2[(df_weather2.obs_type == 'TMAX')].copy() # only obs of max temp is selected\n",
    "    \n",
    "    df_select['TMAX_F'] = 32 + 1.8 * df_select['obs_value'] # calculate Fahrenheit\n",
    "    df_select=df_select.reset_index(drop=True) # reset index\n",
    "    \n",
    "    df_select['date']=pd.to_datetime(df_select['date'], format='%Y%m%d') # reformat date to datetime format\n",
    "    df_select['Month']=df_select['date'].dt.month # create variable month\n",
    "    df_select['country']=df_select['station_id'].str[:2] # create variable country from station ID\n",
    "    return df_select\n",
    "    \n",
    "weather = get_weather(1864)\n",
    "print(type(weather))\n",
    "print(weather.head())"
   ]
  },
  {
   "cell_type": "markdown",
   "metadata": {},
   "source": [
    "## Problems from exercise set 7\n",
    "\n",
    "> _Note:_ Once again if you haven't managed to download the data from NOAA, you can refer to the github repo to get csv-files containing the required data."
   ]
  },
  {
   "cell_type": "code",
   "execution_count": 5,
   "metadata": {},
   "outputs": [],
   "source": [
    "%matplotlib inline \n",
    "\n",
    "import pandas as pd \n",
    "import matplotlib.pyplot as plt\n",
    "import matplotlib as mpl\n",
    "\n",
    "# Increases the plot size a little\n",
    "mpl.rcParams['figure.figsize'] = 11, 6"
   ]
  },
  {
   "cell_type": "markdown",
   "metadata": {},
   "source": [
    "> **Ex. 7.1.1:** Plot the monthly max,min, mean, first and third quartiles for maximum temperature for our station with the ID _'ITE00100550'_ in 1864. \n",
    "\n",
    "> *Hint*: the method `describe` computes all these measures."
   ]
  },
  {
   "cell_type": "code",
   "execution_count": 112,
   "metadata": {},
   "outputs": [
    {
     "name": "stdout",
     "output_type": "stream",
     "text": [
      "STATISTICS ON MAX TEMPERATURE ON STATION ITE00100550\n",
      "mean    16.249727\n",
      "max     34.800000\n",
      "min     -6.300000\n",
      "25%      7.600000\n",
      "75%     25.325000\n",
      "Name: obs_value, dtype: float64\n"
     ]
    },
    {
     "data": {
      "text/plain": [
       "<matplotlib.axes._subplots.AxesSubplot at 0x133f6c6fa20>"
      ]
     },
     "execution_count": 112,
     "metadata": {},
     "output_type": "execute_result"
    },
    {
     "data": {
      "image/png": "[encoded data removed]",
      "text/plain": [
       "<Figure size 720x360 with 1 Axes>"
      ]
     },
     "metadata": {},
     "output_type": "display_data"
    }
   ],
   "source": [
    "# [Answer to Ex. 7.1.1]\n",
    "# use the function from 6.1.5 to fetch weather data\n",
    "#df_weather = get_weather(1864)\n",
    "\n",
    "# Statistics on station ITE00100550 and the variable obs_value\n",
    "descr = df_weather[df_weather.station_id=='ITE00100550']['obs_value'].describe()\n",
    "\n",
    "# print out stats\n",
    "print(\"STATISTICS ON MAX TEMPERATURE ON STATION ITE00100550\")\n",
    "print(descr[['mean', 'max', 'min', '25%', '75%']])\n",
    "\n",
    "# the plot thickens - create boxplot\n",
    "# first define the surroundings\n",
    "f, a = plt.subplots(figsize=(10, 5))\n",
    "a.set_title(\"Stats on max temperature @station ITE0010055\")\n",
    "a.set(xlabel='Max temperature', \n",
    "      ylabel='Degrees Celcius',\n",
    "      ylim=(-10,40))\n",
    "\n",
    "# create the plot\n",
    "descr[['mean', 'max', 'min', '25%', '75%']].plot.box()\n",
    "\n"
   ]
  },
  {
   "cell_type": "markdown",
   "metadata": {},
   "source": [
    "> **Ex. 7.1.2:** Get the processed data from years 1864-1867 as a list of DataFrames. Convert the list into a single DataFrame by concatenating vertically. "
   ]
  },
  {
   "cell_type": "code",
   "execution_count": 52,
   "metadata": {},
   "outputs": [
    {
     "name": "stdout",
     "output_type": "stream",
     "text": [
      "<class 'pandas.core.frame.DataFrame'>\n",
      "Number of observations in data set : 29638\n"
     ]
    }
   ],
   "source": [
    "# [Answer to Ex. 7.1.2]\n",
    "list_df = [] # an empty container for the dataframes\n",
    "for year in range(1864, 1868) : # the years we want - remember: the last input is not processed\n",
    "    list_df.append(get_weather(year))\n",
    "\n",
    "# make vertical concatenation of the DataFrames using pd.concat\n",
    "df_weather2 = pd.concat(list_df)\n",
    "\n",
    "# print the type of the resulting data\n",
    "print(type(df_weather2))\n",
    "# print the number of observations using the len() function\n",
    "print(\"Number of observations in data set: \" + str(len(df_weather2)))"
   ]
  },
  {
   "cell_type": "markdown",
   "metadata": {},
   "source": [
    "\n",
    "> **Ex. 7.1.3:** Parse the station location data which you can find at https://www1.ncdc.noaa.gov/pub/data/ghcn/daily/ghcnd-stations.txt. Merge station locations onto the weather data spanning 1864-1867.  \n",
    "\n",
    "> _Hint:_ The location data have the folllowing format, \n",
    "\n",
    "```\n",
    "------------------------------\n",
    "Variable   Columns   Type\n",
    "------------------------------\n",
    "ID            1-11   Character\n",
    "LATITUDE     13-20   Real\n",
    "LONGITUDE    22-30   Real\n",
    "ELEVATION    32-37   Real\n",
    "STATE        39-40   Character\n",
    "NAME         42-71   Character\n",
    "GSN FLAG     73-75   Character\n",
    "HCN/CRN FLAG 77-79   Character\n",
    "WMO ID       81-85   Character\n",
    "------------------------------\n",
    "```\n",
    "\n",
    "> *Hint*: The station information has fixed width format - does there exist a pandas reader for that?"
   ]
  },
  {
   "cell_type": "code",
   "execution_count": 58,
   "metadata": {},
   "outputs": [
    {
     "name": "stdout",
     "output_type": "stream",
     "text": [
      "THE LOCATION DATASET:\n",
      "       station  latitude  longitude  elevation                   name  \\\n",
      "0  ACW00011604   17.1167   -61.7833       10.1  ST JOHNS COOLIDGE FLD   \n",
      "1  ACW00011647   17.1333   -61.7833       19.2               ST JOHNS   \n",
      "\n",
      "  gns_flag hcn_crn_flag  wmo_id  \n",
      "0      NaN          NaN     NaN  \n",
      "1      NaN          NaN     NaN  \n",
      "\n",
      "Number of observations in merged data: 29638\n",
      "\n",
      "THE MERGED WEATHER DATASET:\n",
      "    station_id       date obs_type  obs_value  TMAX_F  Month country  \\\n",
      "0  ITE00100550 1864-01-01     TMAX        1.0   33.80      1      IT   \n",
      "1  ASN00086071 1864-01-01     TMAX       21.4   70.52      1      AS   \n",
      "\n",
      "       station  latitude  longitude  elevation                       name  \\\n",
      "0  ITE00100550   44.5000    11.3458       53.0                    BOLOGNA   \n",
      "1  ASN00086071   37.8075   144.9700       31.2  MELBOURNE REGIONAL OFFICE   \n",
      "\n",
      "  gns_flag hcn_crn_flag   wmo_id  \n",
      "0      NaN          NaN      NaN  \n",
      "1      NaN          NaN  94868.0  \n"
     ]
    }
   ],
   "source": [
    "# [Answer to Ex. 7.1.3]\n",
    "# retrieve station locations using the pd.read_fwf method for fixed file format\n",
    "locations = pd.read_fwf('https://www1.ncdc.noaa.gov/pub/data/ghcn/daily/ghcnd-stations.txt', header=None)\n",
    "\n",
    "# list of column names\n",
    "headers = ['station', 'latitude', 'longitude', 'elevation', 'name', 'gns_flag', 'hcn_crn_flag', 'wmo_id']\n",
    "# rename columns\n",
    "locations.columns=headers\n",
    "\n",
    "# print of first two observations\n",
    "print(\"THE LOCATION DATASET:\")\n",
    "print(locations.head(2))\n",
    "\n",
    "df_weather3 = pd.merge(df_weather2, locations, left_on='station_id', right_on='station', how='left')\n",
    "\n",
    "# print the number of obs using len() function\n",
    "print(\"\\nNumber of observations in merged data: \" + str(len(df_weather3)))\n",
    "\n",
    "# print the first two obs in merged dataset\n",
    "print(\"\\nTHE MERGED WEATHER DATASET:\")\n",
    "print(df_weather3.head(2))\n"
   ]
  },
  {
   "cell_type": "markdown",
   "metadata": {},
   "source": [
    "## Problems from exercise set 8\n",
    "\n",
    "> **Ex. 8.1.2.:** Use the `request` module to collect the first page of job postings and unpack the relevant `json` data into a `pandas` DataFrame."
   ]
  },
  {
   "cell_type": "code",
   "execution_count": null,
   "metadata": {},
   "outputs": [],
   "source": [
    "# [Answer to Ex. 8.1.2]"
   ]
  },
  {
   "cell_type": "markdown",
   "metadata": {},
   "source": [
    "> **Ex. 8.1.3.:** Store and print the 'TotalResultCount' value for later use. Also create a dataframe from the 'JobPositionPostings' field in the json. "
   ]
  },
  {
   "cell_type": "code",
   "execution_count": null,
   "metadata": {},
   "outputs": [],
   "source": [
    "# [Answer to Ex. 8.1.3]"
   ]
  },
  {
   "cell_type": "markdown",
   "metadata": {},
   "source": [
    "## Problems from exercise set 9\n",
    "\n",
    "> **Ex. 9.2.1:** Load the data used in the exercise using the `pd.read_csv` function. (Hint: path to file can be both a url or systempath). \n",
    "\n",
    ">Define a variable `sample_string = '\\n'.join(df.sample(2000).reviewBody)` as sample of all the reviews that you will practice on.  (Run it once in a while to get a new sample for potential differences).\n",
    "Imagine we were a company wanting to find the reviews where customers are concerned with the price of a service. They decide to write a regular expression to match all reviews where a currencies and an amount is mentioned. "
   ]
  },
  {
   "cell_type": "code",
   "execution_count": 10,
   "metadata": {},
   "outputs": [],
   "source": [
    "# [Answer to Ex. 9.2.1]\n",
    "import requests\n",
    "url = 'https://raw.githubusercontent.com/snorreralund/explore_regex/master/explore_regex.py'\n",
    "response = requests.get(url)\n",
    "with open('explore_regex.py','w') as f:\n",
    "    f.write(response.text)\n",
    "import explore_regex as e_re\n",
    "\n",
    "import pandas as pd\n",
    "import requests\n",
    "df = pd.read_csv('https://raw.githubusercontent.com/snorreralund/scraping_seminar/master/english_review_sample.csv')\n",
    "\n",
    "import explore_regex as e_re\n",
    "\n",
    "sample_string = '\\n'.join(df.sample(2000).reviewBody)"
   ]
  },
  {
   "cell_type": "markdown",
   "metadata": {},
   "source": [
    "> **Ex. 9.2.2:** \n",
    "> Write an expression that matches both the dollar-sign (\\$) and dollar written literally, and the amount before or after a dollar-sign. Remember that the \"$\"-sign is a special character in regular expressions. Explore and refine using the explore_pattern function in the package I created called explore_regex. \n",
    "```python\n",
    "import explore_regex as e_re\n",
    "explore_regex = e_re.Explore_Regex(sample_string) # Initaizlie the Explore regex Class.\n",
    "explore_regex.explore_pattern(pattern) # Use the .explore_pattern method.\n",
    "```\n",
    "\n",
    "\n",
    "Start with exploring the context around digits (\"\\d\") in the data. "
   ]
  },
  {
   "cell_type": "code",
   "execution_count": 12,
   "metadata": {},
   "outputs": [
    {
     "name": "stdout",
     "output_type": "stream",
     "text": [
      "------ Pattern: ([0-9]+)(\\$)\t Matched 8 patterns -----\n",
      "Found 0 overlaps between the expressions:\n",
      "        pattern1: ([0-9]+)(\\$) \t and\n",
      "        pattern2: ([0-9]+)(\\$)\n",
      "        8 included in pattern1 and not in the pattern2\n",
      "        8 was included in pattern2 and not in pattern1\n",
      "------ Pattern: ([0-9]+)(\\$)([0-9]+)\t Matched 0 patterns -----\n",
      "Found 0 overlaps between the expressions:\n",
      "        pattern1: ([0-9]+)(\\$)([0-9]+) \t and\n",
      "        pattern2: ([0-9]+)(\\$)\n",
      "        0 included in pattern1 and not in the pattern2\n",
      "        8 was included in pattern2 and not in pattern1\n",
      "------ Pattern: ([0-9]+)?(\\$|dollar)([0-9]+)?\t Matched 92 patterns -----\n",
      "Found 16 overlaps between the expressions:\n",
      "        pattern1: ([0-9]+)?(\\$|dollar)([0-9]+)? \t and\n",
      "        pattern2: ([0-9]+)(\\$)\n",
      "        84 included in pattern1 and not in the pattern2\n",
      "        0 was included in pattern2 and not in pattern1\n",
      "------ Pattern: ([0-9]+)?\\s{0,5}(\\$|dollar)\\s{0,5}([0-9]+)?\t Matched 92 patterns -----\n",
      "Found 16 overlaps between the expressions:\n",
      "        pattern1: ([0-9]+)?\\s{0,5}(\\$|dollar)\\s{0,5}([0-9]+)? \t and\n",
      "        pattern2: ([0-9]+)(\\$)\n",
      "        84 included in pattern1 and not in the pattern2\n",
      "        0 was included in pattern2 and not in pattern1\n",
      "------ Pattern: (([0-9]+)\\s{0,5}(\\$|dollar))|((\\$|dollar)\\s{0,5}([0-9]+))\t Matched 77 patterns -----\n",
      "Found 16 overlaps between the expressions:\n",
      "        pattern1: (([0-9]+)\\s{0,5}(\\$|dollar))|((\\$|dollar)\\s{0,5}([0-9]+)) \t and\n",
      "        pattern2: ([0-9]+)(\\$)\n",
      "        69 included in pattern1 and not in the pattern2\n",
      "        0 was included in pattern2 and not in pattern1\n",
      "Match: 8$\tContext:ipping is 8$. The comp\n",
      "Match: 75$\tContext: a fee of 75$ for a 150\n",
      "Match: 274$\tContext:oice said 274$ but my cr\n",
      "Match: 150$\tContext:75$ for a 150$ flight. N\n",
      "Match: 10$\tContext:s I get a 10$ off coupo\n",
      "Match: 400$\tContext:ving me 3-400$ . I've ne\n",
      "Match: 3$\tContext:e. I paid 3$ for every\n",
      "Match: 11$\tContext:f part is 11$ and shipp\n"
     ]
    }
   ],
   "source": [
    "# [Answer to Ex. 9.2.2]\n",
    "%matplotlib inline\n",
    "\n",
    "\n",
    "# money example\n",
    "#explore_money = ExploreRegex(sample_string)\n",
    "explore_money = e_re.ExploreRegex(sample_string)\n",
    "\n",
    "first = '([0-9]+)(\\$)'\n",
    "second = '([0-9]+)(\\$)([0-9]+)'\n",
    "third = '([0-9]+)?(\\$|dollar)([0-9]+)?'\n",
    "fourth = '([0-9]+)?\\s{0,5}(\\$|dollar)\\s{0,5}([0-9]+)?'\n",
    "final = '(([0-9]+)\\s{0,5}(\\$|dollar))|((\\$|dollar)\\s{0,5}([0-9]+))' #95 i stedet for 108\n",
    "patterns = [first,second,third,fourth,final]\n",
    "for pattern in patterns:\n",
    "    explore_money.explore_difference(pattern,patterns[0])\n",
    "explore_money.explore_pattern(first)\n",
    "\n"
   ]
  },
  {
   "cell_type": "markdown",
   "metadata": {},
   "source": [
    "> **Ex.9.2.3** Use the .report() method. e_re.report(), and print the all patterns in the development process using the .pattern method - i.e. e_re.patterns "
   ]
  },
  {
   "cell_type": "code",
   "execution_count": 13,
   "metadata": {},
   "outputs": [
    {
     "name": "stdout",
     "output_type": "stream",
     "text": [
      "------ Pattern: ([0-9]+)(\\$)\t Matched 8 patterns -----\n",
      "------ Pattern: ([0-9]+)(\\$)([0-9]+)\t Matched 0 patterns -----\n",
      "------ Pattern: ([0-9]+)?(\\$|dollar)([0-9]+)?\t Matched 92 patterns -----\n",
      "------ Pattern: ([0-9]+)?\\s{0,5}(\\$|dollar)\\s{0,5}([0-9]+)?\t Matched 92 patterns -----\n",
      "------ Pattern: (([0-9]+)\\s{0,5}(\\$|dollar))|((\\$|dollar)\\s{0,5}([0-9]+))\t Matched 77 patterns -----\n"
     ]
    },
    {
     "data": {
      "image/png": "[encoded data removed]",
      "text/plain": [
       "<Figure size 864x576 with 2 Axes>"
      ]
     },
     "metadata": {},
     "output_type": "display_data"
    }
   ],
   "source": [
    "# [Answer to Ex. 9.2.3]\n",
    "explore_money.report()"
   ]
  },
  {
   "cell_type": "code",
   "execution_count": null,
   "metadata": {},
   "outputs": [],
   "source": []
  }
 ],
 "metadata": {
  "kernelspec": {
   "display_name": "Python 3",
   "language": "python",
   "name": "python3"
  },
  "language_info": {
   "codemirror_mode": {
    "name": "ipython",
    "version": 3
   },
   "file_extension": ".py",
   "mimetype": "text/x-python",
   "name": "python",
   "nbconvert_exporter": "python",
   "pygments_lexer": "ipython3",
   "version": "3.6.5"
  }
 },
 "nbformat": 4,
 "nbformat_minor": 2
}
