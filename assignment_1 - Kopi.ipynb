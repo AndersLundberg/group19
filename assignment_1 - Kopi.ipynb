{
 "cells": [
  {
   "cell_type": "markdown",
   "metadata": {},
   "source": [
    "# Mandatory Assignment 1\n",
    "\n",
    "This is the first of two mandatory assignments which must be completed during the course. First some practical information:\n",
    "\n",
    "* When is the assignment due?: **23:59, Sunday, August 19, 2018.**\n",
    "* How do you grade the assignment?: You will **peergrade** each other as primary grading. \n",
    "* Must I hand-in as a group?: **yes**\n",
    "\n",
    "The assigment consist of one to three problems from each of the exercise sets you have solved so far (excluding Exercise Set 1). We've tried to select problems which are self contained, but it might be nessecary to solve some of the previous exercises in each set to fully answer the problems in this assignment.\n",
    "\n",
    "## Problems from Exercise Set 2:\n",
    "\n",
    "> **Ex. 2.2**: Make two lists. The first should be numbered. The second should be unnumbered and contain at least one sublevel. "
   ]
  },
  {
   "cell_type": "markdown",
   "metadata": {},
   "source": [
    "# [Answer to Ex. 2.2 here] (convert to markdown cell)\n",
    "\n",
    "\n",
    "List1\n",
    "1. Dette er den første\n",
    "2. Dette er den anden\n",
    "\n",
    ".\n",
    "\n",
    "\n",
    "List2\n",
    "- Første\n",
    "    - Første.Første\n",
    "- Anden"
   ]
  },
  {
   "cell_type": "markdown",
   "metadata": {},
   "source": [
    "## Problems from Exercise set 3:\n",
    "\n",
    "> **Ex. 3.1.3:** Let `l1 = ['r ', 'Is', '>', ' < ', 'g ', '?']`. Create from `l1` the sentence \"Is r > g?\" using your knowledge about string formatting. Make sure there is only one space in between worlds.\n",
    ">\n",
    ">> _Hint:_ You should be able to combine the above informations to solve this exercise."
   ]
  },
  {
   "cell_type": "code",
   "execution_count": 17,
   "metadata": {},
   "outputs": [
    {
     "data": {
      "text/plain": [
       "'Is r > g?'"
      ]
     },
     "execution_count": 17,
     "metadata": {},
     "output_type": "execute_result"
    }
   ],
   "source": [
    "# [Answer to Ex. 3.1.3 here] \n",
    "import numpy as np\n",
    "import pandas as pd\n",
    "import matplotlib.pyplot as plt\n",
    "%matplotlib inline\n",
    "import requests\n",
    "import random\n",
    "import json\n",
    "import re\n",
    "from bs4 import BeautifulSoup\n",
    "import pprint\n",
    "\n",
    "l1=['r ', 'Is', '>', ' < ', 'g ', '?']\n",
    "' '.join(['Is', 'r '.strip(), '>', 'g '.strip()+ '?' ])"
   ]
  },
  {
   "cell_type": "markdown",
   "metadata": {},
   "source": [
    "> **Ex. 3.1.4**: Create an empty dictionary `words` using the `dict()`function. Then add each of the words in `['animal', 'coffee', 'python', 'unit', 'knowledge', 'tread', 'arise']` as a key, with the value being a boolean indicator for whether the word begins with a vowel. The results should look like `{'bacon': False, 'asynchronous': True ...}`\n",
    ">\n",
    ">> _Hint:_ You might want co first construct a function that asseses whether a given word begins with a vowel or not."
   ]
  },
  {
   "cell_type": "code",
   "execution_count": 5,
   "metadata": {},
   "outputs": [
    {
     "name": "stdout",
     "output_type": "stream",
     "text": [
      "{'animal': True, 'coffee': False, 'python': False, 'unit': True, 'knowledge': False, 'tread': False, 'arise': True}\n"
     ]
    }
   ],
   "source": [
    "# [Answer to Ex. 3.1.4 here]\n",
    "keys=['animal', 'coffee', 'python', 'unit', 'knowledge', 'tread', 'arise']\n",
    "values=[True, False, False, True, False, False, True]\n",
    "key_values= list(zip(keys, values))\n",
    "\n",
    "words=dict(key_values)\n",
    "print(words)"
   ]
  },
  {
   "cell_type": "markdown",
   "metadata": {},
   "source": [
    "> **Ex. 3.3.2:** use the `requests` module (get it with `pip install requests`) and `construct_link()` to request birth data from the \"FOD\" table. Get all available years (variable \"Tid\"), but only female births (BARNKON=P) . Unpack the json payload and store the result. Wrap the whole thing in a function which takes an url as input and returns the corresponding output.\n",
    ">\n",
    ">> _Hint:_ The `requests.response` object has a `.json()` method. \n",
    ">\n",
    ">> _Note:_ you wrote `construct_link()` in 3.3.1, if you didn't heres the link you need to get: `https://api.statbank.dk/v1/data/FOLK1A/JSONSTAT?lang=en&Tid=*`"
   ]
  },
  {
   "cell_type": "code",
   "execution_count": 14,
   "metadata": {},
   "outputs": [
    {
     "name": "stdout",
     "output_type": "stream",
     "text": [
      "https://api.statbank.dk/v1/data/FOLK1A/JSONSTAT?valuePresentation=Default&Tid=*&alder=IALT&køn=2&område=157&civilstand=U\n"
     ]
    }
   ],
   "source": [
    "# [Answer to Ex. 3.3.2 here]\n",
    "#3.3.1 \n",
    "root= 'https://api.statbank.dk/v1/data/'\n",
    "form='/JSONSTAT?valuePresentation=Default'\n",
    "\n",
    "response_dst=requests.get(root)\n",
    "response_dst.ok\n",
    "\n",
    "\n",
    "def construct_link(table_id, strings):\n",
    "    root_table=root + table_id + form\n",
    "    for i in strings:\n",
    "        root_table=root_table + '&' + i\n",
    "    return root_table\n",
    "\n",
    "url=construct_link('FOLK1A', ['Tid=*', 'alder=IALT', 'køn=2', 'område=157', 'civilstand=U'])\n",
    "\n",
    "response_dst1=requests.get(url)\n",
    "response_dst1.ok\n",
    "\n",
    "print(url)\n",
    "\n"
   ]
  },
  {
   "cell_type": "code",
   "execution_count": 28,
   "metadata": {},
   "outputs": [
    {
     "name": "stdout",
     "output_type": "stream",
     "text": [
      "https://api.statbank.dk/v1/data/FOD/JSONSTAT?valuePresentation=Default&Tid=*&BARNKON=P\n",
      "It went well\n",
      "{'dataset': {'dimension': {'BARNKON': {'category': {'index': {'P': 0},\n",
      "                                                    'label': {'P': 'Piger'}},\n",
      "                                       'label': 'barnets køn'},\n",
      "                           'ContentsCode': {'category': {'index': {'FOD': 0},\n",
      "                                                         'label': {'FOD': 'Levendefødte'},\n",
      "                                                         'unit': {'FOD': {'base': 'antal',\n",
      "                                                                          'decimals': 0}}},\n",
      "                                            'label': 'Indhold'},\n",
      "                           'Tid': {'category': {'index': {'1973': 0,\n",
      "                                                          '1974': 1,\n",
      "                                                          '1975': 2,\n",
      "                                                          '1976': 3,\n",
      "                                                          '1977': 4,\n",
      "                                                          '1978': 5,\n",
      "                                                          '1979': 6,\n",
      "                                                          '1980': 7,\n",
      "                                                          '1981': 8,\n",
      "                                                          '1982': 9,\n",
      "                                                          '1983': 10,\n",
      "                                                          '1984': 11,\n",
      "                                                          '1985': 12,\n",
      "                                                          '1986': 13,\n",
      "                                                          '1987': 14,\n",
      "                                                          '1988': 15,\n",
      "                                                          '1989': 16,\n",
      "                                                          '1990': 17,\n",
      "                                                          '1991': 18,\n",
      "                                                          '1992': 19,\n",
      "                                                          '1993': 20,\n",
      "                                                          '1994': 21,\n",
      "                                                          '1995': 22,\n",
      "                                                          '1996': 23,\n",
      "                                                          '1997': 24,\n",
      "                                                          '1998': 25,\n",
      "                                                          '1999': 26,\n",
      "                                                          '2000': 27,\n",
      "                                                          '2001': 28,\n",
      "                                                          '2002': 29,\n",
      "                                                          '2003': 30,\n",
      "                                                          '2004': 31,\n",
      "                                                          '2005': 32,\n",
      "                                                          '2006': 33,\n",
      "                                                          '2007': 34,\n",
      "                                                          '2008': 35,\n",
      "                                                          '2009': 36,\n",
      "                                                          '2010': 37,\n",
      "                                                          '2011': 38,\n",
      "                                                          '2012': 39,\n",
      "                                                          '2013': 40,\n",
      "                                                          '2014': 41,\n",
      "                                                          '2015': 42,\n",
      "                                                          '2016': 43,\n",
      "                                                          '2017': 44},\n",
      "                                                'label': {'1973': '1973',\n",
      "                                                          '1974': '1974',\n",
      "                                                          '1975': '1975',\n",
      "                                                          '1976': '1976',\n",
      "                                                          '1977': '1977',\n",
      "                                                          '1978': '1978',\n",
      "                                                          '1979': '1979',\n",
      "                                                          '1980': '1980',\n",
      "                                                          '1981': '1981',\n",
      "                                                          '1982': '1982',\n",
      "                                                          '1983': '1983',\n",
      "                                                          '1984': '1984',\n",
      "                                                          '1985': '1985',\n",
      "                                                          '1986': '1986',\n",
      "                                                          '1987': '1987',\n",
      "                                                          '1988': '1988',\n",
      "                                                          '1989': '1989',\n",
      "                                                          '1990': '1990',\n",
      "                                                          '1991': '1991',\n",
      "                                                          '1992': '1992',\n",
      "                                                          '1993': '1993',\n",
      "                                                          '1994': '1994',\n",
      "                                                          '1995': '1995',\n",
      "                                                          '1996': '1996',\n",
      "                                                          '1997': '1997',\n",
      "                                                          '1998': '1998',\n",
      "                                                          '1999': '1999',\n",
      "                                                          '2000': '2000',\n",
      "                                                          '2001': '2001',\n",
      "                                                          '2002': '2002',\n",
      "                                                          '2003': '2003',\n",
      "                                                          '2004': '2004',\n",
      "                                                          '2005': '2005',\n",
      "                                                          '2006': '2006',\n",
      "                                                          '2007': '2007',\n",
      "                                                          '2008': '2008',\n",
      "                                                          '2009': '2009',\n",
      "                                                          '2010': '2010',\n",
      "                                                          '2011': '2011',\n",
      "                                                          '2012': '2012',\n",
      "                                                          '2013': '2013',\n",
      "                                                          '2014': '2014',\n",
      "                                                          '2015': '2015',\n",
      "                                                          '2016': '2016',\n",
      "                                                          '2017': '2017'}},\n",
      "                                   'label': 'tid'},\n",
      "                           'id': ['BARNKON', 'ContentsCode', 'Tid'],\n",
      "                           'role': {'metric': ['ContentsCode'],\n",
      "                                    'time': ['Tid']},\n",
      "                           'size': [1, 1, 45]},\n",
      "             'label': 'Levendefødte efter barnets køn, Indhold og tid',\n",
      "             'source': 'Danmarks Statistik',\n",
      "             'updated': '2018-02-21T07:00:00Z',\n",
      "             'value': [34996,\n",
      "                       34771,\n",
      "                       35260,\n",
      "                       31533,\n",
      "                       30055,\n",
      "                       30161,\n",
      "                       28909,\n",
      "                       27941,\n",
      "                       25972,\n",
      "                       25595,\n",
      "                       24821,\n",
      "                       25228,\n",
      "                       26284,\n",
      "                       26878,\n",
      "                       27142,\n",
      "                       28520,\n",
      "                       29876,\n",
      "                       30813,\n",
      "                       31353,\n",
      "                       32914,\n",
      "                       32760,\n",
      "                       34027,\n",
      "                       33885,\n",
      "                       32819,\n",
      "                       32899,\n",
      "                       32116,\n",
      "                       32341,\n",
      "                       32652,\n",
      "                       31961,\n",
      "                       31109,\n",
      "                       31441,\n",
      "                       31539,\n",
      "                       31459,\n",
      "                       31580,\n",
      "                       31267,\n",
      "                       31507,\n",
      "                       30557,\n",
      "                       30946,\n",
      "                       28984,\n",
      "                       28131,\n",
      "                       27283,\n",
      "                       27616,\n",
      "                       28357,\n",
      "                       29833,\n",
      "                       29930]}}\n",
      "1\n"
     ]
    }
   ],
   "source": [
    "#3.3.2\n",
    "def getdata(url):\n",
    "    response_dst=requests.get(url)\n",
    "    if response_dst.ok:\n",
    "        print('It went well')\n",
    "        with open('my_file.json', 'w') as f:\n",
    "            response_json_str = json.dumps(response_dst.json()) #\n",
    "            f.write(response_json_str)\n",
    "        return response_dst.json()\n",
    "    else:\n",
    "        print('It went wrong')\n",
    "\n",
    "#\n",
    "url=construct_link('FOD', ['Tid=*', 'BARNKON=P'])\n",
    "\n",
    "print(url)\n",
    "\n",
    "piger=getdata(url)\n",
    "\n",
    "pprint.pprint(piger)"
   ]
  },
  {
   "cell_type": "markdown",
   "metadata": {},
   "source": [
    "## Problems from exercise set 4\n"
   ]
  },
  {
   "cell_type": "code",
   "execution_count": 8,
   "metadata": {},
   "outputs": [],
   "source": [
    "import numpy as np\n",
    "import pandas as pd"
   ]
  },
  {
   "cell_type": "markdown",
   "metadata": {},
   "source": [
    "> **Ex. 4.1.1:** Use Pandas' CSV reader to fetch  daily data weather from 1864 for various stations - available [here](https://www1.ncdc.noaa.gov/pub/data/ghcn/daily/by_year/). \n",
    ">\n",
    ">> *Hint 1*: for compressed files you may need to specify the keyword `compression`.\n",
    ">\n",
    ">> *Hint 2*: keyword `header` can be specified as the CSV has no column names.\n",
    ">\n",
    ">> *Hint 3*: Specify the path, as the URL linking directly to the 1864 file. "
   ]
  },
  {
   "cell_type": "code",
   "execution_count": null,
   "metadata": {},
   "outputs": [],
   "source": [
    "# [Answer to Ex. 4.1.1 here]"
   ]
  },
  {
   "cell_type": "markdown",
   "metadata": {},
   "source": [
    "> **Ex. 4.1.2:** Structure your weather DataFrame by using only the relevant columns (station identifier, data, observation type, observation value), rename them. Make sure observations are correctly formated (how many decimals should we add? one?).\n",
    ">\n",
    ">> *Hint:* rename can be done with `df.columns=COLS` where `COLS` is a list of column names."
   ]
  },
  {
   "cell_type": "code",
   "execution_count": null,
   "metadata": {},
   "outputs": [],
   "source": [
    "# [Answer to Ex. 4.1.2 here]"
   ]
  },
  {
   "cell_type": "markdown",
   "metadata": {},
   "source": [
    "> **Ex. 4.1.3:**  Select data for the station `ITE00100550` and only observations for maximal temperature. Make a copy of the DataFrame. Explain in a one or two sentences how copying works.\n",
    ">\n",
    ">> *Hint 1*: the `&` operator works elementwise on boolean series (like `and` in core python).\n",
    ">\n",
    ">> *Hint 2*: copying of the dataframe is done with the `copy` method for DataFrames."
   ]
  },
  {
   "cell_type": "code",
   "execution_count": null,
   "metadata": {},
   "outputs": [],
   "source": [
    "# [Answer to Ex. 4.1.3 here]"
   ]
  },
  {
   "cell_type": "markdown",
   "metadata": {},
   "source": [
    "> **Ex. 4.1.4:** Make a new column called `TMAX_F` where you have converted the temperature variables to Fahrenheit. \n",
    ">\n",
    ">> *Hint*: Conversion is $F = 32 + 1.8*C$ where $F$ is Fahrenheit and $C$ is Celsius."
   ]
  },
  {
   "cell_type": "code",
   "execution_count": null,
   "metadata": {},
   "outputs": [],
   "source": [
    "# [Answer to Ex. 4.1.4 here]"
   ]
  },
  {
   "cell_type": "markdown",
   "metadata": {},
   "source": [
    "## Problems from exercise set 5"
   ]
  },
  {
   "cell_type": "code",
   "execution_count": 1,
   "metadata": {},
   "outputs": [],
   "source": [
    "import matplotlib.pyplot as plt\n",
    "import numpy as np \n",
    "import pandas as pd\n",
    "import seaborn as sns \n",
    "\n",
    "%matplotlib inline \n",
    "\n",
    "iris = sns.load_dataset('iris')\n",
    "titanic = sns.load_dataset('titanic')"
   ]
  },
  {
   "cell_type": "markdown",
   "metadata": {},
   "source": [
    "> **Ex. 5.1.1:**: Show the first five rows of the titanic dataset. What information is in the dataset? Use a barplot to show the probability of survival for men and women within each passenger class. Can you make a boxplot showing the same information (why/why not?). _Bonus:_ show a boxplot for the fare-prices within each passenger class. \n",
    ">\n",
    "> Spend five minutes discussing what you can learn about the survival-selection aboard titanic from the figure(s).\n",
    ">\n",
    "> > _Hint:_ https://seaborn.pydata.org/generated/seaborn.barplot.html, specifically the `hue` option.\n"
   ]
  },
  {
   "cell_type": "code",
   "execution_count": 14,
   "metadata": {},
   "outputs": [
    {
     "name": "stdout",
     "output_type": "stream",
     "text": [
      "   survived  pclass     sex   age  sibsp  parch     fare embarked  class  \\\n",
      "0         0       3    male  22.0      1      0   7.2500        S  Third   \n",
      "1         1       1  female  38.0      1      0  71.2833        C  First   \n",
      "2         1       3  female  26.0      0      0   7.9250        S  Third   \n",
      "3         1       1  female  35.0      1      0  53.1000        S  First   \n",
      "4         0       3    male  35.0      0      0   8.0500        S  Third   \n",
      "\n",
      "     who  adult_male deck  embark_town alive  alone  \n",
      "0    man        True  NaN  Southampton    no  False  \n",
      "1  woman       False    C    Cherbourg   yes  False  \n",
      "2  woman       False  NaN  Southampton   yes   True  \n",
      "3  woman       False    C  Southampton   yes  False  \n",
      "4    man        True  NaN  Southampton    no   True  \n"
     ]
    },
    {
     "data": {
      "image/png": "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\n",
      "text/plain": [
       "<Figure size 432x288 with 1 Axes>"
      ]
     },
     "metadata": {},
     "output_type": "display_data"
    }
   ],
   "source": [
    "# [Answer to Ex. 5.1.1 here]\n",
    "print(titanic.head(5))\n",
    "f1=sns.barplot(x='pclass', y='survived',hue='sex', data=titanic)\n",
    "\n",
    "#f2=sns.boxplot(x='pclass', y='fare', data=titanic)"
   ]
  },
  {
   "cell_type": "markdown",
   "metadata": {},
   "source": [
    "> **Ex. 5.1.2:** Using the iris flower dataset, draw a scatterplot of sepal length and petal length. Include a second order polynomial fitted to the data. Add a title to the plot and rename the axis labels.\n",
    "> _Discuss:_ Is this a meaningful way to display the data? What could we do differently?\n",
    ">\n",
    "> For a better understanding of the dataset this image might be useful:\n",
    "> <img src=\"iris_pic.png\" alt=\"Drawing\" style=\"width: 200px;\"/>\n",
    ">\n",
    ">> _Hint:_ use the `.regplot` method from seaborn. "
   ]
  },
  {
   "cell_type": "code",
   "execution_count": 15,
   "metadata": {},
   "outputs": [
    {
     "name": "stdout",
     "output_type": "stream",
     "text": [
      "Text(0.5,1,'Iris')\n"
     ]
    },
    {
     "data": {
      "image/png": "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\n",
      "text/plain": [
       "<Figure size 432x288 with 1 Axes>"
      ]
     },
     "metadata": {},
     "output_type": "display_data"
    }
   ],
   "source": [
    "# [Answer to Ex. 5.1.2 here]\n",
    "\n",
    "petal=sns.regplot(x='sepal_length',y='petal_length', data=iris, fit_reg=True, order=2).set_title(\"Iris\")\n",
    "plt.xlabel(\"Sepal lenght\")\n",
    "plt.ylabel(\"Petal lenght\")\n",
    "\n",
    "print(petal)\n",
    "\n",
    "#The display is meaniningful, but the fitted second order polynomial doesn't display a clear correlation."
   ]
  },
  {
   "cell_type": "markdown",
   "metadata": {},
   "source": [
    "> **Ex. 5.1.3:** Combine the two of the figures you created above into a two-panel figure similar to the one shown here:\n",
    "> <img src=\"Example.png\" alt=\"Drawing\" style=\"width: 600px;\"/>\n",
    ">\n",
    "> Save the figure as a png file on your computer. \n",
    ">> _Hint:_ See [this question](https://stackoverflow.com/questions/41384040/subplot-for-seaborn-boxplot) on stackoverflow for inspiration."
   ]
  },
  {
   "cell_type": "code",
   "execution_count": null,
   "metadata": {},
   "outputs": [],
   "source": [
    "# [Answer to Ex. 5.1.3 here]\n",
    "fig, ax=plt.subplots(1,2, figsize=(10,4.5))\n",
    "fig.suptitle('Common title', fontsize=20)\n",
    "\n",
    "f=sns.barplot(x='pclass', y='survived', hue='sex', data=titanic, ax=ax[0])\n",
    "f.set_title(\"Surv on Titanic\")\n",
    "f.set(xlabel='class', ylabel='surv')\n",
    "petal=sns.regplot(x='sepal_length',y='petal_length', data=iris, fit_reg=True, order=2, ax=ax[1])\n",
    "petal.set_title(\"IRIS\")\n",
    "plt.xlabel(\"Sepal lenght\")\n",
    "plt.ylabel(\"Petal lenght\")\n",
    "plt.savefig('mytable.png')"
   ]
  },
  {
   "cell_type": "markdown",
   "metadata": {},
   "source": [
    "> **Ex. 5.1.4:** Use [pairplot with hue](https://seaborn.pydata.org/generated/seaborn.pairplot.html) to create a figure that clearly shows how the different species vary across measurements. Change the color palette and remove the shading from the density plots. _Bonus:_ Try to explain how the `diag_kws` argument works (_hint:_ [read here](https://stackoverflow.com/questions/1769403/understanding-kwargs-in-python))"
   ]
  },
  {
   "cell_type": "code",
   "execution_count": null,
   "metadata": {},
   "outputs": [],
   "source": [
    "# [Answer to Ex. 5.1.4 here]\n",
    "flowers=sns.pairplot(iris, hue='species', palette=\"husl\", diag_kind=\"kde\", diag_kws=dict(shade=False) )"
   ]
  },
  {
   "cell_type": "markdown",
   "metadata": {},
   "source": [
    "## Problems from exercise set 6\n",
    "\n",
    "> _Note:_ A central part of these exercises and the ones from exercise set 7 is downloading data from the NOAA servers. If you cannot complete this part, you can download the data as csv files **from [github](https://github.com/abjer/sds/tree/master/material/session_7)**."
   ]
  },
  {
   "cell_type": "code",
   "execution_count": 19,
   "metadata": {},
   "outputs": [],
   "source": [
    "%matplotlib inline\n",
    "import pandas as pd\n",
    "import matplotlib.pyplot as plt"
   ]
  },
  {
   "cell_type": "markdown",
   "metadata": {},
   "source": [
    "> **Ex. 6.1.4:** Extract the country code from the station name into a separate column.\n",
    ">\n",
    ">> _Hint:_ The station column contains a GHCND ID, given to each weather station by NOAA. The format of these ID's is a 2-3 letter country code, followed by a integer identifying the specific station. A simple approach is to assume a fixed length of the country ID. A more complex way would be to use the [`re`](https://docs.python.org/2/library/re.html) module."
   ]
  },
  {
   "cell_type": "code",
   "execution_count": 37,
   "metadata": {},
   "outputs": [
    {
     "name": "stdout",
     "output_type": "stream",
     "text": [
      "    station_id      date obs_type  obs_value  TMAX_F\n",
      "0  ITE00100550  18640117     TMAX       -6.3   20.66\n",
      "1  ITE00100550  18640118     TMAX       -5.0   23.00\n",
      "2  ITE00100550  18640114     TMAX       -5.0   23.00\n",
      "3  ITE00100550  18640113     TMAX       -4.3   24.26\n",
      "4  ITE00100550  18640115     TMAX       -3.1   26.42\n",
      "366\n",
      "    station_id       date obs_type  obs_value  TMAX_F  Month\n",
      "0  ITE00100550 1864-01-17     TMAX       -6.3   20.66      1\n",
      "1  ITE00100550 1864-01-18     TMAX       -5.0   23.00      1\n",
      "             station_id obs_type  obs_value  TMAX_F  Month\n",
      "date                                                      \n",
      "1864-01-17  ITE00100550     TMAX       -6.3   20.66      1\n",
      "1864-01-18  ITE00100550     TMAX       -5.0   23.00      1\n",
      "1864-01-14  ITE00100550     TMAX       -5.0   23.00      1\n",
      "1864-01-13  ITE00100550     TMAX       -4.3   24.26      1\n",
      "1864-01-15  ITE00100550     TMAX       -3.1   26.42      1\n",
      "1864-01-03  ITE00100550     TMAX       -2.8   26.96      1\n",
      "1864-01-16  ITE00100550     TMAX       -2.5   27.50      1\n",
      "1864-01-12  ITE00100550     TMAX       -2.5   27.50      1\n",
      "1864-01-05  ITE00100550     TMAX       -1.9   28.58      1\n",
      "             station_id obs_type  obs_value  TMAX_F  Month country\n",
      "date                                                              \n",
      "1864-01-17  ITE00100550     TMAX       -6.3   20.66      1     ITE\n",
      "1864-01-18  ITE00100550     TMAX       -5.0   23.00      1     ITE\n"
     ]
    },
    {
     "data": {
      "image/png": "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\n",
      "text/plain": [
       "<Figure size 432x288 with 1 Axes>"
      ]
     },
     "metadata": {},
     "output_type": "display_data"
    }
   ],
   "source": [
    "# [Answer to Ex. 6.1.4]\n",
    "\n",
    "#6.1.1\n",
    "url='/Users/mariannerasmussen/Documents/sds_amalie/material/Session_4/df_sorted1.csv'\n",
    "\n",
    "df_weather = pd.read_csv(url)\n",
    "\n",
    "print(df_weather.head(5))\n",
    "print(len(df_weather))\n",
    "\n",
    "#6.1.2\n",
    "df_weather['date']=pd.to_datetime(df_weather['date'], format='%Y%m%d')\n",
    "#print(df_weather.head(2))\n",
    "\n",
    "df_weather['Month']=df_weather['date'].dt.month\n",
    "print(df_weather.head(2))\n",
    "\n",
    "#6.1.3\n",
    "df_weather.set_index('date', inplace=True)\n",
    "print(df_weather.head(9))\n",
    "df_weather.plot()\n",
    "\n",
    "#6.1.4 Det er vist lige over plottet\n",
    "df_weather['country']=df_weather['station_id'].str[:3]\n",
    "print(df_weather.head(2))"
   ]
  },
  {
   "cell_type": "markdown",
   "metadata": {},
   "source": [
    "> **Ex. 6.1.5:** Make a function that downloads and formats the weather data according to previous exercises in Exercise Section 4.1, 6.1. You should use data for ALL stations but still only select maximal temperature. _Bonus:_ To validate that your function works plot the temperature curve for each country in the same window. Use `plt.legend()` to add a legend. "
   ]
  },
  {
   "cell_type": "code",
   "execution_count": 38,
   "metadata": {},
   "outputs": [
    {
     "name": "stdout",
     "output_type": "stream",
     "text": [
      "    station_id       date obs_type  obs_value  TMAX_F  Month country\n",
      "0  ITE00100550 1864-01-01     TMAX        1.0   33.80      1     ITE\n",
      "1  ASN00086071 1864-01-01     TMAX       21.4   70.52      1     ASN\n",
      "2  CA006158350 1864-01-01     TMAX        1.1   33.98      1     CA0\n",
      "3  EIE00101859 1864-01-01     TMAX        9.4   48.92      1     EIE\n",
      "4  BE000006447 1864-01-01     TMAX       -2.3   27.86      1     BE0\n",
      "5  GME00125218 1864-01-01     TMAX       -8.1   17.42      1     GME\n",
      "6  EZE00100082 1864-01-01     TMAX       -9.2   15.44      1     EZE\n",
      "7  ITE00100554 1864-01-01     TMAX        1.7   35.06      1     ITE\n",
      "8  ASN00066062 1864-01-01     TMAX       24.4   75.92      1     ASN\n",
      "9  AU000005901 1864-01-01     TMAX       -5.0   23.00      1     AU0\n"
     ]
    }
   ],
   "source": [
    "# [Answer to Ex. 6.1.5]\n",
    "\n",
    "def get_weather(nyear):\n",
    "    url='https://www1.ncdc.noaa.gov/pub/data/ghcn/daily/by_year/' + str(nyear) + '.csv.gz'\n",
    "    df_weather = pd.read_csv(url,\n",
    "                        compression='gzip',\n",
    "                        header=None)\n",
    "    headers = ['station_id', 'date', 'obs_type', 'obs_value']\n",
    "    df_weather2 = df_weather.iloc[:,:4] #we only wanted the first four variables\n",
    "    df_weather2.columns = headers #we change the names of the columns\n",
    "    df_weather2['obs_value'] = df_weather2['obs_value'] / 10 #the values in tenth are changed to units\n",
    "    \n",
    "    df_select = df_weather2[(df_weather2.obs_type == 'TMAX')].copy()\n",
    "    \n",
    "    df_select['TMAX_F'] = 32 + 1.8 * df_select['obs_value']\n",
    "    df_select=df_select.reset_index(drop=True)\n",
    "    \n",
    "    df_select['date']=pd.to_datetime(df_select['date'], format='%Y%m%d')\n",
    "    df_select['Month']=df_select['date'].dt.month\n",
    "    df_select['country']=df_select['station_id'].str[:3]\n",
    "    print(df_select.head(10))\n",
    "    \n",
    "get_weather(1864)"
   ]
  },
  {
   "cell_type": "markdown",
   "metadata": {},
   "source": [
    "## Problems from exercise set 7\n",
    "\n",
    "> _Note:_ Once again if you haven't managed to download the data from NOAA, you can refer to the github repo to get csv-files containing the required data."
   ]
  },
  {
   "cell_type": "code",
   "execution_count": 22,
   "metadata": {},
   "outputs": [],
   "source": [
    "%matplotlib inline \n",
    "\n",
    "import pandas as pd \n",
    "import matplotlib.pyplot as plt\n",
    "import matplotlib as mpl\n",
    "\n",
    "# Increases the plot size a little\n",
    "mpl.rcParams['figure.figsize'] = 11, 6"
   ]
  },
  {
   "cell_type": "markdown",
   "metadata": {},
   "source": [
    "> **Ex. 7.1.1:** Plot the monthly max,min, mean, first and third quartiles for maximum temperature for our station with the ID _'ITE00100550'_ in 1864. \n",
    "\n",
    "> *Hint*: the method `describe` computes all these measures."
   ]
  },
  {
   "cell_type": "code",
   "execution_count": null,
   "metadata": {},
   "outputs": [],
   "source": [
    "# [Answer to Ex. 7.1.1]"
   ]
  },
  {
   "cell_type": "markdown",
   "metadata": {},
   "source": [
    "> **Ex. 7.1.2:** Get the processed data from years 1864-1867 as a list of DataFrames. Convert the list into a single DataFrame by concatenating vertically. "
   ]
  },
  {
   "cell_type": "code",
   "execution_count": null,
   "metadata": {},
   "outputs": [],
   "source": [
    "# [Answer to Ex. 7.1.2]"
   ]
  },
  {
   "cell_type": "markdown",
   "metadata": {},
   "source": [
    "> **Ex. 7.1.3:** Parse the station location data which you can find at https://www1.ncdc.noaa.gov/pub/data/ghcn/daily/ghcnd-stations.txt. Merge station locations onto the weather data spanning 1864-1867.  \n",
    "\n",
    "> _Hint:_ The location data have the folllowing format, \n",
    "\n",
    "```\n",
    "------------------------------\n",
    "Variable   Columns   Type\n",
    "------------------------------\n",
    "ID            1-11   Character\n",
    "LATITUDE     13-20   Real\n",
    "LONGITUDE    22-30   Real\n",
    "ELEVATION    32-37   Real\n",
    "STATE        39-40   Character\n",
    "NAME         42-71   Character\n",
    "GSN FLAG     73-75   Character\n",
    "HCN/CRN FLAG 77-79   Character\n",
    "WMO ID       81-85   Character\n",
    "------------------------------\n",
    "```\n",
    "\n",
    "> *Hint*: The station information has fixed width format - does there exist a pandas reader for that?"
   ]
  },
  {
   "cell_type": "code",
   "execution_count": null,
   "metadata": {},
   "outputs": [],
   "source": [
    "# [Answer to Ex. 7.1.3]"
   ]
  },
  {
   "cell_type": "markdown",
   "metadata": {},
   "source": [
    "## Problems from exercise set 8\n",
    "\n",
    "> **Ex. 8.1.2.:** Use the `request` module to collect the first page of job postings and unpack the relevant `json` data into a `pandas` DataFrame."
   ]
  },
  {
   "cell_type": "code",
   "execution_count": null,
   "metadata": {},
   "outputs": [],
   "source": [
    "# [Answer to Ex. 8.1.2]"
   ]
  },
  {
   "cell_type": "markdown",
   "metadata": {},
   "source": [
    "> **Ex. 8.1.3.:** Store and print the 'TotalResultCount' value for later use. Also create a dataframe from the 'JobPositionPostings' field in the json. "
   ]
  },
  {
   "cell_type": "code",
   "execution_count": null,
   "metadata": {},
   "outputs": [],
   "source": [
    "# [Answer to Ex. 8.1.3]"
   ]
  },
  {
   "cell_type": "markdown",
   "metadata": {},
   "source": [
    "## Problems from exercise set 9\n",
    "\n",
    "> **Ex. 9.2.1:** Load the data used in the exercise using the `pd.read_csv` function. (Hint: path to file can be both a url or systempath). \n",
    "\n",
    ">Define a variable `sample_string = '\\n'.join(df.sample(2000).reviewBody)` as sample of all the reviews that you will practice on.  (Run it once in a while to get a new sample for potential differences).\n",
    "Imagine we were a company wanting to find the reviews where customers are concerned with the price of a service. They decide to write a regular expression to match all reviews where a currencies and an amount is mentioned. "
   ]
  },
  {
   "cell_type": "code",
<<<<<<< HEAD
   "execution_count": 45,
=======
   "execution_count": 19,
>>>>>>> aac443e01a1acfcaabed09469a77a7be3cdc2fdf
   "metadata": {},
   "outputs": [],
   "source": [
    "# [Answer to Ex. 9.2.1]\n",
    "import requests\n",
<<<<<<< HEAD
    "url = 'https://raw.githubusercontent.com/snorreralund/explore_regex/master/explore_regex.py'\n",
    "response = requests.get(url)\n",
    "with open('explore_regex.py','w') as f:\n",
    "    f.write(response.text)\n",
    "import explore_regex as e_re\n",
    "\n",
    "#9.2.0\n",
    "import pandas as pd\n",
    "import requests\n",
    "df = pd.read_csv('https://raw.githubusercontent.com/snorreralund/scraping_seminar/master/english_review_sample.csv')\n",
    "\n",
    "import explore_regex as e_re\n",
    "\n",
    "sample_string = '\\n'.join(df.sample(2000).reviewBody)\n",
    "\n"
=======
    "import pandas as pd\n",
    "url = 'https://raw.githubusercontent.com/snorreralund/explore_regex/master/explore_regex.py'\n",
    "response = requests.get(url)\n",
    "# write script to your folder to create a locate module\n",
    "with open('explore_regex.py','w') as f:\n",
    "    f.write(response.text)\n",
    "# import local module\n",
    "import explore_regex as e_re\n",
    "\n",
    "tp=pd.read_csv('https://raw.githubusercontent.com/snorreralund/scraping_seminar/master/english_review_sample.csv')\n",
    "smpstring='\\n'.join(tp.sample(2000).reviewBody)\n"
>>>>>>> aac443e01a1acfcaabed09469a77a7be3cdc2fdf
   ]
  },
  {
   "cell_type": "markdown",
   "metadata": {},
   "source": [
    "> **Ex. 9.2.2:** \n",
    "> Write an expression that matches both the dollar-sign (\\$) and dollar written literally, and the amount before or after a dollar-sign. Remember that the \"$\"-sign is a special character in regular expressions. Explore and refine using the explore_pattern function in the package I created called explore_regex. \n",
    "```python\n",
    "import explore_regex as e_re\n",
    "explore_regex = e_re.Explore_Regex(sample_string) # Initaizlie the Explore regex Class.\n",
    "explore_regex.explore_pattern(pattern) # Use the .explore_pattern method.\n",
    "```\n",
    "\n",
    "\n",
    "Start with exploring the context around digits (\"\\d\") in the data. "
   ]
  },
  {
   "cell_type": "code",
<<<<<<< HEAD
   "execution_count": 46,
=======
   "execution_count": 21,
>>>>>>> aac443e01a1acfcaabed09469a77a7be3cdc2fdf
   "metadata": {},
   "outputs": [
    {
     "name": "stdout",
     "output_type": "stream",
     "text": [
<<<<<<< HEAD
      "------ Pattern: ([0-9]+)(\\$)\t Matched 2 patterns -----\n",
      "Found 0 overlaps between the expressions:\n",
      "        pattern1: ([0-9]+)(\\$) \t and\n",
      "        pattern2: ([0-9]+)(\\$)\n",
      "        2 included in pattern1 and not in the pattern2\n",
      "        2 was included in pattern2 and not in pattern1\n",
      "------ Pattern: ([0-9]+)(\\$)([0-9]+)\t Matched 0 patterns -----\n",
      "Found 0 overlaps between the expressions:\n",
      "        pattern1: ([0-9]+)(\\$)([0-9]+) \t and\n",
      "        pattern2: ([0-9]+)(\\$)\n",
      "        0 included in pattern1 and not in the pattern2\n",
      "        2 was included in pattern2 and not in pattern1\n",
      "------ Pattern: ([0-9]+)?(\\$|dollar)([0-9]+)?\t Matched 110 patterns -----\n",
      "Found 4 overlaps between the expressions:\n",
      "        pattern1: ([0-9]+)?(\\$|dollar)([0-9]+)? \t and\n",
      "        pattern2: ([0-9]+)(\\$)\n",
      "        108 included in pattern1 and not in the pattern2\n",
      "        0 was included in pattern2 and not in pattern1\n",
      "------ Pattern: ([0-9]+)?\\s{0,5}(\\$|dollar)\\s{0,5}([0-9]+)?\t Matched 110 patterns -----\n",
      "Found 4 overlaps between the expressions:\n",
      "        pattern1: ([0-9]+)?\\s{0,5}(\\$|dollar)\\s{0,5}([0-9]+)? \t and\n",
      "        pattern2: ([0-9]+)(\\$)\n",
      "        108 included in pattern1 and not in the pattern2\n",
      "        0 was included in pattern2 and not in pattern1\n",
      "------ Pattern: (([0-9]+)\\s{0,5}(\\$|dollar))|((\\$|dollar)\\s{0,5}([0-9]+))\t Matched 99 patterns -----\n",
      "Found 4 overlaps between the expressions:\n",
      "        pattern1: (([0-9]+)\\s{0,5}(\\$|dollar))|((\\$|dollar)\\s{0,5}([0-9]+)) \t and\n",
      "        pattern2: ([0-9]+)(\\$)\n",
      "        97 included in pattern1 and not in the pattern2\n",
      "        0 was included in pattern2 and not in pattern1\n",
      "Match: 150$\tContext:u 100$ to 150$ per ticke\n",
      "Match: 100$\tContext:harge you 100$ to 150$ p\n"
=======
      "------ Pattern: ([0-9]+(\\$|dollar))|((\\$|dollar)[0-9]+)\t Matched 85 patterns -----\n",
      "Match: $10\tContext:es wanted $10. The only\n",
      "Match: $10\tContext:on of the $10 cards. Bu\n",
      "Match: $10\tContext:you spend $10 which nev\n",
      "Match: $250\tContext:harge you $250 an up... \n",
      "Match: $200\tContext: i get my $200 back...\n",
      "T\n",
      "Match: $13\tContext:chose the $13 fedex del\n",
      "Match: $20\tContext: spending $20, I was ve\n",
      "Match: $60\tContext:. I saved $60 in total \n",
      "Match: $100\tContext: code for $100 off my ne\n",
      "Match: $12\tContext:n you pay $12 for bars,\n",
      "------ Pattern: \\$\t Matched 88 patterns -----\n",
      "Found 0 overlaps between the expressions:\n",
      "\n",
      "        pattern1: \\$ \t and\n",
      "\n",
      "        pattern2: \\$\n",
      "\n",
      "        88 included in pattern1 and not in the pattern2\n",
      "\n",
      "        88 was included in pattern2 and not in pattern1\n",
      "------ Pattern: \\$|dollar\t Matched 100 patterns -----\n",
      "Found 176 overlaps between the expressions:\n",
      "\n",
      "        pattern1: \\$|dollar \t and\n",
      "\n",
      "        pattern2: \\$\n",
      "\n",
      "        12 included in pattern1 and not in the pattern2\n",
      "\n",
      "        0 was included in pattern2 and not in pattern1\n",
      "------ Pattern: ([0-9]+(\\$|dollar))\t Matched 3 patterns -----\n",
      "Found 6 overlaps between the expressions:\n",
      "\n",
      "        pattern1: ([0-9]+(\\$|dollar)) \t and\n",
      "\n",
      "        pattern2: \\$\n",
      "\n",
      "        0 included in pattern1 and not in the pattern2\n",
      "\n",
      "        85 was included in pattern2 and not in pattern1\n",
      "Found 170 overlaps between the expressions:\n",
      "\n",
      "        pattern1: ([0-9]+(\\$|dollar))|((\\$|dollar)[0-9]+) \t and\n",
      "\n",
      "        pattern2: \\$\n",
      "\n",
      "        0 included in pattern1 and not in the pattern2\n",
      "\n",
      "        3 was included in pattern2 and not in pattern1\n"
>>>>>>> aac443e01a1acfcaabed09469a77a7be3cdc2fdf
     ]
    }
   ],
   "source": [
    "# [Answer to Ex. 9.2.2]\n",
<<<<<<< HEAD
    "%matplotlib inline\n",
    "\n",
    "\n",
    "# money example\n",
    "#explore_money = ExploreRegex(sample_string)\n",
    "explore_money = e_re.ExploreRegex(sample_string)\n",
    "\n",
    "first = '([0-9]+)(\\$)'\n",
    "second = '([0-9]+)(\\$)([0-9]+)'\n",
    "third = '([0-9]+)?(\\$|dollar)([0-9]+)?'\n",
    "fourth = '([0-9]+)?\\s{0,5}(\\$|dollar)\\s{0,5}([0-9]+)?'\n",
    "final = '(([0-9]+)\\s{0,5}(\\$|dollar))|((\\$|dollar)\\s{0,5}([0-9]+))' #95 i stedet for 108\n",
    "patterns = [first,second,third,fourth,final]\n",
    "for pattern in patterns:\n",
    "    explore_money.explore_difference(pattern,patterns[0])\n",
    "explore_money.explore_pattern(first)\n"
=======
    "import explore_regex as e_re\n",
    "%matplotlib inline\n",
    "explore_money = e_re.ExploreRegex(smpstring)\n",
    "\n",
    "first='\\$'\n",
    "second='\\$|dollar'\n",
    "third='([0-9]+(\\$|dollar))'\n",
    "fourth='([0-9]+(\\$|dollar))|((\\$|dollar)[0-9]+)'\n",
    "explore_money.explore_pattern(fourth)\n",
    "patterns=[first,second,third,fourth]\n",
    "for i in patterns:\n",
    "    explore_money.explore_difference(i,patterns[0])"
>>>>>>> aac443e01a1acfcaabed09469a77a7be3cdc2fdf
   ]
  },
  {
   "cell_type": "markdown",
   "metadata": {},
   "source": [
    "> **Ex.9.2.3** Use the .report() method. e_re.report(), and print the all patterns in the development process using the .pattern method - i.e. e_re.patterns "
   ]
  },
  {
   "cell_type": "code",
<<<<<<< HEAD
   "execution_count": 47,
   "metadata": {},
   "outputs": [
    {
     "name": "stdout",
     "output_type": "stream",
     "text": [
      "------ Pattern: ([0-9]+)(\\$)\t Matched 2 patterns -----\n",
      "------ Pattern: ([0-9]+)(\\$)([0-9]+)\t Matched 0 patterns -----\n",
      "------ Pattern: ([0-9]+)?(\\$|dollar)([0-9]+)?\t Matched 110 patterns -----\n",
      "------ Pattern: ([0-9]+)?\\s{0,5}(\\$|dollar)\\s{0,5}([0-9]+)?\t Matched 110 patterns -----\n",
      "------ Pattern: (([0-9]+)\\s{0,5}(\\$|dollar))|((\\$|dollar)\\s{0,5}([0-9]+))\t Matched 99 patterns -----\n"
     ]
    },
    {
     "data": {
      "image/png": "iVBORw0KGgoAAAANSUhEUgAAA4UAAAKbCAYAAABCey//AAAABHNCSVQICAgIfAhkiAAAAAlwSFlzAAALEgAACxIB0t1+/AAAADl0RVh0U29mdHdhcmUAbWF0cGxvdGxpYiB2ZXJzaW9uIDIuMi4yLCBodHRwOi8vbWF0cGxvdGxpYi5vcmcvhp/UCwAAIABJREFUeJzs3Xm4JVV97//3h0YGR0BEEVAggoogGhH0h0YGGfQiiENEMYKKXI0mcRb9JYqQ5MZEHOKAaSODJo44oaItEloNTnQYBFGEi6ANKGgjTijS/b1/VB2o3uwzFHA43bXfL5/9nBrWWrVWsY/P+fZ31apUFZIkSZKkybTOQndAkiRJkrRwDAolSZIkaYIZFEqSJEnSBDMolCRJkqQJZlAoSZIkSRPMoFCSJEmSJphBoSRJA5bk0CRfvo11H5/k4s7+5UmeeDv68psk297W+gvl9txDSVobGBRKkrSWS/K4JN9Icn2SFUnOSvJogKr6z6ra97a0W1Vfr6oH31H9rKq7V9VlbZ9PSvL3t7WtNkC9McmmI8fPS1JJtp5DG1u3Zdedpd+3+R5K0trAoFCSpLVYknsCnwfeBWwCbAG8GfjDQvara7ag63b4EfDsznV2Aja8Iy8wj32XpDWGQaEkSWu37QGq6iNVtbKqbqiqL1fVdwGSHJ7kv6cKt5mxv0xySZJfJzk2yZ8k+WaSXyX5eJL12rJ7JFk+7qJJdm3r/DLJ1UnePVWvc52XJrkEuKRz7EFJjgQOBV7bTin9XJLXJPnkyDXeleQdM4z9Q8DzOvuHAR8caeN/JTm3HdtPkhzdOf219ucv2348tr1fZyV5e5IVwNHde5jk/0vy8yRbtfs7t/fgITP0U5LWaAaFkiSt3X4IrExycpInJdl4DnX2Bx4FPAZ4LbCYJkjbCtiRTvZtBiuBVwCbAo8F9gb+cqTMU4HdgB26B6tqMfCfwD+3U0qfAvwHsH+SjeDmDN2zaAK/6XwLuGeShyZZ1Jb/j5Eyv6UJHDcC/hfwkiRPbc/9Wftzo7Yf32z3dwMuAzYD/mGk798A/g04OcmGbf/+tqp+MEM/JWmNZlAoSdJarKp+BTwOKOD9wLVJTk1y3xmqvaWqflVV3wMuBL5cVZdV1fXAF4FHzuG6/1NV36qqm6rqcppA6Qkjxf5PVa2oqhvm0N7VNJm7Z7aH9gd+XlX/M0vVqWzhPsAPgCtH2l1aVRdU1ao2e/qRMf0cdVVVvasd27i+Hw3cC/gOcBXwnlnak6Q1mkGhJElruar6flUdXlVb0mT67g/MNO3yZ53tG8bs3322aybZPsnnk/w0ya+Af6TJGnb9ZE4DuMXJwHPb7ecyc5ZwyoeA5wCHMzJ1tO3nbknOTHJtkuuBF4/p56gZ+11VfwROornXx1VVzaGfkrTGMiiUJGlA2mmMJ9EELPPpeJrM3HZVdU/gDUBGuzND/XHnPgM8PMmOwAE0U0xnVFVX0Cw482TgU2OKfBg4Fdiqqu4FvK/Tz+n6N2OQl2QL4E3AicBxSdafrZ+StCYzKJQkaS2W5CFJXpVky3Z/K5pnAr81z5e+B/Ar4DftIisv6Vn/Z8Bq7yysqt8Dp9AEct+pqh/Psa0XAntV1W+n6eeKqvp9kl1psopTrgVWjfZjJklCE3R/oL3u1cCxc60vSWsig0JJktZuv6ZZGOXbSX5LEwxeCLxqnq/7apoA69c0zzJ+rGf9DwA7tCt3fqZz/GRgJ+Y2dRSAqvq/VbVsmtN/CRyT5NfAG4GPd+r9jmYhmbPafjxmDpf7a+C+wN+100afDzw/yePn2l9JWtPEafCSJGlNkeQBNNNS79cuoiNJmmdmCiVJ0hohyTrAK4GPGhBK0p3HoFCSJC24JHejeUZxH5pFXCRJI5KckOSaJBdOcz5J/jXJpUm+m+RP59KuQaEkSVpwVfXb9gXyD6uqvq+ykKRJcRLNe1yn8yRgu/ZzJM1K0bMyKJQkSZKktUBVfQ1YMUORg4APVuNbwEZJNp+t3XXvqA5K0hiuZLWW2GedZy50FzRHS646f6G7oDna7/47L3QXNEf+Xq1d1rnfD0ffiXqnW/XT7eflb5xFm1/yv2kyfFMWV9XiHk1sAXRnWyxvj109UyWDQkmSJElaA7QBYJ8gcNS4gHnWANbpo5IkSZI0DMuBrTr7WwJXzVbJoFCSJEmSelg1T/+7A5wKPK9dhfQxwPVVNePUUXD6qCRJkiT1srLukADuVmYLzpJ8BNgD2DTJcppX+NwFoKreB5wGPBm4FPgd8Pw74rqSJEmSpDVAVT17lvMFvLRvuwaFkiRJktTDqoEtsO4zhZIkSZI0wcwUSpIkSVIPd9CiMGsMg0JJkiRJ6mFlOX1UkiRJkjQQZgolSZIkqQcXmpEkSZIkDYaZQkmSJEnqYaWZQkmSJEnSUJgplCRJkqQehvZMoUGhJEmSJPXgKykkSZIkSYNhplCSJEmSeli10B24g5kplCRJkqQJZqZQkiRJknoY2ispDAolSZIkqYeVw4oJnT4qSZIkSZPMTKEkSZIk9eBCM5IkSZKkwTBTKEmSJEk9rCQL3YU7lEGhJEmSJPWwyoVmJEmSJElDYaZQkiRJknoY2vRRM4WSJEmSNMHMFEqSJElSD2YKJUmSJEmDYaZQkiRJknpYVcPKFBoUSpIkSVIPTh+VJEmSJA2GmUJJkiRJ6mHlwHJrwxqNJEmSJKkXM4WSJEmS1IMLzUiSJEnSBHOhGUmSJEnSYJgplCRJkqQeVtawcmvDGo0kSZIkqReDQulOlGTDJF9NsneS65Oc1jl3WJJL2s9h09RfL8mJSS5Icn6SPTrnzkzymyS7zLEvb02y18ixU5JsO3Ls6JH9A5K8eS7XkCRJGqJVrDMvn4ViUCjduV4AfApYCXy9qp4MkGQT4E3AbsCuwJuSbDym/osAqmonYB/guCTrtMf2BJaNVkiyR5KTxrT1LuCoTrmHAYuq6rJ2/+Ak5wEvSXJWkp3aol8ADkxy176DlyRJGoKVZF4+C8WgULpzHQp8dszx/YDTq2pFVV0HnA7sP6bcDsAZAFV1DfBLYE6ZwVFVdQVw7yT3m6Zv7wX+HDgeeBpwTVuvgKXAAePaTXJkkmVJli1evPi2dE2SJEl3Iheake4kSdYDtq2qy5NsPXJ6C+Annf3l7bFR5wMHJfkosBXwqPbnd25jt84Bdgc+2f78SOfcTcB9AarqZyP1lgGPBz4+2mBVLQamosG6jf2SJElaYw1toRmDQunOsylNZm+ccfMFxgVUJwAPpQnKrgC+QRO83brB5NvA+sDdgU3aqaAAr6uqJe32NcD92+3NgWs7TRwCHAvslOT+wBuq6udj6kmSJGktZlAo3XluADaY5txyYI/O/pbA0iQH0zxrCHBEVS0DXjFVKMk3gEvGNVhVu7Vl9gAOr6rDxxTboO3XrfpXVWcBeyV5C80zkG8BXjimniRJ0kRZ5cvrJd0W7bOCi5KMCwyXAPsm2bhdYGZfYElVfbqqHtF+liW5a5K7ASTZB7ipqi66Hd3aHriw3f4+8KCpE0l2bDdvAL4L3GOaepIkSVqLmSmU7lxfBh7HyJTPqlqR5Fjg7PbQMVW1Ykz9zYAlSVYBVwJ/cVs7kuQuNEHg1IqlX6DJVn6l3f/7JJsC27TXekGn+p7A62/rtSVJktZmKweWWzMolO5c7wZeCXxg9ERVnUDzzOC0qupy4MF9LlhVS2lWCx11AHBKVU0FqKcAZyZ5U1WtrKqnQvOewqo6eqpSkvsCG1bVBX36IUmSNBRDW2hmWKOR1nBVdS5wJvBHYMfuy+tvryRnAtu2bc/FusBxnb7dQPP84uiqp0tH9h8AvOq29VKSJElrGjOF0p2szQgCbH0Ht7tnz/KfGHNsyZhjS0f2zx4tI0mSNElWDSy3NqzRSJIkSZJ6MVMoSZIkST2srGG9ksKgUJIkSZJ6GNrqo8MajSRJkiSpFzOFkiRJktTDKl9JIUmSJEkaCjOFkiRJktTD0J4pNCiUJEmSpB6GtvrosEJcSZIkSVIvZgolSZIkqYdVA8utDWs0kiRJkqRezBRKkiRJUg8rfSWFJEmSJGkozBRKkiRJUg+rGNbqowaFkiRJktSD00clSZIkSYNhplCSJEmSelg5sNzasEYjSZIkSerFTKEkSZIk9bCqXGhGkiRJkiaW00clSZIkSYNhplCSJEmSeljlKykkSZIkSUNhplCSJEmSeliJC81IkiRJ0sRy+qgkSZIkaTDMFEqSJElSD0ObPmqmUJIkSZImmJlCSZIkSerBZwolSZIkSYNhplCSJEmSelhpplCSJEmSJtcqMi+fuUiyf5KLk1ya5Kgx5x+Q5Mwk5yb5bpInz9amQaEkSZIkrQWSLALeAzwJ2AF4dpIdRor9LfDxqnokcAjw3tnadfqoJEmSJPWwgNNHdwUurarLAJJ8FDgIuKhTpoB7ttv3Aq6arVEzhZIkSZK0BkhyZJJlnc+RI0W2AH7S2V/eHus6GnhukuXAacBfzXZdM4WSJE5f9YmF7oI0OKevWugeSJovq2p+Xl5fVYuBxTMUGXfhGtl/NnBSVR2X5LHAh5LsWFXT/r+SQaEkSZIk9bBy4SZcLge26uxvya2nh74Q2B+gqr6ZZANgU+Ca6Rp1+qgkSZIkrR3OBrZLsk2S9WgWkjl1pMyPgb0BkjwU2AC4dqZGzRRKkiRJUg/zNX10NlV1U5KXAUuARcAJVfW9JMcAy6rqVOBVwPuTvIJmaunhVTU6xXQ1BoWSJEmStJaoqtNoFpDpHntjZ/siYPc+bRoUSpIkSVIPqwb2FJ5BoSRJkiT1sHKBpo/Ol2GFuJIkSZKkXswUSpIkSVIPC7XQzHwxUyhJkiRJE8xMoSRJkiT1sKqGlVsb1mgkSZIkSb2YKZQkSZKkHlYyrGcKDQolSZIkqQcXmpEkSZIkDYaZQkmSJEnqwYVmJEmSJEmDYaZQkiRJknpY5UIzkiRJkjS5VrrQjCRJkiRpKMwUSpIkSVIPLjQjSZIkSRoMM4WSJEmS1MPQXl5vUChJkiRJPQxt9VGnj0qSJEnSBDNTKEmSJEk9DG36qJlCSZIkSZpgZgolSZIkqQdfSSFJkiRJGgwzhZIkSZLUw9CeKTQolCRJkqQefCWFJEmSJGkwzBRKkiRJUg9Dmz5qplCSJEmSJpiZQkmSJEnqYWiZQoNCSZIkSephaEGh00clSZIkaYKZKZQkSZKkHswUSpIkSZIGw0yhJEmSJPUwtJfXGxRKkiRJUg9OH5XWYEk2TPLVJHsnuT7JaZ1zhyW5pP0cNk399ZKcmOSCJOcn2aNz7swkv0myyxz78tYke40cOyXJtiPHjh7ZPyDJm0eOvTzJ89rtpUkuTnJgu79JktPbcZ2eZONp+rNXknOSXJjk5CTrtsefleTSJJ+f47juk+RLcykrSZKkNZ9BoYbmBcCngJXA16vqydAETsCbgN2AXYE3TRM8vQigqnYC9gGOS7JOe2xPYNlohSR7JDlpTFvvAo7qlHsYsKiqLmv3D05yHvCSJGcl2akt+gXgwCR3bcut247rw522D62qU9vto4Azqmo74IzuNTvXXgc4GTikqnYErgAOa8f1MeCIMf2fCkC37h6rqmuBq5PsPq6OJEnS0K2qzMtnoRgUamgOBT475vh+wOlVtaKqrgNOB/YfU24HmsCKqroG+CUwp8zgqKq6Arh3kvtN07f3An8OHA88DbimrVfAUuCAttxewDlVddM0lzqIJuCj/fnUMWXuDfyhqn7Y7p8OPL3nkLo+QzOeW0lyZJJlSZYtXrz4dlxCkiRJdwaDQg1GkvWAbavq8jGntwB+0tlf3h4bdT5wUJJ1k2wDPArY6nZ06xxgKqO2O/A/nXM3AfcFqKqfVdXPOueWAY+fpt6o+1bV1W07VwObjSnzc+Aunamvz+D2javbv9VU1eKq2qWqdjnyyCNvxyUkSZLWTEPLFLrQjIZkU5rM3jjjfstqzLETgIfSBD1XAN+gCd5u3WDybWB94O7AJu1UUIDXVdWSdvsa4P7t9ubAtZ0mDgGOBXZKcn/gDVX182nqfX+acc1JVVWSQ4C3J1kf+PIM43o+8Dft7oOA05LcCPyoqg4e0z9JkqSJMrSFZgwKNSQ3ABtMc245sEdnf0tgaZKDaZ41BDiiqpYBr5gqlOQbwCXjGqyq3doyewCHV9XhY4pt0PbrVv2rqrOAvZK8heYZyLcAL5yt3hg/S7J5VV2dZHPaaahJltBkIpdV1RFV9U3a7F6SfYHtpxnXicCJbbml7dgun2FckiRJWos5fVSD0T4ruCjJuABqCbBvko3bBWb2BZZU1aer6hHtZ1mSuya5G0CSfYCbquqi29Gt7YEL2+3v02TeaNvfsd28AfgucI+51BvjVNpFY9qfnwWoqv3acR3RXm+z9uf6wOuA9922Id2qf5IkSROlKvPyWShmCjU0XwYex8jUyKpakeRY4Oz20DFVtWJM/c2AJUlWAVcCf3FbO5LkLjTB3NSKpV+gyVZ+pd3/+ySbAtu013pBp/qewOvb7S8CH5rhUv8EfDzJC4EfA8+cptxrkhxA849Bx1fVf/Ua0Or2pBmPJEmS1nIGhRqadwOvBD4weqKqTqB5ZnBa7TTJB/e5YFUtpVktdNQBwCmdVUNPAc5M8qaqWllVT4XmPYVVdfRUpST3BTasqgva9q9I8osk21XVraayVtUvgL3n0M/XAK/pObY9pjl1IM2qp5IkSRNn1djlKtZeTh/VoFTVucCZwB+BHbsvr7+9kpwJbNu2PRfrAsd1+nYDzfOLo6ueLh3ZfwDwqpFjR9EsOAOwAjhp6uX1t1eSZ9G8HuO6OZa/D/C2drquJEmS1nJpXokmSfPC/4ORJEl3tAVP0z3uK6+dl79x/vuJ/7wgY3P6qCRJkiT1sJCLwswHp49KkiRJ0gQzUyhJkiRJPQzt5fVmCiVJkiRpgpkplCRJkqQehvZMoUGhJEmSJPXg9FFJkiRJ0mCYKZQkSZKkHob2qnczhZIkSZI0wcwUSpIkSVIPqxjWM4UGhZIkSZLUw9BWH3X6qCRJkiRNMDOFkiRJktSDr6SQJEmSJA2GmUJJkiRJ6sFXUkiSJEmSBsNMoSRJkiT1MLTVRw0KJUmSJKmHoQWFTh+VJEmSpAlmplCSJEmSevCVFJIkSZKkwTBTKEmSJEk9DO2VFAaFkiRJktSDC81IkiRJkgbDTKEkSZIk9WCmUJIkSZI0GGYKJUmSJKmHga0zY1AoSZIkSX04fVSSJEmSNBhmCiVJkiSpj4HNHzVTKEmSJEkTzKBQkiRJknqoyrx85iLJ/kkuTnJpkqOmKfPnSS5K8r0kH56tTaePSpIkSdJaIMki4D3APsBy4Owkp1bVRZ0y2wGvB3avquuSbDZbuwaFkiRJktRDLdwzhbsCl1bVZQBJPgocBFzUKfMi4D1VdR1AVV0zW6MGhZLmzX4bHLrQXdAcrbrxxoXugno4fdUnFroLmoP9N3nRQndBc/TEs3680F1QD69+6JKF7sK8vZIiyZHAkZ1Di6tqcWd/C+Annf3lwG4jzWzftnUWsAg4uqq+NNN1DQolSZIkaQ3QBoCLZygyLhodzVuuC2wH7AFsCXw9yY5V9cvpGjUolCRJkqQ+Fu7l9cuBrTr7WwJXjSnzrar6I/CjJBfTBIlnT9eoq49KkiRJ0trhbGC7JNskWQ84BDh1pMxngD0BkmxKM530spkaNVMoSZIkST0s1EIzVXVTkpcBS2ieFzyhqr6X5BhgWVWd2p7bN8lFwErgNVX1i5naNSiUJEmSpD4WbvVRquo04LSRY2/sbBfwyvYzJ04flSRJkqQJZqZQkiRJknqYr1dSLBQzhZIkSZI0wcwUSpIkSVIfC/hM4XwwKJQkSZKkHpw+KkmSJEkaDDOFkiRJktTHwKaPmimUJEmSpAlmplCSJEmSevGZQkmSJEnSQJgplCRJkqQ+BvZMoUGhJEmSJPUxsKDQ6aOSJEmSNMHMFEqSJElSH768XpIkSZI0FGYKJUmSJKmHGtgzhQaFkiRJktTHwIJCp49KkiRJ0gQzUyhJkiRJfbjQjCRJkiRpKMwUSpIkSVIPGdgzhQaFkiRJktTHwIJCp49KkiRJ0gQzUyhJkiRJfbjQjCRJkiRpKMwUSpIkSVIfPlMoSZIkSRoKM4WSJEmS1MfAMoUGhZIkSZLUx8CCQqePSpIkSdIEM1MoSZIkSX34SgpJkiRJ0lCYKZQkSZKkHjKwZwoNCiVJkiSpj4EFhU4flSRJkqQJZlCoOUmyYZKvJtk7yfVJTuucOyzJJe3nsGnqr5fkxCQXJDk/yR6dc2cm+U2SXebYl7cm2avdXj/JZ5Jc2H5265R7eZLnjdQ9ekx7l09znT2SfH6Wvhye5N1TbSd59VzG0Kl/QJI3jxy7ud9Jlia5OMmB7f4mSU5v7/XpSTaept29kpzT3pOTk6zbHn9WkktnG1ennfsk+VJn/+Ak303ygyTvTzKsp6wlSZImkEGh5uoFwKeAlcDXq+rJ0AQpwJuA3YBdgTdNE6i8CKCqdgL2AY5Lsk57bE9g2WiFNig7aUxb7wKOarfXAd5ZVTsCrwL+oa27btvnD7f7OyT5GvCSNlh6du87cAdr+/gF4MAkd+0cu7nfrUOr6tR2+yjgjKraDjiDW+5Dt911gJOBQ9r7cgVwGEBVfQw4Ypr+LE2ydfdYVV0LXJ1k9/bQL4DdgR3az+5IkiRprWZQqLk6FPjsmOP7AadX1Yqqug44Hdh/TLkdaIIYquoa4JfAnDKDo6rqCuDeSe5XVTdU1ZntqQ2A37fbewHnVNVN7f7RwAeB42kCmbPHtZ1k/zYL9t/A0zrHN2kzkt9N8q0kD5+pj0lelOTsNiv6yU7Qd1KStyU5E3hLVRWwFDhgmn6POogm4KP9+dQxZe4N/KGqftjunw48fab+zuIzNP/9qaqvVdWvaWbSd++3JEnSxEjNz2ehGBRqVknWA7atqsvHnN4C+Elnf3l7bNT5wEFJ1k2yDfAoYKvb0a1z6GSpkmwFvI0m+KM99z+d8jcCmwHrtIHkpaMNJtkAeD/wFODxwP06p98MnFtVDwfeQBNgzuRTVfXoqtoZ+D7wws657YEnVtWr2v1l7fXG9XvUfavqaoD252ZjyvwcuEtnOu4zuH33utu/KccAl1XVuAzvkUmWJVm2fOWtbrMkSdLarzI/nwViUKi52JQmszfOuG/vuH/nOIEmYFwGvAP4BjA2G5bk20nOA/6dZmrlee1nv06xa4D7d/bfCby5E6RsDlzbOf86YCfgZUk+l2TnMZd+CPCjqrqkzeD9R+fc44APAVTVf9FkKu81rv+tHZN8PckFNFm2h3XOfaKqVk4zltF+99b2/RDg7Um+A/ya6e/186fuL03m9rR2/9PT9I/23h0M/MU0119cVbtU1S5bLnrQ7RmKJEmS7gS+kkJzcQPNVMFxlgN7dPa3BJYmOZjmWUOAI9pg7RVThZJ8A7hkXINVtVtbZg/g8Ko6fEyxDdp+TXk48L+n63NVXQk8O8kxNFNHPwX8ybjLj+sTcw9+p5wEPLWqzk9yOKvfo9+OlO2OZaZ7DfCzJJtX1dVJNqcJ2EiyBLgvsKyqjqiqb9Jm95LsS5OdvPUAqk4ETmzLLaW535fP0D9oguuvVpVTRyVJ0mTylRSaNO2zgova6ZWjlgD7Jtm4XWBmX2BJVX26qh7RfpYluWuSuwEk2Qe4qaouuh3d2h64sLP/CuD6zv73gZvTVEmmMnWraKZn3m1Mmz8AtkkyFSx2F6P5Gu1zdW2w+vOq+tUM/bsHzQItd5mqN8exrNbvMU6lXTSm/flZgKrar73XR7R93Kz9uT5NlvR9s/Rhrv0DOAv4wO1oT5IkSWsQM4Waqy/TTKFcbRpiVa1Iciy3LNxyTFWtGFN/M2BJklXAlUwz9XAu2kDrQay+YulLgK/TPDsI8EXa6Z6tpyX5AM00yGcAfz3ablX9PsmRwBeS/Bz4b2DH9vTRwIlJvgv8jlsCs+n8HfBtmpU/L6AJEqezJ/D6afo96p+Ajyd5IfBj4JnTlHtNkgNo/uHn+HbK6221J80qqVN2olk46Jzb0aYkSdLaa2CZQoNCzdW7gVcyJkNUVSfQPDM4rXZK4oP7XLCqltKszDnqAOCU7gqdU6/I6OxfkeQXSbZrnxE8Fjg2ydFVdfQM1/wSzbOFo8dX0Kz8OXr8JJqponTbrarjaVY6HS1/eHc/yX2BDavqgnH9HlP/F8De0/W/U+41wGtmKzdSZ49pTh1IZ+zt6zFOnaasJEmS1jJOH9WcVNW5wJnAH2kWUTltlipz1r6eYdu27blYFzhuDuWOolm4pWvp3Ht2p3gAzfsVu7r9XgGcNPXy+tsrybOA9wLXzbH8fYC3tVOIJUmSxPBeSWGmUHPWZgQBtr6D292zZ/lPzLHcxcDFI8eWjin6jj7XvyNV1a3el9jtd1U97VaVbt/1PgZ8rEf5a2neUyhJkqQpA5s+aqZQE6+qFiwolCRJkhaamUJJkiRJ6sNMoSRJkiRpKMwUSpIkSVIPC7kozHwwKJQkSZKkPioL3YM7lNNHJUmSJGmCmSmUJEmSpD4GNn3UTKEkSZIkTTAzhZIkSZLUgwvNSJIkSdIkG1hQ6PRRSZIkSZpgZgolSZIkqYehTR81UyhJkiRJE8xMoSRJkiT1YaZQkiRJkjQUZgolSZIkqY+BZQoNCiVJkiSpBxeakSRJkiQNhkGhJEmSJE0wg0JJkiRJmmA+UyhJkiRJfQzsmUKDQkmSJEnqwYVmJEmSJEmDYaZQkiRJkvowUyhJkiRJGgozhZIkSZLUx8AyhQaFkiRJktSDC81IkiRJkgbDTKEkSZIk9WGmUJIkSZI0FGYKJUmSJKkHnymUJEmSJA2GQaEkSZIk9VHz9JmDJPsnuTjJpUmOmqHcM5JUkl1ma9OgUJIkSZL6WKCgMMki4D3Ak4AdgGcn2WFMuXsAfw18ey7DMSiUJEmSpLXDrsClVXVZVd0IfBQ4aEy5Y4F/Bn4/l0ZdaEbSvFl1440L3QVpcBZttBH7b/Kihe6GNChn7PfQhe6Cenj1jxe6B/O30EySI4EjO4cWV9Xizv4WwE86+8vom2KUAAAgAElEQVSB3UbaeCSwVVV9Psmr53Jdg0JJkqR58qUV71/oLmgOnvSAly90FyQA2gBw8QxFMq7azSeTdYC3A4f3ua5BoSRJkiT1sXCvpFgObNXZ3xK4qrN/D2BHYGkSgPsBpyY5sKqWTdeoQaEkSZIk9bFwQeHZwHZJtgGuBA4BnjN1sqquBzad2k+yFHj1TAEhuNCMJEmSJK0Vquom4GXAEuD7wMer6ntJjkly4G1t10yhJEmSJPUwXwvNzEVVnQacNnLsjdOU3WMubZoplCRJkqQJZqZQkiRJkvpYwEzhfDAolCRJkqQeFnL66Hxw+qgkSZIkTTAzhZIkSZLUh5lCSZIkSdJQmCmUJEmSpD4Glik0KJQkSZKkHrLQHbiDOX1UkiRJkiaYmUJJkiRJ6mNg00fNFEqSJEnSBDNTKEmSJEk9+PJ6SZIkSdJgmCmUJEmSpD4Glik0KJQkSZKkPgYWFDp9VJIkSZImmJlCSZIkSerBhWYkSZIkSYNhplCSJEmS+hhYptCgUJIkSZJ6cPqoJEmSJGkwzBRKkiRJUh9mCiVJkiRJQ2GmUJIkSZJ6GNozhQaFkiRJktTHwIJCp49KkiRJ0gQzUyhJkiRJfZgplCRJkiQNhZlCSZIkSephaAvNmCmUJEmSpAlmplCSJEmS+hhYptCgUJIkSZJ6SA0rKnT6qCRJkiRNMDOFkiRJktTHsBKFZgolSZIkaZJNdFCYZMMkX02yd5Lrk5zWOXdYkkvaz2HT1F8vyYlJLkhyfpI9OufOTPKbJLvMsS9vTbJXu71+ks8kubD97JbkuUle12Nsi5NclGS3TpsfS3Jpkm8n2XqaeiuTnNd+Tu0cf06Si5O8akydRyb595FjR48pd1L3Ho2c+80s49k6yYXt9h5JPj9T+TH175PkS+32lkm+2KPuC9qxv7Rz7PXtvbw4yX7T1Fvanp+6n5u1xx+c5HtJPjGmztR3clE7zjX6ezmXNiRJkoYmNT+fhTLRQSHwAuBTwErg61X1ZIAkmwBvAnYDdgXelGTjMfVfBFBVOwH7AMclWac9tiewbLRC+4f+SWPaehdwVLu9DvDOqtoReBXwD8ASYGzwMeYa9wKeAuxYVd9uD78QuK6qHgS8HXjLNNVvqKpHtJ8Dpw5W1YeBJwAvH1PnDW3/SXL3JB8HXprku0mmu86dJsm6VXUtcHWS3atqObBpkg3n2MRfAQdX1Xva9nYADgEeBuwPvDfJomnqHtq5n9cAVNXFVfUwYMckfzJS/gXAp6pqZbu/pn8vJUmSJk/N02eBTHpQeCjw2THH9wNOr6oVVXUdcDrNH/+jdgDOAGj/4P8lMKcMzKiqugK4d5L7VdUNVXVme2oD4PdtULNBknsCJNk8ydfaDNSFSR7faW4j4BdVtapz7CDg5Hb7FGDvJOnZx5+2bd8syT2Ah1fV+e2h5wE3AO8DHgF8aFxbSbZJ8s0kZyc5tnM8Sf6lHdMFSZ41U5+S7JrkG0nObX8+uD1+eJJPJPkc8OW2+Gdo/psDLKUJcmmzcid1rvmKkctsBFzT2T8I+GhV/aGqfgRcShOk9fUzRu4n038nYQ38Xt6WNiVJkrRmmdigMMl6wLZVdfmY01sAP+nsL2+PjTofOCjJukm2AR4FbHU7unUOsHunj1sBbwOObg+dAezdbj8HWFJVjwB2Bs7rtLMI6AaE0BlTVd0EXA/ce0wfNkiyLMm3kjx1zPnRQHIX4MLO/o3AJsB6VbWqqi5kvHcCx1fVo4Gfdo4/jSaY3Bl4IvAvSTafpg2AHwB/VlWPBN4I/GPn3GOBw6pqr3Z/GTAVPH8JeFK7/Qhgi6rasc2unThyjdH7OdfvB8CJbeD+d2OC8FVt28Cs38k+172zv5erSXJk+x1atrwuux2XlSRJWjM5fXQ4NqXJoIwzLoM27j/TCTR/mC8D3gF8A7hpbIPNc3znAf8OHNh5zqw7JfQa4P6d/XcCb66qqel+X+SWzNDZwPPTPLu3U1X9ulPvEW2/bsuYHlBVu9AEne8YM73xuiQP6uxvDlzb2f8g8H3gsDZz94wx14AmyPhIu93NJj4O+EhVrayqnwFfBR49TRsA9wI+keZ5w7fTTOmccnpVrejsd+/v19trAVwGbJvkXUn2B341VSHJ/YC70QTRNx8e049x9/LQNsh8fPv5i5HzVwIP7+zP9J3sc907+3u5eoeqFlfVLlW1y5bZdobhSJIkaU0wyUHhDTRT4MZZzuqZlS2Bq5Ic3PmjeZequqmqXtE+L3YQzVTAS8Y1WFW7tVm9I4BTO8+ZLekU26Dt15SH0wSCU75N8zwZVfU14M9oAosPJXkeQPsM338C75luTEnWpQmmVoyUoaquan9eRjPF8pEjRd4BnJ/kBe3+avexqm6sqtfSTB99IfC2TLOoDeMDml5TWoFjgTPb59yewur/TX87Uvbm+1tVNwLLk2zbTsXcmWa8L6UJkEhyMM1/z8WdZ/xgmu/HaMeq6sr256+BD3PrKabvowm839/uz/SdnPa6a8D3UpIkabL4TOEwtIHAoiTj/ghfAuybZON2IY99aaZqfrrzR/OyJHdNcjeAJPsAN1XVRbejW9uz+lTMV9DJULWBycVJdkjyQOCaqno/8AHgT9syrwOeCoyuVHoqMLVa5TOA/6qqSrJFkjPaMWycZP12e1OabN7oeN4AbFdVJ7T73wduzhwm2a6dBglNIHI9cNcxYz2LZrEWuOU5P4CvAc9qn/O7D03g+50x9afciyYwBjh8hnJw6/v7JWD/dqzrVNUngb/jlnv5aeCBwItHvienAoekWY1zG2C7qT4mOaO9p+u27ZLkLsABI9cGeDXwoqqaWhhmpu8krKHfS0mSpEkztOmjk/7y+i/TTCFcbWpdVa1oFz85uz10zMg0xCmbAUuSrKIJTEanB85ZGzg8iNVXhnwJzTTHGzvHpp6F+znwmiR/BH5Ds8DLlItpnuvr+gBNRvFSmgzhVEC2ObeM/6HAv7XjWQf4pzHBxPpT2USAqvpBknsluUebEXsIzYI2WwBPB74wTUDyN8CHk/wN8MnO8U/TPAt4Ps2/l7y2qn46Q7bxn4GTk7wS+K9pykzZE/hCZ/+LwL/SBKgnpl2hE3h9Z3wrklwP3J12YZWq+l6aFVYvorl3L62qlW39B9Hc3/Vpvht3oXlu8CvAVEZwysbcOoM39Z38ymjn1/DvpSRJktZSkx4Uvht4JU3AtJo2E3bCrWqsXuZy4MF9LlhVS2mmKY46ADilXQRmquyTx5T7EnByVe3LLauJjvodsHGaVzHc1Lb1e+CZY8o+hnaqaVV9A9hpur6nec/e6JRMaO7Ts4B/r6rPAZ9LcnRVHT1dW+2qnY/tHPqn9ngBr2k/3fKXAzu220tp72FVfZMmkzXl79rjJwEnjVz2QJqVQ29uM8kWwA+q6k+n6yvN/dyMJhCfqvsP3PqVDDsAn6yqqamWj5quwXbRmU259f2c+k7eKihsr7umfi8lSZImxwJm9ebDxE4fBaiqc4EzgT/SvDPutFmqzFmSM4Ft27bnYl3guNkKVdXVbUA4U5lraKY4npNZXjBeVe+uqlNnKgOQ5Dk0gcq/jDl9PPCHkWNLZ2vzztRORX1bO0XzZlX1qKoa7fuotwMfSefl9eNU1YVV9co59OXBNKvFng/8cKSNc4Ez07z38EbWku+lJEmS1l5pEjPS/GtfcXHeDK9c0MDss84z/T8Y6Q62aKPR15tqTfalFaNPDmhN9KQHvHyhu6Aevvjjd/RdmPAO95jnvm1e/sb51n+8ckHGNunTR3UnqqrPLHQfJEmSJK3OoFCSJEmS+hjYbEuDQkmSJEnqYSFfHzEfJnqhGUmSJEmadGYKJUmSJKkPM4WSJEmSpKEwUyhJkiRJPWTVQvfgjmVQKEmSJEl9OH1UkiRJkjQUZgolSZIkqQdfSSFJkiRJGgwzhZIkSZLURw0rVWhQKEmSJEk9OH1UkiRJkjQYZgolSZIkqQ8zhZIkSZKkoTBTKEmSJEk9+EyhJEmSJGkwzBRKkiRJUh++kkKSJEmSJpfTRyVJkiRJg2GmUJIkSZL6MFMoSZIkSRoKM4WSJEmS1MPQnik0KJQkSZKkPlYNKyp0+qgkSZIkTTAzhZIkSZLUx7AShWYKJUmSJGmSmSmUJEmSpB5caEaSJEmSJlkNKyp0+qgkSZIkTTAzhZIkSZLUw9Cmj5oplCRJkqS1RJL9k1yc5NIkR405/8okFyX5bpIzkjxwtjYNCiVJkiSpj5qnzyySLALeAzwJ2AF4dpIdRoqdC+xSVQ8HTgH+ebZ2DQolSZIkae2wK3BpVV1WVTcCHwUO6haoqjOr6nft7reALWdr1GcKJc2bddbfYKG7oDla9YffL3QXNEfHnnf6QndBc/TGPZ7Bk7Z99UJ3Q3Ox7rpw000L3QutRTJPq48mORI4snNocVUt7uxvAfyks78c2G2GJl8IfHG26xoUSpIkaeJ98cfvWOguaG2yan6abQPAxTMUybhqYwsmzwV2AZ4w23UNCiVJkiRp7bAc2KqzvyVw1WihJE8E/n/gCVX1h9kaNSiUJEmSpB7ma/roHJwNbJdkG+BK4BDgOd0CSR4J/Buwf1VdM5dGXWhGkiRJktYCVXUT8DJgCfB94ONV9b0kxyQ5sC32L8DdgU8kOS/JqbO1a6ZQkiRJkvpYwJfXV9VpwGkjx97Y2X5i3zYNCiVJkiSpj4WbPjovnD4qSZIkSRPMTKEkSZIk9ZBhJQrNFEqSJEnSJDNTKEmSJEl9DOyZQoNCSZIkSeohqxa6B3csp49KkiRJ0gQzUyhJkiRJfQxs+qiZQkmSJEmaYGYKJUmSJKmPYSUKzRRKkiRJ0iQzUyhJkiRJPWRgzxQaFEqSJElSHwMLCp0+KkmSJEkTzEyhJEmSJPXhy+slSZIkSUNhplCSJEmSenChGUmSJEmaZAMLCp0+KkmSJEkTzEyhJEmSJPVhplCSJEmSNBRmCiVJkiSpj4G9ksKgUJIkSZJ6GNrqo04flSRJkqQJZqZQkiRJkvowUyhJkiRJGgozhZIkSZLUh5lCSZIkSdJQmCmUJEmSpD4Glik0KJQkSZKkPgb2nkKnj0qSJEnSBDNTKEmSJEk9+PJ6SZIkSdJgmCmUJEmSpD4Glik0KJQkSZKkPlYNKyic0/TRJBsm+WqSRUk2T/L59vjhSa5N8u+dsq9PcmmSi5PsN017Gyf5dJLvJvlOkh071zkvyY1JNp1j3z6aZLt2+/Qk95tjvQcmOTfJks6xRyW5oO3/vybJmHpTYz6v/Rwx0pcLkjxsTL13JPmzkWNHjyl3+TT9PTzJu2cZ09FJXt1un5TkGTOVH1P/ZUme39l/a5K9Rto/vLP/1CRv7Oy/PMnzRvs05jqXT3P9Paa+WzP08eb70B3vXCU5IMmb2+3nJnldj7qLk1yUZLd2f/0kH2u/L99OsvU09VZ2vi+ndo4/p/09edWYOo+c+r1qx3llkmPa/bTfz0vb36E/nea6D0xyRltmaZIt2+N/0vblNz3G/pUkG7fb6yX5WhL/UUmSJGkA5vpM4QuAT1XVSuCVwPs75z5WVUcAJNkBOAR4GLA/8N4ki8a09wbgvKp6OPA84J0AVXVDVT0CuGq0QhsMHD2mreOB17bbS9rrzsVTgdOrqhu4Hg8cCWzXfqZr62NV9Yj2c3NAXFWHAP9Jcw+6fd8EeExVfa3df1ySs4EXt0HxXiyw9g/8E4C/7hx+F3DUDNVeC7y3U/8FwIfb/R2SfA14SZJzkjx7XjreQ9vHLwAHJrkrzfdl7D9cjKl7L+ApwI5V9e328AuB66rqQcDbgbdMU/2GzvflwKmDVfVh4AnAy8fUeQPN/Z/y9qqaCsCfxC3f0SNpvrfjvBX4YPt7dgzwf9rr/t/292zcOFcL/Ds+BPxlW/9G4AzgWdNcV5Ikadiq5uezQOYaFB4KfLbdfjrwpWnKHQR8tKr+UFU/Ai4Fdh1TbgeaPyqpqh8AWye575x7vbqvA09s/+D/Ip1ALskzk1yY5Pw2QOnaCLimU3Zz4J5V9c2qKuCDNIFjXz9t2+56Bqvfs7cBrwfeB+xDc59uJcnzk/wwyVeB3TvHuxmgM5I8YKYOJXljkrPbe7F4KgPaZo/+sW3/b6rqd8DlSXYFqKorgHtnTPY1yfbAH6rq5+2hvYBzquqmdv9omnt4fNv3s6fp2/5JfpDkv4GndY5vkuQz7Ri/leThs4zxRe0Yz0/yyTbom8qYvi3JmcBb2v+2S4EDqupaYIMk92zLbt5mwM5r79XjO5fYCPhFVXXfSnMQcHK7fQqw99S9nauqutX3Jck9gIdX1fnTVDuIJtirqvoWsFH7/R118+8ZcGZb77Y6FegG9p+h+f8FSZIkreVmDQqTrAdsW1WXJ9mGJjPyh2mKbwH8pLO/vD026nzaAKANQB4IbNmn41PaP9IvBXauqu8BD+lkJ98I7FdVOwMHjlRdxOqvndyi7e9sfQd4ehusnJJkq5Fzq9q2u3YH/qezfyNwv7b/11fVj0cv0P6R/+a27j40f+BPeTe3ZID+E/jXafp5c/mqenRV7QhsCBzQObdRVT2hqo5r95cB3WDoHDoB6ciYzplljJsB67QZ4FsFvkk2oMk6P6W9Zjf4fDNwbjvGN9AEmDP5VDvGnYHv02TxpmwPPLGqpqZpdsd4BrB3u/0cYEmbRdsZOK/Txuj3BTrf9zYYvh6495i+bZBkWRvcjvuHhtFAchfgwvHDXP26rZl+z57ebh8M3CPJuP7NqqquA9bv1L8QePS4skmObMe7bPlNl9yWy0mSJK3ZJjBTuCnwy3Z7c+DaGcqOy5KMG90/ARsnOQ/4K+Bc4KbRQknuPfUsFs30txd3ns3aqVP0GuD+7fZ3uCU7eRZwUpIX0QnU2mzOzqweBM61758Dtm6Dla9wS6ZoypXAw5J07+3ofTuSZurdXyf5SMY/i7YbsLSqrm2n632sc+6xtNM0aab1PW5M/a490zzzdgFNRq/7zOPHRsp27+W4/SmjYxrdfx2wE/CyJJ9LsvOYNh4C/KiqLmkzeP/ROfc4mrFRVf9Fk7G813QDBHZM8vV2jIey+hg/0U59Hjembnb5bOD57TTlnarq1506j2D17wvM/TvzgKrahSbofEeSPxk5f12SB3X276jfs1cDT0hyLs001SsZ/3u2U+f37MXAMZ3fs24QefN9a+/njW1Wc/WOVC2uql2qapct191uhmFIkiStpSYwKLwB2GDM9jjLgW7mbEvgqiQv7fyRef+q+lVVPb/NyDwPuA/wo9HGquoXU89i0WT93td5NuuCTtEN2r5BM03zSW39FwN/2/bpvDbIXARcTpN5+8JI37vZyi0Z82xj26epTOn/Y+++wy0drzeOf29j9DpGiy6EKNGHNCFBCJEIQpSoIVp0IRE10aNGfkoIooVEb0GaGl0iuijRZYLR28z9++N59thOBjOcc97Z+9yf63KZvfe7j2e85+zzrnetZ60TgSV6HHINMCXw77YL6vf8f7N9j+2vU0orrwVO6vnfaR36Ps+P9XE1G/dLYC3bC9c1t5/DV3u8pf3/5Zget/T8Xuj5d3zS9ncoWc0TgPPGce1jG/i0nAJsW/+O+zL2f8ebKAE4dc/nspTg6TeqTXMkHUzJyB7b4+uM/n6v5ctTA8//z6Ltp+q/H6aUri7W45Ajgb9L2rQ+/qg/Zz9rC+6w/ZTtb9leDPhxfW7EGNZ3V9vP2XHAXm0/Z/9tO7Tn98LEwBsfsM6IiIiI6AAfGhTWsrFBNbh4AJjzAw6/CFhXpSvjXJRGGDfbPrbtIvMpSdPUslSAzYFrbL/0Mf4enwLurn++mloOKOmTtm+qDTqGA7PZHml7DkpWaHSjDNtPAy9LWqZmEr9L3Uep0pVz2/rn9r1bq1NKFdt9DXi2/rdaF9T3AqMzQardVoG3KSWY/5NtoQQry9VAdjCwdttrN/BuM5v1geve9//Mu8HFcElTUPY3fpBP8d7SxZ6PW97zd+r5WO92YB1FKSudfAxf4z5grrbMWfuetWuoe9YkLQcM/5DvkSmBp+v/qw/b6zb671QzXverNMaZA3jO9omUQH3xeswPKftLe3YqvQjYqP55LeBPti1pFkl/rGufVtLE9c9DKWW29/T4Oj8C5rV9cn3c8/9tTxcB31WxDDDC9tO2f9wW3CFpaFvGeg9KI6GPpP5MzES5oUK94fEf229/1K8ZERER0bFGuW/+acjYtpS/EviC7asl/UvSPGPaI2b7bknnUC563wG26VG21/Jp4DRJI+uxm43hmLGi0qDm9RrUYfsllZEW0wOHqoyrEGXvWHvjjgeAIT2+3FaUjNOklLLCy+vz81NKUaGUfK5e/37PAxv3+BrTAv+q5ZAtlwJbAq1OpVtLWpSS7fkmY+g+afvpWsZ4I/A0JXhslcD+ADhZ0q6UMsNNer6/7eu8KOlE4C7KBf0YG760+Twl00YNsOah7MHr6Rrg55JU/66XU8s9q29JOolSbrgW7+1q2lrbG5K2AC6VNJwS3LYC5n2AX0v6B/Aa7wZf7+cnlED6sfp3HVOg3bI8JUhqaWWXhwO7SnobeIVyY6Dlfv73++UkSkbxIcr3QitQn5l3yzQ/DRwvaRTlJsxBtnsGhRO3solQmi9JmlrSlD1KWFsuo9x8eIjy/+b9zv9ywIGSTDlf27zPcWNjCeBvbY2Elq/riIiIiIgOJ49F7aqkxYCdbG8oaQ1gCdt7qrSuX9L2tr26qDLHbsm2zpYfdOyOwEu2T2p7bnfgcdtnfMD7dgOG2t7t/Y5pO/YS4Ft1b9+HHbsbMF3NLrU/fx2l4+WLbc/tY3ufHsc9anvOD/vv9IX281wfrwEsbvsn9fE+wKO2T6mPjwIutn11fXw+sJvtB9u+5vj2d5wRONP2V9qemxk41fZKH/C+GSh7X+doC4ze79htgX/bvuiDjmv7unfZnrHH8zsCL9v+Vf3//ortwz7s640LSa/YnmIsjz0KuMh2KwN6HrCH7fs/6H1fnXTD7prs2sVGvZlK4E5xwKMfdm8vxhd7LTdO44KjYZc/3Ku/ZqNvjVO3976wylw79ck1zuWPHN7I322sRlLYvgP4s6RBts+nlpBR9hetorbh9R+H6vB6YDD/2+nx/bxIj2Yvtg/6oICwOg/4nNqG178f26uNZUB4NqXL41ljeHlnoOfoiL982NfsZ0MpGbeWCYGfv8+xAAcAk7U93p2SJWv3l15ZWe+ZnXIuRqull+8bENZjnqOUbd6uOrz+A479xVgGhOtRyp0PHcPL/we09q6+AmyhOrz+41IdXk8pcx5b/2wLCCcCLviwgDAiIiKia3VZo5mxyhRG/5G0g+0jm17HmNS9fS/avvPDjv2QrzPe/h2jdyVT2DmSKewcyRR2jmQKO0syhR2l+UzhnDv2Tabw0SMa+buN7Z7C6Cfjc7Bk+y+99HXG279jRERERMSHarApTF8Yq/LRiIiIiIiI6E7JFEZERERERIyLLtuCl0xhRERERETEAJZMYURERERExLjoskxhgsKIiIiIiIhx0WVBYcpHIyIiIiIiBrBkCiMiIiIiIsbFqFFNr6BXJVMYERERERExgCVTGBERERERMS66bE9hgsKIiIiIiIhx0WVBYcpHIyIiIiIiBrBkCiMiIiIiIsbFqGQKIyIiIiIiokskUxgRERERETEO7O4aSZGgMCIiIiIiYlykfDQiIiIiIiK6RTKFERERERER4yIjKSIiIiIiIqJbJFMYERERERExLkZ1V6OZZAojIiIiIiIGsGQKIyIiIiIixkWX7SlMUBgRERERETEOnPLRiIiIiIiI6BbJFEZERERERIyLLisfTaYwIiIiIiJiAEumMCIiIiIiYlyM6q5MYYLCiIiIiIiIceE0momIiIiIiIgukUxhRERERETEOHCXlY8mUxgRERERETGAJVMYERERERExLrKnMCIiIiIiYuDyKPfJP2ND0sqS7pf0kKTdx/D6xJJ+W1+/SdKcH/Y1ExRGRERERER0AEmDgGOBVYAFgO9IWqDHYZsBL9ieBzgCOPjDvm6CwoiIiIiIiHHhUX3zz4cbBjxk+2HbbwFnA9/occw3gFPrn38HfEWSPuiLZk9hRPSZP7z+mw/8AOpUkrawfULT64gPl3PVObrxXF3+cNMr6BvdeK66Vc5V37lq1Ll9co0jaQtgi7anTuhxDmcBHm97/ASwdI8vM/oY2+9IGgFMBwx/v/9uMoUREeNuiw8/JMYTOVedI+eqc+RcdY6cqw5j+wTbS7b90zOoH1Mw2nMz4tgc8x4JCiMiIiIiIjrDE8BsbY9nBZ56v2MkTQhMDTz/QV80QWFERERERERnuAWYV9JckiYC1gUu6nHMRcBG9c9rAX+y/YGZwuwpjIgYd9mf0TlyrjpHzlXnyLnqHDlXXabuEdwW+AMwCDjZ9t2S9gNutX0RcBLwG0kPUTKE637Y19WHBI0RERERERHRxVI+GhERERERMYAlKIyIiIiIiBjAEhRGREREREQMYAkKIyIiepmkPhlqHOMHSYObXkNERG9KUBgR0c8k5bO3y7Vafyc47D6S5gOOk7STpDkbXk6MJyTNLWklScs3vZZoTid/5ufCJCKin0j6kqSZbI9qei3RNyRtIennkhaWNLVt5yZA95A0F3AZcC/wFWCbZlcU44N6o+AKYHXgAEkbNLyk6CeSZpe0saQZJE1QP/MHNb2ujyK/qCIi+oGkeYBlgQskfVvS4k2vKfrE74AXgW8DJ0ia0/aoBIadr2YAFgJ+bvsw4PvA5yTNIilznweoOjz8J8DRtrcFjgNmbnZV0Y9GAcsD21EqCAbbHtmJGcPMKYyI6EeSVgKWAuYGrrB9bsNLil4iSW1lo0OBLeo/K9h+qN5FTpa4g0maHpgOeAiYHjgV2ND2s40uLBolaUHgFduPSVoP+LxHC6wAACAASURBVA7wTdsjG15a9ANJk1A+F/YGlgRWtP3fTvvMz53LiIg+JmnmGiRg+0rgJOAPwDqSVm10cdFr2suGbA+3fQBwPPA7SZ/opIuDeJekIZJOkLQQMMr2fbbfsf008ACwl6RJ67Edlx2Ij0bSdJLmr2Xid9t+rL50D/A2MHGDy4s+VEtFfylpFUkL2X7D9pO2twBuBK6SNHGtEumYz4QEhRERfUDFDJLOAS4HZpE0FYDtZ4CrgEsp5WfTNbjU+JhaAb+kQbVsaJLWa7YPBM4DNpU0qJMuEKKw/TxlD+HGwIGS1m57+RzKHsNFJU3plF8NJOsBGwAXS1pc0tQAtu8EpgDWys97d7L9HHAbMBtwlqTV217bBrgVOL3+TuiYz4QEhRERfaD+IpgJ+Dxwq+2/236p7fUXgFuAWSmlpNFhauA/FPi9pDVqQDgL8FtJc7XtI7wamM72yE66QIh32T4COBw4HzhI0jb1+WuAvwOfBWZsboXR32wfY3tP4HRgd2AzSQvX11YCngcObXCJ0Qdan+u2T7J9AvBDYF9Jm7aNqtkBeBiYt6FlfiTZUxgR0QfqHeJ1KQ0HLgA2BYYCzwCT2961HrcJ8DXKvqQ3GlpufAyS1gA2B35L2UP4W9vH9DjmFOAs23/o/xXGx9HKALc9XpzyM72H7TPqc9PWGz0xANTAwG17iJcFvkH5fD+9lhYjaTHbdzS30ugLbVUhqtsGlgUOAQ6xfZ6kiYEDgb/bPrXZ1Y69ZAojInqRpM0lfapeLLxIuVP8dUqp0YLAc8BkkoYB2P41cDJlD0p0AElT1n9PKGlC2+dTAsKjgbtaAWHNJLZ+z+4M3NDIguMjaZX79mwWYvt2yk2er0uavz6XgHAA6bk/uGaMz6N0p52/7fkEhF1E0icBxvCZcA2lycxhkpaw/SZwEPBCJ3UmTlAYEdG7hgI71juJl/Pu3eMtgQ0pHcoWAga3BQzXpEtdZ5B0AnCmpFlrs5F3JM1KGU9wJjCHpFWgphHevXh83vbLDS07xpGkH1Au6gbVx1tK2qrtkFuBu4FpGlheNKSWCG4GoxtLfbktULieUip+WPaJd5/aFO77kpapj7cHdqx/Vq0C+Rllf7HqvsOLbb/T2KLHUYLCiIjedQolQ7gAgO1LbP/W9lW2HwWGAVMCN7YCBtuvNrTWGAeSvghMSmkwcJik2epLGwNn2N6aki08RNIi7e/NXsKOcy5lP9DWkrYDNgIuab1o+0XgaWCjTsoExEenMo9wBPB5SSvX4PDg+hwAtn9DKS1erJlVRh+6i7JPdGlJB1O2h5wD7/l8fwaYo/W40z73s6cwIuJjqsHBO7afrnsJDq6Pd2k7ZghwJPAscCEwCfDnZAg7h6RJbb9em8vsQAkaftBzRp2kz9j+RyOLjI9E0iStPb21lfyb9c93AtMCX7b9rzHsJVsC+IftlH8PAJImAxYGjqB8X3zOdqtEcGTNHq4CvGj7xibXGh9P6zOh/swPsv22ysih8yhB/w9sX1CPHT2PUNLywE22X2ts8R9RMoURER9D3WC+HXCqpLXrxeSewJKSDpc0BYxua3+Q7V1tXwdcl4CwM0haU9IClE6x2B4O/Ioyo+6oVsawZhJoBYRpR98Z6r7A37fayrcFhJsCbwL3A6vWmwKjetz9vyMBYXeSNI+kr7V1lKRe6C9NKRu+q/6ZWkreyg5dDuSmUAdTmUl6v6Rv1mCv9bv6e5Su4mcDs0v6EpQ9pq3Pe9t/7sSAEJIpjIjoFZK+APwYuAk4C3gKOINyQXkjcFlbJkKdVlYyUNWuoTNRxg7MRtkjclZ9bU5Kw5H5gJ1tP9F+xzjGfzXzczilLHgq4Ne2L5K0KLA/sL7tlyRdDVxre98Glxv9RNInKEHfCGB74IqaKdq0Pl4HmBrYCbjQ9pmNLTZ6Vc0G7gXMQWkSt5ntCyTNRdkesAlli8jewDvAUbWcvOMlKIyI+IhaAUBbW+p5ge9SSkOPpPziWI9SZjgv5QLisQQNnaHuIdzD9tckTUVpJrMlsLft0+sxc1DuHs9LDQwbW3CMs3p3fzrbwyWtD3wH+KXty1SG0b9cj5semN32bU2uN/pPvTEwHeVm31G2L5T0KeC1egNoasoc2idSLt5d2kpHV6Xc5N2wnv/JWz0AJM0MTGb7X40uthclKIyI+BgkDa53kFuB4ZyUjmQP2z6qLXD8LGXvUZrKdAhJKwJ72f5ifbwSsCal5fxPahtyasD4E2B6YPNO6jY3UNVM0FDgmdolkLpX9KuUGznH2b64Bo0TpkR0YKgl4BO2l/9J2gDYDDgGuKB+nk/Q/u+m1hu9p/7unhEYZfuWtudXo3SW/m7NGA6C/x1L0Q0SFEZEjKO6B2kN2wfWxzMCn6AMqh1V7zD/BtjO9l+aW2l8XJIuomR+D6W0Gz8AmBt4yvbZ9ZjBlC50h9rOLMLxnKQFgZOABylzQ9+yvUd9bQiwCiVjeILtixpbaPSruo/sIErJ6N+Ac1pNpCStB2wOHEXZCpCbBF1E0nyUWbNXUuYJP2N7s7bXWxnDVmDYlVtA0mgmImLcTQl8UtLWkmYCLgfmaislvRPYl9K6elCjK42PpO28fYOyL3QYcFLtNjcc+Ezb4RMBWycgHP/VAP6nwDG2N6Rc6K0q6RcwuiHUpZRGEltI+kZji41+Uz/Hj6eMFNoTWIkydmZRgLpn8ATKfsL3NJ+JzlY7x+4LnGJ7N2At4FuSjm8dY/tSYH3gNElr1KqgrmsklqAwImLc3UXJGC0J3EAJFs7r8UviHuDxbiwxGQhsj6ylwba9ne2f2W5dJHyb984me9X2082sNMaRKAPp7wOwfStwLbCApJ/V514ELgJ+Aexcx05EdxtCmUF3se1HKI1GlgJWUx1EXysDTgS2Alavowqiw9Vy/4eBe+vj1yk3AFaUdGzbcRcDXwHOlbRkMoUREQOQyqDiKeufJ6hdREcCiwP/Bv5nUK3te2gbdh3jN0nrSFq8lhEhafQ+MklrSBosacqaURpu++D6WtfdLe5mtt8C/koZIfMVSdsCM1CyQ1NJmrQe9xIlAzwtpcQ0utsIyuDx1WsDmfmA2yiNZNZvHVQ7Dz9HmVM6aQPrjL7xLLCPpA0k7U3pPPoFYE5Jn267ATCCUinyQkPr7FMJCiMiPoCk04DLgM1qN8JRtRPhpcDJlPbU80k6AP4nMHypiTXHuJF0MmXW5IbAb2p50Dv1tSMo7effqZ0oz7C9cX1tgm68W9yt2uaI/ZyS8dmMku3ftZb+LkAJEFueAVaz/Xh/rzX6l+0ngVsojYbOBLam7CHcjZIxbJUeAzxOKRdP07AuYfso4FRgTkoDqr1sP0UJAEe2NRMaDizZTR1H203Y9AIiIsZzZ1OajLQyQycCrwD72j637j07l/LLJDpM3TM0v+3P1cdfBc6qF4CXUwbWr9cK/mzfWI9Tug52HAGuwfxRMDoj/E4tEZ2cd4dUY/vmhtYZ/ajVQdT2CZLOo3wfvGL7dUlzAxPUTNFIANs/bnK90XvqjaIJbI+0fVx9rtVRfGlgYdpipbrn+PlmVtv30n00ImIMJA1q3w8oaSngQOAKysyqt9teG92WvFu7knWrul/oEMo8wtZogq9QuseuXvec/c/3Q4z/JM1GGTD+hu2H6nMT236zjp+Y1vaDkpYFjgAOtP27Bpcc/UDSJJSxE6+0P1fn0k1StwcgaRXgWEoX6UsbWm70ojp24hPAINvX1uda46RmBia2/aikxSiZw/0G0mdCykcjInqQdAxwsKTDJM1Qswm3ALsCKwPbtPYYArRnjBIQdgZJm0qanXLXd3JqJhjA9h8pcwfXr3sJJ0hA2Fnq2JgrKOfxYEmHAdSAcE7gd5QsAJT9QVva/l32iHY3SYsAvwcukLRlHUNBDQjnAk6RNHvtSDk9sKPtS/N90fkkzQtcR2kUdryk/SRNWwPCGSl7jVeoh/8HWHugfSYkUxgR0UbSwcAnge9TMkgzUMpHb6oXDosCh1GayJxU95lFB5F0CLA88NlaOjgIuBX4h+2N6jGfoewn2jCBfmeppX6nAPfYPqhmDC8A7rK9cb3p85jtw5pcZ/QvSVNQ5tD9AngE2AB4CbiK0oH2XOBm2wf0eF+qPzpYDeoE7E+ZSbqvpFkpI0jupMye3BT4r+0Tm1tp87KnMCKiqvvI5gCOtj0c2FTSHcB6lGzCP2zfKWk3yi+YCSQdn4YDnaNeIPwTWARYQtI/bb8qaUngOkmnAn+kzKp6JheDnaW111PSbZQLfmw/XvcH3SJpX9vbtR0/uvQ7ut5UwFvA5bZfkPQMpYnUCpTr4X1cZsy+JxDMZ0Bnq+fPku4FlpM0ne0nJG1GGT2xie2DWscP5M+ElI9GRDD6IuBtyqDyRSXNLWliyvyiyYEdW8favp1SbrgP5UIjOkDdI7S87dMomd6fAsvUfUQjKe3nbwFmAu61vUV934ApH+pktSz0S/Xhf4Gt9e6MuXconSWXqjcA0ixogJA0A0DtJnkrsJukqVzmEZ4NTAzMO6aAMDqbpHkkbVofPkgZHzVf3Vv8DKUiaFNJX2+9ZyB/JiQojIjgPXeDr6e0pj8a+BNwhe0NgFnqL5jW5+aMlEYkGVreOeahjBDB9jHA+cDuwOdrYDjK9i9sH2L7h5CxE51C0izAXygBPbZPB64B/iZpSH3uOeBJYHB9nPPa5eo+slskfbo+dRHl/H9HZcTQo8BZlMCgdQMh3xddQGV01HnAbAC2b6Lc5N0eWFzSkHqj4DTqrOGBLuWjETHgtTJBLq6UdA9lcPU0NSsI8AZlVt2oeuy5zaw2Pirbx0g6TdL6ts+w/UtJpgSGB0u61vabreOTSeoMtSmIKc0hJqrNI16wvXP92b5aZY6oKHtJT2pwudG/Pk8pGZ2kPr6OEiQsAewo6XDgdcqYoQQGXaJ2mH2d0jzmTUmfs32D7QMl7UmZQTlC0l2UGbXrNLjc8UYazUTEgNXefrw+nrg9KKjPTUQZVP+Y7c3rcykv6hCSvgTcX0uFkLQ+sBBwbivgl7Q1sAawB/AAMENrhEGM3yRNBXzH9vGShlHGxlwCnGL7hXrM5pQ29EsCJ9q+uLEFR7+QNAcwUR05shGl4+QvayfRCYCvAKsAy1ISJAfZPru5FUdvkTQp8HPK5/mswHcolZGX2L6hHrM8MB+wOHCe7SsaWu54JUFhRAxItQPhVECrfOTBuu8IST+j3FG+kvJL47ut5hQJCDuHpHkoFwSrUubQ/QP4N3AAteug7WvqsdtQmssMpbQiv6+RRcc4kTQfpdR7Y9tPqwyhP4RSJnhaKzCsx05k+638DHc/SWsCXwO2BKag3PRZC/iF7cvbjpuL0pHyyXxfdId6I3d/SsO4JyUtTMkECri0FRjWYyds/d6PBIURMQBJ+gnwRWBr4EeUWXW32T5L0veBjYEv9PxlMZC7knUySSsBwyijRs6gNJPZBZgSGGF773rcGpSM8O3v97Vi/CNpV2B2YK/aVXIxyhiZS4BT2wPDGBjqyIEfAAfW74mhwGrA2pRg4Q/1uASCXaiWiH4Z+Krtt1XmUa5LCQwvsX1j27H5vV4lKIyIAaWOnTiYMo/qbJUh9OtRSkn+BjwL3FB/kQxyhpZ3JEkzA2/X0SJImonSmXJd4HDgJso5341yU+Ds9guFGH9JmgaYzfZd9fE8wFaU7P4Vtl+XtDglY3ip7SNqkPCc7bcaW3j0ufYLfEknAkNsr1kftweGx6RksPtIGly7iLeqgV4E9qu/z1sZwwmAkykB4mP5THhXgsKIGDAkTe4yk+5blGzgrrbvlzQZpcxoFtu71GMTEHaY2lRkespw6k8BGwGP2H6pvj4tpYxsHuAQ2y/W5+enXBy83sjCY6zVmzprAVsAFwN/sX17nTk2jLL/96+2R9RS0oOAEZRmI1vafrmhpUcfkjSZ7dfG8PyVwOO2N6uPhwDfoASHT9bXDu3XxUavkvQJYC7b19fHrTLxL1D2kr4AHGD7zZoxXIcyp3YyYN3WjcPISIqIGCAknUPpMgalfPBOYE1Jc9eLif8DVpD0ZYAEhJ2nloHNROk4eKvtv7cCwvr6C8DNwCzAvG3P35eAsDPYftv2WZQLu6mAjSXtZPsk4DZKA5E9JM1u+zZKCeHzwP4JCLtTvalzmaSjJM1Yn2td364HzCbpd/W5F2z/GrgKWBq4fIxfNDqCygzKi4F9JN0E0Jb5uwk4FxgC/F7SUNv/pPyuvxbYKgHheyVTGBFdr86oOhM42WU+HZJWAFakZBDOr9mGy4DDbP+pudXGR1UzhesCMwMXAJtSGsc8A0xue9d63CaUJhQbtnefjfFba/9X7Rz4MnA35cJ+I+Be24dIWgRYmdJZ8hBKS/rXs2eoe0laD5iUMm7kDUpW6OEex5wDPEf5vvkl8AQwZftNo+g8kmYDhtq+o57jOW0PqxnhKW0/VqsL9qVUkdwHnE4pJU8A1EOCwojoanUEwVcovwi2oOwlPLy+9gVKydm2lF8Wo2yv1tRa46OpIweusf2ApFUoDUZ2ogwpfpIynHpBStORm+t7VgGuTEa4s0hakFIevK3tuyUNApahZITOtn1tPW4YJUP41JjKCqN7tDpI1ptCJ1CG099KCRJ3sP14Pe4zlLJyAb/PjYLOJWkG28+N4fnzKcHffMAmti9pe20WYBTwSqoGxixBYUR0tdpcYEvgV8BngG2AP9s+qu2YuSmZpFbjinQj6yCSdgfmoAQKIyWtBkxOCQoeBDYEVqB0mr3R9qjW/tLGFh3jrAaEO1Au6nZse34ySpnoyOwPGxgkLQCsZvuQ+nhQ/dkXZZvAvMB0ttcbw3uzX7yD1TE0pwHbtd3ka28wszSlXHyl+vh/5g/HmGVPYUR0u5HAYpQLiKuAY4HlJf2g7ZhH2gJCJSDsOKdQuswtAGD7Etu/tX2V7Ucp2eApqQFhPSYBYed5nTJofN5aJgpAzQSeAawh6XNNLS76R1tQ0L5feGS9mWfbR1NmzI6scwjfIwFh56o3hn4F/LIVEELZa9zaR2r7JuB1SbfUx2/WmwXxIZIpjIiuJ2lRymb0nW2fI2lFSsbwr7aPaDsuM6s6RN1L8o7LwPKJKWNG3ml1j63HDAGOpIwZuRCYhJIlzkVhB2jbQ7gwJSB8hlIaeCDlnJ5j++62479E2St0byMLjj5XSwCvAE5o2x8+F6XD5Ktt2aJBwPGUwfWbpJFU56uB3Q3ARLaXqM99l9Jw6jLg6fbzLOlsyhzaLZtYbydKUBgRA0INBI+iNCE4vTaa2Qh4gHLhsGfrgiLGb5KWpbSUXxQ40fa5kqag7CW8nTLE/JV67AK276l/niSNZTpDq4Rb0teBfSgNY6YGjgYeB/YHXgVOqx0FqZ0nR+Qcd68aAJ5N+Sy/gpI1Gky5afAP4Oc9AoObgZ/avqiB5UYvq91Gr6fc5J2JUiEyI/AK5XfBda1SUkkbUfoJbO7MIhwrKR+NiAGhlo5uAewvaSvKBebJwFcpA68TEHYI29fY3g3YD9hU0j6UMRNfp8wg3FvSt2oQ2AoIlWBh/CdpqnreRtUM/4+BVSlZwmGUfaGfBPYGpqV0DwbA9rM5x92r/gw/AmxG6Sx8LXA/8C1KCfk8lIZSSJqwVhMMAu5qZMHRq2pDoecoI4e+S6kM2dr2msDTwPdgdCnpFJRRFAcmIBx7yRRGxIAiaV7KKIrZgX9RStBGNLuqGFttGaRWaeG8lAuESSiloi9SOlHOW//ZiTKYPvtEx3OSpgT2BB6l3LCZg9IwaDrKeIktgU0oF/57UDoJv9PIYqMRbT//nwZWt31w22tnUzoMX14fDwKmtv18Q8uNXtL2ed/qNDs5pbHUG/X1FYE1gO3bSognzOfDuJmw6QVERPQn2w9SOlIiacq0pu4s9YKwVR4k2w9KOgnYEVjL9lGSTqrHfZayxywB4XhO0lS2X5J0H6Ux1DqUERNvSdqDUhJ8i6QvUrI/r+WCb2BpNQGrgeG9kh5oe+0zlEZTz7aeq3uHExB2KEnTAq8Bg2y/VrvGvlP//WrbccsDhwE/bq/4yefDuEtQGBEDVgLCziFpfmAN2wfWgHBG4BOS/m77UUm/Bn5TH/8FwPaNTa45xk4t9dpX0n22j5f0BvAFYAJJZ9TDjpA0IWUf8Oa272xqvdE/6tiJbwCTAT+n7Bt7hzJncHQXUZWZo0cDO9q+vZnVRm+q5/4cyv7BuSRtUT/n1d4oTNI8lOqCvWxfkmZxH0/2FEZERCeYEvikpK0lzQRcDszVVkp6J7AvsHQtG4vOYUqDoEUlbWT7LOA6yh7CtWwfCPwGWJmaMWxuqdEfapfRyygNZGanNJRZVdLUbcHgnPXw4cDWbhtUHp2r3iQ6CjgC2Iqyd/RKSUu0Aj5J35e0ou2HgA1sX5iA8ONLpjAiIjrBXcABlLvCu1C6DJ7XY/7UPZR25Rk50SHqhdyrki4A3gBWloTtU+up/aKkwZRzP6p9P2mT644+9xnKntEjASRtQek4LElXAPMBZ0naIDcJuovtVyQ9BPy7lv7vL+kl4HRJq9n+F2VG5W6S7rf97/q+fCZ8TMkURkTEeEfSyrXxSKu5xBvASGBx4N+U7NJ7LgRqp9FkCzpEW/OIKWy/bPtc4FJKINjKGP6N0m1wxtbe0Fz8da9aIgxwBzCk7hfD9gnAzcC6wDS2/w78H/Cj2nQkOpykaSVNoTKE/ilgWOumn+2jKNUCp0uaCjgf+DOlwVj0kgSFERExXpF0GqV0bLPaDGiUpOkpAcPJlA6U80k6AP4nMHypiTXHuKsB4arAhZIulrQ3cCGlNPjzkja3fRqwj+0nG11s9DlJ8wE/qOWDIyizKYfVTqPYPhF4GfhpfcsJwJHtTUeiM0magzJ3cvp68+cMYHVKAzEAbB8A/BMY7DKL8iLbD4zp68VHk/LRiIgY35wNHAocDCDpREqTiX1dBtUPAs4F5mxshfGRtEYK1D8vRrnA3wH4D3A6pfz3x7VkdCVJlycg7H71fP8EuNH2K/W5iyh7ylaXNMT29ZQMUSt7+CZl7+norHMji4/esCRlTN4jALYflrQxpXnYYMq+wgkow+iHAP+1/U/Iue9NmVMYERHjhdpqvL2z3FLAgZQ7yEe1txvvEVzkoqADSBoK/AzY2/Yzkj5H6SS6aX19KuBWYGfgT8BUtp9ubMHRb2rJ4JHA67Z/2Pb8IsBalDEl/6HMmN3W9gWNLDT6jKS/Ag/Y/l7bc/NQhtIPBRYGfmb7woaW2PUSFEZEROMkHQO8WR8eAjxfZ1ItRskaXgKclDEinauWiO1AGUa/CzANcCywWatZhKQfAXfnwm/gkTSEcgPoGtu7tD0/JeV75nPAg3VeZW4EdYnWDb46ZugE4BnbW7a9PlGdVzqz7adz7vtO9hRGRESjJB0MzAwcRCkNOpmyp2wS23dQAojVqHsMm1tpfBy2HwMuosyd+ynwCHA1cJqkNSStCXyXDBwfcOqF/vPA1yjlonu2vfya7Udtn9nqNJqgoHu0NZB6FtgGmEbS7O2H1Nefrv/Oue8jCQojIqIxdb/IHMDRtofXUsJZgPWATwHUGYS7UUrHvpdug51J0mrAPsATwNzA8cDhwCmUYfUbADvYvrahJUY/anWWlDRTbTok28OB7YFFJH0X3h1SH92j7dwvKWmhWj4MMBFlHul+ko4DsP22pIkaWuqAkvLRiIhoRNtIgn2B/1JKRJ8EzqQMrX7b9iZtxy9bj5kve83Gf5Imtv1mbQw0AaWj4C9sXyNpfspeoUmBH9p+WdKktatgdLm2n/3VKGMm9rH9UL1JdBRl/MxqwPm2d5K0OPB0fu67h6RVKOXj69n+W31uCcrYoT9Svg+GU7pOTwCcmyxh30qmMCIiGtH2C/56YAHgaEqDkStsbwDMImmetrvIMwKr58Jw/FfLfK+TNKxmegYB0wIL1kMeBG4CvgQcVzMBbzWy2Oh3NSD8IqXD8OGtgLA2k/qB7e0owcGykn4PHAOManDJ0YskzU3ZO76G7b9JWkDSZ4H7bZ9o+2FgY8qUhO8B/0xA2PeSKYyIiH7XNpTY9fGslNKhaWzfXp+7iHKB+GhT64yPTtIWlDljG9i+TdJXgV2BY2xfKGkZYG3g16328tG92rKDE9YmUrsDU1MaSX0bWAl4B1i3rbPwlJTOo4/YfryptcfHUzsLT1TLg1uP96JkhAUsA7wAXG37mB7dpSez/VpDSx9QkimMiIh+I2kSKMFgvUCcuD5+wvbDtm+XNJGkq4DnWgFhK4iMzlADgBOAA4DfSlrS9h+AE4EjJR0PnEPJCicg7HKSpgOOlTSt7Xfq05dSMsVXAlNS9pi+Rs0m18DgZdvXJCDsXPUzfzPg6NpNGkpVwG3A9JRS0VWByynVINRupK0bhwkI+0kyhRER0S/q2ImpgKeA0yjt5d+pr/2MMoj6SkrZ2HdrCVnmEHaImtV5C1ifUh56fb2424DSYGZt23dImg+YCXi5lRWO7ld/xhcGTqXMo7urZowmr6MGFqXsO13D9gNNrjV6R20K9hqlfPyblJE0x1PKQe9oO25pyv7CPW1f0cRaI0FhRET0A0k/Ab4IbA38iDJ24DbbZ0n6PmX/yBfasgit940uI4rxm6TPAGcBjwNrAqNajWMkbQL8mNJU4uYE+gNDnT23BaW78AhJw4ClKKWi59s+RdKEwNLAb4DtbV/c3Iqjt9SAcEtgSWBf2/fXG0LLUcpFH7W9b20itBNwge3f5bOhOQkKIyKiT9WOggcDN9s+u2aU1gPmA/4GPAvcUFuPD0oL+s4kaT3KnsHTbf9c0myUAfUP2n5D0sbAnsA6dY9hAv4uV3/WD6VkiwCOtf2vegPhAMqcyheB2wFs/6ORhUavq8H+xJTS0U8DLwNn2r5T0hDKoPrbKDcIr08ZefMSFEZERJ+RNLntVyV9i5INT6iJpQAAIABJREFU3LXeMZ6Mchd5Ftu71GMTEHaYenE3te1HJH2T0kX2v8DXgSHAo8CywDw1MFwfOAj4RkpHu1t7xkfSLJRmMtsC69eOk7MAiwBfAT5t+2vJEnWH1g2fOnrmX5SZs8tTzvWRtv9a95OvBAwDnrd9RM5/s9JoJiIi+oSkc4Dt6sNbgDuBNSXNXZsH/B+wgqQvQ4ZUd5qaCVgXmLM+9QQlAFwQGArcSrkRcBmlZBDbZwA/BNapGeToUq05hJKOBp6yfQSlYuBcSYvYftL2ZbZ3Bs5uvafJNUfvqAHhMsAvgdlt3005x1cBa0maw/abti+2/ZP6vZHz37AEhRER0eskfRqYF3gVoHYPvIbSgn4TSYvbfoPSdCY6UN3/+Trwk9pV8lagtXfwc8BPgSMp2YEn2t53JmVY+dv9v+roL5IWopQOntK62K8daQ8BdpI0XVuHydPqe9JluAvUc78OZdzMvwDqOIo/UZpRzVSPG9T2npz7hiUojIiIXlVLBHcFdgY+L2knANtXAxdT5lH9TtJllGYkf2pssTHOJE1V94ph+9fAzZS7/xPbftr2y8BkwFyUkQM32X6kvrcVBLzezOqjP9Sy4g2Bz1AaD7UyywDn1+cm75kZSqaos7UFdsMozYOWkjRt63Xb9wEPAXv33C6Qc9+8BIUREdHb/kDZR3I3cBKwrKTtAWxfZ/twYAXgh7ZXg7IHpanFxtiTtAAl43u0pF/Vp28DFqLcAGiVhE4OrAhsCvxI0rC6zygXfl2qPdNj+3lKueCtwG6ShrY6C9t+gtKAZKNGFhq9ru3czwRg+2TgQGA64Mt19Aj1tf+j/I6Yqb/XGR8sjWYiIqJX1TvDJwKX2z5J0orANsCfbB9dj2lvQpHmAh1A0kyULM+vKHuDDqPsD3ycUjI6hJI1vND2K5Imaw2eljRhz3Ej0T1aP8P1Z/1TwBv1Z38Ryr7SV4GjbP+nHj8B8HngxnxfdLa2pjJfA/YArqVsCziWMppmNUoQeJntEfU9C1C6EqeEfDySO7MREdGrbL9A2U+2j6Rv276KcoHwZUk71mMSEHaeN4FzbJ8EPAfMCCxZL+p/BvyDMpz8DEkLAq1yQXLh391aTWUo+wWfBjaXdKLtvwMnUzJGu0ga3DaK5IZ8X3Su2j201VRmWUoToc2B6SlZ4AMoN5GuBFYHJm291/Y9CQjHP8kURkREn6hZg6OAA2yfLmkFysXCA8AUwJ65MBj/1ZLQwbZfa40Yqc/vDjxs+5z6WMBgyrDyIcAfKfsJc+HfhepIiU/avkbSUEqnyR8BiwI7UObSjbC9rqRFgTdt39vciqO31PO9JfBn2zdIWge4l1ISeiDlpuBmwD8ps0mH2n6mqfXG2ElQGBERfUbSF4DfUDIIz1EGFe8P/MT2n5tcW3w4SdNQGgZNAfzB9hVtr21PCQCXqc1l2t83KaWEMBcZXUrSRsD3qD/LkmYDpgFOA74KTAtcTwkc1m5updGbasOg6SmloiOA39r+p6SJKHvID7B9r6QzgUHAXrbvb27FMbZSPhoREX3G9nWUAcWizKqbB1g1AWFnsP0icAZwCbCfpB0lLV1fOwrYHVhV0id6vO/1BITdSdLskua0fSpwKqUsdLk6dmYwcJ3tVnnxscARDS43elHtKnsApRT0YMr5Xk/SkrbfAmYHvirpM8AMwL4JCDtHMoUREdFvJE3ZM6sU46e25iGtfy9EGTMwitI04tp63HbArbZvbHK90T8k7UBpHPVV2w9L2pKyZ+ww4B7gHOBOYG3gO7b/2thio1dJmp+yBWBy4HDgbWDb+vL/AVNRmoy9TWks9Psm1hkfTYLCiIiIGKOeXUMlzUkpGR0BHJ49oQOTpB9SOkuu2xYYfoMyn/R5YEFK+fB1DS4z+kC9OfQtyv7BQ3hvYHgC8Bgwle0X00iss6R8NCIiIt6jtpcf3TVU0idqgPgoZY/oKvWfGCB6zCE8GLgI+K2kT9o+HriQUi46v+2rExB2jx7n/p+UsTT/AXajlJAeA0wCbAVMUcvOM5C+wyRTGBEREaPVbOB+wN22D5a0FSXzs7PtN+sxX6Z0H9zG9vCm1hr9o62E+FOUBjL32R4haSfgO8A6NWO4FaWU+JZGFxy9pu3crwysQCkdbWUINwOGUvaNvkkJCLOHsEMlKIyIiIjR6vyxhSjlgZ+mNAxZw/azbRmDqYH1gFNaA+qjO7UNJ1+Nso/sHkr3ycOBqynlxJsAX7f9r+ZWGn2lziE8htJkZjHgm5QS0v8AO1FuFOxg+43GFhkf24QffkhERER0K0nTUmbIvVazAm8Ct0laG1gaOM32s63D6+DxFyXd1NSao+9Jmtr2CMCSZqQ0l1nX9u2SNgFWBh6xfaikSSh7zBIUdoHaTXjF2mEWyufAhbZ/SykZfooymH5J4HTK50cCwg6XPYUREREDlKQFKJmfHWtnWNfndwC+QCkRHSlpX4AaEFL/fFuyhN2pBnm3S9q5fk/8F3gHmBXA9q+BF4Af1sf7276+qfVG76nVAAsAG0n6Xn36WWC6+voEto8GbgSG2L7b9kPNrDZ6U4LCiIiIgWsp4BRgGLCZpKnrcOqFKOMELgYuBYZKmru5ZUZ/qdniNyjdRHeXtFltOHQ98GlJC9ZDLwKG1++X6BIurqaMlvi2pDWAC4DFJO0GzC7ps8AywMQNLjV6WfYURkREDHCSFqPMmbvU9uE9XpsQmMz2S40sLvpVW2ORWYG9KbMpNwKuAA4EhgDPASsBP7R9YWOLjT4haRXKOZ8GmJLSWOYGSnfZ14H5gf1sX9rYIqPXJSiMiIgYQGoHyWHAYNu/ljTI9sgaGB5KyQyeXPeTxQAkaXnKMPIfULLGewHft312bTqyEHC77b9lFl33kDSIUib6R2ADStnoMEozoV/YvkLSYGBm2/9ubqXRF1I+GhERMUBI+iSl7G8o8A1JJwHDJE1s+w7K8PFVgU0kTdngUqMfSRoiaa62p+YAzrV9Zc0crwwcJ2kT29fY/qXtv0Fm0XU6SbNKOhrA9khgImAE8KDtZ4BrgXuBQyV9z/bbwOONLTj6TILCiIiIgWMj4ALbR9r+JjA3sCewVG0gcQdlIPVqwKYJDLtfbSyyC/B9SfPUp9+m7DcFoAaAl1ACw9lqRim6gO0ngGUkndj2+GHgl/Vm0QvA7cCVwB31mNwI6EIJCiMiIgaOe4CJJM1RH18MjAI2anUWtX07pXRse2DtRlYZ/aZe4B9OyRCtL2lW22cAE0q6SNKMtZz0WWAR24/XjFJ0KEkT1H9PCGB7GDCHpNYIip0oewf/ImlTYB/gHNu3NrDc6CcJCiMiIgaOx4ApgL0kHQOsDmwGzCrpuzD6QnEQZQRBxgx0OUkz2h4O7E8ZQr6lpOltr0ApIzwEOAL4q+376nvU2IKjN7Su/5dv3SCyvRIws6Rf2R5ueyvgQkqjme1tZy5pl0ujmYiIiAFE0hLAbJSZc5fZfljSLsC97d0EJQ2twUJ0mVoWPDuwHvAmcLTtFyVNS8kKvQwcY/vZVvMR28+lqUx3kLQx8D3gIUr5+H9bM0cl/RH4t+1N6uNWN9qc+y6XoDAiImIAqBf3o3pe2En6CnAUsJXta+vewlFj/CLRFSRNDvyNEgwsV59rXfwPoXQbfQk4rTWYPEFB95B0EGXf8M62/yBpImAa28/V168GHm8LDAelZLj7JSiMiIjoMnXsxJcpWaCzgDdbF/SSPkEZPH0FpVzw98Chtn/f0HKjn9Xvj1OB64B9gc9Smg69aPu3bRnD4cDZth9saq3ROyRNBbxax8/8kLJHdAgwD6VEdB7gStt71+OvAP5je8Om1hz9K3sKIyIiuoikOSkX+0OATYGfURvG1LLBa4AZbL9m+0lgNdu/zz6x7iZpBknb1YfDgRuBuShzKY8DJgaOlrRu7Ti5LzAT8G1JMzSx5ugdkialfBYMqU8NouwnXoQyguZ+YHNgRUmzAdheGRhSG83EADBh0wuIiIiIXrUwJbtzgKRfABsCn60dB18AfmT7nNbBrX2DKQ3sepMB09c/vwTcBDxF2Vt4M2VY/cvAYpLOs/28pD2BVYDXGlhv9J5RlCH0Ao6onw3LUc73j4Glga/W416VNNj227ZXreXEMQCkfDQiIqILtPYCSloa+DWwru1/SJoM2JjSXOaoOpB69PHNrTj6k6QZgXOBX9g+p+cewTqnbjlgA9s3tfaRZS9h56oZ3mlsPyBpXuBHwK9sX9/juGWBkykzTHepz+XzYYBJ+WhERESHk7QgpfRvMHArcDrwTUlz1a6CpwNLAN9pvScXfANHvcB/Ftgb+J6kz7btMR0qaUlKJulmSvaQVmORBISdqZaDf5WyVxDgeUq30c/WEvPWcUsBmwA7ADfU4DGfDwNQgsKIiIgOVvcLHQLMW0u+RgI3AJNThpEvZPsl4DRgitbg6uhukqaoDWNajyeg7CO8GNhY0rD60vP139+2vT7widZQ8+hcNZgfDGxVbwr8F/gTsADwLUmL1eNuAX5s+xLKXMJ/N7XmaFZ+MURERHSoWh72c+Bo4FlJOwDY/gvwB8oeolMl7UUZO3FLMgDdT9LcwJXA+ZK+Wc+5bL8BXA48AOwp6Ru2R9m+1fb99e232H6noaXHxyRpWkkLA9g+mRLk7V7LgG8ETgKmA77f1njo6Xr8SNtvNrHuaF72FEZERHQwSUdTsoDTANsCf7Z9VH1tUkoTiXmA++scwuwR63KSVgImoowk+R2wke0LJE1i+w1JUwDLAgcCZ1C+Ny5sbsXRG2r5+E7ApMCFtu+o+wXXpMylPLvOopyF0nTop5TuszfavrOpdcf4IUFhREREB6p7hgZRRgc8bvs4SSsC29AWGI7pfQkKu5OkiWy/1T5sXNKqlMDwp5TxA5vavq++NjswKyWIuLHuP40OVvcXrwm8RSkHfRDYjFI2+ojtI9uOnYQyo3CE7bcaWG6MRxIURkREdDBJn6YMot/D9pnvFximm2B3kzQ/pZHMVsBLtRNtq4PoF4BlgKVsr1P3F6oVOEZnq2MjhgBP2n5d0qeA9SmZ4nOAx4CVgNUoI0h+DDzT6kQcAQkKIyIiOp6kLwG/BPa3fXYNDLegNBV5ELjH9ogm1xh9pwaEJwKn2z6+7fkJKD1HXDNId1AaylyQjHH3kLQLZZ/gMOAHtu+uJaJbUALD89qywztT5k4+DFydGwPRkqAwIiKiC0j6MmVv4b7ANcDMwB7AQsDnbD/W4PKij0iaDngS2N32kZImAj4JYPveHseuCpwNrFSbjkQHa5tNOqHtd2pwuBRwPXAWpfvoFsAbwJW2b2+9DzJ2It4rQWFERESXkLQQsB3wIuVC8HLg6QSE3U3SccCSlLl0xwFvU8pFjwVOoYydUA0gjgX+0Z5RjM5TbwZ8BXjK9nVtz68MrEzpOnoMpVx0Q0p28I+2b2tgudEBMpIiIiKiS9j+J7AjsD9wNeXiPwFhl2rL+HyfMoPwP8C/ba8HrAusAQxzMUrSHMCMlHl10dk+BUwGHCNpe0lfBLB9BaWj6CLAkrb/RckOTwUsL2m2phYc47dkCiMiIiI6VHsDIUlrUkYRvFMf70fpOPnr+ngiYBLbLzW24OhVkuYENgGmBu60fUp9fhtgA2BF269I+iSwMHCV7VebWW2MzxIURkRERHSInl1k36+TqKTPA78CNrN9Qz8vM/qYpBUoe0N3kzQU+BplP+Eltv9Qj/kppWT0z/XxoJ7fJxEtKR+NiIiI6AC1g+hZkvaStCmMbhbiHsctA5wK7JKAsPtImg9Yi9JMBtvDgUuAJ4DP1GME3AK80npfAsL4IAkKIyIiIsZzkj4BnA7cBNwJ7C1pH3i3i6SkVerhjwHr2L60gaVGH5E0SNI0wAnAgpSGQgDYfh74HbC2pFXquJFLgXsaWWx0nASFEREREeO/aSjDyQ+3fRHweWBVSXsDSJoU2F7SvrafTpfJ7lGzftgeaftFSjOpN4DlJE3WOq42ldkPmL81piL7B2NsJSiMiIiIGE9JGlyDguHAM5KWALD9BPAtYBNJW9l+Hdi1vEVDmltx9CZJsm1Jy+n/27vzYM3L8szj36sXdsQFNAgOooKojEbcoiHRuKAoiwsmMrgzGldEg9GYEdTEIIgihDEqihFRCRpRiUCcKIobqGDcEUEFI9iEHcLa3Vf++P1ePYMzNQyc0+9Zvp+qrj6/5a26q05Dnes8z3PfyZuTPBH4AXAA8AzgOUk2mfGRfwXOmjQbkm4tQ6EkSdI8lGQH4BBg07aXMJwZe1OSLQDa/gLYF9hh/Mgq4GvjVkItAmMg3BU4CrgIOAh4K/ArYD/ghcDzkiwf3/834IwplasFzFAoSZI0z4w/5L8CuHEyQqLtmxiCwd+PTWcANgC2T7Jh20vGOXW/3nKohSfJFkkemmTZOKT+vwF7AOcDdwbWB17H8EuCFwHfmtlEpu1NUyhbC5wjKSRJkuahJH8CvA3Ys+13Z9z/G2ArYGOGhiNvaHvidKrUbEvyP4Btgfe2/cbYZOgODB1lnwzcH/gw8I8M3/sbp1asFo0V0y5AkiRJv63tPyT5HeCYJC+cBMO2b0hyL+AuwJq2Z0/Onk21YN0u47bgrYC3A29kOC/IGAy3Aq5ve1mSyxjGTRxtINRscaVQkiRpHktyAHA/4CVtbx7vGQIXkXG78KuB7RhGTnwPeDOwEXBc228m+SrDGIqtgP3anjKterX4GAolSZLmgRmdJrcGrmp7zXh/F4aA8Bng5LbfmWadmhtJtgGezbAC/FHguwzf902B9wA/Bp4ArHLkiGabjWYkSZKmbEYg3B04AdhyxuOdGDpKFvhgkm2SPCjJf5lGrZpdM+YQXgAcC1zBEA4fyNBt9Epgf+BBbU82EGouuFIoSZI0DyT5feDdwHPafjfJZsDNba+b8c4BDGMoVgNPaXvhdKrVbJjxy4AHAwGuA84DXg9swRASv88wlP7Ytj+YWrFa1AyFkiRJU5Bk/ZmNQsbB5H8EfBG4D/As4CcMXSjPmBEgtgOubrtqGnVrdiRZ1nZtkicBhwGnA49hmEn4d8BfAPcAjmEYO+EP7Zozbh+VJElax5LcEXhFkpfMuL2KYe7gwcDV/GZI+WQwece/f2IgXLiS3DnJBmMgvDPDquCr274M2A34S+BPGILhr4BrDYSaa4ZCSZKkdSjJJgxbA88A/jDJoePq3/fb7g88ru2xwC8YQsLa6VWr2ZRkY+AA4MAkG7a9HLgA+DlA258CLwX+sO0VwKFtfzSterV0GAolSZLWkST3B74K/DnwVGAfhlXBvYHDk2ze9vIkOzN0oHxj269PrWDNtpuALwAbMjSPAbgcOHrGOyuAzZOsBJxDqHXC4fWSJEnrwDiI/gPA3wKfAw5nmDl3MMPK4XOAjyR5O7A5sEvbX02pXM2y8QzhzUnWAncAdk5yVdtXJ/lIktMZzpM+DXjdZCaltC4YCiVJktaNG4ET2r4/yQYMwe/32n6C4ezY25OcwzCofjfg/CSrPE+28CVZ3nbN2GH2aIYtohcDD0zyqrb7JNmNYVj9v7Q9fdJYaJp1a+kwFEqSJM2hcRvgyrZXJHkfQNsbkpzCeJQnyYq2q9uelGQZ8GnHTSx8Se7J0CPogiTLgXsDn2j7uXFl8AnA/uO/kaPa3jD5rIFQ65JnCiVJkubI2GX0QOCtSZ7U9j9mPL4eOCjJpm1Xj2GQtmsngXAy2FwL1hOBM5Js23YNcBHwlCQPaXtD25OAa4Adga2nWaiWNucUSpIkzaEkO/Cbs4MfA77W9szx2e7AxsDpbS+aXpWaLbfc9plkP4btoru3PS/J64B7AR8H/g04Etiv7TlTKVjCUChJkjQnZgybn/y9I0MzmbXAyW2/PL73Sobh5HYZXUSSbNn24vHrVwF/yrByeDnwXGBfhs6zR7X95NQKlTAUSpIkzZnJWcEZ1/cEXgxcBbzTDpOLx7jVdxlD2Hs48K/AiW1/OT5/9fhs97Y/S3IXYE3bK20qo2nzTKEkSdIsS/JkgEkgTHL3MSD+HPgwsOv4R4tEB2sYZk4+DDh+EgjH54cDfw+cnOQ+bS9jOE9oUxlNnSuFkiRJs2hcDXwL8IO2hyR5KfAA4M/a3ji+81iG7YQvb3vptGrV7BhnEK5NcnfgXcAngJVAgfWAbdseNL67P/DfgT3bnu8qoeYDVwolSZJm18XAEcBmSU5kOEf4V21vzAg4G/gScN0U69QsGLeBPnq8XA/YlqF50DOAdzI0Gbp/koMB2r4LOAb4ZJItDISaDwyFkiRJt0OSOyXZaPw6bW9sexbDz1mPYOgsumry+rjN8ErgzCmVrNn1cOC14/f+58ChwPbAD4DXAJcApwDXJ1kB0PadwAHTKVf6bW4flSRJuo2S3B/4PHAUcGTba8b7+wN7AYcAvwesnmwf1OKT5DDgXOAD47nCmc9eDrwB2L/tx5Msv+U70rS5UihJknTbPYyhecjDgX2TbDauBu0I7D0OJ/8ssHmSe02vTM2Fycof8HXg3uOfybONkjyN4ZcD7wWWJVnPQKj5yJVCSZKk2ynJg4HDgM+OWwNnPlsBbNT26qkUp1mVZDPgxrY3zLi3CcM50suBdwM/H2dTPhhY1vassQHRxZNmQ9J8YiiUJEn6/5Bke4aVwZVtPzjZDjgGgLczrAwe0/aqqRaqWZfk3sAnGZoEndv2qBnP7sQQDFcBZzHMKDQAakFw+6gkSdKtNIaCzwCbA3sm+QDw8CTrt/028FrgKcALkmw6xVI1N7YFDgdOA3ZI8ir4dYOhK4BXAD8CHszQXXT7cRVRmtdcKZQkSbqVkrwFWK/t68fr0xjGShwMfG2cVbcTQwfKkxhWDK+ZWsGaFUk2anvdjOsNgScCTwfWB34XeErb8yZzB5M8C/gx8ENXDDXfuVIoSZJ06/0QWC/JNuP1ScBa4Hlt1wK0PRt4NvAq4JlTqVKzJskOwN+Mg+kBaHs9cDLw1wwzJy9te974eNn4zvFtv20g1EJgKJQkSbr1LgA2AQ5M8rfAHsC+wNZJngu/biyzHFgNfHVaher2S3I/4Fjgu20vmvms7U1tzwU+BFyYZP8ky+wuqoVoxf/7FUmSJAG0/XqSm4B7AFsDh7e9JMnngcvGd1YDv0zyqLaXTrFc3Q5J7gh8GPh222PGezsxNBg6c7xeDlwJ/APDdtJdgFOnU7F02xkKJUmSboUxAKxtexZDd8nJ/ccBzwdeOl4va7vWQLjgrQCOB7ZIsgfwXKDj9eq2jx9XBdcAn0qyJ3DPqVUr3Q5uH5UkSbqFsWvkS5K8IMkGY/OQNWMDkbsnefo4nHwr4K3AQW2/DDA5W6iFbQz1H2PYMvwO4Jdtn9n2MQBJ9h//Xp7krsCWwBemVK50u7hSKEmSNMM4ZPwrwLuAXYEdgTOBE8YxE6cDh43dKK9LslvbSyddJ6dUtmbJzO9j218mORH4WdtTZrz2OeDq8Z01wCVJ/rjt1eu+Yun2cySFJEnSDEl2B57Qdr8kdwCeA9yHIRheAWzW9oRp1qjZN86avHHG9fJJ05gkK9vePH79EOAYYP+2p/nLAC0Gbh+VJEliOAs4fnkJ8PgkDxxXfj4I/AR4EPCdSSCc8b4WuLHL6NFJDhm3Bt+57ZokKwFmBMJHA+8D3tj2tPGZgVALnv8zkyRJS16SBwBHjiHgW8BxwFOTbDtuEz0OeAiw9+Qznh1cHJLcjaFj6FeAS4FHAEckuduMMPgHSbYELgRe1PYzSTK1oqVZZiiUJElLWpINgUOB7drePG4Z/BqwMbBPkh3HFcNjgU1cIVx0VgKfb/s+4DDgvQzh77AkmyfZHHgaw5bin7U9G1wh1OLi/9QkSdKSNXaNfAdwJLBq0lGy7ReBfwYCfCjJgcARwDddIVwcJltDgZuARyZ5Xgc/Bd4P/ALYdexC+g1gjymVKs05Q6EkSVqy2l4CrGYYPH8s8JgkrxqffYFh5ejPgIuAp7Y91W2DC1+SHYAPJ9lk/DfwMuCF4zxCGFYKLwQeBdD2eIZ/H9Ki5EgKSZK0JI3hbjlwDfDQtu8Z7708CW2PaHs98MXxjxaPfYHVba8dr78CvBvYP8kd2h6X5BxgtyR3aXtZ28/A/z6yQlosDIWSJGlJGn+wX53kOODUJFe3/ei4EPjrYDh5P8mytmsNBIvCacAuSZ7U9tS2Nyf5FMOK8d8l2RnYE3hJ28tmftDvvxYj5xRKkqQlbxw18G7gr9oen+QJwIuBkxjGUfyw7VXTrFGzZ+w4+kLgTsApk/ES47Mtx/vL237PlUEtBYZCSZIkIMljGc6NvRk4HdgS+AtgR+BRbS+YYnmaZUm2BvYDrm37lmnXI02ToVCSJGmUZEfglcCVwA3AKcDFBsKFbbLal2T7tufOuL8LcDRwCPCjW6wYLrPTrJYKQ6EkSdIMSTZi6ND+YOCscXi9FrgkuzKMH3kW8L0xJL4G2J7hFwCrgZOB9RgCor8I0JJhKJQkSdKilmQn4Hhg77ZnJdl8nD84eX434AXAA4CdgD3anj+daqV1z1AoSZKkRS3JE4GdgU8AuwD7AKuA57e9eHxnE2Bjhgajl0yrVmkaHF4vSZKkRSPJ3ZIckeSRYydRgB8DjwMOZhg7sQfDudFHTj7X9tq2qwyEWoqcUyhJkqRFo+2qJOcBfwC8Msm72n4jyeMZBtbflGQ7YAfgwqkWK80Tbh+VJEnSgpfk7sAfA+cAnx8H0u8FvIJh1Mj5bb80zqB8B3BQ2xOnV7E0fxgKJUmStOAl2RTYG9gW+CPgpW2/neQBwMPHez8EPgBs1/ZrUytWmmcMhZIkSVrQbjlTMMlrgUcAHwf+se3qMTR+APgpcELbsyfzC6dTtTR/GAolSZK04CVZBjAJh0n2YWgoc3jbM8Z7K4DfbfutqRUqzUOGQkmSJC1YSbZt+7MZ1+u3vXH8+tXAM4EntP1fv4YDAAAExElEQVSPW3zOVUJp5EgKSZIkLUhJHge8NsnDxuuXAXslWQ7Q9nDgy8CLk2TmZw2E0m84kkKSJEkL1UUMzWMen+TpwOOBZ7RdM+Oc4T8D2xsCpf87Q6EkSZIWhCQrxqYxyxgW+36U5JfA+4FHAS9re+Hk+fixrwObJVkPuNlwKP02t49KkiRp3kvyQOC0JPcdVwAn20H3Ae4JHA08IMnObde27Xhu8Pq2J7a9yUAo/Z8ZCiVJkjSvjWcEDwA2BD6SZLu2a5PcD3g+Q5fRdwFrgN2TbAaeG5RuLbuPSpIkad5Lsl7bm5K8hSEEPrPtT5Js2vaa8Z37MGwRvWCqxUoLjKFQkiRJ81KSrRlWB5e3PWfG/bcAewJ7jcFwRdvV06pTWujcPipJkqR5J8l9gf8F7At8LMmLkqwEaHsg8Gng4+NW0tW3HDkh6daz+6gkSZLmlSQbAIcAR7R9T5KTgM8Dd0lyVNtr2x445sCPJ5lsJXUgvXQbuFIoSZKkeaXtDcA5wIXj1tCvAh8BngHsNeO9A4FjgM8m2dpAKN02rhRKkiRpProeeCqweZK7AhsAfwkcnORLwIVt1wDfArbGxQ7pNvM/HkmSJM07bd8MnA9sB9wfOKjt54AzgOvGQAjwY+C/tr1wOpVKC5/dRyVJkjQvJFk2zh9cPiP0kWRl25uT7AwcAezd9tzJ+9OrWFoc3D4qSZKkqUmyFXBX4Mq2Pxtvrx2f3XW8vjzJTsDHgFe2PRfAQCjNDrePSpIkaSqS7MBwJvBlwGlJnp9km7ZN8jsMW0V/f5xBeDGwa9tPOX5Cml1uH5UkSdI6l2Q58NfAxW2PTLIL8GzgOwwzCJ8OXN32PVMsU1oS3D4qSZKkda7tmiTXAA8Zzwx+LslVwEuBVcCR42gKPDsozS23j0qSJGmdSXKfJJNZg58BLgcePTaXORM4DngTsO3kMwZCaW4ZCiVJkrROjI1jTgXuNd76KXAFsCvwmCTrt/0X4CRgq+lUKS09hkJJkiTNuSTLgJuBk4E7Jtmx7XXA4cA1wJOBdyR5CsPZwqumVqy0xNhoRpIkSXNm7BS6GfAO4OUMw+ifxjCG4j1tv59kY2BH4KnA5sCn2/7TlEqWlhwbzUiSJGnOdFiBuDLJpcBmbb+XZCWwG/CnSd7b9vvAmcCZ4xbSGydjJ+oKhjTn3D4qSZKkOZHkrkmOGC9XMjSQoe3ZwD8B/84QDHcc388YCJd1NI26paXGUChJkqQ50fYSYL0k9wBeD+yY5A3js5nB8CVJtgC2HJ/ZbVRahwyFkiRJmnUZrAAuA/ZqexPwGuARSf4cfh0MP8Uwl/AE4Lgkd5pWzdJS5ZlCSZIkzbpx6+fqJB8BTk3y722PS3Io8LYk2wCvBX7A0Gl0LfCJtldMr2ppabL7qCRJkuZUkkcD7wbe2vajY7fR/8mwdfRK4DDgZreNStNhKJQkSdKcS/JY4EPAocCH2l6dZEPgvsB5ba+daoHSEmYolCRJ0joxdhl9JXA98Ku2b5tySZIwFEqSJGkdGlcHlwEPBb7Z9roplyQteYZCSZIkSVrCHEkhSZIkSUuYoVCSJEmSljBDoSRJkiQtYYZCSZIkSVrCDIWSJEmStIQZCiVJkiRpCftPUVxO0yz2oQQAAAAASUVORK5CYII=\n",
      "text/plain": [
       "<Figure size 864x576 with 2 Axes>"
      ]
     },
     "metadata": {},
     "output_type": "display_data"
    }
   ],
   "source": [
    "# [Answer to Ex. 9.2.3]\n",
    "explore_money.report()"
   ]
  },
  {
   "cell_type": "code",
   "execution_count": null,
   "metadata": {},
   "outputs": [],
   "source": []
=======
   "execution_count": 22,
   "metadata": {},
   "outputs": [
    {
     "name": "stdout",
     "output_type": "stream",
     "text": [
      "------ Pattern: ([0-9]+(\\$|dollar))|((\\$|dollar)[0-9]+)\t Matched 85 patterns -----\n",
      "------ Pattern: \\$\t Matched 88 patterns -----\n",
      "------ Pattern: \\$|dollar\t Matched 100 patterns -----\n",
      "------ Pattern: ([0-9]+(\\$|dollar))\t Matched 3 patterns -----\n"
     ]
    },
    {
     "data": {
      "image/png": "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\n",
      "text/plain": [
       "<Figure size 864x576 with 2 Axes>"
      ]
     },
     "metadata": {},
     "output_type": "display_data"
    }
   ],
   "source": [
    "# [Answer to Ex. 9.2.3]\n",
    "explore_money.report('soft')"
   ]
>>>>>>> aac443e01a1acfcaabed09469a77a7be3cdc2fdf
  }
 ],
 "metadata": {
  "kernelspec": {
   "display_name": "Python 3",
   "language": "python",
   "name": "python3"
  },
  "language_info": {
   "codemirror_mode": {
    "name": "ipython",
    "version": 3
   },
   "file_extension": ".py",
   "mimetype": "text/x-python",
   "name": "python",
   "nbconvert_exporter": "python",
   "pygments_lexer": "ipython3",
   "version": "3.6.5"
  }
 },
 "nbformat": 4,
 "nbformat_minor": 2
}
